{
 "cells": [
  {
   "cell_type": "markdown",
   "metadata": {},
   "source": [
    "# Building a music recommender system\n",
    "\n",
    "As its name implies, a recommender system is a tool that helps predicting what a user may or may not like among a list of given items. In some sense, you can view this as an alternative to content search, as recommendation engines help users discover products or content that they may not come across otherwise. For example, Facebook suggests friends and pages to users. Youtube recommends videos which users may be interested in. Amazon suggests the products which users may need... Recommendation engines engage users to services, can be seen as a revenue optimization process, and in general help maintaining interest in a service.\n",
    "\n",
    "In this notebook, we study how to build a simple recommender system: we focus on music recommendations, and we use a simple algorithm to predict which items users might like, that is called ALS, alternating least squares.\n",
    "\n",
    "# Goals\n",
    "\n",
    "In this lecture, we expect students to:\n",
    "\n",
    "- Revisit (or learn) recommender algorithms\n",
    "\n",
    "- Understand the idea of Matrix Factorization and the ALS algorithm (serial and parallel versions)\n",
    "\n",
    "- Build a simple model for a real usecase : music recommender system\n",
    "\n",
    "- Understand how to validate the results\n",
    "\n",
    "# Steps\n",
    "\n",
    "In particular, we guide students through the following steps, which constitute a good basis for the end-to-end development of a recommender system:\n",
    "\n",
    "* Inspect the data using Spark SQL, and build some basic, but very valuable knowledge about the information we have at hand\n",
    "* Formally define what is a sensible algorithm to achieve our goal: given the \"history\" of user taste for music, recommend new music to discover. Essentialy, we want to build a statistical model of user preferences such that we can use it to \"predict\" which additional music the user could like\n",
    "* With our formal definition at hand, we will learn different ways to implement such an algorithm. Our goal here is to illustrate what are the difficulties to overcome when implementing a (parallel) algorithm\n",
    "* Finally, we will focus on an existing implementation, available in the Apache Spark MLLib, which we will use out of the box to build a reliable statistical model\n",
    "\n",
    "Now, you may think at this point we will be done!\n",
    "\n",
    "Well, you'd better think twice: one important topic we will cover in all our Notebooks is **how to validate the results we obtain**, and **how to choose good parameters to train models** especially when using an \"opaque\" library for doing the job. As a consequence, we will focus on the statistical validation of our recommender system."
   ]
  },
  {
   "cell_type": "markdown",
   "metadata": {},
   "source": [
    "# 1. Data\n",
    "\n",
    "Understanding data is one of the most important part when designing any machine learning algorithm. In this notebook, we will use a data set published by Audioscrobbler - a music recommendation system for last.fm. Audioscrobbler is also one of the first internet streaming radio sites, founded in 2002. It provided an open API for “scrobbling”, or recording listeners’ plays of artists’ songs. last.fm used this information to build a powerful music recommender engine.\n",
    "\n",
    "## 1.1. Data schema\n",
    "\n",
    "Unlike a rating dataset which contains information about users' preference for products (one star, 3 stars, and so on), the datasets from Audioscrobbler only has information about events: specifically, it keeps track of how many times a user played songs of a given artist and the names of artists. That means it carries less information than a rating: in the literature, this is called explicit vs. implicit ratings.\n",
    "\n",
    "The data we use in this Notebook is available in 3 files:\n",
    "\n",
    "- **`user_artist_data.txt`**: It contains about 141,000 unique users, and 1.6 million unique artists. About 24.2 million users’ plays of artists’ are recorded, along with their count. It has 3 columns separated by spaces: \n",
    "\n",
    "| UserID | ArtistID | PlayCount |\n",
    "|-----|--------|---------|\n",
    "\n",
    "\n",
    "- **`artist_data.txt`** : It prodives the names of each artist by their IDs. It has 2 columns separated by tab characters (`\\t`).\n",
    "\n",
    "| ArtistID | Name |\n",
    "|---|---|\n",
    "\n",
    "- **`artist_alias.txt`**: Note that when plays are scrobbled, the client application submits the name of the artist being played. This name could be misspelled or nonstandard. For example, \"The Smiths\", \"Smiths, The\", and \"the smiths\" may appear as distinct artist IDs in the data set, even though they are plainly the same. `artist_alias.txt` maps artist IDs that are known misspellings or variants to the canonical ID of that artist. The data in this file has 2 columns separated by tab characters (`\\t`).\n",
    "\n",
    "| MisspelledArtistID | StandardArtistID |\n",
    "|---|---|\n",
    "\n"
   ]
  },
  {
   "cell_type": "markdown",
   "metadata": {},
   "source": [
    "## 1.2. Understanding data: simple descriptive statistic\n",
    "\n",
    "In order to choose or design a suitable algorithm for achieving our goals, given the data we have, we should first understand data characteristics. To start, we import the necessary packages to work with regular expressions, Data Frames, and other nice features of our programming environment."
   ]
  },
  {
   "cell_type": "code",
   "execution_count": 1,
   "metadata": {
    "collapsed": false
   },
   "outputs": [],
   "source": [
    "import os\n",
    "import sys\n",
    "import re\n",
    "import random\n",
    "import types \n",
    "import math\n",
    "\n",
    "from pprint import pprint\n",
    "from pyspark import SparkContext\n",
    "from pyspark.sql import SQLContext\n",
    "from pyspark.sql.types import *\n",
    "from pyspark.sql import Row\n",
    "from pyspark.sql.functions import *\n",
    "\n",
    "from pyspark.ml.feature import PCA\n",
    "#from pyspark.mllib.linalg import Vectors, VectorUDT\n",
    "from pyspark.ml.linalg import Vectors\n",
    "from pyspark.ml.feature import VectorAssembler\n",
    "\n",
    "from mpl_toolkits.mplot3d import Axes3D\n",
    "from mpl_toolkits.mplot3d import proj3d\n",
    "\n",
    "%matplotlib inline\n",
    "import matplotlib.pyplot as plt\n",
    "from matplotlib.patches import Ellipse\n",
    "import pandas as pd\n",
    "import numpy as np\n",
    "from time import time\n",
    "\n",
    "sqlContext = SQLContext(sc)\n",
    "base = \"/datasets/lastfm/\""
   ]
  },
  {
   "cell_type": "markdown",
   "metadata": {},
   "source": [
    "### Question 1\n",
    "\n",
    "#### Question 1.0\n",
    "\n",
    "Using SPARK SQL, load data from `/datasets/lastfm/user_artist_data.txt` and show the first 20 entries (via function `show()`).\n",
    "\n",
    "For this Notebook, from a programming point of view, we are given the schema for the data we use, which is as follows:\n",
    "\n",
    "```\n",
    "userID: long int\n",
    "artistID: long int\n",
    "playCount: int\n",
    "```\n",
    "\n",
    "Each line of the dataset contains the above three fields, separated by a \"white space\"."
   ]
  },
  {
   "cell_type": "code",
   "execution_count": 25,
   "metadata": {
    "collapsed": false
   },
   "outputs": [
    {
     "name": "stdout",
     "output_type": "stream",
     "text": [
      "+-------+--------+---------+\n",
      "| userID|artistID|playCount|\n",
      "+-------+--------+---------+\n",
      "|1000002|       1|       55|\n",
      "|1000002| 1000006|       33|\n",
      "|1000002| 1000007|        8|\n",
      "|1000002| 1000009|      144|\n",
      "|1000002| 1000010|      314|\n",
      "|1000002| 1000013|        8|\n",
      "|1000002| 1000014|       42|\n",
      "|1000002| 1000017|       69|\n",
      "|1000002| 1000024|      329|\n",
      "|1000002| 1000025|        1|\n",
      "|1000002| 1000028|       17|\n",
      "|1000002| 1000031|       47|\n",
      "|1000002| 1000033|       15|\n",
      "|1000002| 1000042|        1|\n",
      "|1000002| 1000045|        1|\n",
      "|1000002| 1000054|        2|\n",
      "|1000002| 1000055|       25|\n",
      "|1000002| 1000056|        4|\n",
      "|1000002| 1000059|        2|\n",
      "|1000002| 1000062|       71|\n",
      "+-------+--------+---------+\n",
      "only showing top 20 rows\n",
      "\n"
     ]
    }
   ],
   "source": [
    "userArtistDataSchema = StructType([ \\\n",
    "    StructField(\"userID\", LongType(), True), \\\n",
    "    StructField(\"artistID\", LongType(), True), \\\n",
    "    StructField(\"playCount\", IntegerType(), True)])\n",
    "\n",
    "userArtistDF = sqlContext.read \\\n",
    "    .format('com.databricks.spark.csv') \\\n",
    "    .options(header='false', delimiter=' ') \\\n",
    "    .load(base + \"user_artist_data.txt\", schema = userArtistDataSchema) \n",
    "\n",
    "# we can cache an Dataframe to avoid computing it from the beginning everytime it is accessed.\n",
    "userArtistDF.cache()\n",
    "userArtistDF.show(20)"
   ]
  },
  {
   "cell_type": "markdown",
   "metadata": {},
   "source": [
    "<font color='blue'>\n",
    "We also load data from ``/datasets/lastfm/artist_data.txt`` and ``/datasets/lastfm/artist_alias.txt`` that we will need later.\n",
    "</font>"
   ]
  },
  {
   "cell_type": "code",
   "execution_count": 26,
   "metadata": {
    "collapsed": false
   },
   "outputs": [
    {
     "name": "stdout",
     "output_type": "stream",
     "text": [
      "+--------+--------------------+\n",
      "|artistID|                name|\n",
      "+--------+--------------------+\n",
      "| 1134999|        06Crazy Life|\n",
      "| 6821360|        Pang Nakarin|\n",
      "|10113088|Terfel, Bartoli- ...|\n",
      "|10151459| The Flaming Sidebur|\n",
      "| 6826647|   Bodenstandig 3000|\n",
      "|10186265|Jota Quest e Ivet...|\n",
      "| 6828986|       Toto_XX (1977|\n",
      "|10236364|         U.S Bombs -|\n",
      "| 1135000|artist formaly kn...|\n",
      "|10299728|Kassierer - Musik...|\n",
      "|10299744|         Rahzel, RZA|\n",
      "| 6864258|      Jon Richardson|\n",
      "| 6878791|Young Fresh Fello...|\n",
      "|10299751|          Ki-ya-Kiss|\n",
      "| 6909716|Underminded - The...|\n",
      "|10435121|             Kox-Box|\n",
      "| 6918061|  alexisonfire [wo!]|\n",
      "| 1135001|         dj salinger|\n",
      "| 6940391|The B52's - Chann...|\n",
      "|10475396|             44 Hoes|\n",
      "+--------+--------------------+\n",
      "only showing top 20 rows\n",
      "\n"
     ]
    }
   ],
   "source": [
    "artistDataDataSchema = StructType([ \\\n",
    "    StructField(\"artistID\", LongType(), True), \\\n",
    "    StructField(\"name\", StringType(), True)])\n",
    "\n",
    "artistDataDF = sqlContext.read \\\n",
    "    .format('com.databricks.spark.csv') \\\n",
    "    .options(header='false', delimiter='\\t', mode='DROPMALFORMED') \\\n",
    "    .load(base + \"artist_data.txt\", schema = artistDataDataSchema) \n",
    "\n",
    "# we can cache an Dataframe to avoid computing it from the beginning everytime it is accessed.\n",
    "artistDataDF.cache()\n",
    "artistDataDF = (artistDataDF.withColumn('artistID', artistDataDF.artistID.cast('int')))\n",
    "artistDataDF.show()"
   ]
  },
  {
   "cell_type": "code",
   "execution_count": 6,
   "metadata": {
    "collapsed": false
   },
   "outputs": [
    {
     "name": "stdout",
     "output_type": "stream",
     "text": [
      "['06Crazy Life',\n",
      " 'Pang Nakarin',\n",
      " 'Terfel, Bartoli- Mozart: Don',\n",
      " 'The Flaming Sidebur',\n",
      " 'Bodenstandig 3000',\n",
      " 'Jota Quest e Ivete Sangalo',\n",
      " 'Toto_XX (1977',\n",
      " 'U.S Bombs -',\n",
      " 'artist formaly know as Mat',\n",
      " 'Kassierer - Musik für beide Ohren',\n",
      " 'Rahzel, RZA',\n",
      " 'Jon Richardson',\n",
      " 'Young Fresh Fellowslows & the Minus 5',\n",
      " 'Ki-ya-Kiss',\n",
      " 'Underminded - The Task Of Modern Educator',\n",
      " 'Kox-Box',\n",
      " 'alexisonfire [wo!]',\n",
      " 'dj salinger',\n",
      " \"The B52's - Channel Z\",\n",
      " '44 Hoes',\n",
      " 'orchestral mandeuvres in dark',\n",
      " 'Josh Groban (Featuring Angie Stone)',\n",
      " 'Savage Garden - Truley, Madly, Deeply',\n",
      " 'Nislije',\n",
      " 'ONEYA BASSIVITYMIXTAPE',\n",
      " 'Grant Green / Osunlade',\n",
      " 'Jae Kwon',\n",
      " 'Gwen vs. Britney',\n",
      " 'Dj.DataStream & Al Fresco',\n",
      " 'yaphet kotto - 02']\n"
     ]
    }
   ],
   "source": [
    "artistName = artistDataDF.limit(30).collect()\n",
    "names30 = [artistName[i][1] for i in range(len(artistName))]\n",
    "pprint(names30)"
   ]
  },
  {
   "cell_type": "markdown",
   "metadata": {},
   "source": [
    "<font color='blue'> We immediately spot some problems here: our data is very dirty! Is there any misspelled or repeated name artist in the list? What happens when we have two or more artists for the same song? We will see the answers later.\n",
    "</font>"
   ]
  },
  {
   "cell_type": "code",
   "execution_count": 27,
   "metadata": {
    "collapsed": false
   },
   "outputs": [
    {
     "name": "stdout",
     "output_type": "stream",
     "text": [
      "+------------------+----------------+\n",
      "|misspelledArtistID|standardArtistID|\n",
      "+------------------+----------------+\n",
      "|           1092764|         1000311|\n",
      "|           1095122|         1000557|\n",
      "|           6708070|         1007267|\n",
      "|          10088054|         1042317|\n",
      "|           1195917|         1042317|\n",
      "+------------------+----------------+\n",
      "only showing top 5 rows\n",
      "\n"
     ]
    }
   ],
   "source": [
    "artistAliasDataSchema = StructType([ \\\n",
    "    StructField(\"misspelledArtistID\", LongType(), True), \\\n",
    "    StructField(\"standardArtistID\", LongType(), True)])\n",
    "\n",
    "artistAliasDF = sqlContext.read \\\n",
    "    .format('com.databricks.spark.csv') \\\n",
    "    .options(header='false', delimiter='\\t') \\\n",
    "    .load(base + \"artist_alias.txt\", schema = artistAliasDataSchema) \n",
    "\n",
    "# we can cache an Dataframe to avoid computing it from the beginning everytime it is accessed.\n",
    "artistAliasDF.cache()\n",
    "\n",
    "artistAliasDF.show(5)"
   ]
  },
  {
   "cell_type": "markdown",
   "metadata": {},
   "source": [
    "#### Question 1.1: \n",
    "How many distinct users in data ?"
   ]
  },
  {
   "cell_type": "code",
   "execution_count": 8,
   "metadata": {
    "collapsed": false
   },
   "outputs": [
    {
     "name": "stdout",
     "output_type": "stream",
     "text": [
      "Total n. of valid records for users:  24296858\n",
      "Total n. of distinct users:           148111\n"
     ]
    }
   ],
   "source": [
    "distinctUsers = userArtistDF.select('userID').distinct().count()\n",
    "duplicateUsers = userArtistDF.select('userID').count()\n",
    "print(\"Total n. of valid records for users: \", duplicateUsers)\n",
    "print(\"Total n. of distinct users:          \", distinctUsers)"
   ]
  },
  {
   "cell_type": "markdown",
   "metadata": {},
   "source": [
    "#### Question 1.2\n",
    "How many distinct artists in data ?"
   ]
  },
  {
   "cell_type": "code",
   "execution_count": 9,
   "metadata": {
    "collapsed": false
   },
   "outputs": [
    {
     "name": "stdout",
     "output_type": "stream",
     "text": [
      "Total n. of valid records for artists:  24296858\n",
      "Total n. of distinct artists:           1631028\n"
     ]
    }
   ],
   "source": [
    "distinctArtists = userArtistDF.select('ArtistID').distinct().count()\n",
    "duplicateArtists = userArtistDF.select('ArtistID').count()\n",
    "print(\"Total n. of valid records for artists: \", duplicateArtists)\n",
    "print(\"Total n. of distinct artists:          \", distinctArtists)"
   ]
  },
  {
   "cell_type": "markdown",
   "metadata": {},
   "source": [
    "<font color='blue'> \n",
    "Let's dig a bit more on how the mapping of the artist IDs works: we have an artist named 'Gwen vs. Britney' which means two musicians are involved, hence they should both see an increment in their playcounts. What happens instead is that 'Gwen vs. Britney' is considered as a new single artist, which is wrong. We show this below.\n",
    "</font>"
   ]
  },
  {
   "cell_type": "code",
   "execution_count": 10,
   "metadata": {
    "collapsed": false
   },
   "outputs": [
    {
     "name": "stdout",
     "output_type": "stream",
     "text": [
      "+--------+----------------+\n",
      "|artistID|            name|\n",
      "+--------+----------------+\n",
      "| 6953654|Gwen vs. Britney|\n",
      "+--------+----------------+\n",
      "\n",
      "+--------+--------------+\n",
      "|artistID|          name|\n",
      "+--------+--------------+\n",
      "| 1291139|Britney Spears|\n",
      "|    4163|Britney Spears|\n",
      "+--------+--------------+\n",
      "\n"
     ]
    }
   ],
   "source": [
    "artistDataDF[artistDataDF.name=='Gwen vs. Britney'].show()\n",
    "artistDataDF[artistDataDF.name=='Britney Spears'].show()"
   ]
  },
  {
   "cell_type": "code",
   "execution_count": 11,
   "metadata": {
    "collapsed": false
   },
   "outputs": [
    {
     "name": "stdout",
     "output_type": "stream",
     "text": [
      "+------------------+----------------+\n",
      "|misspelledArtistID|standardArtistID|\n",
      "+------------------+----------------+\n",
      "+------------------+----------------+\n",
      "\n",
      "+------------------+----------------+\n",
      "|misspelledArtistID|standardArtistID|\n",
      "+------------------+----------------+\n",
      "|           1291139|            4163|\n",
      "+------------------+----------------+\n",
      "\n",
      "+------------------+----------------+\n",
      "|misspelledArtistID|standardArtistID|\n",
      "+------------------+----------------+\n",
      "+------------------+----------------+\n",
      "\n"
     ]
    }
   ],
   "source": [
    "artistAliasDF[artistAliasDF.misspelledArtistID==6953654].show()\n",
    "artistAliasDF[artistAliasDF.misspelledArtistID==1291139].show()\n",
    "artistAliasDF[artistAliasDF.misspelledArtistID==4163].show()"
   ]
  },
  {
   "cell_type": "markdown",
   "metadata": {},
   "source": [
    "#### Question 1.3\n",
    "\n",
    "One limitation of Spark MLlib's ALS implementation - which we will use later- is that it requires IDs for users and items to be nonnegative 32-bit integers. This means that IDs larger than Integer.MAX_VALUE, or 2147483647, can't be used. So we need to check whether this data set conforms to the strict requirements of our library.\n",
    "\n",
    "What are the maximum and minimum values of column `userID` ?\n",
    "\n",
    "HINT: Read section 4.3 of Lecture 2 again."
   ]
  },
  {
   "cell_type": "code",
   "execution_count": 15,
   "metadata": {
    "collapsed": false
   },
   "outputs": [
    {
     "name": "stdout",
     "output_type": "stream",
     "text": [
      "+-----------+-----------+\n",
      "|min(userID)|max(userID)|\n",
      "+-----------+-----------+\n",
      "|         90|    2443548|\n",
      "+-----------+-----------+\n",
      "\n"
     ]
    }
   ],
   "source": [
    "userArtistDF.select([min('userID'), max('userID')]).show()"
   ]
  },
  {
   "cell_type": "code",
   "execution_count": 16,
   "metadata": {
    "collapsed": false
   },
   "outputs": [
    {
     "name": "stdout",
     "output_type": "stream",
     "text": [
      "average time 0.010444 secs\n",
      "+-----------+-----------+\n",
      "|min(userID)|max(userID)|\n",
      "+-----------+-----------+\n",
      "|         90|    2443548|\n",
      "+-----------+-----------+\n",
      "\n"
     ]
    }
   ],
   "source": [
    "tot = 0\n",
    "nIter = 100\n",
    "for i in range(nIter):\n",
    "    t0 = time()\n",
    "    maxID = userArtistDF.select([min('userID'), max('userID')])\n",
    "    t1 = time()\n",
    "    tot += t1-t0 \n",
    "ave = tot/nIter\n",
    "print(\"average time %f secs\" % ave)\n",
    "maxID.show()"
   ]
  },
  {
   "cell_type": "code",
   "execution_count": 17,
   "metadata": {
    "collapsed": false
   },
   "outputs": [
    {
     "name": "stdout",
     "output_type": "stream",
     "text": [
      "average time 0.702405 secs\n",
      "max userID 2443548\n",
      "min userID 90\n"
     ]
    }
   ],
   "source": [
    "tot = 0\n",
    "nIter = 100\n",
    "for i in range(nIter):\n",
    "    t0 = time()\n",
    "    maxID = userArtistDF.orderBy('userID', ascending=0).take(1)\n",
    "    minID = userArtistDF.orderBy('userID', ascending=1).take(1)\n",
    "    t1 = time()\n",
    "    tot += t1-t0 \n",
    "ave = tot/nIter\n",
    "print(\"average time %f secs\" % ave)\n",
    "print(\"max userID\", maxID[0][0])\n",
    "print(\"min userID\", minID[0][0])"
   ]
  },
  {
   "cell_type": "code",
   "execution_count": 18,
   "metadata": {
    "collapsed": false
   },
   "outputs": [
    {
     "name": "stdout",
     "output_type": "stream",
     "text": [
      "average time 0.298453 secs\n",
      "max userID 2443548\n",
      "min userID 90\n"
     ]
    }
   ],
   "source": [
    "userArtistDF2 = sqlContext.read \\\n",
    "    .format('com.databricks.spark.csv') \\\n",
    "    .options(header='false', delimiter=' ') \\\n",
    "    .load(base + \"user_artist_data.txt\", schema = userArtistDataSchema) \n",
    "#    .cache()\n",
    "\n",
    "# we can cache an Dataframe to avoid computing it from the beginning everytime it is accessed.\n",
    "userArtistDF2.cache()\n",
    "tot = 0\n",
    "nIter = 100\n",
    "for i in range(nIter):\n",
    "    t0 = time()\n",
    "    maxID = userArtistDF2.groupBy().max('userID').take(1)\n",
    "    minID = userArtistDF2.groupBy().min('userID').take(1)\n",
    "    t1 = time()\n",
    "    tot += t1-t0 \n",
    "ave = tot/nIter\n",
    "print(\"average time %f secs\" % ave)\n",
    "print(\"max userID\", maxID[0][0])\n",
    "print(\"min userID\", minID[0][0])"
   ]
  },
  {
   "cell_type": "markdown",
   "metadata": {},
   "source": [
    "<font color='blue'>\n",
    "Above, we showed three possible ways to answer the question: the second requires sorting twice, the third requires two groupBy. The first approach is definitely the fastest and simplest. \n",
    "</font>"
   ]
  },
  {
   "cell_type": "markdown",
   "metadata": {},
   "source": [
    "#### Question 1.4\n",
    "What is the maximum and minimum values of column `artistID` ?"
   ]
  },
  {
   "cell_type": "code",
   "execution_count": 19,
   "metadata": {
    "collapsed": false
   },
   "outputs": [
    {
     "name": "stdout",
     "output_type": "stream",
     "text": [
      "+-------------+-------------+\n",
      "|min(artistID)|max(artistID)|\n",
      "+-------------+-------------+\n",
      "|            1|     10794401|\n",
      "+-------------+-------------+\n",
      "\n"
     ]
    }
   ],
   "source": [
    "userArtistDF.select([min('artistID'), max('artistID')]).show()"
   ]
  },
  {
   "cell_type": "markdown",
   "metadata": {},
   "source": [
    "We just discovered that we have a total of 148,111 users in our dataset. Similarly, we have a total of 1,631,028 artists in our dataset. The maximum values of `userID` and `artistID` are still smaller than the biggest number of integer type.  No additional transformation will be necessary to use these IDs.\n",
    "\n",
    "One thing we can see here is that SPARK SQL provides us many very concise and powerful tools to do data analytics (comparing to using RDD and their low-level API). You can see more examples [here](https://databricks.com/blog/2015/06/02/statistical-and-mathematical-functions-with-dataframes-in-spark.html)."
   ]
  },
  {
   "cell_type": "markdown",
   "metadata": {},
   "source": [
    "Next, we might want to understand better user activity and artist popularity.\n",
    "\n",
    "Here is a list of simple descriptive queries that helps us reaching these purposes:\n",
    "\n",
    "* How many times each user has played a song? This is a good indicator of who are the most active users of our service. Note that a very active user with many play counts does not necessarily mean that the user is also \"curious\"! Indeed, she could have played the same song several times.\n",
    "* How many play counts for each artist? This is a good indicator of the artist popularity. Since we do not have time information associated to our data, we can only build a, e.g., top-10 ranking of the most popular artists in the dataset. Later in the notebook, we will learn that our dataset has a very \"loose\" definition about artists: very often artist IDs point to song titles as well. This means we have to be careful when establishing popular artists. Indeed, artists whose data is \"well formed\" will have the correct number of play counts associated to them. Instead, artists that appear mixed with song titles may see their play counts \"diluted\" across their songs."
   ]
  },
  {
   "cell_type": "markdown",
   "metadata": {},
   "source": [
    "### Question 2\n",
    "\n",
    "#### Question 2.1\n",
    "How many times each user has played a song? Show 5 samples of the result."
   ]
  },
  {
   "cell_type": "code",
   "execution_count": 48,
   "metadata": {
    "collapsed": false
   },
   "outputs": [
    {
     "name": "stdout",
     "output_type": "stream",
     "text": [
      "+-------+--------------+\n",
      "| userID|sum(playCount)|\n",
      "+-------+--------------+\n",
      "|1066825|             4|\n",
      "|1068108|          4506|\n",
      "|1070733|         14631|\n",
      "|1070807|             3|\n",
      "|1071739|          3279|\n",
      "+-------+--------------+\n",
      "only showing top 5 rows\n",
      "\n",
      "TOP 10 USERS BY ACTIVITY\n",
      "+-------+--------------+\n",
      "| userID|sum(playCount)|\n",
      "+-------+--------------+\n",
      "|1059637|        674412|\n",
      "|2064012|        548427|\n",
      "|2069337|        393515|\n",
      "|2023977|        285978|\n",
      "|1046559|        183972|\n",
      "|1052461|        175822|\n",
      "|1070932|        168977|\n",
      "|1031009|        167273|\n",
      "|2020513|        165642|\n",
      "|2062243|        151504|\n",
      "+-------+--------------+\n",
      "only showing top 10 rows\n",
      "\n"
     ]
    }
   ],
   "source": [
    "userActivity = userArtistDF.groupBy('userID').sum('playCount')\n",
    "userActivity.show(5)\n",
    "sortedUserActivity = userActivity.orderBy('sum(playCount)', ascending=0)\n",
    "print('TOP 10 USERS BY ACTIVITY')\n",
    "sortedUserActivity.show(10)"
   ]
  },
  {
   "cell_type": "code",
   "execution_count": 9,
   "metadata": {
    "collapsed": false
   },
   "outputs": [],
   "source": [
    "sortedUserActivityPD = pd.DataFrame(data=sortedUserActivity.limit(10).collect())\n",
    "users = sortedUserActivityPD[0].values\n",
    "counts = sortedUserActivityPD[1].values"
   ]
  },
  {
   "cell_type": "code",
   "execution_count": 22,
   "metadata": {
    "collapsed": false
   },
   "outputs": [
    {
     "data": {
      "image/png": "[encoded data removed]",
      "text/plain": [
       "<matplotlib.figure.Figure at 0x7fdefb406b70>"
      ]
     },
     "metadata": {},
     "output_type": "display_data"
    }
   ],
   "source": [
    "y_pos = np.arange(len(users))\n",
    "plt.figure(figsize=(12,7))\n",
    "\n",
    "plt.barh(y_pos, counts, align='center', alpha=0.4, color='green')\n",
    "plt.yticks(y_pos, users)\n",
    "plt.xlabel('Play Count')\n",
    "plt.gca().invert_yaxis()\n",
    "plt.title('Top-10 users per play counts')\n",
    "plt.show()"
   ]
  },
  {
   "cell_type": "markdown",
   "metadata": {},
   "source": [
    "#### Question 2.2\n",
    "Plot CDF (or ECDF) of number of play counts per User ID.\n",
    "\n",
    "Explain and comment the figure you just created: \n",
    "\n",
    "* for example, look at important percentiles (25%, median, 75%, tails such as >90%) and cross check with what you have found above to figure out if the result is plausible.\n",
    "* discuss about your users, with respect to the application domain we target in the notebook: you will notice that for some users, there is very little interaction with the system, which means that maybe reccommending something to them is going to be more difficult than for other users who interact more with the system.\n",
    "* look at outliers and reason about their impact on your reccommender algorithm"
   ]
  },
  {
   "cell_type": "code",
   "execution_count": 23,
   "metadata": {
    "collapsed": false
   },
   "outputs": [
    {
     "data": {
      "image/png": "[encoded data removed]",
      "text/plain": [
       "<matplotlib.figure.Figure at 0x7fdf240c51d0>"
      ]
     },
     "metadata": {},
     "output_type": "display_data"
    }
   ],
   "source": [
    "pdf = pd.DataFrame(data=userActivity.collect())\n",
    "Y=np.sort( pdf[1] )\n",
    "yvals=np.arange(len(Y))/float(len(Y))\n",
    "\n",
    "plt.figure(figsize=(15,5))\n",
    "\n",
    "plt.subplot(121)\n",
    "plt.plot( Y, yvals )\n",
    "plt.xlabel('Play Counts')\n",
    "plt.ylabel('ECDF')\n",
    "plt.grid(True,which=\"both\",ls=\"-\")\n",
    "plt.title('ECDF of number of play counts per User ID')\n",
    "\n",
    "plt.subplot(122)\n",
    "plt.semilogx(Y, yvals)\n",
    "plt.xlabel('Play Counts')\n",
    "plt.ylabel('ECDF')\n",
    "plt.grid(True,which=\"both\",ls=\"-\")\n",
    "plt.title('ECDF of number of play counts per User ID')\n",
    "\n",
    "plt.show()"
   ]
  },
  {
   "cell_type": "markdown",
   "metadata": {},
   "source": [
    "<font color='blue'>\n",
    "From the graph on the right (with log-scale), we can verify that just a few users played more than $5\\times10^4$, which is in line with the previous results\n",
    "</font>"
   ]
  },
  {
   "cell_type": "code",
   "execution_count": 24,
   "metadata": {
    "collapsed": false
   },
   "outputs": [
    {
     "data": {
      "image/png": "[encoded data removed]",
      "text/plain": [
       "<matplotlib.figure.Figure at 0x7fdf005c5ef0>"
      ]
     },
     "metadata": {},
     "output_type": "display_data"
    }
   ],
   "source": [
    "#pdf = pd.DataFrame(data=userActivity.filter(userActivity['sum(playCount)']<40000).collect())\n",
    "pdf = pd.DataFrame(data=userActivity.collect())\n",
    "Y=np.sort( pdf[1] )\n",
    "yvals=np.arange(len(Y))/float(len(Y))\n",
    "\n",
    "plt.figure(figsize=(15,10))\n",
    "\n",
    "plt.subplot(221)\n",
    "plt.plot( Y, yvals )\n",
    "plt.xlabel('Play Counts')\n",
    "plt.ylabel('ECDF')\n",
    "plt.grid(True,which=\"both\",ls=\"-\")\n",
    "plt.title('Percentile - 25%')\n",
    "plt.axis([0,200,0,.25])\n",
    "\n",
    "plt.subplot(222)\n",
    "plt.plot( Y, yvals )\n",
    "plt.xlabel('Play Counts')\n",
    "plt.ylabel('ECDF')\n",
    "plt.grid(True,which=\"both\",ls=\"-\")\n",
    "plt.title('Percentile - 50%')\n",
    "plt.axis([0,900,0,.5])\n",
    "\n",
    "plt.subplot(223)\n",
    "plt.plot( Y, yvals )\n",
    "plt.xlabel('Play Counts')\n",
    "plt.ylabel('ECDF')\n",
    "plt.grid(True,which=\"both\",ls=\"-\")\n",
    "plt.title('Percentile - 75%')\n",
    "plt.axis([0,2750,0,.75])\n",
    "\n",
    "plt.subplot(224)\n",
    "plt.plot( Y, yvals )\n",
    "plt.xlabel('Play Counts')\n",
    "plt.ylabel('ECDF')\n",
    "plt.grid(True,which=\"both\",ls=\"-\")\n",
    "plt.title('Tail (> 95%)')\n",
    "plt.axis([10000, 70000, 0.95, 1])\n",
    "\n",
    "plt.show()"
   ]
  },
  {
   "cell_type": "markdown",
   "metadata": {},
   "source": [
    "<font color='blue'>\n",
    "As we can see from the graphs, the 95% of the users has played less that 10000 songs. For this reason, we think it's appropriate to consider as outliers everyone with more than 10000 played songs.\n",
    "</font>"
   ]
  },
  {
   "cell_type": "markdown",
   "metadata": {},
   "source": [
    "\n",
    "|Percentile |Play Counts (approx) |\n",
    "|:-----------:|:---------:|\n",
    "|25%        |200|\n",
    "|50%        |900|\n",
    "|75%        |2750|\n"
   ]
  },
  {
   "cell_type": "markdown",
   "metadata": {},
   "source": [
    "<font color='blue'>\n",
    "Until now, without knowing how the recommender algorithm works, we may consider outliers to be distructive for the performance of a recommending system: they could polarize the recommendation due to the high volume of played songs with respect to \"normal\" users.\n",
    "\n",
    "On the other hand, there is a ~13% of users which played less than 50 songs; from a certain point of view, it may be more difficult to precisely recommend them new artists since we don't have much information about them, but from another perspective we could easily suggest users they never heard before. \n",
    "\n",
    "It is also interesting to see how these ``playCounts`` are distributed on the artists: did the users play always the same two or three artists? Did they listened to a wider range of musicians? In the first case, it should be easy to recommend new musicians because we know what the users like, while in the second case it could be harder because the users don't have well-defined music tastes and may already be aware of all the artists they like; on the other hand, since they are 'curious' users, they should accept to listen and like new artists even from a different musical genre.\n",
    "</font>"
   ]
  },
  {
   "cell_type": "markdown",
   "metadata": {},
   "source": [
    "#### Question 2.3\n",
    "\n",
    "How many play counts for each artist? Plot CDF or ECDF of the result.\n",
    "\n",
    "Similarly to the previous question, you need to comment and interpret your result: what is the figure telling you?"
   ]
  },
  {
   "cell_type": "markdown",
   "metadata": {},
   "source": [
    "<font color='blue'>\n",
    "Since we have misspelled artists, we first need to solve this issue. Using ``artist_alias.txt`` we are able to get the correct IDs for all the artists in ``user_artist_data.txt``, then from them we can build a cleaned version of the data. \n",
    "</font>"
   ]
  },
  {
   "cell_type": "code",
   "execution_count": 28,
   "metadata": {
    "collapsed": false
   },
   "outputs": [
    {
     "name": "stdout",
     "output_type": "stream",
     "text": [
      "+-------+--------+---------+----------------+\n",
      "| userID|artistID|playCount|standardArtistID|\n",
      "+-------+--------+---------+----------------+\n",
      "|1000002|       1|       55|            null|\n",
      "|1000002| 1000006|       33|            null|\n",
      "|1000002| 1000007|        8|            null|\n",
      "|1000002| 1000009|      144|            null|\n",
      "|1000002| 1000010|      314|            null|\n",
      "|1000002| 1000013|        8|            null|\n",
      "|1000002| 1000014|       42|            null|\n",
      "|1000002| 1000017|       69|            null|\n",
      "|1000002| 1000024|      329|            null|\n",
      "|1000002| 1000025|        1|            null|\n",
      "|1000002| 1000028|       17|            null|\n",
      "|1000002| 1000031|       47|            null|\n",
      "|1000002| 1000033|       15|            null|\n",
      "|1000002| 1000042|        1|            null|\n",
      "|1000002| 1000045|        1|            null|\n",
      "|1000002| 1000054|        2|            null|\n",
      "|1000002| 1000055|       25|            null|\n",
      "|1000002| 1000056|        4|            null|\n",
      "|1000002| 1000059|        2|            null|\n",
      "|1000002| 1000062|       71|            null|\n",
      "|1000002| 1000088|      157|            null|\n",
      "|1000002| 1000099|       57|            null|\n",
      "|1000002| 1000107|        4|            null|\n",
      "|1000002| 1000113|       30|            null|\n",
      "|1000002| 1000123|       27|            null|\n",
      "|1000002| 1000127|       53|            null|\n",
      "|1000002| 1000139|       56|            null|\n",
      "|1000002| 1000140|       95|            null|\n",
      "|1000002| 1000157|        2|            null|\n",
      "|1000002| 1000183|       49|            null|\n",
      "|1000002| 1000188|      125|            null|\n",
      "|1000002| 1000201|        1|            null|\n",
      "|1000002| 1000210|       23|            null|\n",
      "|1000002| 1000243|        1|            null|\n",
      "|1000002| 1000251|        4|            null|\n",
      "|1000002| 1000260|        7|            null|\n",
      "|1000002| 1000265|       16|            null|\n",
      "|1000002| 1000266|       38|            null|\n",
      "|1000002| 1000283|        3|            null|\n",
      "|1000002| 1000288|        1|            null|\n",
      "|1000002| 1000289|       36|            null|\n",
      "|1000002| 1000293|        1|            null|\n",
      "|1000002| 1000295|        2|            null|\n",
      "|1000002| 1000302|        1|            null|\n",
      "|1000002| 1000305|        5|            null|\n",
      "|1000002| 1000315|      155|            null|\n",
      "|1000002| 1000317|       35|            null|\n",
      "|1000002| 1000322|       98|            null|\n",
      "|1000002| 1000323|      236|            null|\n",
      "|1000002| 1000325|        4|            null|\n",
      "|1000002| 1000340|       17|            null|\n",
      "|1000002| 1000343|        2|            null|\n",
      "|1000002| 1000382|        3|            null|\n",
      "|1000002| 1000424|        1|            null|\n",
      "|1000002| 1000434|       89|         1000518|\n",
      "+-------+--------+---------+----------------+\n",
      "only showing top 55 rows\n",
      "\n"
     ]
    }
   ],
   "source": [
    "userArtistCleanDF = userArtistDF\\\n",
    "                .join(artistAliasDF, userArtistDF.artistID == artistAliasDF.misspelledArtistID, how='left_outer')\\\n",
    "                .drop('misspelledArtistID')\n",
    "\n",
    "userArtistCleanDF.show(55)"
   ]
  },
  {
   "cell_type": "markdown",
   "metadata": {},
   "source": [
    "<font color='blue'>\n",
    "We printed on purpose this table to show the relation between misspelled artist IDs and the real ones. As you can see, a lot of them are already correct in the main dataframe (i.e. the one from ``user_artist_data.txt``). The last row we printed, though, has a discrepancy. To have the table with the right ID, we use the ``coalesce`` function, which does perfectly the job (i.e. collecting the first not-null column).    \n",
    "</font>"
   ]
  },
  {
   "cell_type": "code",
   "execution_count": 29,
   "metadata": {
    "collapsed": false
   },
   "outputs": [
    {
     "name": "stdout",
     "output_type": "stream",
     "text": [
      "+-------+---------+------------+\n",
      "| userID|playCount|realArtistID|\n",
      "+-------+---------+------------+\n",
      "|1000002|       55|           1|\n",
      "|1000002|       33|     1000006|\n",
      "|1000002|        8|     1000007|\n",
      "|1000002|      144|     1000009|\n",
      "|1000002|      314|     1000010|\n",
      "|1000002|        8|     1000013|\n",
      "|1000002|       42|     1000014|\n",
      "|1000002|       69|     1000017|\n",
      "|1000002|      329|     1000024|\n",
      "|1000002|        1|     1000025|\n",
      "+-------+---------+------------+\n",
      "only showing top 10 rows\n",
      "\n"
     ]
    }
   ],
   "source": [
    "userArtistCleanDF = userArtistCleanDF\\\n",
    "            .withColumn('realArtistID', coalesce(userArtistCleanDF.standardArtistID, userArtistCleanDF.artistID))\\\n",
    "            .drop('artistID', 'standardArtistID').cache()\n",
    "\n",
    "userArtistCleanDF.show(10)"
   ]
  },
  {
   "cell_type": "markdown",
   "metadata": {},
   "source": [
    "<font color='blue'>\n",
    "Now, in ``userArtistCleanDF`` we don't have misspelled ``artistId``s, but we still may have some rows with same ``userID`` and ``realArtistID``.\n",
    "<\\font>"
   ]
  },
  {
   "cell_type": "code",
   "execution_count": 26,
   "metadata": {
    "collapsed": false
   },
   "outputs": [
    {
     "name": "stdout",
     "output_type": "stream",
     "text": [
      "+------------+-------+----------------+\n",
      "|realArtistID| userID|count(playCount)|\n",
      "+------------+-------+----------------+\n",
      "|     1018110|2133748|              94|\n",
      "|     1082784|2052189|              71|\n",
      "|         122|2360120|              68|\n",
      "|     1000024|2302495|              65|\n",
      "|     1001819|1053375|              57|\n",
      "+------------+-------+----------------+\n",
      "only showing top 5 rows\n",
      "\n"
     ]
    }
   ],
   "source": [
    "userArtistCleanDF.groupBy(userArtistCleanDF.realArtistID, userArtistCleanDF.userID)\\\n",
    "                 .agg(count('playCount')).orderBy('count(playCount)', ascending = 0)\\\n",
    "                 .show(5)"
   ]
  },
  {
   "cell_type": "markdown",
   "metadata": {},
   "source": [
    "<font color='blue'>\n",
    "This comes from the fact that an artistID was misspelled and it has been replaced but ``playCount`` was not updated. For instance, user ``2133748`` played artist ``1018110`` 94 times with a misspelled name. \n",
    "</font>"
   ]
  },
  {
   "cell_type": "code",
   "execution_count": 30,
   "metadata": {
    "collapsed": false
   },
   "outputs": [
    {
     "name": "stdout",
     "output_type": "stream",
     "text": [
      "+------------+------------+----------------+\n",
      "|realArtistID|sumPlayCount|            name|\n",
      "+------------+------------+----------------+\n",
      "|         979|     2502596|       Radiohead|\n",
      "|     1000113|     2259825|     The Beatles|\n",
      "|        4267|     1931143|       Green Day|\n",
      "|     1000024|     1543430|       Metallica|\n",
      "|        4468|     1426254|System of a Down|\n",
      "|          82|     1399665|      Pink Floyd|\n",
      "|         831|     1361977| Nine Inch Nails|\n",
      "|     1001779|     1328969|    Modest Mouse|\n",
      "|     1000130|     1234773|     Bright Eyes|\n",
      "|         976|     1203348|         Nirvana|\n",
      "+------------+------------+----------------+\n",
      "only showing top 10 rows\n",
      "\n",
      "+------------+----------------+\n",
      "|sumPlayCount|            name|\n",
      "+------------+----------------+\n",
      "|     2502130|       Radiohead|\n",
      "|     2259185|     The Beatles|\n",
      "|     1930592|       Green Day|\n",
      "|     1542806|       Metallica|\n",
      "|     1425942|System of a Down|\n",
      "|     1399418|      Pink Floyd|\n",
      "|     1361392| Nine Inch Nails|\n",
      "|     1328869|    Modest Mouse|\n",
      "|     1234387|     Bright Eyes|\n",
      "|     1203226|         Nirvana|\n",
      "+------------+----------------+\n",
      "only showing top 10 rows\n",
      "\n"
     ]
    }
   ],
   "source": [
    "sortedTopArtistsDF = userArtistCleanDF.groupBy('realArtistID').agg(sum('playCount').alias('sumPlayCount'))\\\n",
    "                        .join(artistDataDF, userArtistCleanDF.realArtistID == artistDataDF.artistID, how='left_outer')\\\n",
    "                        .drop('artistID').orderBy('sumPlayCount', ascending=0)\n",
    "\n",
    "sortedTopArtistsDirtyDF = userArtistDF.groupBy('artistID').agg(sum('playCount').alias('sumPlayCount'))\\\n",
    "                              .join(artistDataDF, userArtistDF.artistID == artistDataDF.artistID, how='left_outer')\\\n",
    "                              .drop('artistID').orderBy('sumPlayCount', ascending=0)\n",
    "\n",
    "sortedTopArtistsDF.show(10)\n",
    "sortedTopArtistsDirtyDF.show(10)"
   ]
  },
  {
   "cell_type": "markdown",
   "metadata": {},
   "source": [
    "<font color='blue'>\n",
    "By looking at the column ``sumPlayCount`` we see that cleaning our data yields a higher number of play counts for all the artists shown above, as it should be. From now on, we will work only with the \"cleaned\" version. \n",
    "<br>\n",
    "<br>\n",
    "N.B.\n",
    "<br>\n",
    "We have already seen how the artistIDs' mapping does not work very well for songs with multiple artists. We will soon find some other types of noise in our dataset\n",
    "</font>"
   ]
  },
  {
   "cell_type": "code",
   "execution_count": 28,
   "metadata": {
    "collapsed": false
   },
   "outputs": [
    {
     "data": {
      "image/png": "[encoded data removed]",
      "text/plain": [
       "<matplotlib.figure.Figure at 0x7fdf2db5c5c0>"
      ]
     },
     "metadata": {},
     "output_type": "display_data"
    }
   ],
   "source": [
    "pdf = pd.DataFrame(data=sortedTopArtistsDF.collect())\n",
    "Y=np.sort( pdf[1] )\n",
    "yvals=np.arange(len(Y))/float(len(Y))\n",
    "\n",
    "plt.figure(figsize=(15,10))\n",
    "\n",
    "plt.subplot(211)\n",
    "plt.semilogx(Y, yvals)\n",
    "plt.xlabel('Play Counts')\n",
    "plt.ylabel('ECDF')\n",
    "plt.grid(True,which=\"both\",ls=\"-\")\n",
    "plt.title('ECDF of number of play counts per Artist')\n",
    "\n",
    "plt.subplot(212)\n",
    "plt.plot( Y, yvals )\n",
    "plt.xlabel('Play Counts')\n",
    "plt.ylabel('ECDF')\n",
    "plt.grid(True,which=\"both\",ls=\"-\")\n",
    "plt.title('Percentile - 50%')\n",
    "plt.axis([0,5,0,.5])\n",
    "\n",
    "plt.show()"
   ]
  },
  {
   "cell_type": "markdown",
   "metadata": {},
   "source": [
    "<font color='blue'> \n",
    "We sadly have a lot of artists played only once or twice (almost 50%). This percentage can come from the fact that we have dirty data as showed in the example above (featuring or collaborations between artists) or, a bit less likely, from the fact that some artists may be really unfamous.\n",
    "</font>"
   ]
  },
  {
   "cell_type": "markdown",
   "metadata": {},
   "source": [
    "#### Question 2.4\n",
    "Plot a bar chart to show top 5 artists In terms of absolute play counts.\n",
    "\n",
    "Comment the figure you just obtained:\n",
    "\n",
    "* are these reasonable results?\n",
    "* is looking at top-5 artists enough to learn more about your data?\n",
    "* do you see anything strange in the data?"
   ]
  },
  {
   "cell_type": "code",
   "execution_count": 13,
   "metadata": {
    "collapsed": false
   },
   "outputs": [
    {
     "name": "stdout",
     "output_type": "stream",
     "text": [
      "['Radiohead' 'The Beatles' 'Green Day' 'Metallica' 'System of a Down'\n",
      " 'Pink Floyd' 'Nine Inch Nails' 'Modest Mouse' 'Bright Eyes' 'Nirvana']\n",
      "[2502596 2259825 1931143 1543430 1426254 1399665 1361977 1328969 1234773\n",
      " 1203348]\n"
     ]
    }
   ],
   "source": [
    "sortedPD = pd.DataFrame(data=sortedTopArtistsDF.limit(10).collect())\n",
    "#artists = sortedPD[2].values.tolist()\n",
    "#counts = sortedPD[1].values.tolist()\n",
    "artists = sortedPD[2].values\n",
    "counts = sortedPD[1].values\n",
    "\n",
    "print(artists)\n",
    "print(counts)"
   ]
  },
  {
   "cell_type": "code",
   "execution_count": 30,
   "metadata": {
    "collapsed": false
   },
   "outputs": [
    {
     "data": {
      "image/png": "[encoded data removed]",
      "text/plain": [
       "<matplotlib.figure.Figure at 0x7fdee7862710>"
      ]
     },
     "metadata": {},
     "output_type": "display_data"
    }
   ],
   "source": [
    "y_pos = np.arange(len(artists))\n",
    "plt.figure(figsize=(12,7))\n",
    "\n",
    "plt.barh(y_pos, counts, align='center', alpha=0.4, color='green')\n",
    "plt.yticks(y_pos, artists)\n",
    "plt.gca().invert_yaxis()\n",
    "plt.xlabel('Play Count')\n",
    "plt.title('Top-10 Artist ID per play counts')\n",
    "plt.show()"
   ]
  },
  {
   "cell_type": "markdown",
   "metadata": {},
   "source": [
    "<font color='blue'>\n",
    "From this last chart, we don't spot any strange result, but in order to have a better understanding of our dataset, let's see also who are the most unfamous artists: are they really unfamous artists, or they have just weird IDs?\n",
    "</font>"
   ]
  },
  {
   "cell_type": "code",
   "execution_count": 14,
   "metadata": {
    "collapsed": false
   },
   "outputs": [],
   "source": [
    "unfamousArtistsDF = userArtistCleanDF.groupBy('realArtistID').agg(sum('playCount').alias('sumPlayCount'))\\\n",
    "                    .join(artistDataDF, userArtistCleanDF.realArtistID == artistDataDF.artistID, how='left_outer')\\\n",
    "                    .drop('artistID').orderBy('sumPlayCount', ascending=1)"
   ]
  },
  {
   "cell_type": "code",
   "execution_count": 15,
   "metadata": {
    "collapsed": false
   },
   "outputs": [
    {
     "name": "stdout",
     "output_type": "stream",
     "text": [
      "['Gender Wayang: Sukawati',\n",
      " 'Roni Size Remix',\n",
      " '03. Reich- 18 Musicinas (Ens.Modern)',\n",
      " 'ChroniX Aggression on iM Radio',\n",
      " 'Professional Sntk',\n",
      " 'I Try',\n",
      " 'Osunlade-Power To Conquer (HOUSEMUSIQUE',\n",
      " 'Mic-In',\n",
      " 'Black Black Heart (hidden track)',\n",
      " '11 Istanbul Oriental Ensemble',\n",
      " '[Buffer: 28%] Fire And Ice',\n",
      " 'bill bissett',\n",
      " \"Don't Stop Get it Get it\",\n",
      " '11. The Mary Martin Show',\n",
      " 'Justin T. and Kylie M.',\n",
      " '10. Miner At The DialAVie',\n",
      " 'pharoahe monch, shabaamsahdeeq',\n",
      " 'Apple Tech Support Lines',\n",
      " 'Karat and Peter Maffey',\n",
      " 'Busty',\n",
      " 'Bobby Leecan and Robert Cooksey',\n",
      " 'Patti Labelle and Travis Tritt',\n",
      " 'MandS Presents',\n",
      " 'PRAXIS-Praxis-Transmutation (mutatis mutandis)-praxis',\n",
      " 'Empty Chairs at Empty Tables',\n",
      " '\\x83\\x82\\x81[\\x83j\\x83\\x93\\x83O\\x96º\\x81B\\x91¼',\n",
      " '°í¸±¶ó',\n",
      " 'Yuki Matsura and Mifuyu Hiragi',\n",
      " 'John Mayer with Glen Phillips',\n",
      " 'Sussi Lindstr#m',\n",
      " 'Mektar',\n",
      " '[krz]Front 242, Rammstein and Laibach',\n",
      " 'KingSize Records',\n",
      " 'Frank Buthcer',\n",
      " 'Gong Shapeshifter 12 Can Yo',\n",
      " '(05) Seamus',\n",
      " '(03) Ultraspank',\n",
      " 'pats and small',\n",
      " '14-VA-Track 14',\n",
      " \"Pickin' On The Allman Brothers\",\n",
      " 'Where the Heart Is Soundtrack',\n",
      " 's s project / ovum recordings',\n",
      " '01. Pandas in tandem',\n",
      " 'Labi Saffre',\n",
      " 'Jodi Cockatoo Creed and George',\n",
      " 'Harold Budd -- The Gunfighter -- Lovely Thunder (1986) (Sleepbot '\n",
      " 'Environmental Broadcast --- --',\n",
      " 'everybody sexareeno!',\n",
      " 'Herbie Mann - Tomiko Jones',\n",
      " 'very funn',\n",
      " \"Lightnin' Hopkins: Mojo Hand\"]\n"
     ]
    }
   ],
   "source": [
    "unfamousArtistsList = unfamousArtistsDF.limit(50).select('name').rdd.map(lambda x: x[0]).take(50)\n",
    "#print(unfamousArtistsList)\n",
    "pprint(unfamousArtistsList)"
   ]
  },
  {
   "cell_type": "markdown",
   "metadata": {},
   "source": [
    "<font color='blue'>\n",
    "Even though, the data should be clean and ready to train the model, we clearly spot a lot of what we can call _noise_ (i.e. some aspects of the problem which we cannot model due to their unpredictability nature).\n",
    "As we suspected, we mainly have artists with wrong names or names badly mapped to IDs. Now, looking back to the ECDF of playcounts per artist where we got almost 50% of the musicians with less than 2 playcounts, we can say that a good portion is just noise, meaningless information. \n",
    "</font>"
   ]
  },
  {
   "cell_type": "markdown",
   "metadata": {},
   "source": [
    "### Question 3\n",
    "\n",
    "#### Question 3.1\n",
    "Loading the data from `/datasets/lastfm/artist_data.txt` by using SparkSQL API and show 5 samples.\n",
    "\n",
    "HINT: If you encounter some error when parsing lines in data because of invalid entries, parameter `mode='DROPMALFORMED'` will help you to eliminate these entries. The suggested syntax is: `<df>.options(header='false', delimiter='\\t', mode='DROPMALFORMED')`."
   ]
  },
  {
   "cell_type": "markdown",
   "metadata": {},
   "source": [
    "<font color='blue'>\n",
    "This has already been done in the previous questions\n",
    "</font>"
   ]
  },
  {
   "cell_type": "markdown",
   "metadata": {},
   "source": [
    "#### Question 3.2\n",
    "Find 20 artists whose name contains \"Aerosmith\" inside. Take a look on artists that have ID equal to `1000010` and `2082323`. In your opinion, are they the same ?\n",
    "\n",
    "HINT: Function `locate(sub_string, string)` can be useful in this case."
   ]
  },
  {
   "cell_type": "code",
   "execution_count": 33,
   "metadata": {
    "collapsed": false
   },
   "outputs": [
    {
     "name": "stdout",
     "output_type": "stream",
     "text": [
      "+--------+--------------------+\n",
      "|artistID|                name|\n",
      "+--------+--------------------+\n",
      "|10586006|Dusty Springfield...|\n",
      "| 6946007|    Aerosmith/RunDMC|\n",
      "|10475683|Aerosmith: Just P...|\n",
      "| 1083031|    Aerosmith/ G n R|\n",
      "| 6872848|Britney, Nsync, N...|\n",
      "|10586963|Green Day - Oasis...|\n",
      "|10028830|The Aerosmith Ant...|\n",
      "|10300357| Run-DMC + Aerosmith|\n",
      "| 2027746|Aerosmith by Musi...|\n",
      "| 1140418|[rap]Run DMC and ...|\n",
      "|10237208| Aerosmith + Run DMC|\n",
      "|10588537|Aerosmith, Kid Ro...|\n",
      "| 9934757|Aerosmith - Big Ones|\n",
      "|10437510|Green Day ft. Oas...|\n",
      "| 6936680| RUN DNC & Aerosmith|\n",
      "|10479781|      Aerosmith Hits|\n",
      "|10114147|Charlies Angels -...|\n",
      "| 1262439|Kid Rock, Run DMC...|\n",
      "| 7032554|Aerosmith & Run-D...|\n",
      "|10033592|          Aerosmith?|\n",
      "+--------+--------------------+\n",
      "only showing top 20 rows\n",
      "\n",
      "+--------+---------+\n",
      "|artistID|     name|\n",
      "+--------+---------+\n",
      "| 1000010|Aerosmith|\n",
      "+--------+---------+\n",
      "\n",
      "+--------+------------+\n",
      "|artistID|        name|\n",
      "+--------+------------+\n",
      "| 2082323|01 Aerosmith|\n",
      "+--------+------------+\n",
      "\n"
     ]
    }
   ],
   "source": [
    "artistDataDF[locate(\"Aerosmith\", artistDataDF.name) > 0].show()\n",
    "\n",
    "artistDataDF[artistDataDF.artistID==1000010].show()\n",
    "artistDataDF[artistDataDF.artistID==2082323].show()"
   ]
  },
  {
   "cell_type": "markdown",
   "metadata": {},
   "source": [
    "<font color='blue'> \n",
    "We can assume id ``1000010`` and id ``2082323`` refer to the same artist.\n",
    "</font>"
   ]
  },
  {
   "cell_type": "markdown",
   "metadata": {},
   "source": [
    "#### Question 3.3\n",
    "Using SparkSQL API, load the dataset from `/datasets/lastfm/artist_alias.txt` then show 5 samples."
   ]
  },
  {
   "cell_type": "markdown",
   "metadata": {},
   "source": [
    "<font color='blue'> \n",
    "We already perfomed this previously.\n",
    "</font>"
   ]
  },
  {
   "cell_type": "markdown",
   "metadata": {},
   "source": [
    "#### Question 3.4\n",
    "Verify the answer of question 3.2 (\"Are artists that have ID equal to `1000010` and `2082323` the same ?\") by finding the standard ids corresponding to the mispelled ids `1000010` and `2082323` respectively."
   ]
  },
  {
   "cell_type": "code",
   "execution_count": 34,
   "metadata": {
    "collapsed": false
   },
   "outputs": [
    {
     "name": "stdout",
     "output_type": "stream",
     "text": [
      "+------------------+----------------+\n",
      "|misspelledArtistID|standardArtistID|\n",
      "+------------------+----------------+\n",
      "+------------------+----------------+\n",
      "\n",
      "+------------------+----------------+\n",
      "|misspelledArtistID|standardArtistID|\n",
      "+------------------+----------------+\n",
      "|           2082323|         1000010|\n",
      "+------------------+----------------+\n",
      "\n"
     ]
    }
   ],
   "source": [
    "artistAliasDF[ artistAliasDF.misspelledArtistID==1000010 ].show()\n",
    "artistAliasDF[ artistAliasDF.misspelledArtistID==2082323 ].show()"
   ]
  },
  {
   "cell_type": "markdown",
   "metadata": {},
   "source": [
    "<font color='blue'>\n",
    "As we can see, in the first case there is no entry for id ``1000010`` because it's correct, while the second id is wrong and it points to the right one.\n",
    "</font>"
   ]
  },
  {
   "cell_type": "markdown",
   "metadata": {},
   "source": [
    "### Question 4\n",
    "\n",
    "The mispelled or nonstandard information about artist make our results in the previous queries a bit \"sloppy\". To overcome this problem, we can replace all mispelled artist ids by the corresponding standard ids and to re-compute the basic descriptive statistics on the \"amended\" data.\n",
    "First, we construct a \"dictionary\" that map a non-standard ids to a standard ids. Then this \"dictionary\" will be used to replace the mispelled artists.\n",
    "\n",
    "#### Question 4.1\n",
    "From data in the dataframe loaded from `/datasets/lastfm/artist_alias.txt`, construct a dictionary that maps each non-standard id to its standard id.\n",
    "\n",
    "HINT: Instead of using function `collect`, we can use `collectAsMap` to convert the collected data to a dictionary inline."
   ]
  },
  {
   "cell_type": "code",
   "execution_count": 33,
   "metadata": {
    "collapsed": false
   },
   "outputs": [],
   "source": [
    "artistAliasDict = artistAliasDF.rdd.map(lambda row: ( row[0] , row[1])).collectAsMap()"
   ]
  },
  {
   "cell_type": "markdown",
   "metadata": {},
   "source": [
    "#### Question 4.2\n",
    "Using the constructed dictionary in question 4.1, replace the non-standard artist ids in the dataframe that was loaded from `/datasets/lastfm/user_artist_data.txt` by the corresponding standard ids then show 5 samples.\n",
    "\n",
    "**NOTE 1**: If an id doesn't exist in the dictionary as a mispelled id, it is really a standard id.\n",
    "\n",
    "\n",
    "Using funtion `map` on Spark Dataframe will give us an RDD. We can convert this RDD back to Dataframe by using `sqlContext.createDataFrame(rdd_name, sql_schema)`\n",
    "\n",
    "\n",
    "**NOTE 2**: be careful! you need to be able to verify that you indeed solved the problem of having bad artist IDs. In principle, for the new data to be correct, we should to have duplicate pairs (user, artist), potentially with different play counts, right? In answering the question, please **show** that you indeed fixed the problem. "
   ]
  },
  {
   "cell_type": "code",
   "execution_count": 17,
   "metadata": {
    "collapsed": false
   },
   "outputs": [
    {
     "name": "stdout",
     "output_type": "stream",
     "text": [
      "+-------+------------+-----+\n",
      "| userID|realArtistID|count|\n",
      "+-------+------------+-----+\n",
      "|2133748|     1018110|   94|\n",
      "|2052189|     1082784|   71|\n",
      "|2360120|         122|   68|\n",
      "|2302495|     1000024|   65|\n",
      "|1053375|     1001819|   57|\n",
      "+-------+------------+-----+\n",
      "only showing top 5 rows\n",
      "\n"
     ]
    }
   ],
   "source": [
    "userArtistCleanDF.groupBy(['userID', 'realArtistID']).count().orderBy('count', ascending=0).show(5)"
   ]
  },
  {
   "cell_type": "markdown",
   "metadata": {},
   "source": [
    "<font color='blue'>\n",
    "This table tells us how many times a certain user played a certain artist and the value of count is the times ``standard_artist_id`` was misspelled.\n",
    "</font>"
   ]
  },
  {
   "cell_type": "code",
   "execution_count": 34,
   "metadata": {
    "collapsed": false
   },
   "outputs": [
    {
     "name": "stdout",
     "output_type": "stream",
     "text": [
      "+-------+--------+---------+\n",
      "| userID|artistID|playCount|\n",
      "+-------+--------+---------+\n",
      "|2417377| 1000985|        1|\n",
      "|2073546|    1292|       11|\n",
      "|1066672|    2530|       25|\n",
      "|2086518| 7018288|        8|\n",
      "|2018464| 1115674|        1|\n",
      "|1017089|    3621|        1|\n",
      "|2364410| 1179984|        2|\n",
      "|2104005|    3161|       69|\n",
      "|2161844| 1002134|        4|\n",
      "|2031585| 1001277|        1|\n",
      "|2287934|     600|        1|\n",
      "|2272723|     979|        1|\n",
      "|2004540| 1245054|        1|\n",
      "|1051685| 1009657|        1|\n",
      "|1042691| 1099195|        1|\n",
      "|2310435| 1195863|       17|\n",
      "|2345778|     860|       12|\n",
      "|1054211| 1155691|       11|\n",
      "|2354192|    1986|        2|\n",
      "|2215873| 1012257|      447|\n",
      "+-------+--------+---------+\n",
      "only showing top 20 rows\n",
      "\n",
      "The script takes 88.385719 seconds\n"
     ]
    }
   ],
   "source": [
    "from time import time\n",
    "\n",
    "def replaceMispelledIDs(fields):\n",
    "    finalID = artistAliasDict.get(fields[1], fields[1])\n",
    "    return ((fields[0], finalID), fields[2]) \n",
    "\n",
    "def correctFormat(fields):\n",
    "    return (fields[0][0], fields[0][1], fields[1])\n",
    "\n",
    "t0 = time()\n",
    "\n",
    "newUserArtistDF = sqlContext.createDataFrame(\n",
    "    userArtistDF.rdd\\\n",
    "    .map(replaceMispelledIDs)\\\n",
    "    .reduceByKey(lambda x,y: x + y)\\\n",
    "    .map(correctFormat),\n",
    "    userArtistDataSchema\n",
    ")\n",
    "\n",
    "newUserArtistDF.cache()\n",
    "newUserArtistDF.show()\n",
    "t1 = time()\n",
    "\n",
    "print('The script takes %f seconds' %(t1-t0))"
   ]
  },
  {
   "cell_type": "code",
   "execution_count": 19,
   "metadata": {
    "collapsed": false
   },
   "outputs": [
    {
     "name": "stdout",
     "output_type": "stream",
     "text": [
      "+-------+--------+---------+\n",
      "| userID|artistID|playCount|\n",
      "+-------+--------+---------+\n",
      "|2064012|    4468|   439771|\n",
      "|1059637| 1002095|   433060|\n",
      "|1059637| 1026440|   155895|\n",
      "|2069889| 1002095|   101076|\n",
      "|2020513| 1007801|    89592|\n",
      "+-------+--------+---------+\n",
      "only showing top 5 rows\n",
      "\n"
     ]
    }
   ],
   "source": [
    "newUserArtistDF.orderBy('playCount', ascending=0).show(5)"
   ]
  },
  {
   "cell_type": "markdown",
   "metadata": {},
   "source": [
    "<font color='blue'>\n",
    "To be sure that we have done the right action, we perform again the same test as before (i.e. counting how many times the ``standard_artist_id`` was misspelled in the table).\n",
    "</font>"
   ]
  },
  {
   "cell_type": "code",
   "execution_count": 39,
   "metadata": {
    "collapsed": false
   },
   "outputs": [
    {
     "name": "stdout",
     "output_type": "stream",
     "text": [
      "+-------+--------+-----+\n",
      "| userID|artistID|count|\n",
      "+-------+--------+-----+\n",
      "|2019972| 2097754|    1|\n",
      "|2312043| 1078383|    1|\n",
      "|1043734| 1002080|    1|\n",
      "|2294193| 6941881|    1|\n",
      "|2112254| 1132532|    1|\n",
      "+-------+--------+-----+\n",
      "only showing top 5 rows\n",
      "\n"
     ]
    }
   ],
   "source": [
    "newUserArtistDF.groupBy(['userID', 'artistID']).count().orderBy('count', ascending = 0).show(5)"
   ]
  },
  {
   "cell_type": "markdown",
   "metadata": {},
   "source": [
    "<font color='blue'>\n",
    "Now, each pair of ``userID`` and ``artistID`` appears only once.\n",
    "</font>"
   ]
  },
  {
   "cell_type": "markdown",
   "metadata": {},
   "source": [
    "#### Question 4.3\n",
    "Spark actions are executed through a set of stages, separated by distributed \"shuffle\" operations. Spark can be instructed to **automatically and efficiently** broadcast common data needed by tasks within **each stage**. The data broadcasted this way is cached in **serialized form** and deserialized before running each task. \n",
    "\n",
    "We can thus improve our answer to question 4.2: we can reduce the communication cost by shipping the \"dictionary\" in a more efficient way by using `broadcast variable`. Broadcast variables allow the programmer to keep a read-only variable cached on **each machine** rather than shipping a copy of it with tasks. They are cached in deserialized form. They can be used, for example, to give every node a copy of a large input dataset in an efficient manner. \n",
    "\n",
    "The broadcast of variable `v` can be created by `bV = sc.broadcast(v)`. Then value of this broadcast variable can be access via `bV.value`\n",
    "\n",
    "To question is then: using a broadcast variable, modify the script in question 4.2 to get better performance in terms of running time.\n"
   ]
  },
  {
   "cell_type": "code",
   "execution_count": 20,
   "metadata": {
    "collapsed": false
   },
   "outputs": [
    {
     "name": "stdout",
     "output_type": "stream",
     "text": [
      "+-------+--------+---------+\n",
      "| userID|artistID|playCount|\n",
      "+-------+--------+---------+\n",
      "|1030953| 1001909|        1|\n",
      "|2417377| 1000985|        1|\n",
      "|2073546|    1292|       11|\n",
      "|2047347| 1036119|        2|\n",
      "|2405301| 1000505|      173|\n",
      "|2004875| 1090663|        3|\n",
      "|2272915| 1001019|        8|\n",
      "|2086518| 7018288|        8|\n",
      "|2018464| 1115674|        1|\n",
      "|1017089|    3621|        1|\n",
      "|2104005|    3161|       69|\n",
      "|1023567| 1047607|        1|\n",
      "|1072606| 1046576|        1|\n",
      "|2161844| 1002134|        4|\n",
      "|2031585| 1001277|        1|\n",
      "|2287934|     600|        1|\n",
      "|2272723|     979|        1|\n",
      "|1001286|    3328|        5|\n",
      "|2004540| 1245054|        1|\n",
      "|1051685| 1009657|        1|\n",
      "+-------+--------+---------+\n",
      "only showing top 20 rows\n",
      "\n",
      "The script takes 115.008380 seconds\n"
     ]
    }
   ],
   "source": [
    "from time import time\n",
    "\n",
    "bArtistAlias = sc.broadcast(artistAliasDict)\n",
    "\n",
    "def replaceMispelledIDs(fields):\n",
    "    finalID = bArtistAlias.value.get(fields[1], fields[1])\n",
    "    return ((fields[0], finalID), fields[2]) # userID + missing + playcount\n",
    "\n",
    "def correctFormat(fields):\n",
    "    return (fields[0][0], fields[0][1], fields[1])\n",
    "\n",
    "t0 = time()\n",
    "\n",
    "bNewUserArtistDF = sqlContext.createDataFrame(\n",
    "    userArtistDF.rdd\\\n",
    "    .map(replaceMispelledIDs)\\\n",
    "    .reduceByKey(lambda x,y: x + y)\\\n",
    "    .map(correctFormat),\n",
    "    userArtistDataSchema\n",
    ")\n",
    "\n",
    "bNewUserArtistDF.cache()\n",
    "bNewUserArtistDF.show()\n",
    "t1 = time()\n",
    "\n",
    "print('The script takes %f seconds' %(t1-t0))"
   ]
  },
  {
   "cell_type": "markdown",
   "metadata": {},
   "source": [
    "Although having some advantages, explicitly creating broadcast variables is only useful when tasks across multiple stages need the same data or when caching the data in deserialized form is important."
   ]
  },
  {
   "cell_type": "markdown",
   "metadata": {},
   "source": [
    "### Question 5\n",
    "\n",
    "Well, our data frame contains clean and \"standard\" data. We can use it to redo previous statistic queries.\n",
    "\n",
    "#### Question 5.1\n",
    "\n",
    "How many unique artists? Compare with the result when using old data."
   ]
  },
  {
   "cell_type": "code",
   "execution_count": 41,
   "metadata": {
    "collapsed": false
   },
   "outputs": [
    {
     "name": "stdout",
     "output_type": "stream",
     "text": [
      "Total n. of artists:  1568126\n"
     ]
    }
   ],
   "source": [
    "uniqueArtists = newUserArtistDF.select('artistID').distinct().count()\n",
    "\n",
    "print(\"Total n. of artists: \", uniqueArtists)"
   ]
  },
  {
   "cell_type": "markdown",
   "metadata": {},
   "source": [
    "<font color='blue'> \n",
    "We previously obtained 1631028 different artists, around 60000 artists more. We now might be sure that we have unique artists, but strangely enough we still have problems: some artists still have two different IDs. \n",
    "</font>"
   ]
  },
  {
   "cell_type": "code",
   "execution_count": 35,
   "metadata": {
    "collapsed": false
   },
   "outputs": [
    {
     "name": "stdout",
     "output_type": "stream",
     "text": [
      "+--------+------------+---------------+\n",
      "|artistID|sumPlayCount|           name|\n",
      "+--------+------------+---------------+\n",
      "|    4622|      232945|The Get Up Kids|\n",
      "+--------+------------+---------------+\n",
      "\n",
      "+--------+------------+---------------+\n",
      "|artistID|sumPlayCount|           name|\n",
      "+--------+------------+---------------+\n",
      "|10441043|           1|The Get Up Kids|\n",
      "+--------+------------+---------------+\n",
      "\n"
     ]
    }
   ],
   "source": [
    "newTopArtistsDF2 = newUserArtistDF.groupBy('artistID').agg(sum('playCount').alias('sumPlayCount'))\\\n",
    "                              .join(artistDataDF, newUserArtistDF.artistID == artistDataDF.artistID, how='left_outer')\\\n",
    "                              .orderBy('sumPlayCount', ascending=0)\\\n",
    "                              .drop(artistDataDF.artistID)\n",
    "\n",
    "newTopArtistsDF2[newTopArtistsDF2.artistID==4622].show()\n",
    "newTopArtistsDF2[newTopArtistsDF2.artistID==10441043].show()"
   ]
  },
  {
   "cell_type": "markdown",
   "metadata": {},
   "source": [
    "<font color='blue'>\n",
    "We want now to fix this issue.\n",
    "</font>"
   ]
  },
  {
   "cell_type": "code",
   "execution_count": 37,
   "metadata": {
    "collapsed": false
   },
   "outputs": [
    {
     "name": "stdout",
     "output_type": "stream",
     "text": [
      "+--------------------+------------+\n",
      "|                name|sumPlayCount|\n",
      "+--------------------+------------+\n",
      "|           Radiohead|     2502596|\n",
      "|         The Beatles|     2259825|\n",
      "|           Green Day|     1931143|\n",
      "|           Metallica|     1543430|\n",
      "|    System of a Down|     1426254|\n",
      "|          Pink Floyd|     1399665|\n",
      "|     Nine Inch Nails|     1361977|\n",
      "|        Modest Mouse|     1328969|\n",
      "|         Bright Eyes|     1234773|\n",
      "|             Nirvana|     1203348|\n",
      "|                Muse|     1148684|\n",
      "| Death Cab for Cutie|     1117277|\n",
      "|Red Hot Chili Pep...|     1088701|\n",
      "|       Elliott Smith|     1080542|\n",
      "|           Rammstein|     1047119|\n",
      "|         Linkin Park|     1028921|\n",
      "|                  U2|     1015494|\n",
      "|           Nightwish|     1010869|\n",
      "|            Coldplay|     1001417|\n",
      "|            Interpol|      979770|\n",
      "+--------------------+------------+\n",
      "only showing top 20 rows\n",
      "\n"
     ]
    }
   ],
   "source": [
    "newTopArtistsDF = newUserArtistDF.groupBy('artistID').agg(sum('playCount').alias('sumPlayCount'))\\\n",
    "                              .join(artistDataDF, newUserArtistDF.artistID == artistDataDF.artistID, how='left_outer')\\\n",
    "                              .groupBy('name').agg(sum('sumPlayCount').alias('sumPlayCount'))\\\n",
    "                              .orderBy('sumPlayCount', ascending=0)\n",
    "\n",
    "newTopArtistsDF.show()"
   ]
  },
  {
   "cell_type": "markdown",
   "metadata": {},
   "source": [
    "#### Question 5.2\n",
    "\n",
    "Who are the top-10 artistis?\n",
    "  * In terms of absolute play counts\n",
    "  * In terms of \"audience size\", that is, how many users listened to one of their track at least once\n",
    "  \n",
    "Plot the results, and explain the figures you obtain."
   ]
  },
  {
   "cell_type": "code",
   "execution_count": 44,
   "metadata": {
    "collapsed": false
   },
   "outputs": [
    {
     "data": {
      "image/png": "[encoded data removed]",
      "text/plain": [
       "<matplotlib.figure.Figure at 0x7fdee8a622e8>"
      ]
     },
     "metadata": {},
     "output_type": "display_data"
    }
   ],
   "source": [
    "topArtistsPD = pd.DataFrame(data=newTopArtistsDF.limit(10).collect())\n",
    "counts = topArtistsPD[1].values\n",
    "artists = topArtistsPD[0].values\n",
    "\n",
    "y_pos = np.arange(len(artists))\n",
    "plt.figure(figsize=(12,7))\n",
    "\n",
    "plt.barh(y_pos, counts, align='center', alpha=0.4, color='green')\n",
    "plt.yticks(y_pos, artists)\n",
    "plt.gca().invert_yaxis()\n",
    "plt.xlabel('Play Count')\n",
    "plt.title('Top-10 Artist ID per play counts')\n",
    "plt.show()"
   ]
  },
  {
   "cell_type": "code",
   "execution_count": 39,
   "metadata": {
    "collapsed": false
   },
   "outputs": [
    {
     "name": "stdout",
     "output_type": "stream",
     "text": [
      "+--------------------+--------+\n",
      "|                name|audience|\n",
      "+--------------------+--------+\n",
      "|           Radiohead|   45630|\n",
      "|           Green Day|   43883|\n",
      "|         The Beatles|   40919|\n",
      "|            Coldplay|   38497|\n",
      "|             Nirvana|   36823|\n",
      "|Red Hot Chili Pep...|   36036|\n",
      "|                  U2|   34853|\n",
      "|           Metallica|   32337|\n",
      "|              Weezer|   31951|\n",
      "|           [unknown]|   31324|\n",
      "|     Franz Ferdinand|   30692|\n",
      "|          Pink Floyd|   30661|\n",
      "|         The Killers|   30214|\n",
      "|   The White Stripes|   29804|\n",
      "|            The Cure|   29161|\n",
      "|                Beck|   29153|\n",
      "|        Led Zeppelin|   29117|\n",
      "|              Eminem|   28974|\n",
      "|              R.E.M.|   28885|\n",
      "|               Queen|   28457|\n",
      "+--------------------+--------+\n",
      "only showing top 20 rows\n",
      "\n",
      "+---------------+--------+\n",
      "|           name|audience|\n",
      "+---------------+--------+\n",
      "|The Get Up Kids|    8799|\n",
      "+---------------+--------+\n",
      "\n"
     ]
    }
   ],
   "source": [
    "popularArtistsDF = newUserArtistDF.select('userID', 'artistID').groupBy('artistID').count()\\\n",
    "               .join(artistDataDF, newUserArtistDF.artistID==artistDataDF.artistID, how='left_outer')\\\n",
    "               .groupBy('name').agg(sum('count').alias('audience'))\\\n",
    "               .orderBy('audience', ascending = 0)#.drop('artistID').cache()\n",
    "popularArtistsDF.show() \n",
    "popularArtistsDF[popularArtistsDF.name=='The Get Up Kids'].show()"
   ]
  },
  {
   "cell_type": "markdown",
   "metadata": {},
   "source": [
    "<font color='blue'>\n",
    "Notice that we are now working with names, instead of artist IDs which turned out to be misleading in some cases.\n",
    "</font>"
   ]
  },
  {
   "cell_type": "code",
   "execution_count": 46,
   "metadata": {
    "collapsed": false
   },
   "outputs": [
    {
     "data": {
      "image/png": "[encoded data removed]",
      "text/plain": [
       "<matplotlib.figure.Figure at 0x7fdee877a5c0>"
      ]
     },
     "metadata": {},
     "output_type": "display_data"
    }
   ],
   "source": [
    "sortedPD = pd.DataFrame(data=popularArtistsDF.limit(10).collect())\n",
    "artists = sortedPD[0].values\n",
    "counts = sortedPD[1].values\n",
    "\n",
    "y_pos = np.arange(len(artists))\n",
    "plt.figure(figsize=(12,7))\n",
    "\n",
    "plt.barh(y_pos, counts, align='center', alpha=0.4, color='green')\n",
    "plt.yticks(y_pos, artists)\n",
    "plt.gca().invert_yaxis()\n",
    "plt.xlabel('Play Count')\n",
    "plt.title('Top-10 Artist ID per audience')\n",
    "plt.show()"
   ]
  },
  {
   "cell_type": "markdown",
   "metadata": {},
   "source": [
    "<font color='blue'>\n",
    "We notice that having a lot of plays does not mean being popular. The Green Day seems to have a wider audience compared to The Beatles. This is reasonable because maybe The Beatles are listened from always the same people, while the Green Day may be played by young teenagers that talk to each other and share their music rapidly. Same goes for Pink Floyd, Nine Inch Nails, Modest Mouse, Bright Eyes that are replaced by U2 and RHCP. It's funny, but also worrying for our recommender system, that we have the artist '[unknown]' among the most populars. This means we're still dealing with 'dirty' data.\n",
    "</font>"
   ]
  },
  {
   "cell_type": "markdown",
   "metadata": {},
   "source": [
    "<font color='blue'>\n",
    "A part from some small changes in the ranking, the previous two graphs show almost the same artist names. So we think it's worth and maybe more meaningful investigating on a different indicator: the ratio between the number of different users that played an artist and the total play counts of that artist.\n",
    "</font>"
   ]
  },
  {
   "cell_type": "code",
   "execution_count": 40,
   "metadata": {
    "collapsed": false
   },
   "outputs": [
    {
     "name": "stdout",
     "output_type": "stream",
     "text": [
      "+------------+--------------------+--------+\n",
      "|sumPlayCount|                name|audience|\n",
      "+------------+--------------------+--------+\n",
      "|     2502596|           Radiohead|   45630|\n",
      "|     2259825|         The Beatles|   40919|\n",
      "|     1931143|           Green Day|   43883|\n",
      "|     1543430|           Metallica|   32337|\n",
      "|     1426254|    System of a Down|   27199|\n",
      "|     1399665|          Pink Floyd|   30661|\n",
      "|     1361977|     Nine Inch Nails|   25410|\n",
      "|     1328969|        Modest Mouse|   27731|\n",
      "|     1234773|         Bright Eyes|   22159|\n",
      "|     1203348|             Nirvana|   36823|\n",
      "|     1148684|                Muse|   26598|\n",
      "|     1117277| Death Cab for Cutie|   23027|\n",
      "|     1088701|Red Hot Chili Pep...|   36036|\n",
      "|     1080542|       Elliott Smith|   19385|\n",
      "|     1047119|           Rammstein|   24062|\n",
      "|     1028921|         Linkin Park|   26581|\n",
      "|     1015494|                  U2|   34853|\n",
      "|     1010869|           Nightwish|   14838|\n",
      "|     1001417|            Coldplay|   38497|\n",
      "|      979770|            Interpol|   24477|\n",
      "+------------+--------------------+--------+\n",
      "only showing top 20 rows\n",
      "\n"
     ]
    }
   ],
   "source": [
    "relAudienceArtistsDF = newTopArtistsDF\\\n",
    "                        .join(popularArtistsDF, popularArtistsDF.name==newTopArtistsDF.name, how='left_outer')\\\n",
    "                        .drop(popularArtistsDF.name)\n",
    "relAudienceArtistsDF.orderBy('sumPlayCount', ascending=0).show()"
   ]
  },
  {
   "cell_type": "code",
   "execution_count": 41,
   "metadata": {
    "collapsed": false
   },
   "outputs": [],
   "source": [
    "relAudienceArtistsRDD = relAudienceArtistsDF.rdd.filter(lambda x: (x[2] is not None and x[0] is not None))\\\n",
    "                                                .map(lambda x: (x[1], x[0], float(x[2])/float(x[0])))"
   ]
  },
  {
   "cell_type": "code",
   "execution_count": 42,
   "metadata": {
    "collapsed": false
   },
   "outputs": [
    {
     "name": "stdout",
     "output_type": "stream",
     "text": [
      "+--------------------+------------+-----------+\n",
      "|              artist|sumPlayCount|relAudience|\n",
      "+--------------------+------------+-----------+\n",
      "|               )Eib(|        1612| 0.14764269|\n",
      "|              *NSYNC|       47941|0.097682565|\n",
      "|              5 Bugs|         895|0.045810055|\n",
      "|          63 Crayons|         541| 0.09242144|\n",
      "|? And the Mysterians|        1508| 0.25132626|\n",
      "|            Abruptum|        1759|0.107447416|\n",
      "| Agents & Ville Valo|        1164|  0.1176976|\n",
      "|              Amulet|        3143| 0.06745148|\n",
      "|      Anais Mitchell|         770|0.045454547|\n",
      "|         André Hazes|        9424| 0.07003395|\n",
      "|             Anodyne|        2254|0.071428575|\n",
      "|            Art Zoyd|         751| 0.07989348|\n",
      "|         Ashley Park|         808| 0.16584158|\n",
      "|          B! Machine|        1707| 0.07088459|\n",
      "|                 BGM|        4229|0.046346653|\n",
      "|          Baby Chaos|         704| 0.04403409|\n",
      "|     Barbie's Cradle|        1046|0.043977056|\n",
      "|           Batmobile|        4295|0.050291035|\n",
      "|            Beezewax|        1874|0.060298827|\n",
      "|           Bellgrave|         573|0.013961606|\n",
      "+--------------------+------------+-----------+\n",
      "only showing top 20 rows\n",
      "\n"
     ]
    }
   ],
   "source": [
    "relAudienceSchema = StructType([ \\\n",
    "    StructField(\"artist\", StringType(), True), \\\n",
    "    StructField(\"sumPlayCount\", IntegerType(), True), \\\n",
    "    StructField(\"relAudience\", FloatType(), True)])\n",
    "relAudienceDF = sqlContext.createDataFrame(relAudienceArtistsRDD, relAudienceSchema)\n",
    "famousArtistsRelAudienceDF = relAudienceDF.filter(relAudienceDF.sumPlayCount > 500)\n",
    "famousArtistsRelAudienceDF.show()"
   ]
  },
  {
   "cell_type": "code",
   "execution_count": 39,
   "metadata": {
    "collapsed": false
   },
   "outputs": [
    {
     "name": "stdout",
     "output_type": "stream",
     "text": [
      "+--------------------+------------+-----------+\n",
      "|              artist|sumPlayCount|relAudience|\n",
      "+--------------------+------------+-----------+\n",
      "|           Radiohead|     2502596|0.018233066|\n",
      "|         The Beatles|     2259825|0.018107153|\n",
      "|           Green Day|     1931143|0.022723848|\n",
      "|           Metallica|     1543430|0.020951388|\n",
      "|    System of a Down|     1426254|0.019070236|\n",
      "|          Pink Floyd|     1399665|0.021905957|\n",
      "|     Nine Inch Nails|     1361977|0.018656703|\n",
      "|        Modest Mouse|     1328969|0.020866552|\n",
      "|         Bright Eyes|     1234773| 0.01794581|\n",
      "|             Nirvana|     1203348|0.030600458|\n",
      "|                Muse|     1148684|0.023155194|\n",
      "| Death Cab for Cutie|     1117277| 0.02060993|\n",
      "|Red Hot Chili Pep...|     1088701|0.033099998|\n",
      "|       Elliott Smith|     1080542| 0.01794007|\n",
      "|           Rammstein|     1047119| 0.02297924|\n",
      "|         Linkin Park|     1028921|0.025833858|\n",
      "|                  U2|     1015494|0.034321226|\n",
      "|           Nightwish|     1010869| 0.01467846|\n",
      "|            Coldplay|     1001417|0.038442526|\n",
      "|            Interpol|      979770|0.024982395|\n",
      "+--------------------+------------+-----------+\n",
      "only showing top 20 rows\n",
      "\n"
     ]
    }
   ],
   "source": [
    "famousArtistsRelAudienceDF.orderBy('sumPlayCount', ascending=0).show()"
   ]
  },
  {
   "cell_type": "code",
   "execution_count": 40,
   "metadata": {
    "collapsed": false
   },
   "outputs": [
    {
     "name": "stdout",
     "output_type": "stream",
     "text": [
      "+--------------------+------------+-----------+\n",
      "|              artist|sumPlayCount|relAudience|\n",
      "+--------------------+------------+-----------+\n",
      "|    iPodder Dev Team|         224|     0.9375|\n",
      "|  ATX Records Clique|          72|  0.8333333|\n",
      "|Sony Pictures Ent...|         115| 0.82608694|\n",
      "|     Nino Astronauta|          63| 0.82539684|\n",
      "|    Hot Young Priest|          62| 0.82258064|\n",
      "|            DJ Panko|          67|  0.8208955|\n",
      "|    The day after...|          60| 0.81666666|\n",
      "|              Dubtex|          59|  0.8135593|\n",
      "|      The Good Looks|          58|  0.8103448|\n",
      "|          David Holt|          73|  0.8082192|\n",
      "|Veronica Lipgloss...|          57| 0.80701756|\n",
      "|        Lise Liddell|          56|  0.8035714|\n",
      "|Webb Wilder & The...|          66|  0.8030303|\n",
      "|          Kevin Kelm|          76| 0.80263156|\n",
      "| Conspiracion Alfa 5|          70|        0.8|\n",
      "|The Chris Vestre ...|          57|  0.7894737|\n",
      "|            Shikasta|          64|    0.78125|\n",
      "|    Jessie and Layla|          59|   0.779661|\n",
      "|            Dark Fog|          81|  0.7777778|\n",
      "|         Hilary York|          76|  0.7763158|\n",
      "+--------------------+------------+-----------+\n",
      "only showing top 20 rows\n",
      "\n"
     ]
    }
   ],
   "source": [
    "famousArtistsRelAudienceDF.orderBy('relAudience', ascending=0).show()"
   ]
  },
  {
   "cell_type": "markdown",
   "metadata": {},
   "source": [
    "<font color='blue'>\n",
    "These results give us some indication about the attractiveness of an artist and its ability to \"connect\" the audience. In fact, if this ratio tends to 1, this means that users are getting annoyed after a few songs. On the other hand, if the ratio is near to 0, the artist is likely possible to have a loyal and faithful audience. \n",
    "\n",
    "In a song-oriented recommending system, this indicator may be used to avoid recommending songs one after the other from the same artist.\n",
    "</font>"
   ]
  },
  {
   "cell_type": "markdown",
   "metadata": {},
   "source": [
    "#### Question 5.3\n",
    "\n",
    "Who are the top-10 users?\n",
    "  * In terms of absolute play counts\n",
    "  * In terms of \"curiosity\", that is, how many different artists they listened to\n",
    "\n",
    "Plot the results"
   ]
  },
  {
   "cell_type": "markdown",
   "metadata": {},
   "source": [
    "<font color='blue'> \n",
    "We have already provided the numbers of absolute play counts for the top-10 users in answer 2.1.\n",
    "</font>"
   ]
  },
  {
   "cell_type": "code",
   "execution_count": 43,
   "metadata": {
    "collapsed": false
   },
   "outputs": [],
   "source": [
    "curiousUsersDF = newUserArtistDF.select('userID', 'artistID').groupBy('userID').count()\\\n",
    "               .orderBy('count', ascending = 0).cache()"
   ]
  },
  {
   "cell_type": "code",
   "execution_count": 53,
   "metadata": {
    "collapsed": false
   },
   "outputs": [
    {
     "data": {
      "image/png": "[encoded data removed]",
      "text/plain": [
       "<matplotlib.figure.Figure at 0x7fdee8076e10>"
      ]
     },
     "metadata": {},
     "output_type": "display_data"
    }
   ],
   "source": [
    "curiousUsersPD = pd.DataFrame(data=curiousUsersDF.limit(10).collect())\n",
    "users = curiousUsersPD[0].values\n",
    "counts = curiousUsersPD[1].values\n",
    "\n",
    "y_pos = np.arange(len(artists))\n",
    "plt.figure(figsize=(12,7))\n",
    "\n",
    "plt.barh(y_pos, counts, align='center', alpha=0.4, color='green')\n",
    "plt.yticks(y_pos, users)\n",
    "plt.gca().invert_yaxis()\n",
    "plt.xlabel('Play Count')\n",
    "plt.title('Top-10 User ID per curiosity')\n",
    "plt.show()"
   ]
  },
  {
   "cell_type": "markdown",
   "metadata": {},
   "source": [
    "<font color='blue'>\n",
    "We can now study a bit more this last result: are these curious users also the most active users?\n",
    "Let's create a ranking for the most curious users and a ranking for the most active users and then combine them together to see some interesting results.\n",
    "</font>"
   ]
  },
  {
   "cell_type": "code",
   "execution_count": 44,
   "metadata": {
    "collapsed": false
   },
   "outputs": [
    {
     "name": "stdout",
     "output_type": "stream",
     "text": [
      "+-------+-----------+-------------+\n",
      "| userID|artistCount|curiosityRank|\n",
      "+-------+-----------+-------------+\n",
      "|2030067|       6735|            1|\n",
      "|1024631|       6125|            2|\n",
      "|1059334|       5839|            3|\n",
      "|2016026|       5773|            4|\n",
      "|2023686|       4822|            5|\n",
      "+-------+-----------+-------------+\n",
      "only showing top 5 rows\n",
      "\n"
     ]
    }
   ],
   "source": [
    "userCuriosityRankSchema = StructType([ \\\n",
    "    StructField(\"userID\", LongType(), True), \\\n",
    "    StructField(\"artistCount\", IntegerType(), True),\\\n",
    "    StructField(\"curiosityRank\", LongType(), True)])\n",
    "\n",
    "userCuriosityRankedRDD = curiousUsersDF.orderBy('count', ascending=0)\\\n",
    "                                    .rdd.zipWithIndex().map(lambda x : (x[0][0], x[0][1], x[1]+1))\n",
    "\n",
    "userCuriosityRankedDF = sqlContext.createDataFrame(userCuriosityRankedRDD, userCuriosityRankSchema)\n",
    "userCuriosityRankedDF.show(5)"
   ]
  },
  {
   "cell_type": "code",
   "execution_count": 49,
   "metadata": {
    "collapsed": false
   },
   "outputs": [
    {
     "name": "stdout",
     "output_type": "stream",
     "text": [
      "+-------+---------+------------+\n",
      "| userID|playCount|activityRank|\n",
      "+-------+---------+------------+\n",
      "|1059637|   674412|           1|\n",
      "|2064012|   548427|           2|\n",
      "|2069337|   393515|           3|\n",
      "|2023977|   285978|           4|\n",
      "|1046559|   183972|           5|\n",
      "+-------+---------+------------+\n",
      "only showing top 5 rows\n",
      "\n"
     ]
    }
   ],
   "source": [
    "userActivityRankSchema = StructType([ \\\n",
    "    StructField(\"userID\", LongType(), True), \\\n",
    "    StructField(\"playCount\", IntegerType(), True),\\\n",
    "    StructField(\"activityRank\", LongType(), True)])\n",
    "\n",
    "userActivityRankedRDD = userActivity.orderBy('sum(playCount)', ascending=0)\\\n",
    "                                    .rdd.zipWithIndex().map(lambda x : (x[0][0], x[0][1], x[1]+1))\n",
    "\n",
    "userActivityRankedDF = sqlContext.createDataFrame(userActivityRankedRDD, userActivityRankSchema)\n",
    "userActivityRankedDF.show(5)"
   ]
  },
  {
   "cell_type": "code",
   "execution_count": 50,
   "metadata": {
    "collapsed": false
   },
   "outputs": [],
   "source": [
    "curiousActiveRankDF = userActivityRankedDF\\\n",
    "                            .join(userCuriosityRankedDF, userActivityRankedDF.userID == userCuriosityRankedDF.userID)\\\n",
    "                            .drop(userCuriosityRankedDF.userID)\n",
    "\n",
    "curiousActiveRankDF = curiousActiveRankDF\\\n",
    "            .select(curiousActiveRankDF.userID, curiousActiveRankDF.activityRank, curiousActiveRankDF.curiosityRank, \\\n",
    "                    curiousActiveRankDF.playCount, curiousActiveRankDF.artistCount)\\\n",
    "            .cache()"
   ]
  },
  {
   "cell_type": "markdown",
   "metadata": {},
   "source": [
    "<font color='blue'>\n",
    "Let's see how the most active users perform in terms of curiosity...\n",
    "</font>"
   ]
  },
  {
   "cell_type": "code",
   "execution_count": 55,
   "metadata": {
    "collapsed": false
   },
   "outputs": [
    {
     "name": "stdout",
     "output_type": "stream",
     "text": [
      "+-------+------------+-------------+---------+-----------+\n",
      "| userID|activityRank|curiosityRank|playCount|artistCount|\n",
      "+-------+------------+-------------+---------+-----------+\n",
      "|1059637|           1|        16857|   674412|        359|\n",
      "|2064012|           2|        95555|   548427|         57|\n",
      "|2069337|           3|        28615|   393515|        257|\n",
      "|2023977|           4|        89317|   285978|         67|\n",
      "|1046559|           5|         1250|   183972|       1068|\n",
      "|1052461|           6|        31132|   175822|        241|\n",
      "|1070932|           7|        63681|   168977|        120|\n",
      "|1031009|           8|         3400|   167273|        738|\n",
      "|2020513|           9|        62615|   165642|        122|\n",
      "|2062243|          10|         3354|   151504|        742|\n",
      "+-------+------------+-------------+---------+-----------+\n",
      "only showing top 10 rows\n",
      "\n"
     ]
    }
   ],
   "source": [
    "curiousActiveRankDF.orderBy(curiousActiveRankDF.activityRank, ascending=1).show(10)"
   ]
  },
  {
   "cell_type": "markdown",
   "metadata": {},
   "source": [
    "<font color='blue'>\n",
    "Even if the most active users listened to a lot of different artists, we can definitely say that they are not among the most curious users.\n",
    "What about the inverse?\n",
    "</font>"
   ]
  },
  {
   "cell_type": "code",
   "execution_count": 56,
   "metadata": {
    "collapsed": false
   },
   "outputs": [
    {
     "name": "stdout",
     "output_type": "stream",
     "text": [
      "+-------+------------+-------------+---------+-----------+\n",
      "| userID|activityRank|curiosityRank|playCount|artistCount|\n",
      "+-------+------------+-------------+---------+-----------+\n",
      "|2030067|        1267|            1|    23054|       6735|\n",
      "|1024631|          15|            2|   122316|       6125|\n",
      "|1059334|          32|            3|    80486|       5839|\n",
      "|2016026|          90|            4|    58967|       5773|\n",
      "|2023686|          31|            5|    80488|       4822|\n",
      "|1045464|         127|            6|    53202|       4734|\n",
      "|1004584|         432|            7|    35315|       4690|\n",
      "|2010008|          35|            8|    77724|       4411|\n",
      "|2232770|        1594|            9|    20887|       4090|\n",
      "|1006093|        1639|           10|    20638|       4005|\n",
      "+-------+------------+-------------+---------+-----------+\n",
      "only showing top 10 rows\n",
      "\n"
     ]
    }
   ],
   "source": [
    "curiousActiveRankDF.orderBy(curiousActiveRankDF.curiosityRank, ascending=1).show(10)"
   ]
  },
  {
   "cell_type": "markdown",
   "metadata": {},
   "source": [
    "<font color='blue'>\n",
    "Here we have a more diverse risult: we have some of the most curious users which are also quite active, not in the top 10 though. The second most curious user is 15th in terms of activity, but the most curious user scores pretty bad in activity (only 1267th).\n",
    "</font>"
   ]
  },
  {
   "cell_type": "markdown",
   "metadata": {},
   "source": [
    "<font color='blue'>\n",
    "Let's plot the distribution of curiosity among users.\n",
    "</font>"
   ]
  },
  {
   "cell_type": "code",
   "execution_count": 60,
   "metadata": {
    "collapsed": false
   },
   "outputs": [
    {
     "data": {
      "image/png": "[encoded data removed]",
      "text/plain": [
       "<matplotlib.figure.Figure at 0x7ff1616412b0>"
      ]
     },
     "metadata": {},
     "output_type": "display_data"
    }
   ],
   "source": [
    "pdf = pd.DataFrame(data=curiousActiveRankDF.select('userID', 'artistCount').collect())\n",
    "Y= np.sort(pdf[1] )\n",
    "yvals=np.arange(len(Y))/float(len(Y))\n",
    "\n",
    "plt.figure(figsize=(15,10))\n",
    "\n",
    "plt.subplot(211)\n",
    "plt.semilogx(Y, yvals)\n",
    "plt.xlabel('Play Counts')\n",
    "plt.ylabel('ECDF')\n",
    "plt.grid(True,which=\"both\",ls=\"-\")\n",
    "plt.title('ECDF of artist counts per user - [Log]')\n",
    "\n",
    "plt.subplot(212)\n",
    "plt.plot( Y, yvals )\n",
    "plt.xlabel('Play Counts')\n",
    "plt.ylabel('ECDF')\n",
    "plt.grid(True,which=\"both\",ls=\"-\")\n",
    "plt.title('ECDF of artist counts per user - [Lin]')\n",
    "plt.axis([0,400,0,.9])\n",
    "\n",
    "plt.show()"
   ]
  },
  {
   "cell_type": "markdown",
   "metadata": {},
   "source": [
    "<font color='blue'>\n",
    "From these plots, we can say that the majority (~90%) of users listened less than 400 different artists. This give us some indication on the average curiosity of a user.\n",
    "</font>"
   ]
  },
  {
   "cell_type": "markdown",
   "metadata": {},
   "source": [
    "<font color='blue'>\n",
    "For visulization purposes, here we plot the distribution of users according to their cumulative counts on songs played and different artists.\n",
    "</font>"
   ]
  },
  {
   "cell_type": "code",
   "execution_count": 71,
   "metadata": {
    "collapsed": false
   },
   "outputs": [],
   "source": [
    "userRank = curiousActiveRankDF.select('userID', 'playCount', 'artistCount').collect()\n",
    "userRank = list(zip(*[f for f in userRank[0:1000]]))"
   ]
  },
  {
   "cell_type": "code",
   "execution_count": 86,
   "metadata": {
    "collapsed": false
   },
   "outputs": [
    {
     "name": "stderr",
     "output_type": "stream",
     "text": [
      "/opt/conda/lib/python3.5/site-packages/matplotlib/collections.py:590: FutureWarning: elementwise comparison failed; returning scalar instead, but in the future will perform elementwise comparison\n",
      "  if self._edgecolors == str('face'):\n"
     ]
    },
    {
     "data": {
      "image/png": "[encoded data removed]",
      "text/plain": [
       "<matplotlib.figure.Figure at 0x7f563e03edd8>"
      ]
     },
     "metadata": {},
     "output_type": "display_data"
    }
   ],
   "source": [
    "fig = plt.figure(figsize=(15,10) )\n",
    "ax = fig.add_subplot(111)\n",
    "\n",
    "ax.scatter(userRank[1], userRank[2])\n",
    "ax.set_xlabel('playCount', fontsize=20)\n",
    "ax.set_ylabel('artistCount', fontsize=20)\n",
    "ax.set_ylim(top=1000, bottom=0)#1000\n",
    "ax.set_xlim(right=5000, left=0)#5000\n",
    "plt.title('User distribution in the \\\"count\\\" space', fontsize=30)\n",
    "\n",
    "plt.show()"
   ]
  },
  {
   "cell_type": "markdown",
   "metadata": {},
   "source": [
    "<font color='blue'>\n",
    "A single point in this graph represents a user of our dataset: in the y axis we have how many different artists she played, while in the x axis how many play counts she has.\n",
    "This plot has been limited to the useful region of interest where the majority of users lie.\n",
    "<br><br>\n",
    "We can try to spot some trends in the user activity and we can make some judgements on the correlation between these two features.\n",
    "<br><br>\n",
    "If we image a cone starting from the origin, going to the upper right direction, the more this cone is thin, the higher the correlation is. With this dataset, we have a very wide cone which means the correlation is low. The samples proving this lie on the lower right corner. Looking for improvements for increasing the accuracy of the recommending system, unfortunately, it seems useless to consider this information.\n",
    "</font>"
   ]
  },
  {
   "cell_type": "markdown",
   "metadata": {},
   "source": [
    "Now we have some valuable information about the data. It's the time to study how to build a statistical models."
   ]
  },
  {
   "cell_type": "markdown",
   "metadata": {},
   "source": [
    "# 2. Build a statistical models to make recommendations\n",
    "\n",
    "## 2.1 Introduction to recommender systems\n",
    "\n",
    "In a recommendation-system application there are two classes of entities, which we shall refer to as `users` and `items`. Users have preferences for certain items, and these preferences must be inferred from the data. The data itself is represented as a `preference matrix` $A$, giving for each user-item pair, a value that represents what is known about the degree of preference of that user for that item. The table below is an example for a `preference matrix` of 5 users and `k` items. The `preference matrix` is also known as `utility matrix`.\n",
    "\n",
    "| | IT1 | IT2 | IT3 | ... | ITk |\n",
    "|---|---|---|---|---|---|\n",
    "| U1 | 1 |  | 5 | ... | 3 |\n",
    "| U2 |  | 2 |  | ... | 2 |\n",
    "| U3 | 5 |  | 3 | ... |  |\n",
    "| U4 | 3 | 3 |  | ... | 4 |\n",
    "| U5 |  | 1 |  | ... |  |\n",
    "\n",
    "The value of row i, column j expresses how much does user `i` like item `j`. The values are often the rating scores of users for items. An unknown value implies that we have no explicit information about the user's preference for the item. The goal of a recommendation system is to predict \"the blanks\" in the `preference matrix`. For example, assume that the rating score is from 1 (dislike) to 5 (love), would user `U5` like `IT3` ? We have two approaches:\n",
    "\n",
    "* Designing our recommendation system to take into account properties of items such as brand, category, price... or even the similarity of their names. We can denote the similarity of items `IT2` and `IT3`, and then conclude that because user `U5` did not like `IT2`, they were unlikely to enjoy SW2 either.\n",
    "\n",
    "* We might observe that the people who rated both `IT2` and `IT3` tended to give them similar ratings. Thus, we could conclude that user `U5` would also give `IT3` a low rating, similar to `U5`'s rating of `IT2`\n",
    "\n",
    "It is not necessary to predict every blank entry in a `utility matrix`. Rather, it is only necessary to discover some entries in each row that are likely to be high. In most applications, the recommendation system does not oﬀer users a ranking of all items, but rather suggests a few that the user should value highly. It may not even be necessary to ﬁnd all items with the highest expected ratings, but only to ﬁnd a large subset of those with the highest ratings.\n",
    "\n",
    "\n",
    "## 2.2 Families of recommender systems\n",
    "\n",
    "In general, recommender systems can be categorized into two groups:\n",
    "\n",
    "* **Content-Based** systems focus on properties of items. Similarity of items is determined by measuring the similarity in their properties.\n",
    "\n",
    "* **Collaborative-Filtering** systems focus on the relationship between users and items. Similarity of items is determined by the similarity of the ratings of those items by the users who have rated both items.\n",
    "\n",
    "In the usecase of this notebook, artists take the role of `items`, and `users` keep the same role as `users`.\n",
    "Since we have no information about `artists`, except their names, we cannot build a `content-based` recommender system.\n",
    "\n",
    "Therefore, in the rest of this notebook, we only focus on `Collaborative-Filtering` algorithms.\n",
    "\n",
    "## 2.3 Collaborative-Filtering \n",
    "In this section, we study a member of a broad class of algorithms called `latent-factor` models. They try to explain observed interactions between large numbers of users and products through a relatively small number of unobserved, underlying reasons. It is analogous to explaining why millions of people buy a particular few of thousands of possible albums by describing users and albums in terms of tastes for perhaps tens of genres, tastes which are **not directly observable or given** as data. \n",
    "\n",
    "First, we formulate the learning problem as a matrix completion problem. Then, we will use a type of `matrix factorization` model to \"fill in\" the blanks.  We are given implicit ratings that users have given certain items (that is, the number of times they played a particular artist) and our goal is to predict their ratings for the rest of the items. Formally, if there are $n$ users and $m$ items, we are given an $n \\times m$ matrix $R$ in which the generic entry $(u, i)$ represents the rating for item $i$ by user $u$. **Matrix $R$ has many missing entries indicating unobserved ratings, and our task is to estimate these unobserved ratings**.\n",
    "\n",
    "A popular approach to the matrix completion problem is **matrix factorization**, where we want to \"summarize\" users and items with their **latent factors**.\n",
    "\n",
    "### 2.3.1 Basic idea and an example of Matrix Factorization\n",
    "For example, given a preference matrix 5x5 as below, we want to approximate this matrix into the product of two smaller matrixes $X$ and $Y$ .\n",
    "\n",
    "$$\n",
    "M = \n",
    "\\begin{bmatrix}\n",
    " 5 & 2 & 4 & 4 & 3 \\\\\n",
    " 3 & 1 & 2 & 4 & 1 \\\\\n",
    " 2 &  & 3 & 1 & 4 \\\\\n",
    " 2 & 5 & 4 & 3 & 5 \\\\\n",
    " 4 & 4 & 5 & 4 &  \\\\\n",
    "\\end{bmatrix}\n",
    "\\approx M^\\prime =\n",
    "\\begin{bmatrix}\n",
    " x_{11} & x_{12} \\\\\n",
    " x_{21} & x_{22} \\\\\n",
    " x_{31} & x_{32} \\\\\n",
    " x_{41} & x_{42} \\\\\n",
    " x_{51} & x_{52} \\\\\n",
    "\\end{bmatrix}\n",
    "\\times\n",
    "\\begin{bmatrix}\n",
    " y_{11} & y_{12} & y_{13} & y_{14} & y_{15} \\\\\n",
    " y_{21} & y_{22} & y_{23} & y_{24} & y_{25} \\\\\n",
    "\\end{bmatrix}\n",
    "$$\n",
    "\n",
    "$M^\\prime$ is an approximation that is as close to A as possible. To calculate how far from $M$ $M^\\prime$ is, we often calculate the sum of squared distances of non-empty elements in $M$ and the corresponding elements in $M^\\prime$.\n",
    "In this way, for $M^\\prime$, besides the approximated elements in $M$, we also have the non-observed elements. Therefore, to see how much does user `i` like item `j`, we simply pick up the value of $M^\\prime_{i,j}$.\n",
    "\n",
    "The challenge is how to calculate $X$ and $Y$. The bad news is that this can't be solved directly for both the best $X$ and best $Y$ at the same time. Fortunately, if $Y$ is known, we can calculate the best of $X$, and vice versa. It means from the initial values of $X$ and $Y$ in the beginning, we calculate best $X$ according to $Y$, and then calculate the best $Y$ according to the new $X$. This process is repeated until the distance from $XY$ to $M$ is converged. It's simple, right ?\n",
    "\n",
    "Let's take an example. To compute the approximation for the above 5x5 matrix $M$, first, we init the value of $X$ and $Y$ as below.\n",
    "\n",
    "$$\n",
    "M^\\prime = X \\times Y =\n",
    "\\begin{bmatrix}\n",
    " 1 & 1 \\\\\n",
    " 1 & 1 \\\\\n",
    " 1 & 1 \\\\\n",
    " 1 & 1 \\\\\n",
    " 1 & 1 \\\\\n",
    "\\end{bmatrix}\n",
    "\\times\n",
    "\\begin{bmatrix}\n",
    " 1 & 1 & 1 & 1 & 1 \\\\\n",
    " 1 & 1 & 1 & 1 & 1 \\\\\n",
    "\\end{bmatrix}\n",
    "=\n",
    "\\begin{bmatrix}\n",
    " 2 & 2 & 2 & 2 & 2 \\\\\n",
    " 2 & 2 & 2 & 2 & 2 \\\\\n",
    " 2 & 2 & 2 & 2 & 2 \\\\\n",
    " 2 & 2 & 2 & 2 & 2 \\\\\n",
    " 2 & 2 & 2 & 2 & 2 \\\\\n",
    "\\end{bmatrix}\n",
    "$$\n",
    "\n",
    "With the initial iteration, we calculate the the Root-Mean-Square Error from $XY$ to $M$.\n",
    "\n",
    "Consider the ﬁrst rows of $M$ and $XY$ . We subtract the first row from $XY$ from the entries in the ﬁrst row of $M$, to get $3,0,2,2,1$. We square and sum these to get $18$. \n",
    "\n",
    "In the second row, we do the same to get $1,−1,0,2,−1$, square and sum to get $7$. \n",
    "\n",
    "In the third row, the second column is blank, so that entry is ignored when computing the RMSE. The diﬀerences are $0,1,−1,2$ and the sum of squares is $6$. \n",
    "\n",
    "For the fourth row, the diﬀerences are $0,3,2,1,3$ and the sum of squares is $23$. \n",
    "\n",
    "The ﬁfth row has a blank entry in the last column, so the diﬀerences are $2,2,3,2$ and the sum of squares is $21$. \n",
    "\n",
    "When we sum the sums from each of the ﬁve rows, we get $18+7+6+23+21 = 75$. So, $RMSE=\\sqrt{75/23}=1.806$ where $23$ is the number of non-empty values in $M$.\n",
    "\n",
    "Next, with the given value of $Y$, we calculate $X$ by finding the best value for $X_{11}$.\n",
    "\n",
    "$$\n",
    "M^\\prime = X \\times Y =\n",
    "\\begin{bmatrix}\n",
    " x & 1 \\\\\n",
    " 1 & 1 \\\\\n",
    " 1 & 1 \\\\\n",
    " 1 & 1 \\\\\n",
    " 1 & 1 \\\\\n",
    "\\end{bmatrix}\n",
    "\\times\n",
    "\\begin{bmatrix}\n",
    " 1 & 1 & 1 & 1 & 1 \\\\\n",
    " 1 & 1 & 1 & 1 & 1 \\\\\n",
    "\\end{bmatrix}\n",
    "=\n",
    "\\begin{bmatrix}\n",
    " x+1 & x+1 & x+1 & x+1 & x+1 \\\\\n",
    " 2 & 2 & 2 & 2 & 2 \\\\\n",
    " 2 & 2 & 2 & 2 & 2 \\\\\n",
    " 2 & 2 & 2 & 2 & 2 \\\\\n",
    " 2 & 2 & 2 & 2 & 2 \\\\\n",
    "\\end{bmatrix}\n",
    "$$\n",
    "\n",
    "Now, to minimize the $RMSE$  we minimize the difference of the first rows $(5−(x+1))^2 + (2−(x+1))^2 + (4−(x+1))^2 + (4−(x+1))^2 + (3−(x+1))^2$. By  taking the derivative and set that equal to 0, we pick $x=2.6$\n",
    "\n",
    "Given the new value of $X$, we can calculate the best value for $Y$.\n",
    "\n",
    "$$\n",
    "M^\\prime = X \\times Y =\n",
    "\\begin{bmatrix}\n",
    " 2.6 & 1 \\\\\n",
    " 1 & 1 \\\\\n",
    " 1 & 1 \\\\\n",
    " 1 & 1 \\\\\n",
    " 1 & 1 \\\\\n",
    "\\end{bmatrix}\n",
    "\\times\n",
    "\\begin{bmatrix}\n",
    " y & 1 & 1 & 1 & 1 \\\\\n",
    " 1 & 1 & 1 & 1 & 1 \\\\\n",
    "\\end{bmatrix}\n",
    "=\n",
    "\\begin{bmatrix}\n",
    " 3.6 & 3.6 & 3.6 & 3.6 & 3.6 \\\\\n",
    " 2 & 2 & 2 & 2 & 2 \\\\\n",
    " 2 & 2 & 2 & 2 & 2 \\\\\n",
    " 2 & 2 & 2 & 2 & 2 \\\\\n",
    " 2 & 2 & 2 & 2 & 2 \\\\\n",
    "\\end{bmatrix}\n",
    "$$\n",
    "\n",
    "By doing the same process as before, we can pick value for $y=1.617$. After that, we can check if the $RMSE$ is not converged, we continue to update $X$ by $Y$ and vice versa. In this example, for simple, we only update one element of each matrix in each iteration. In practice, we can update a full row or full matrix at once.\n"
   ]
  },
  {
   "cell_type": "markdown",
   "metadata": {},
   "source": [
    "### 2.3.2 Matrix Factorization: Objective and ALS Algorithm on a Single Machine\n",
    "\n",
    "More formally, in general, we select $k$ latent features, and describe each user $u$ with a $k-$dimensional vector $x_u$, and each item $i$ with a $k-$dimensional vector $y_i$.\n",
    "\n",
    "Then, to predict user $u$'s rating for item $i$, we do as follows: $ r_{ui} \\approx x_{u}^{T}y_i$.\n",
    "\n",
    "This can be put, more elegantly, in a matrix form. Let $x_1, \\cdots x_n \\in \\mathbb{R}^k$ be the factors for the users, and $y_1, \\cdots y_m \\in \\mathbb{R}^k$ the factors for the items. The $k \\times n$ user matrix $X$ and the $k \\times m$ item matrix $Y$ are then defined by:\n",
    "\n",
    "$$\n",
    "X = \n",
    "\\begin{bmatrix}\n",
    " |   &         & |  \\\\\n",
    "x_1  &  \\cdots & x_n\\\\\n",
    " |   &         & |  \\\\\n",
    "\\end{bmatrix}\n",
    "$$\n",
    "\n",
    "$$\n",
    "Y = \n",
    "\\begin{bmatrix}\n",
    " |   &         & |  \\\\\n",
    "y_1  &  \\cdots & y_i\\\\\n",
    " |   &         & |  \\\\\n",
    "\\end{bmatrix}\n",
    "$$\n",
    "\n",
    "Our goal is to estimate the complete ratings matrix $R \\approx X^{T} Y$. We can formulate this problem as an optimization problem in which we aim to minimize an objective function and find optimal $X$ and $Y$ . In particular, we aim to minimize the least squares error of the observed ratings (and regularize):\n",
    "\n",
    "$$\n",
    "\\min_{X,Y} \\sum_{r_{ui} \\text{observed}}(r_{ui} - x_{u}^{T}y_i)^2 + \\lambda \\left( \\sum_{u} \\|x_u\\|^2 + \\sum_{i} \\|y_i\\|^2 \\right) \n",
    "$$\n",
    "\n",
    "Notice that this objective is non-convex (because of the $x_{u}^{T} y_i$ term); in fact it’s NP-hard to optimize. Gradient descent can be used as an approximate approach here, however it turns out to be slow and costs lots of iterations. Note however, that if we fix the set of variables $X$ and treat them as constants, then the objective is a convex function of $Y$ and vice versa. Our approach will therefore be to fix $Y$ and optimize $X$, then fix $X$ and optimize $Y$, and repeat until convergence. This approach is known as **ALS (Alternating Least Squares)**. For our objective function, the alternating least squares algorithm can be expressed with this simple pseudo-code:"
   ]
  },
  {
   "cell_type": "markdown",
   "metadata": {},
   "source": [
    "Initialize $X$, $Y$\n",
    "\n",
    "**while**(convergence is not true) **do**\n",
    "\n",
    "\n",
    "**for** $u = 1 \\cdots n$ **do**\n",
    "\n",
    "$x_u = \\left( \\sum_{r_ui \\in r_{u*}} y_i y_{i}^{T} + \\lambda I_k \\right)^{-1} \\sum_{r_ui \\in r_{u*}} r_{ui} y_i $ \n",
    "   \n",
    "**end for**\n",
    "\n",
    "**for** $u = 1 \\cdots n$ **do**\n",
    "\n",
    "$y_i = \\left( \\sum_{r_ui \\in r_{*i}} x_u x_{u}^{T} + \\lambda I_k \\right)^{-1} \\sum_{r_ui \\in r_{*i}} r_{ui} x_u $ \n",
    "   \n",
    "**end for**\n",
    "\n",
    "\n",
    "**end while**"
   ]
  },
  {
   "cell_type": "markdown",
   "metadata": {},
   "source": [
    "For a single machine, we can analyze the computational cost of this algorithm. Updating each $x_u$ will cost $O(n_u k^2 + k^3)$, where $n_u$ is the number of items rated by user $u$, and similarly updating each $y_i$ will cost $O(n_i k^2 + k^3)$, where $n_i$ is the number of users that have rated item $i$.\n",
    "\n",
    "\n",
    "Once we’ve computed the matrices $X$ and $Y$, there are several ways compute a prediction. The first is to do what was discussed before, which is to simply predict $ r_{ui} \\approx x_{u}^{T}y_i$ for each user $u$ and item $i$. \n",
    "This approach will cost $O(nmk)$ if we’d like to estimate every user-item pair. \n",
    "\n",
    "However, this approach is prohibitively expensive for most real-world datasets. A second (and more holistic) approach is to use the $x_u$ and $y_i$ as features in another learning algorithm, incorporating these features with others that are relevant to the prediction task."
   ]
  },
  {
   "cell_type": "markdown",
   "metadata": {},
   "source": [
    "### 2.3.3 Parallel Altenating Least Squares\n",
    "\n",
    "There are several ways to distribute the computation of the ALS algorithm depending on how data is partitioned.\n",
    "\n",
    "#### Method 1: using joins\n",
    "First we consider a fully distributed version, in the sense that all data (both input and output) is stored in a distributed file system. In practice, input data (ratings) and parameters ($X$ and $Y$) are stored in an a Spark RDD. Specifically, ratings -- that are always **sparse** -- are stored as RDD of triplets:\n",
    "\n",
    "Ratings: RDD((u, i, $r_{ui}$), . . . )\n",
    "\n",
    "\n",
    "Instead, we can use dense representation for factor matrices $X$ and $Y$, and these are stored as RDDs of vectors. More precisely, we can use the data types introduced in Spark MLLib to store such vectors and matrices:\n",
    "\n",
    "X : RDD($x_1$,...,$x_n$)\n",
    "\n",
    "Y : RDD($y_1$,...,$y_m$)\n",
    "\n",
    "\n",
    "Now, recall the expression to compute $x_u$:\n",
    "\n",
    "$x_u = \\left( \\sum_{r_ui \\in r_{u*}} y_i y_{i}^{T} + \\lambda I_k \\right)^{-1} \\sum_{r_ui \\in r_{u*}} r_{ui} y_i $ \n",
    "\n",
    "Let's call the first summation *part A* and the second summation *part B*. To compute such parts, in parallel, we can proceed with the following high-level pseudocode:\n",
    "\n",
    "* Join the Ratings RDD with the $Y$ matrix RDD using key $i$ (items)\n",
    "* Map to compute $y_i y_{i}^{T}$ and emit using key $u$ (user)\n",
    "* ReduceByKey $u$ (user) to compute 􏰀$\\sum_{r_ui \\in r_{u*}} y_i y_{i}^{T}$\n",
    "* Invert\n",
    "* Another ReduceByKey $u$ (user) to compute 􏰁$\\sum_{r_ui \\in r_{u*}} r_{ui} y_i$\n",
    "\n",
    "We can use the same template to copmute $y_i$.\n",
    "\n",
    "This approach works fine, but note it requires computing $y_i y_{i}^{T}$ for each user that has rated item $i$. \n",
    "\n",
    "#### Method 2: using broadcast variables (advanced topic)\n",
    "The next approach takes advantage of the fact that the $X$ and $Y$ factor matrices are often very small and can be stored locally on each machine.\n",
    "\n",
    "* Partition the Ratings RDD **by user** to create $R_1$, and similarly partition the Ratings RDD **by item** to create $R_2$. This means there are two copies of the same Ratings RDD, albeit with different partitionings. In $R_1$, all ratings by the same user are on the same machine, and in $R_2$ all ratings for same item are on the same machine.\n",
    "* Broadcast the matrices $X$ and $Y$. Note that these matrices are not RDD of vectors: they are now \"local: matrices.\n",
    "* Using $R_1$ and $Y$, we can use expression $x_u$ from above to compute the update of $x_u$ locally on each machine\n",
    "* Using $R_2$ and $X$, we can use expression $y_i$ from above to compute the update of $y_i$ locally on each machine\n",
    "\n",
    "A further optimization to this method is to group the $X$ and $Y$ factors matrices into blocks (user blocks and item blocks) and reduce the communication by only sending to each machine the block of users (or items) that are needed to compute the updates at that machine. \n",
    "\n",
    "This method is called **Block ALS**. It is achieved by precomputing some information about the ratings matrix to determine the \"out-links\" of each user (which blocks of the items it will contribute to) and \"in-link\" information for each item (which of the factor vectors it receives from each user block it will depend on). For exmple, assume that machine 1 is responsible for users 1,2,...,37: these will be block 1 of users. The items rated by these users are block 1 of items. Only the factors of block 1 of users and block 1 of items will be broadcasted to machine 1.\n",
    "\n",
    "### Further readings\n",
    "Other methods for matrix factorization include:\n",
    "\n",
    "* Low Rank Approximation and Regression in Input Sparsity Time, by Kenneth L. Clarkson, David P. Woodruff. http://arxiv.org/abs/1207.6365\n",
    "* Generalized Low Rank Models (GLRM), by Madeleine Udell, Corinne Horn, Reza Zadeh, Stephen Boyd. http://arxiv.org/abs/1410.0342\n",
    "* Matrix Completion and Low-Rank SVD via Fast Alternating Least Squares, by Trevor Hastie, Rahul Mazumder, Jason D. Lee, Reza Zadeh . Statistics Department and ICME, Stanford University, 2014. http://stanford.edu/~rezab/papers/fastals.pdf"
   ]
  },
  {
   "cell_type": "markdown",
   "metadata": {},
   "source": [
    "# 3. Usecase : Music recommender system\n",
    "\n",
    "In this usecase, we use the data of users and artists in the previous sections to build a statistical model to recommend artists for users.\n",
    " \n",
    "## 3.1 Requirements\n",
    "According to the properties of data, we need to choose a recommender algorithm that is suitable for this implicit feedback data. It means that the algorithm should learn without access to user or artist attributes such as age, genre,.... Therefore, an algorithm of type `collaborative filtering` is the best choice.\n",
    "\n",
    "Second, in the data, there are some users that have listened to only 1 artist. We need an algorithm that might provide decent recommendations to even these users. After all, at some point, every user starts out with just one play at some point! \n",
    "\n",
    "Third, we need an algorithm that scales, both in its ability to build large models, and to create recommendations quickly. So, an algorithm which can run on a distributed system (SPARK, Hadoop...) is very suitable.\n",
    "\n",
    "From these requirement, we can choose using ALS algorithm in SPARK's MLLIB.\n",
    "\n",
    "Spark MLlib’s ALS implementation draws on ideas from [1](http://yifanhu.net/PUB/cf.pdf) and [2](http://link.springer.com/chapter/10.1007%2F978-3-540-68880-8_32).\n",
    "\n",
    "## 3.2 Notes\n",
    "\n",
    "Currently, MLLIB can only build models from an RDD. That means we have two ways to prepare data:\n",
    "\n",
    "* Loading to into SPARK SQL DataFrame as before, and then access the corresponding RDD by calling `<dataframe>.rdd`. The invalid data is often sucessfully dropped by using mode `DROPMALFORMED`. However, this way might not work in all cases. Fortunately, we can use it with this usecase.\n",
    "\n",
    "* Loading data directly to RDD. However, we have to deal with the invalid data ourself. In the trade-off, this way is the most reliable, and can work in every case.\n",
    "\n",
    "In this notebook, we will use the second approach: it requires a bit more effort, but the reward is worth it!\n",
    "\n",
    " \n",
    "## 3.3 Cleanup the data\n",
    "In section 1, we already replaced the ids of mispelled artists by the corresponding standard ids by using SPARK SQL API.\n",
    "However, if the data has the invalid entries such that SPARK SQL API is stuck, the best way to work with it is using an RDD.\n",
    "\n",
    "Just as a recall, we work with three datasets in `user_artist_data.txt`, `` and `artist_alias.txt`. The entries in these file can be empty or have only one field. \n",
    "\n",
    "In details our goal now is:\n",
    "\n",
    "* Read the input ```user_artist_data.txt``` and transforms its representation into an output dataset.\n",
    "* To produce an output \"tuple\" containing the original user identifier and play counts, but with the artist identifier replaced by its most common alias, as found in the ```artist_alias.txt``` dataset.\n",
    "* Since the ```artist_alias.txt``` file is small, we can use a technique called **broadcast variables** to make such transformation more efficient.\n"
   ]
  },
  {
   "cell_type": "markdown",
   "metadata": {},
   "source": [
    "### Question 6\n",
    "\n",
    "#### Question 6.1\n",
    "Load data from `/datasets/lastfm/artist_alias.txt` and filter out the invalid entries to construct a dictionary to map from mispelled artists' ids to standard ids.\n",
    "\n",
    "NOTE: From now on, we will use the \"standard\" data to train our model.\n",
    "\n",
    "HINT: If a line contains less than 2 fields or contains invalid numerial values, we can return a special tuple. After that, we can filter out these special tuples."
   ]
  },
  {
   "cell_type": "code",
   "execution_count": 2,
   "metadata": {
    "collapsed": false
   },
   "outputs": [],
   "source": [
    "rawArtistAlias = sc.textFile(base + \"artist_alias.txt\")\n",
    "\n",
    "def xtractFields(s):\n",
    "    # Using white space or tab character as separators,\n",
    "    # split a line into list of strings \n",
    "    line = re.split(\"\\s|\\t\",s,1)\n",
    "    # if this line has at least 2 characters\n",
    "    if (len(line) > 1):\n",
    "        try:\n",
    "            # try to parse the first and the second components to integer type\n",
    "            return (int(line[0]), int(line[1]))\n",
    "        except ValueError:\n",
    "            # if parsing has any error, return a special tuple\n",
    "            return (-1,-1)\n",
    "    else:\n",
    "        # if this line has less than 2 characters, return a special tuple\n",
    "        return (-1,-1)\n",
    "\n",
    "artistAlias = (\n",
    "                rawArtistAlias\n",
    "                    # extract fields using function xtractFields\n",
    "                    .map( xtractFields )\n",
    "   \n",
    "                    # filter out the special tuples\n",
    "                    .filter(lambda x : x[0] != -1 and x[1] != -1)\n",
    "    \n",
    "                    # collect result to the driver as a \"dictionary\"\n",
    "                    .collectAsMap()\n",
    "                )\n"
   ]
  },
  {
   "cell_type": "markdown",
   "metadata": {
    "collapsed": false
   },
   "source": [
    "#### Question 6.2\n",
    "Using the dictionary in question 6.1, prepare RDD `userArtistDataRDD` by replacing mispelled artists' ids to standard ids. Show 5 samples.\n",
    "\n",
    "HINT: Using broadcast varible can help us increase the effiency."
   ]
  },
  {
   "cell_type": "code",
   "execution_count": 76,
   "metadata": {
    "collapsed": false
   },
   "outputs": [
    {
     "data": {
      "text/plain": [
       "[('2078157', '1008663', '4'),\n",
       " ('2166125', '1004481', '4'),\n",
       " ('2336601', '1261311', '2'),\n",
       " ('2420521', '10729338', '1'),\n",
       " ('2101876', '1199215', '1'),\n",
       " ('2101061', '6915662', '1'),\n",
       " ('2038737', '4746', '5'),\n",
       " ('2056726', '1165805', '1'),\n",
       " ('2082631', '393', '4'),\n",
       " ('1050632', '1060099', '10')]"
      ]
     },
     "execution_count": 76,
     "metadata": {},
     "output_type": "execute_result"
    }
   ],
   "source": [
    "bArtistAlias = sc.broadcast(artistAlias)\n",
    "rawUserArtistData = sc.textFile(base + \"user_artist_data.txt\")\n",
    "\n",
    "def disambiguate(line):\n",
    "    [userID, artistID, count] = line.split(' ')\n",
    "    #artistID = str(bArtistAlias.value.get(int(artistID), artistID))\n",
    "    if int(artistID) in bArtistAlias.value.keys():\n",
    "        artistID = str(bArtistAlias.value[int(artistID)])\n",
    "    return ((userID, artistID), count)\n",
    "\n",
    "def correctFormat(fields):\n",
    "    return (fields[0][0], fields[0][1], fields[1])\n",
    "\n",
    "\n",
    "userArtistDataRDD = rawUserArtistData.map(disambiguate)\\\n",
    "                                     .reduceByKey(lambda x,y: x + y)\\\n",
    "                                     .map(lambda fields : (fields[0][0], fields[0][1], fields[1]))\n",
    "userArtistDataRDD.cache()\n",
    "userArtistDataRDD.take(10)\n"
   ]
  },
  {
   "cell_type": "markdown",
   "metadata": {},
   "source": [
    "## 3.4 Training our statistical model\n",
    "To train a model using ALS, we must use a preference matrix  as an input. MLLIB uses the class `Rating` to support the construction of a distributed preference matrix."
   ]
  },
  {
   "cell_type": "markdown",
   "metadata": {},
   "source": [
    "### Question 7\n",
    "\n",
    "#### Question 7.1\n",
    "Given RDD `userArtistDataRDD` in question 6.2, construct a new RDD `trainingData` by tranforming each item of it into a `Rating` object."
   ]
  },
  {
   "cell_type": "code",
   "execution_count": 4,
   "metadata": {
    "collapsed": false
   },
   "outputs": [],
   "source": [
    "from pyspark.mllib.recommendation import ALS, MatrixFactorizationModel, Rating"
   ]
  },
  {
   "cell_type": "code",
   "execution_count": 78,
   "metadata": {
    "collapsed": false
   },
   "outputs": [],
   "source": [
    "allData = userArtistDataRDD.map(lambda r: Rating(r[0], r[1], r[2])).repartition(20).cache()"
   ]
  },
  {
   "cell_type": "markdown",
   "metadata": {
    "collapsed": false
   },
   "source": [
    "#### Question 7.2\n",
    "A model can be trained by using `ALS.trainImplicit(<training data>, <rank>)`, where:\n",
    "* `training data` is the input data you decide to feed to the ALS algorithm\n",
    "* `rank` is the number of latent features\n",
    "\n",
    "We can also use some additional parameters to adjust the quality of the model. Currently, let's set \n",
    "\n",
    "- `rank=10`\n",
    "- `iterations=5`\n",
    "- `lambda_=0.01`\n",
    "- `alpha=1.0` \n",
    "\n",
    "to build model."
   ]
  },
  {
   "cell_type": "code",
   "execution_count": 79,
   "metadata": {
    "collapsed": false
   },
   "outputs": [
    {
     "name": "stdout",
     "output_type": "stream",
     "text": [
      "finish training model in 142.197611 secs\n"
     ]
    }
   ],
   "source": [
    "t0 = time()\n",
    "model = ALS.trainImplicit(allData, rank=10, iterations=5, lambda_=0.01, alpha=1. )\n",
    "t1 = time()\n",
    "print(\"finish training model in %f secs\" % (t1 - t0))\n"
   ]
  },
  {
   "cell_type": "markdown",
   "metadata": {},
   "source": [
    "#### Question 7.3\n",
    "The trained model can be saved into HDFS for later use. This can be done via `model.save(sc, <file_name>)`.\n",
    "Let's use this function to store our model as name `lastfm_model.spark`.\n",
    "\n",
    "NOTE 1: since you may have noticed that building the model takes some time, it might come to your mind that this information could be stored, such that you can \"interrupt\" your laboratory session here, and restart next time by loading your model.\n",
    "\n",
    "NOTE 2: funnily enough, it could take more time to save the model than to build it from scratch! So take a look at the execution time to save the model: this method actually stores the model as Parquet files, which are column-oriented and compressed.\n",
    "\n",
    "NOTE 3: to check you have your file on HDFS, you are invited to open a terminal from the \"Home\" Jupyter dashboard, and type `hdfs dfs -ls` to check."
   ]
  },
  {
   "cell_type": "code",
   "execution_count": 64,
   "metadata": {
    "collapsed": false
   },
   "outputs": [
    {
     "name": "stdout",
     "output_type": "stream",
     "text": [
      "Deleted lastfm_model.spark\n",
      "finish loading model in 3.945436 secs\n"
     ]
    }
   ],
   "source": [
    "! hdfs dfs -rm -R -f -skipTrash lastfm_model.spark\n",
    "t0=time()\n",
    "model.save(sc, 'lastfm_model.spark')\n",
    "t1=time()\n",
    "print(\"finish loading model in %f secs\" % (t1 - t0))"
   ]
  },
  {
   "cell_type": "markdown",
   "metadata": {},
   "source": [
    "#### Question 7.4\n",
    "A saved model can be load from file by using `MatrixFactorizationModel.load(sc, <file_name>)`. \n",
    "\n",
    "Let's load our model from file."
   ]
  },
  {
   "cell_type": "code",
   "execution_count": 65,
   "metadata": {
    "collapsed": false
   },
   "outputs": [
    {
     "name": "stdout",
     "output_type": "stream",
     "text": [
      "finish loading model in 1.233607 secs\n"
     ]
    }
   ],
   "source": [
    "t0 = time()\n",
    "model = MatrixFactorizationModel.load(sc, 'lastfm_model.spark')\n",
    "t1 = time()\n",
    "print(\"finish loading model in %f secs\" % (t1 - t0))"
   ]
  },
  {
   "cell_type": "markdown",
   "metadata": {},
   "source": [
    "#### Question 7.5\n",
    "Print the first row of user features in our model."
   ]
  },
  {
   "cell_type": "code",
   "execution_count": 20,
   "metadata": {
    "collapsed": false
   },
   "outputs": [
    {
     "data": {
      "text/plain": [
       "[(120,\n",
       "  array('d', [0.226030632853508, 0.00039635426946915686, 0.18772085011005402, -0.027264360338449478, -0.11762460321187973, -0.031778495758771896, 0.13494373857975006, -0.1541258543729782, -0.15936601161956787, -0.11824899166822433]))]"
      ]
     },
     "execution_count": 20,
     "metadata": {},
     "output_type": "execute_result"
    }
   ],
   "source": [
    "model.userFeatures().take(1)\n"
   ]
  },
  {
   "cell_type": "markdown",
   "metadata": {},
   "source": [
    "### Question 8\n",
    "Show the top-5 artist names recommendated for user `2093760`.\n",
    "\n",
    "HINT: The recommendations can be given by function `recommendProducts(userID, num_recommendations)`. These recommendations are only artist ids. You have to map them to artist names by using data in `artist_data.txt`."
   ]
  },
  {
   "cell_type": "code",
   "execution_count": 64,
   "metadata": {
    "collapsed": false
   },
   "outputs": [
    {
     "name": "stdout",
     "output_type": "stream",
     "text": [
      "{1300642, 1001819, 4605, 2814, 1037970}\n"
     ]
    }
   ],
   "source": [
    "# Make five reccommendations to user 2093760\n",
    "recommendations = (model.recommendProducts(2093760,5))\n",
    "\n",
    "\n",
    "# construct set of recommendated artists\n",
    "recArtists = set([prod.product for prod in recommendations])\n",
    "\n",
    "print(recArtists)"
   ]
  },
  {
   "cell_type": "code",
   "execution_count": 22,
   "metadata": {
    "collapsed": true
   },
   "outputs": [],
   "source": [
    "\n",
    "# construct data of artists (artist_id, artist_name)\n",
    "\n",
    "rawArtistData = sc.textFile(base + \"artist_data.txt\")\n",
    "\n",
    "def xtractFields(s):\n",
    "    line = re.split(\"\\s|\\t\",s,1)\n",
    "    if (len(line) > 1):\n",
    "        try:\n",
    "            return (int(line[0]), str(line[1].strip()))\n",
    "        except ValueError:\n",
    "            return (-1,\"\")\n",
    "    else: \n",
    "        return (-1,\"\")\n",
    "\n",
    "artistByIDRDD = rawArtistData.map(xtractFields).filter(lambda x: x[0] > 0)\n"
   ]
  },
  {
   "cell_type": "code",
   "execution_count": 65,
   "metadata": {
    "collapsed": false
   },
   "outputs": [
    {
     "name": "stdout",
     "output_type": "stream",
     "text": [
      "['50 Cent', 'Snoop Dogg', 'Kanye West', '2Pac', 'The Game']\n"
     ]
    }
   ],
   "source": [
    "# Filter in those artists, get just artist, and print\n",
    "def artistNames(line):\n",
    "#     [artistID, name]\n",
    "    global recArtists\n",
    "    if (line[0] in recArtists):\n",
    "        return True\n",
    "    else:\n",
    "        return False\n",
    "\n",
    "recList = artistByIDRDD.filter(artistNames).values().collect()\n",
    "\n",
    "print(recList)"
   ]
  },
  {
   "cell_type": "markdown",
   "metadata": {},
   "source": [
    "<font color='blue'> \n",
    "These recommended artists are pretty famous so we wonder if this user had already listened to them.\n",
    "</font>"
   ]
  },
  {
   "cell_type": "markdown",
   "metadata": {},
   "source": [
    "# Let's improve the recommendation of new music!\n",
    "\n",
    "<font color='blue'>\n",
    "Now, here we want to do a different thing: we want to recommend artist never played by the user, to give advantages to both artists and users.\n",
    "In one hand, users may have the opportunity to listen to new music while not-well known artists may have the possibility to emerge.\n",
    "</font>"
   ]
  },
  {
   "cell_type": "code",
   "execution_count": 70,
   "metadata": {
    "collapsed": false
   },
   "outputs": [],
   "source": [
    "def checkAlreadyPlayedArtist(userID, artistID):\n",
    "    if newUserArtistDF[newUserArtistDF.userID==userID][newUserArtistDF.artistID==artistID].count() != 0:\n",
    "        return True\n",
    "    else:\n",
    "        return False    "
   ]
  },
  {
   "cell_type": "code",
   "execution_count": 71,
   "metadata": {
    "collapsed": false
   },
   "outputs": [
    {
     "name": "stdout",
     "output_type": "stream",
     "text": [
      "False\n",
      "False\n",
      "False\n",
      "False\n",
      "False\n"
     ]
    }
   ],
   "source": [
    "singleUser = 2093760\n",
    "for ID in recArtists:\n",
    "    print(checkAlreadyPlayedArtist(singleUser, ID))\n"
   ]
  },
  {
   "cell_type": "markdown",
   "metadata": {},
   "source": [
    "<font color='blue'>\n",
    "This user was lucky to get new recommended artists, not listened before, but she was not a very curious user.\n",
    "</font>"
   ]
  },
  {
   "cell_type": "code",
   "execution_count": 72,
   "metadata": {
    "collapsed": false
   },
   "outputs": [
    {
     "name": "stdout",
     "output_type": "stream",
     "text": [
      "+-------+--------+---------+\n",
      "| userID|artistID|playCount|\n",
      "+-------+--------+---------+\n",
      "|2093760|     942|        7|\n",
      "|2093760|     378|        1|\n",
      "|2093760|     813|        2|\n",
      "|2093760|    1180|        1|\n",
      "|2093760| 1255340|        3|\n",
      "+-------+--------+---------+\n",
      "\n"
     ]
    }
   ],
   "source": [
    "newUserArtistDF[newUserArtistDF.userID==singleUser].show()"
   ]
  },
  {
   "cell_type": "markdown",
   "metadata": {},
   "source": [
    "<font color='blue'>\n",
    "This might be not always the case, let's see another user where we can show a possible problem with this recommendation system.\n",
    "</font>"
   ]
  },
  {
   "cell_type": "markdown",
   "metadata": {},
   "source": [
    "<font color='blue'>\n",
    "Just a couple of examples for justifing what we have just said above. \n",
    "</font>"
   ]
  },
  {
   "cell_type": "code",
   "execution_count": 74,
   "metadata": {
    "collapsed": false
   },
   "outputs": [
    {
     "name": "stdout",
     "output_type": "stream",
     "text": [
      "True Rooney\n",
      "True The Living End\n",
      "False Phantom Planet\n",
      "False The Ataris\n",
      "True The All-American Rejects\n"
     ]
    }
   ],
   "source": [
    "user = 1059637\n",
    "recommendations = (model.recommendProducts(user,5))\n",
    "\n",
    "recArtists = set([prod.product for prod in recommendations])\n",
    "recList = artistByIDRDD.filter(artistNames).values().collect()\n",
    "i = 0\n",
    "for ID in recArtists:\n",
    "    print(checkAlreadyPlayedArtist(user, ID), recList[i])\n",
    "    i+=1\n",
    "    #print(checkAlreadyPlayedArtist(user, ID))\n"
   ]
  },
  {
   "cell_type": "code",
   "execution_count": 75,
   "metadata": {
    "collapsed": false
   },
   "outputs": [
    {
     "name": "stdout",
     "output_type": "stream",
     "text": [
      "True Enigma\n",
      "True Pet Shop Boys\n",
      "True Madonna\n",
      "True ABBA\n",
      "True a-ha\n"
     ]
    }
   ],
   "source": [
    "user = 2030067\n",
    "recommendations = (model.recommendProducts(user,5))\n",
    "\n",
    "recArtists = set([prod.product for prod in recommendations])\n",
    "recList = artistByIDRDD.filter(artistNames).values().collect()\n",
    "i = 0\n",
    "for ID in recArtists:\n",
    "    print(checkAlreadyPlayedArtist(user, ID), recList[i])\n",
    "    i+=1\n"
   ]
  },
  {
   "cell_type": "markdown",
   "metadata": {},
   "source": [
    "<font color='blue'>\n",
    "This is what we want to avoid. \n",
    "</font>"
   ]
  },
  {
   "cell_type": "markdown",
   "metadata": {},
   "source": [
    "# Prediction 2.0"
   ]
  },
  {
   "cell_type": "markdown",
   "metadata": {},
   "source": [
    "<font color='blue'>\n",
    "Some users may already know the artists we suggest them which is nice if we can include one of their new songs, but with this dataset it's not possible.\n",
    "We think suggesting artists already known to the user is useless and annoying, so we want to recommend new users, unknown to the user.\n",
    "</font>"
   ]
  },
  {
   "cell_type": "code",
   "execution_count": 76,
   "metadata": {
    "collapsed": false
   },
   "outputs": [],
   "source": [
    "def predict(model, user, N):\n",
    "    artistsToPredict = userCuriosityRankedDF.filter(userCuriosityRankedDF.userID == user)\\\n",
    "                                            .select('artistCount').collect()[0][0] + N\n",
    "    \n",
    "    recommendations = model.recommendProducts(user,artistsToPredict)\n",
    "    \n",
    "    fullRecArtists = set([prod.product for prod in recommendations])\n",
    "    recArtists = [] \n",
    "    \n",
    "    for artistID in fullRecArtists:\n",
    "        if len(recArtists) == N:\n",
    "            break\n",
    "        if checkAlreadyPlayedArtist(user, artistID):\n",
    "            continue\n",
    "        recArtists.append(artistID)\n",
    "    \n",
    "    return recArtists"
   ]
  },
  {
   "cell_type": "code",
   "execution_count": 77,
   "metadata": {
    "collapsed": false
   },
   "outputs": [
    {
     "name": "stdout",
     "output_type": "stream",
     "text": [
      "[1151014, 1001529, 1001531, 1077309, 2115]\n",
      "['Belle and Sebastian', 'Le Tigre', 'Spitalfield', 'Billy Talent', 'The Cars']\n"
     ]
    }
   ],
   "source": [
    "recArtists = predict(model, 1059637, 5)\n",
    "print(recArtists)\n",
    "recList = artistByIDRDD.filter(artistNames).values().collect()\n",
    "print(recList)"
   ]
  },
  {
   "cell_type": "code",
   "execution_count": 143,
   "metadata": {
    "collapsed": false
   },
   "outputs": [
    {
     "name": "stdout",
     "output_type": "stream",
     "text": [
      "[1245185, 4, 1007621, 17, 1073173]\n",
      "['Joss Stone', 'Marianne Faithfull', 'Suburban Tribe', 'Dressy Bessy', 'Cranes']\n"
     ]
    }
   ],
   "source": [
    "recArtists = predict(model, 2030067, 5)\n",
    "print(recArtists)\n",
    "recList = artistByIDRDD.filter(artistNames).values().collect()\n",
    "print(recList)"
   ]
  },
  {
   "cell_type": "markdown",
   "metadata": {},
   "source": [
    "<font color='blue'>\n",
    "This method however is affected by a big disadvange: it's difficult to evaluate. Due to its nature, it is **user-dependent**: someone could appreciate the diversity of music while \"conservative\" users may blame the system for recommending always unknown artists.\n",
    "</font>"
   ]
  },
  {
   "cell_type": "markdown",
   "metadata": {},
   "source": [
    "# Prediction 3.0"
   ]
  },
  {
   "cell_type": "markdown",
   "metadata": {},
   "source": [
    "<font color='blue'>\n",
    "In the spirit of helping emerging artists to getting known, here instead of simply recommending the top artists we want to diversificate the recommendation based on the **audience size**. In this way, we give a wider view on the music scene to the user, but also a higher chance of becoming popular for artists with a small audience.\n",
    "</font>"
   ]
  },
  {
   "cell_type": "code",
   "execution_count": 145,
   "metadata": {
    "collapsed": false
   },
   "outputs": [],
   "source": [
    "audiencePerArtistsDF = newUserArtistDF.select('userID', 'artistID').groupBy('artistID').count()\\\n",
    "                        .join(artistDataDF, newUserArtistDF.artistID==artistDataDF.artistID, how='left_outer')\\\n",
    "                        .drop(artistDataDF.artistID)"
   ]
  },
  {
   "cell_type": "code",
   "execution_count": 161,
   "metadata": {
    "collapsed": false
   },
   "outputs": [
    {
     "name": "stdout",
     "output_type": "stream",
     "text": [
      "+--------+-----+--------------------+\n",
      "|artistID|count|                name|\n",
      "+--------+-----+--------------------+\n",
      "|      26| 1132|       Barry Adamson|\n",
      "|     964|  656|           Jellyfish|\n",
      "|    1677|   48|            Neoangin|\n",
      "|    1697|  793|             Shantel|\n",
      "|    1950|  105|   Lordz Of Brooklyn|\n",
      "|    2040|    3|              Hi-way|\n",
      "|    2214| 1332|              Sun Ra|\n",
      "|    2250|    1|        Maru + Comix|\n",
      "|    2509|   13|                Simm|\n",
      "|    2927|   12|          Emergency!|\n",
      "|    3091|   11|  PQM featuring Cica|\n",
      "|    3506|    1|    KingSize Records|\n",
      "|    4590|    2|      Roots & Fierce|\n",
      "|    5385|   34|mathias schaffhauser|\n",
      "|    5409|14296|                 AFI|\n",
      "|    5556| 1814|     Hundred Reasons|\n",
      "| 1000061|    1|Capdown (Bollucks...|\n",
      "| 1000311| 1541|       Steve Winwood|\n",
      "| 1000313| 5986| Super Furry Animals|\n",
      "| 1001409|   43|            Pnu Riff|\n",
      "+--------+-----+--------------------+\n",
      "only showing top 20 rows\n",
      "\n"
     ]
    }
   ],
   "source": [
    "audiencePerArtistsDF.show()"
   ]
  },
  {
   "cell_type": "code",
   "execution_count": 238,
   "metadata": {
    "collapsed": false
   },
   "outputs": [],
   "source": [
    "def predict2(model, user, N):\n",
    "    epsilon = 0\n",
    "    \n",
    "    artistsToPredict = userCuriosityRankedDF.filter(userCuriosityRankedDF.userID == user)\\\n",
    "                                            .select('artistCount').collect()[0][0] + N + epsilon\n",
    "\n",
    "    recommendations = model.recommendProducts(user,artistsToPredict)\n",
    "    recArtists = [prod.product for prod in recommendations]\n",
    "  \n",
    "    listenedArtists = userArtistDataRDD.filter(lambda x:int(x[0])==user).map(lambda x:(int(x[1]))).cache().collect()\n",
    "    \n",
    "    newArtists = audiencePerArtistsDF.rdd.filter(lambda x : x[0] not in listenedArtists and x[0] in recArtists)\\\n",
    "                                         .sortBy(lambda x: -x[1]).map(lambda x:x[2]).cache().collect()\n",
    "    \n",
    "    L = len(newArtists)\n",
    "    finalList = []\n",
    "    for i in range(N):\n",
    "        finalList.append(newArtists[i*int(L/N)])\n",
    "    \n",
    "    print(finalList)"
   ]
  },
  {
   "cell_type": "code",
   "execution_count": 239,
   "metadata": {
    "collapsed": false
   },
   "outputs": [
    {
     "name": "stdout",
     "output_type": "stream",
     "text": [
      "['The Killers', 'Supreme Beings of Leisure', 'Michael Franti & Spearhead', 'Euphoria', 'Chemlab', 'The Seekers']\n"
     ]
    }
   ],
   "source": [
    "predict2(model, 2030067, 6)"
   ]
  },
  {
   "cell_type": "markdown",
   "metadata": {},
   "source": [
    "#### IMPORTANT NOTE\n",
    "\n",
    "At the moment, it is necessary to manually unpersist the RDDs inside the model when you are done with it. The following function can be used to make sure models are promptly uncached."
   ]
  },
  {
   "cell_type": "code",
   "execution_count": 135,
   "metadata": {
    "collapsed": false
   },
   "outputs": [],
   "source": [
    "\n",
    "def unpersist(model):\n",
    "    model.userFeatures().unpersist()\n",
    "    model.productFeatures().unpersist()\n",
    "\n",
    "# uncache data and model when they are no longer used  \n",
    "#unpersist(model)"
   ]
  },
  {
   "cell_type": "markdown",
   "metadata": {
    "collapsed": true
   },
   "source": [
    "## 3.5 Evaluating Recommendation Quality \n",
    "\n",
    "In this section, we study how to evaluate the quality of our model. It's hard to say how good the recommendations are.\n",
    "One of serveral methods approach to evaluate  a recommender based on its ability to rank good items (artists) high in a list of recommendations. The problem is how to define \"good artists\". Currently, by training all data, \"good artists\" is defined as \"artists the user has listened to\", and the recommender system has already received all of this information as input. It could trivially return the users previously-listened artists as top recommendations and score perfectly. Indeed, this is not useful, because the recommender's is used to recommend artists that the user has **never** listened to. \n",
    "\n",
    "To overcome that problem, we can hide the some of the artist play data and only use the rest to train model. Then, this held-out data can be interpreted as a collection of \"good\" recommendations for each user. The recommender is asked to rank all items in the model, and the rank of the held-out artists are examined. Ideally the recommender places all of them at or near the top of the list.\n",
    "\n",
    "The recommender's score can then be computed by comparing all held-out artists' ranks to the rest.  The fraction of pairs where the held-out artist is ranked higher is its score. 1.0 is perfect, 0.0 is the worst possible score, and 0.5 is the expected value achieved from randomly ranking artists. \n",
    "\n",
    "AUC(Area Under the Curve) can be used as a metric to evaluate model. It is also viewed as the probability that a randomly-chosen \"good\" artist ranks above a randomly-chosen \"bad\" artist.\n",
    "\n",
    "Next, we split the training data into 2 parts: `trainData` and `cvData` with ratio 0.9:0.1 respectively, where `trainData` is the dataset that will be used to train model. Then we write a function to calculate AUC to evaluate the quality of our model.\n"
   ]
  },
  {
   "cell_type": "markdown",
   "metadata": {},
   "source": [
    "### Question 9\n",
    "\n",
    "#### Question 9.1\n",
    "Split the data into `trainData` and `cvData` with ratio 0.9:0.1 and use the first part to train a statistic model with:\n",
    "\n",
    "- rank=10\n",
    "- iterations=5\n",
    "- lambda_=0.01\n",
    "- alpha=1.0"
   ]
  },
  {
   "cell_type": "code",
   "execution_count": 127,
   "metadata": {
    "collapsed": false
   },
   "outputs": [
    {
     "data": {
      "text/plain": [
       "PythonRDD[798] at RDD at PythonRDD.scala:48"
      ]
     },
     "execution_count": 127,
     "metadata": {},
     "output_type": "execute_result"
    }
   ],
   "source": [
    "trainData, cvData = allData.randomSplit([0.9, 0.1])\n",
    "trainData.cache()\n",
    "cvData.cache()"
   ]
  },
  {
   "cell_type": "code",
   "execution_count": 22,
   "metadata": {
    "collapsed": false
   },
   "outputs": [
    {
     "name": "stdout",
     "output_type": "stream",
     "text": [
      "Finish training model in 40.494066 secs\n"
     ]
    }
   ],
   "source": [
    "t0 = time()\n",
    "model = ALS.trainImplicit(trainData, rank=10, iterations=5, lambda_=0.01, alpha=1. )\n",
    "t1 = time()\n",
    "print(\"Finish training model in %f secs\" % (t1 - t0))\n"
   ]
  },
  {
   "cell_type": "markdown",
   "metadata": {},
   "source": [
    "#### Area under the ROC curve: a function to compute it"
   ]
  },
  {
   "cell_type": "code",
   "execution_count": 128,
   "metadata": {
    "collapsed": true
   },
   "outputs": [],
   "source": [
    "# Get all unique artistId, and broadcast them\n",
    "allItemIDs = np.array(allData.map(lambda x: x[1]).distinct().collect())\n",
    "bAllItemIDs = sc.broadcast(allItemIDs)"
   ]
  },
  {
   "cell_type": "code",
   "execution_count": 129,
   "metadata": {
    "collapsed": false
   },
   "outputs": [],
   "source": [
    "from random import randint\n",
    "\n",
    "# Depend on the number of item in userIDAndPosItemIDs,\n",
    "# create a set of \"negative\" products for each user. These are randomly chosen\n",
    "# from among all of the other items, excluding those that are \"positive\" for the user.\n",
    "# NOTE 1: mapPartitions operates on many (user,positive-items) pairs at once\n",
    "# NOTE 2: flatMap breaks the collections above down into one big set of tuples\n",
    "def xtractNegative(userIDAndPosItemIDs):\n",
    "    def pickEnoughNegatives(line):\n",
    "        userID = line[0]\n",
    "        posItemIDSet = set(line[1])\n",
    "        #posItemIDSet = line[1]\n",
    "        negative = []\n",
    "        allItemIDs = bAllItemIDs.value\n",
    "        # Keep about as many negative examples per user as positive. Duplicates are OK.\n",
    "        i = 0\n",
    "        while (i < len(allItemIDs) and len(negative) < len(posItemIDSet)):\n",
    "            itemID = allItemIDs[randint(0,len(allItemIDs)-1)]\n",
    "            if itemID not in posItemIDSet:\n",
    "                negative.append(itemID)\n",
    "            i += 1\n",
    "        \n",
    "        # Result is a collection of (user,negative-item) tuples\n",
    "        return map(lambda itemID: (userID, itemID), negative)\n",
    "\n",
    "    # Init an RNG and the item IDs set once for partition\n",
    "    # allItemIDs = bAllItemIDs.value\n",
    "    return map(pickEnoughNegatives, userIDAndPosItemIDs)\n",
    "\n",
    "def ratioOfCorrectRanks(positiveRatings, negativeRatings):\n",
    "    \n",
    "    # find number elements in arr that has index >= start and has value smaller than x\n",
    "    # arr is a sorted array\n",
    "    def findNumElementsSmallerThan(arr, x, start=0):\n",
    "        left = start\n",
    "        right = len(arr) -1\n",
    "        # if x is bigger than the biggest element in arr\n",
    "        if start > right or x > arr[right]:\n",
    "            return right + 1\n",
    "        mid = -1\n",
    "        while left <= right:\n",
    "            mid = (left + right) // 2\n",
    "            if arr[mid] < x:\n",
    "                left = mid + 1\n",
    "            elif arr[mid] > x:\n",
    "                right = mid - 1\n",
    "            else:\n",
    "                while mid-1 >= start and arr[mid-1] == x:\n",
    "                    mid -= 1\n",
    "                return mid\n",
    "        return mid if arr[mid] > x else mid + 1\n",
    "    \n",
    "    ## AUC may be viewed as the probability that a random positive item scores\n",
    "    ## higher than a random negative one. Here the proportion of all positive-negative\n",
    "    ## pairs that are correctly ranked is computed. The result is equal to the AUC metric.\n",
    "    correct = 0 ## L\n",
    "    total = 0 ## L\n",
    "    \n",
    "    # sorting positiveRatings array needs more cost\n",
    "    #positiveRatings = np.array(map(lambda x: x.rating, positiveRatings))\n",
    "\n",
    "    negativeRatings = list(map(lambda x:x.rating, negativeRatings))\n",
    "    \n",
    "    #np.sort(positiveRatings)\n",
    "    negativeRatings.sort()# = np.sort(negativeRatings)\n",
    "    total = len(positiveRatings)*len(negativeRatings)\n",
    "    \n",
    "    for positive in positiveRatings:\n",
    "        # Count the correctly-ranked pairs\n",
    "        correct += findNumElementsSmallerThan(negativeRatings, positive.rating)\n",
    "        \n",
    "    ## Return AUC: fraction of pairs ranked correctly\n",
    "    return float(correct) / total\n",
    "\n",
    "def calculateAUC(positiveData, bAllItemIDs, predictFunction):\n",
    "    # Take held-out data as the \"positive\", and map to tuples\n",
    "    positiveUserProducts = positiveData.map(lambda r: (r[0], r[1]))\n",
    "    # Make predictions for each of them, including a numeric score, and gather by user\n",
    "    positivePredictions = predictFunction(positiveUserProducts).groupBy(lambda r: r.user)\n",
    "    \n",
    "    # Create a set of \"negative\" products for each user. These are randomly chosen \n",
    "    # from among all of the other items, excluding those that are \"positive\" for the user. \n",
    "    negativeUserProducts = positiveUserProducts.groupByKey().mapPartitions(xtractNegative).flatMap(lambda x: x)\n",
    "    # Make predictions on the rest\n",
    "    negativePredictions = predictFunction(negativeUserProducts).groupBy(lambda r: r.user)\n",
    "    \n",
    "    return (\n",
    "            positivePredictions.join(negativePredictions)\n",
    "                .values()\n",
    "                .map(\n",
    "                    lambda positive_negativeRatings: \\\n",
    "                            ratioOfCorrectRanks(positive_negativeRatings[0], positive_negativeRatings[1])\n",
    "                )\n",
    "                .mean()\n",
    "            )"
   ]
  },
  {
   "cell_type": "markdown",
   "metadata": {},
   "source": [
    "####  Question 9.2\n",
    "Using part `cvData` and function `calculateAUC` to compute the AUC of the trained model."
   ]
  },
  {
   "cell_type": "code",
   "execution_count": 25,
   "metadata": {
    "collapsed": false
   },
   "outputs": [
    {
     "name": "stdout",
     "output_type": "stream",
     "text": [
      "auc= 0.9666438094939122\n",
      "finish in 28.975797 seconds\n"
     ]
    }
   ],
   "source": [
    "\n",
    "t0 = time()\n",
    "auc = calculateAUC( cvData , bAllItemIDs , model.predictAll)\n",
    "t1 = time()\n",
    "print(\"auc=\",auc)\n",
    "print(\"finish in %f seconds\" % (t1 - t0))\n"
   ]
  },
  {
   "cell_type": "markdown",
   "metadata": {},
   "source": [
    "#### Question 9.3\n",
    "Now we have the UAC of our model, it’s helpful to benchmark this against a simpler approach. For example, consider recommending the globally most-played artists to every user. This is not personalized, but is simple and may be effective. \n",
    "\n",
    "Implement this simple pupolarity-based prediction algorithm, evaluate its AUC score, and compare to the results achieved by the more sophisticated ALS algorithm."
   ]
  },
  {
   "cell_type": "code",
   "execution_count": 130,
   "metadata": {
    "collapsed": true
   },
   "outputs": [],
   "source": [
    "bListenCount = sc.broadcast(trainData.map(lambda r: (r[1], r[2])).reduceByKey(lambda x,y : x+y).collectAsMap())\n",
    "def predictMostListened(allData):\n",
    "    return allData.map(lambda r: Rating(r[0], r[1], bListenCount.value.get( r[1] , 0.0)))"
   ]
  },
  {
   "cell_type": "code",
   "execution_count": 27,
   "metadata": {
    "collapsed": false
   },
   "outputs": [
    {
     "name": "stdout",
     "output_type": "stream",
     "text": [
      "0.9376118319377396\n"
     ]
    }
   ],
   "source": [
    "auc = calculateAUC(cvData, bAllItemIDs, predictMostListened)\n",
    "print(auc)\n"
   ]
  },
  {
   "cell_type": "markdown",
   "metadata": {
    "collapsed": true
   },
   "source": [
    "## 3.6 Personalized recommendations with ALS\n",
    "\n",
    "In the previous section, we build our models with some given paramters without any knowledge about them. Actually, choosing the best parameters' values is very important. It can significantly affect the quality of models. Especially, with the current implementation of ALS in MLLIB, these parameters are not learned by the algorithm, and must be chosen by the caller. The following parameters should get consideration before training models:\n",
    "\n",
    "* `rank = 10`: the number of latent factors in the model, or equivalently, the number of columns $k$ in the user-feature and product-feature matrices. In non-trivial cases, this is also their rank. \n",
    "\n",
    "* `iterations = 5`: the number of iterations that the factorization runs. Instead of runing the algorithm until RMSE converged which actually takes very long time to finish with large datasets, we only let it run in a given number of iterations. More iterations take more time but may produce a better factorization.\n",
    "\n",
    "* `lambda_ = 0.01`: a standard overfitting parameter. Higher values resist overfitting, but values that are too high hurt the factorization's accuracy.\n",
    "\n",
    "*  `alpha = 1.0`: controls the relative weight of observed versus unobserved userproduct interactions in the factorization. \n",
    "\n",
    "Although all of them have impact on the models' quality, `iterations` is more of a constraint on resources used in the factorization. So, `rank`, `lambda_` and `alpha` can be considered hyperparameters to the model. \n",
    "We will try to find \"good\" values for them. Indeed, the values of hyperparameter are not necessarily optimal. Choosing good hyperparameter values is a common problem in machine learning. The most basic way to choose values is to simply try combinations of values and evaluate a metric for each of them, and choose the combination that produces the best value of the metric. \n"
   ]
  },
  {
   "cell_type": "markdown",
   "metadata": {
    "collapsed": true
   },
   "source": [
    "### Question 10\n",
    "\n",
    "#### Question 10.1\n",
    "For simplicity, assume that we want to explore the following parameter space: $ rank \\in \\{10, 50\\}$, $lambda\\_ \\in \\{1.0, 0.0001\\}$ and $alpha \\in \\{1.0, 40.0\\}$.\n",
    "\n",
    "Find the best combination of them in terms of the highest AUC value."
   ]
  },
  {
   "cell_type": "code",
   "execution_count": 133,
   "metadata": {
    "collapsed": false
   },
   "outputs": [
    {
     "data": {
      "text/plain": [
       "PythonRDD[823] at RDD at PythonRDD.scala:48"
      ]
     },
     "execution_count": 133,
     "metadata": {},
     "output_type": "execute_result"
    }
   ],
   "source": [
    "trainData, cvData = allData.randomSplit([0.9, 0.1])\n",
    "trainData.cache()\n",
    "cvData.cache()"
   ]
  },
  {
   "cell_type": "code",
   "execution_count": 136,
   "metadata": {
    "collapsed": false
   },
   "outputs": [
    {
     "name": "stdout",
     "output_type": "stream",
     "text": [
      "Train model with rank=10 lambda_=1.000000 alpha=1.000000\n",
      "Train model with rank=10 lambda_=1.000000 alpha=40.000000\n",
      "Train model with rank=10 lambda_=0.000100 alpha=1.000000\n",
      "Train model with rank=10 lambda_=0.000100 alpha=40.000000\n",
      "Train model with rank=50 lambda_=1.000000 alpha=1.000000\n",
      "Train model with rank=50 lambda_=1.000000 alpha=40.000000\n",
      "Train model with rank=50 lambda_=0.000100 alpha=1.000000\n",
      "Train model with rank=50 lambda_=0.000100 alpha=40.000000\n",
      "                    0         1\n",
      "0     (50, 1.0, 40.0)  0.976057\n",
      "1  (10, 0.0001, 40.0)  0.975469\n",
      "2     (10, 1.0, 40.0)  0.975335\n",
      "3  (50, 0.0001, 40.0)  0.974842\n",
      "4      (10, 1.0, 1.0)  0.969971\n",
      "5      (50, 1.0, 1.0)  0.966686\n",
      "6   (10, 0.0001, 1.0)  0.964916\n",
      "7   (50, 0.0001, 1.0)  0.953445\n"
     ]
    },
    {
     "data": {
      "text/plain": [
       "PythonRDD[823] at RDD at PythonRDD.scala:48"
      ]
     },
     "execution_count": 136,
     "metadata": {},
     "output_type": "execute_result"
    }
   ],
   "source": [
    "evaluations = []\n",
    "\n",
    "for r in [10, 50]:\n",
    "    for l in [1.0, 0.0001]:\n",
    "        for a in [1.0, 40.0]:\n",
    "            print(\"Train model with rank=%d lambda_=%f alpha=%f\" % (r, l, a))\n",
    "            # with each combination of params, we should run multiple times and get avg\n",
    "            # for simple, we only run one time.\n",
    "            model = ALS.trainImplicit(trainData, rank = r, lambda_ = l, alpha = a )\n",
    "            \n",
    "            auc = calculateAUC(cvData , bAllItemIDs , model.predictAll)\n",
    "            \n",
    "            evaluations.append(((r, l, a), auc))\n",
    "            \n",
    "            unpersist(model)\n",
    "\n",
    "evaluations.sort(key=lambda x:x[1], reverse=True)\n",
    "                 \n",
    "evalDataFrame = pd.DataFrame(data=evaluations)\n",
    "print(evalDataFrame)\n",
    "\n",
    "trainData.unpersist()\n",
    "cvData.unpersist()\n"
   ]
  },
  {
   "cell_type": "markdown",
   "metadata": {
    "collapsed": true
   },
   "source": [
    "#### Question 10.2 \n",
    "\n",
    "Using \"optimal\" hyper-parameters in question 10.1, re-train the model and show top-5 artist names recommendated for user 2093760."
   ]
  },
  {
   "cell_type": "code",
   "execution_count": 10,
   "metadata": {
    "collapsed": false
   },
   "outputs": [
    {
     "name": "stdout",
     "output_type": "stream",
     "text": [
      "['50 Cent', 'Snoop Dogg', 'Jay-Z', '2Pac', 'Eminem']\n"
     ]
    }
   ],
   "source": [
    "model = ALS.trainImplicit(allData, rank=evaluations[0][0][0], lambda_=evaluations[0][0][1], alpha=evaluations[0][0][2])\n",
    "\n",
    "#allData.unpersist()\n",
    "\n",
    "userID = 2093760\n",
    "recommendations = (model.recommendProducts(userID,5))\n",
    "\n",
    "\n",
    "# construct set of recommendated artists\n",
    "recArtists = set([prod.product for prod in recommendations])\n",
    "\n",
    "recList = artistByIDRDD.filter(artistNames).values().collect()\n",
    "\n",
    "print(recList)\n",
    "\n",
    "#unpersist(model)\n"
   ]
  },
  {
   "cell_type": "markdown",
   "metadata": {},
   "source": [
    "# Validation"
   ]
  },
  {
   "cell_type": "markdown",
   "metadata": {},
   "source": [
    "For better evaluating the performance of this statistical model, we decided to use also another validation tecnhique, called **Monte Carlo Cross-Validation** or (**MCCV**), which is a slightly modified version of the ``k``-fold cross validation method. \n",
    "\n",
    "In **``k``-fold**, the dataset is (statically) divided into ``k`` different folds. For each combination of parameters, the model is trained ``k`` times on (``k-1``) folds, each time leaving one different fold for performance evaluation. Under cross validation, each point gets tested exactly once.\n",
    "\n",
    "<img src=\"http://i.imgur.com/RjHBD0l.png\" width=\"520\">\n",
    "\n",
    "On the other hand, **MCCV** randomly splits the data each iteration indipendently, allowing an higher frexibility to avoid overfitting. Unlike the other techinques, it can avoid an unnecessarily complex model and therefore decreases the risk of overfitting. \n",
    "\n",
    "<img src=\"http://i.imgur.com/kFsUAGn.png\" width=\"520\">\n",
    "\n",
    "Since the partitions are done independently for each run, the same sample can appear in the test set multiple times, which is the major difference between MCCV and k-fold cross validation. Cross-validation, in fact, only explores a few of the possible ways that your data could have been partitioned. Monte Carlo lets you explore more possible partitions"
   ]
  },
  {
   "cell_type": "code",
   "execution_count": 62,
   "metadata": {
    "collapsed": false
   },
   "outputs": [
    {
     "name": "stdout",
     "output_type": "stream",
     "text": [
      "Train model with rank=10 lambda_=1.000000 alpha=1.000000\n",
      "\tIteration: \t 0  Time = \t 0.0005841255187988281\n",
      "\tIteration: \t 1  Time = \t 80.85874080657959\n",
      "\tIteration: \t 2  Time = \t 162.31797575950623\n",
      "\tIteration: \t 3  Time = \t 239.438472032547\n",
      "\tIteration: \t 4  Time = \t 318.6828546524048\n",
      "\tAUC_avg =  0.967564952216\n",
      "Train model with rank=10 lambda_=1.000000 alpha=40.000000\n",
      "\tIteration: \t 0  Time = \t 395.9121325016022\n",
      "\tIteration: \t 1  Time = \t 475.33537101745605\n",
      "\tIteration: \t 2  Time = \t 557.3577606678009\n",
      "\tIteration: \t 3  Time = \t 639.3230621814728\n",
      "\tIteration: \t 4  Time = \t 720.9542841911316\n",
      "\tAUC_avg =  0.974577745412\n",
      "Train model with rank=10 lambda_=0.000100 alpha=1.000000\n",
      "\tIteration: \t 0  Time = \t 798.1921212673187\n",
      "\tIteration: \t 1  Time = \t 874.3393032550812\n",
      "\tIteration: \t 2  Time = \t 953.7206492424011\n",
      "\tIteration: \t 3  Time = \t 1025.9648282527924\n",
      "\tIteration: \t 4  Time = \t 1099.9838933944702\n",
      "\tAUC_avg =  0.960653671149\n",
      "Train model with rank=10 lambda_=0.000100 alpha=40.000000\n",
      "\tIteration: \t 0  Time = \t 1175.018450975418\n",
      "\tIteration: \t 1  Time = \t 1255.2706637382507\n",
      "\tIteration: \t 2  Time = \t 1337.0032510757446\n",
      "\tIteration: \t 3  Time = \t 1425.9663302898407\n",
      "\tIteration: \t 4  Time = \t 1506.3639538288116\n",
      "\tAUC_avg =  0.974375207525\n",
      "Train model with rank=50 lambda_=1.000000 alpha=1.000000\n",
      "\tIteration: \t 0  Time = \t 1589.7412226200104\n",
      "\tIteration: \t 1  Time = \t 1729.1865413188934\n",
      "\tIteration: \t 2  Time = \t 1892.0920276641846\n",
      "\tIteration: \t 3  Time = \t 2050.980276823044\n",
      "\tIteration: \t 4  Time = \t 2215.6144592761993\n",
      "\tAUC_avg =  0.963185928444\n",
      "Train model with rank=50 lambda_=1.000000 alpha=40.000000\n",
      "\tIteration: \t 0  Time = \t 2389.5987679958344\n",
      "\tIteration: \t 1  Time = \t 2551.0953176021576\n",
      "\tIteration: \t 2  Time = \t 2716.187514066696\n",
      "\tIteration: \t 3  Time = \t 2858.717668771744\n",
      "\tIteration: \t 4  Time = \t 3009.955875635147\n",
      "\tAUC_avg =  0.973777230681\n",
      "Train model with rank=50 lambda_=0.000100 alpha=1.000000\n",
      "\tIteration: \t 0  Time = \t 3169.4089920520782\n",
      "\tIteration: \t 1  Time = \t 3322.094475507736\n",
      "\tIteration: \t 2  Time = \t 3485.450215101242\n",
      "\tIteration: \t 3  Time = \t 3637.165883541107\n",
      "\tIteration: \t 4  Time = \t 3778.1449642181396\n",
      "\tAUC_avg =  0.948551676308\n",
      "Train model with rank=50 lambda_=0.000100 alpha=40.000000\n",
      "\tIteration: \t 0  Time = \t 3944.502661705017\n",
      "\tIteration: \t 1  Time = \t 4103.401038885117\n",
      "\tIteration: \t 2  Time = \t 4259.525192975998\n",
      "\tIteration: \t 3  Time = \t 4406.254250049591\n",
      "\tIteration: \t 4  Time = \t 4561.495195865631\n",
      "\tAUC_avg =  0.972435485638\n",
      "                    0         1\n",
      "0     (10, 1.0, 40.0)  0.974578\n",
      "1  (10, 0.0001, 40.0)  0.974375\n",
      "2     (50, 1.0, 40.0)  0.973777\n",
      "3  (50, 0.0001, 40.0)  0.972435\n",
      "4      (10, 1.0, 1.0)  0.967565\n",
      "5      (50, 1.0, 1.0)  0.963186\n",
      "6   (10, 0.0001, 1.0)  0.960654\n",
      "7   (50, 0.0001, 1.0)  0.948552\n"
     ]
    }
   ],
   "source": [
    "evaluations = []\n",
    "t0 = time()\n",
    "\n",
    "for r in [10, 50]:\n",
    "    for l in [1.0, 0.0001]:\n",
    "        for a in [1.0, 40.0]:\n",
    "            print(\"Train model with rank=%d lambda_=%f alpha=%f\" % (r, l, a))\n",
    "            results = []\n",
    "            for i in range(0, 5):\n",
    "                t1 = time()\n",
    "                print('\\tIteration: \\t', i, ' Time = \\t', (t1 - t0))\n",
    "                trainData, cvData = allData.randomSplit([0.8, 0.2])\n",
    "\n",
    "                model = ALS.trainImplicit(trainData, rank = r, lambda_ = l, alpha = a )\n",
    "                auc = calculateAUC(cvData , bAllItemIDs , model.predictAll)\n",
    "                results.append(auc)\n",
    "                unpersist(model)\n",
    "                trainData.unpersist()\n",
    "                cvData.unpersist()\n",
    "            \n",
    "            print('\\tAUC_avg = ', np.mean(results))\n",
    "            evaluations.append(((r, l, a), np.mean(results)))\n",
    "            \n",
    "       \n",
    "evaluations.sort(key=lambda x:x[1], reverse=True)\n",
    "                 \n",
    "evalDataFrame = pd.DataFrame(data=evaluations)\n",
    "print(evalDataFrame)\n",
    "\n"
   ]
  },
  {
   "cell_type": "code",
   "execution_count": 63,
   "metadata": {
    "collapsed": false
   },
   "outputs": [
    {
     "name": "stdout",
     "output_type": "stream",
     "text": [
      "['[unknown]', 'My Chemical Romance', 'Weezer', 'Green Day', 'blink-182']\n"
     ]
    }
   ],
   "source": [
    "model = ALS.trainImplicit(allData, rank=evaluations[0][0][0], lambda_=evaluations[0][0][1], alpha=evaluations[0][0][2])\n",
    "#allData.unpersist()\n",
    "\n",
    "userID = 2093760\n",
    "recommendations = (model.recommendProducts(userID,5))\n",
    "\n",
    "\n",
    "# construct set of recommendated artists\n",
    "recArtists = set([prod.product for prod in recommendations])\n",
    "\n",
    "recList = artistByIDRDD.filter(artistNames).values().collect()\n",
    "\n",
    "print(recList)"
   ]
  },
  {
   "cell_type": "markdown",
   "metadata": {},
   "source": [
    "# Let's try to graphically visualize the features"
   ]
  },
  {
   "cell_type": "code",
   "execution_count": 18,
   "metadata": {
    "collapsed": false
   },
   "outputs": [],
   "source": [
    "model = ALS.trainImplicit(allData, rank=2, lambda_=1.0, alpha=40.0)"
   ]
  },
  {
   "cell_type": "code",
   "execution_count": 55,
   "metadata": {
    "collapsed": false
   },
   "outputs": [],
   "source": [
    "features = list(zip(*[f[1] for f in model.userFeatures().takeSample(False, 4000, 1235)]))"
   ]
  },
  {
   "cell_type": "code",
   "execution_count": 57,
   "metadata": {
    "collapsed": false
   },
   "outputs": [
    {
     "name": "stderr",
     "output_type": "stream",
     "text": [
      "/opt/conda/lib/python3.5/site-packages/matplotlib/collections.py:590: FutureWarning: elementwise comparison failed; returning scalar instead, but in the future will perform elementwise comparison\n",
      "  if self._edgecolors == str('face'):\n"
     ]
    },
    {
     "data": {
      "image/png": "[encoded data removed]",
      "text/plain": [
       "<matplotlib.figure.Figure at 0x7fb36cf42e80>"
      ]
     },
     "metadata": {},
     "output_type": "display_data"
    }
   ],
   "source": [
    "fig = plt.figure(figsize=(15,10), )\n",
    "ax = fig.add_subplot(111)\n",
    "\n",
    "ax.scatter(features[0], features[1])\n",
    "ax.set_xlabel('feature[0]')\n",
    "ax.set_ylabel('feature[1]')\n",
    "\n",
    "plt.title('User distribution in the feature-space', fontsize=20)\n",
    "\n",
    "ell1 = Ellipse(xy=[-0.9,1.25], width=1, height=3.5, angle=35, color='r', alpha=0.25)\n",
    "ell2 = Ellipse(xy=[-2,2.], width=.90, height=5, angle=132, color='g', alpha=0.25)\n",
    "ax.add_artist(ell1)\n",
    "ax.add_artist(ell2)\n",
    "\n",
    "plt.show()"
   ]
  },
  {
   "cell_type": "markdown",
   "metadata": {
    "collapsed": true
   },
   "source": [
    "<font color='blue'>\n",
    "Visualize the latent space reserves interesting points to discuss. \n",
    "<br><br>\n",
    "Firstly, users reppresented in their feature space are grouped following trends and this is justified by the nature of the problem: it is likely possible that users can have similar tastes are grouped together. It's fair to assume that this algorithm works really well for all those users. \n",
    "<br><br>\n",
    "On the other hand, even though a lot of samples (users) fall in one well-shaped category, there is someone with unique musical tastes difficult to satisfy. Here is where the algorithm is expected to fail.\n",
    "<br><br>\n",
    "Outliers, here, are representative of both _curious users_ (those who listen a lot of different artists), which are difficult to categorize, and _new users_, for which the system has not yet collected enough information to learn their preferences. \n",
    "</font>"
   ]
  },
  {
   "cell_type": "markdown",
   "metadata": {},
   "source": [
    "# Appendix 1\n",
    "\n",
    "## Let's try modify the ratings"
   ]
  },
  {
   "cell_type": "markdown",
   "metadata": {},
   "source": [
    "<font color='blue'>\n",
    "Here, our intent is to include some more information on the rating user-artist. For this purpose, we tried to use the data coming from the user activity and the user curiosity, to increase our belief on the preferences of users.\n",
    "The idea here is to extend the dimensionality of the rating with this extra information, then perform a PCA to go back to one dimension and finally perform the usual ASL. However after some experiments (some of them here below), it seems that after the PCA, we got results that are nearly similar to the original.\n",
    "</font>"
   ]
  },
  {
   "cell_type": "code",
   "execution_count": 108,
   "metadata": {
    "collapsed": false
   },
   "outputs": [
    {
     "name": "stdout",
     "output_type": "stream",
     "text": [
      "+-------+------------+-------------+\n",
      "| userID|activityRank|curiosityRank|\n",
      "+-------+------------+-------------+\n",
      "|1000061|      107637|        67154|\n",
      "|1000070|        1721|        58621|\n",
      "+-------+------------+-------------+\n",
      "only showing top 2 rows\n",
      "\n"
     ]
    }
   ],
   "source": [
    "featuresDataSchema = StructType([ \\\n",
    "    StructField(\"userID\", LongType(), True), \\\n",
    "    StructField(\"activityRank\", FloatType(), True), \\\n",
    "    StructField(\"curiosityRank\", FloatType(), True)])\n",
    "\n",
    "featureDF = curiousActiveRankDF.select('userID', 'activityRank', 'curiosityRank')\n",
    "featureDF.show(2)"
   ]
  },
  {
   "cell_type": "code",
   "execution_count": 105,
   "metadata": {
    "collapsed": false
   },
   "outputs": [
    {
     "name": "stdout",
     "output_type": "stream",
     "text": [
      "[(1000061, 0.6070736107709415), (1000070, 0.38948293635940484), (1000313, 0.4950850824766112), (1000832, 0.5976189173217848)]\n"
     ]
    }
   ],
   "source": [
    "maxActivityRank = featureDF.select(max('activityRank')).collect()[0][0]\n",
    "maxCuriosityRank = featureDF.select(max('curiosityRank')).collect()[0][0]\n",
    "\n",
    "featureRDD = featureDF.rdd\\\n",
    "    .map(lambda x:\\\n",
    "    (x[0], 1/(1.0+math.exp(-x[1]/maxActivityRank*2)) * 1/(1.0+math.exp((x[2]-maxCuriosityRank)/maxCuriosityRank*2))))\n",
    "\n",
    "#print(featureRDD.take(4))"
   ]
  },
  {
   "cell_type": "code",
   "execution_count": 89,
   "metadata": {
    "collapsed": false
   },
   "outputs": [
    {
     "name": "stdout",
     "output_type": "stream",
     "text": [
      "+-------+------------+-------------+\n",
      "| userID|activityRank|curiosityRank|\n",
      "+-------+------------+-------------+\n",
      "|1000061|      107637|        67154|\n",
      "|1000070|        1721|        58621|\n",
      "|1000313|      111351|       116490|\n",
      "|1000832|       68521|        28283|\n",
      "|1000905|      110204|       124149|\n",
      "+-------+------------+-------------+\n",
      "only showing top 5 rows\n",
      "\n",
      "+-------+------------+-------------+---------+------------+\n",
      "| userID|activityRank|curiosityRank|playCount|realArtistID|\n",
      "+-------+------------+-------------+---------+------------+\n",
      "|1000061|         1.0| 1.0855802E-5|       16|     1000158|\n",
      "|1000061|         1.0| 1.0855802E-5|        1|     1000193|\n",
      "|1000061|         1.0| 1.0855802E-5|        1|     1000451|\n",
      "|1000061|         1.0| 1.0855802E-5|        1|     1000906|\n",
      "|1000061|         1.0| 1.0855802E-5|        1|     1001348|\n",
      "|1000061|         1.0| 1.0855802E-5|        1|     1002036|\n",
      "|1000061|         1.0| 1.0855802E-5|        7|     1002068|\n",
      "|1000061|         1.0| 1.0855802E-5|        1|     1002270|\n",
      "|1000061|         1.0| 1.0855802E-5|        1|     1002357|\n",
      "|1000061|         1.0| 1.0855802E-5|        1|     1002397|\n",
      "|1000061|         1.0| 1.0855802E-5|        1|     1002557|\n",
      "|1000061|         1.0| 1.0855802E-5|        1|     1002621|\n",
      "|1000061|         1.0| 1.0855802E-5|        1|     1002958|\n",
      "|1000061|         1.0| 1.0855802E-5|        1|     1002996|\n",
      "|1000061|         1.0| 1.0855802E-5|        1|     1003162|\n",
      "|1000061|         1.0| 1.0855802E-5|        2|     1003164|\n",
      "|1000061|         1.0| 1.0855802E-5|        1|     1003447|\n",
      "|1000061|         1.0| 1.0855802E-5|        6|     1003578|\n",
      "|1000061|         1.0| 1.0855802E-5|        1|     1003591|\n",
      "|1000061|         1.0| 1.0855802E-5|        1|     1003719|\n",
      "+-------+------------+-------------+---------+------------+\n",
      "only showing top 20 rows\n",
      "\n",
      "+-------+------------+--------------------------------+\n",
      "|userID |realArtistID|features                        |\n",
      "+-------+------------+--------------------------------+\n",
      "|1000061|1000158     |[1.0,1.0855802429432515E-5,16.0]|\n",
      "|1000061|1000193     |[1.0,1.0855802429432515E-5,1.0] |\n",
      "|1000061|1000451     |[1.0,1.0855802429432515E-5,1.0] |\n",
      "|1000061|1000906     |[1.0,1.0855802429432515E-5,1.0] |\n",
      "|1000061|1001348     |[1.0,1.0855802429432515E-5,1.0] |\n",
      "+-------+------------+--------------------------------+\n",
      "only showing top 5 rows\n",
      "\n"
     ]
    }
   ],
   "source": [
    "featuresDataSchema = StructType([ \\\n",
    "    StructField(\"userID\", LongType(), True), \\\n",
    "    StructField(\"activityRank\", FloatType(), True), \\\n",
    "    StructField(\"curiosityRank\", FloatType(), True)])\n",
    "    \n",
    "featureDF = curiousActiveRankDF.select('userID', 'activityRank', 'curiosityRank')\n",
    "featureDF.show(5)\n",
    "\n",
    "featureRDD = featureDF.rdd.map(lambda x:(x[0], 1/(1.0+math.exp(-x[1]/5000)), 1/(1.0+math.exp((x[2]-10000)/5000))))\n",
    "\n",
    "featureDF = sqlContext.createDataFrame(featureRDD, featuresDataSchema)\n",
    "featureDF = featureDF.join(userArtistCleanDF, featureDF.userID==userArtistCleanDF.userID).drop(userArtistCleanDF.userID)\n",
    "featureDF.show()\n",
    "\n",
    "assembler = VectorAssembler(inputCols=[\"activityRank\", \"curiosityRank\", \"playCount\"], outputCol=\"features\")\n",
    "featureDF = assembler.transform(featureDF).select('userID', 'realArtistID', 'features')\n",
    "featureDF.show(5, truncate=False)"
   ]
  },
  {
   "cell_type": "code",
   "execution_count": 186,
   "metadata": {
    "collapsed": false
   },
   "outputs": [
    {
     "name": "stdout",
     "output_type": "stream",
     "text": [
      "+-------+--------------------+\n",
      "|userID |pca_feature         |\n",
      "+-------+--------------------+\n",
      "|1000061|[-317.095898605294] |\n",
      "|1000070|[-22184.44348678223]|\n",
      "|1000313|[-261.2135488339613]|\n",
      "|1000832|[-1391.405937867246]|\n",
      "|1000905|[-278.1079574375401]|\n",
      "+-------+--------------------+\n",
      "only showing top 5 rows\n",
      "\n"
     ]
    }
   ],
   "source": [
    "PCA_model = PCA(k=1, inputCol='features', outputCol=\"pca_feature\")\n",
    "model = PCA_model.fit(dataset=featureDF)\n",
    "\n",
    "PCA_featuresDF = model.transform(featureDF).select('userID', 'realArtistID', 'pca_feature')#.agg(abs('pca_feature'))\n",
    "PCA_features.show(5, truncate=False)"
   ]
  },
  {
   "cell_type": "markdown",
   "metadata": {},
   "source": [
    "# Summary\n",
    "\n",
    "In this notebook, we introduce an algorithm to do matrix factorization and the way of using it to make recommendation. Further more, we studied how to build a large-scale recommender system on SPARK using ALS algorithm and evaluate its quality. Finally, a simple approach to choose good parameters is mentioned."
   ]
  },
  {
   "cell_type": "markdown",
   "metadata": {
    "collapsed": true
   },
   "source": [
    "# References\n",
    "\n",
    "- The example in section 2 is taken from [Recommender system](infolab.stanford.edu/~ullman/mmds/ch9.pdf)"
   ]
  }
 ],
 "metadata": {
  "kernelspec": {
   "display_name": "Python 3",
   "language": "python",
   "name": "python3"
  },
  "language_info": {
   "codemirror_mode": {
    "name": "ipython",
    "version": 3
   },
   "file_extension": ".py",
   "mimetype": "text/x-python",
   "name": "python",
   "nbconvert_exporter": "python",
   "pygments_lexer": "ipython3",
   "version": "3.5.2"
  }
 },
 "nbformat": 4,
 "nbformat_minor": 0
}
