{
 "cells": [
  {
   "cell_type": "markdown",
   "metadata": {},
   "source": [
    "2017 Edition\n",
    "\n",
    "The work presented in this notebook has been done jointly by [Simone Rossi](https://srossi93.github.io/) and [Matteo Romiti](https://github.com/MatteoRomiti)"
   ]
  },
  {
   "cell_type": "markdown",
   "metadata": {},
   "source": [
    "# Goals\n",
    "The main goals of this project are the following:\n",
    "1. Revisit the concepts behind Decision Trees and Random Forests\n",
    "2. Build a simple methodology to address Data Science projects\n",
    "3. Use the existing implementation of Random Forests in MLLib in a specific use case, that is to predict the delay of flights\n",
    "\n",
    "# Steps\n",
    "\n",
    "- First, in section 1, we will go through a short introduction about the fundamentals of Decision Trees and Random Forests, such as feature definition, the form of a decision tree, how does it work and the idea of a forest of decision trees. If the student is familiar with these topics, skip to section 2.\n",
    "- In section 2, we delve into the details of the use case of this notebook including: providing the context, introducing the data and the basic methodology to address the project in this notebook\n",
    "- In section 3, we perform data exploration\n",
    "- In section 4, we build the statistical model and validate it"
   ]
  },
  {
   "cell_type": "markdown",
   "metadata": {},
   "source": [
    "# 1. Decision trees and Random Forests: Simple but Powerful Algorithms\n",
    "> Prediction is very difficult, especially if it’s about the future. (Niels Bohr)\n",
    "\n",
    "Decision trees are a very popular approach to prediction problems. Decision trees can be trained from both categorical and numerical features, to perform classification and regression. They are the oldest and most well-studied types of predictive analytics. In many analytics packages and libraries, most algorithms are devoted either to address classification or regression problems, and they include for example support vector machines (SVM), neural networks, naïve Bayes, logistic regression, and deep learning...\n",
    "\n",
    "In general, classification refers to the problem of predicting a label, or category, like *spam/not spam*, *rainy/sunny/mild*, for some given data. Regression refers to predicting a numeric quantity like salary, temperature, delay time, product's price. Both classification and regression involve predicting one (or more) values given one (or more) other input values. They require labelled data to perform a training phase, which builds the statistical model: they belong to *supervised learning* techniques.\n",
    "\n",
    "## 1.1 Feature definition\n",
    "To understand how regression and classification operate, it is necessary to briefly define the terms that describe their input and output. \n",
    "\n",
    "Assume that we want to predict the temperature of tomorrow given today's weather information.\n",
    "The weather information is a loose concept. For example, we can use many variables to express today's weather such as:\n",
    "* the average humidity today\n",
    "* today’s high temperature\n",
    "* today’s low temperature \n",
    "* wind speed\n",
    "* outlook: e.g. cloudy, rainy, or clear\n",
    "* ....\n",
    "\n",
    "These variables are called *features* or *dimensions*. \n",
    "\n",
    "Each variable can be quantified. For example, high and low temperatures are measured in degrees Celsius, humidity can be measured as a fraction between 0 and 1, and weather type can be labeled `cloudy`, `rainy` or `clear`...\n",
    "So, the weather today can be expressed by a list of values: `11.4, 18.0, 0.64, 20, cloudy`. \n",
    "Each feature is also called a `predictor`. Together, they constitute a `feature vector`.\n",
    "\n",
    "A feature whose domain is a set of categories is called **categorical feature**. In our example, `outlook` is a  categorical feature. A feature whose values are numerical is called **numerical feature**. In our example, `temperature` is a numerical feature.\n",
    "\n",
    "Finally, tomorrow's temperature, that is what we want to predict, is called *target feature*.\n",
    "\n",
    "## 1.2 Decision Trees & Random Forests\n",
    "The first question that you might ask is: \"Why Decision trees and not another approach?\"\n",
    "\n",
    "Well, the literature shows that the family of algorithms known as decision trees can naturally handle both categorical and numeric features. The training process is easy to understand. The model is easy to interpret. They are robust to outliers in the data, meaning that a few extreme and possibly erroneous data points should not affect the tree at all. The model can be trained in parallel easily. The accuracy is comparable to other methods... In short, there are lots of advantages when using decision trees with respect to other methods! \n",
    "\n",
    "The way we use a tree model is very simple to understand. We can say that this process \"mimics\" the way humans take decisions. For example, to decide whether to play football or not, a natural question would be \"does it rain now?\". If yes, the decision is `no`. If it's sunny, the condition is favorable to play football. A second natural question could be: \"is it windy?\". If no, then you may want to stay at home because otherwise it is going to be too hot. Otherwise, a third plausible question could be: \"do we have enough people?\". If no, then there's no point playing. Otherwise, time to play!\n",
    "\n",
    "Using a decision tree allows to follow a similar process to that described above (see the image below). Given a new input, the algorithm traverses the tree in a such a way that the input satisfies the condition of each node until reaching a leaf one. The value of the leaf node is the decision.\n",
    "\n",
    "![A decision tree](https://farm2.staticflickr.com/1690/24308350756_8533286fb5_z.jpg)\n",
    "\n",
    "The tree model in the figure is built from historical information concerning many past days. The `feature predictor` contains three features: Rain, Is_Windy, Enough_People.\n",
    "An example of the training data is as follows:\n",
    "\n",
    "Rain | Is_Windy | Enough_People | Play\n",
    "-----|----------|---------------|------\n",
    "Yes | Yes | No | No\n",
    "No  | No | No | No\n",
    "No | Yes | Yes | Yes\n",
    "No | No | Yes | No\n",
    "\n",
    "As you can see, in the training data, we know the values of predictors and we also know the corresponding answer: we have the ground truth.\n",
    "\n",
    "One limitation of decision trees is that it's easy to incur in overfitting problems. In other words, the model is too fit to the training data, it is too precise and not general enough. So, when testing the quality of predictions with different testing sets, accuracy could fluctuate. To overcome this limitation, the tree can be pruned after it is built, or even be pruned during the training process. Another approach is building a `Random Decision Forest`.\n",
    "\n",
    "A `Random Decision Forest`, as its name implies, is a forest of random Decision trees. Each tree element is built randomly from the training data. Randomization generally applies to:\n",
    "* Building new training data: Random selection of samples from the training data (with replacement) from the original training data\n",
    "* When building a node: Random selection of a subset of features\n",
    "\n",
    "To take a decision, the forest \"asks\" all trees about their prediction, and then chooses the outcome which is the most voted."
   ]
  },
  {
   "cell_type": "markdown",
   "metadata": {},
   "source": [
    "# 2. Use case: Flights delay prediction\n",
    "## 2.1 Context\n",
    "Every day, in US, there are thousands of flights departures and arrivals: unfortunately, as you may have noticed yourself, flight delays are not a rare event!! Now, given historical data about flights in the country, including the delay information that was computed *a-posteriori* (so the ground truth is available), we want to build a model that can be used to predict how many minutes of delay a flight might experience in the future. This model should provide useful information for the airport to manage better its resources, to minimize the delays and their impact on the journey of its passengers. Alternatively, astute passengers could even use the model to choose the best time for flying, such as to avoid delays.\n",
    "\n",
    "## 2.2 Data\n",
    "The data we will use in this notebook has been collected by the RITA (Research and Innovative Technology Administration), and it contains details facets about each air flight that happened in the US between 1987 and 2008. It includes 29 variables such as the origin airport, the destination airport, the scheduled departure time, day, month, the arrival delay... For more information, please visit the following [link](http://stat-computing.org/dataexpo/2009/the-data.html), that provides a lot of detail on the data. Our goal is to build a model to predict `the arrival delay`."
   ]
  },
  {
   "cell_type": "markdown",
   "metadata": {},
   "source": [
    "## 2.3 Methodology\n",
    "For our project, we can follow a simple methodology:\n",
    "\n",
    "- Understand clearly the context, the data and the goal of the project\n",
    "- Pre-process the data (data cleaning): the data can contain invalid values or missing values. We have to process our data to deal with them\n",
    "- Retrieve descriptive information about data: the idea is to discover if whether the data has patterns, whether features have patterns, the skew of values...\n",
    "- Select appropriate features: Only work with significant features will save us memory, communication cost, and ultimately, training time. Feature selection is also important as it can reduce the impact of noise that characterize the unimportant features.\n",
    "- Divide the data into training and testing set\n",
    "- Build a model from the feature in the training set\n",
    "- Test the model"
   ]
  },
  {
   "cell_type": "markdown",
   "metadata": {},
   "source": [
    "# 3. Let's play: Data Exploration\n",
    "Now it's time to apply the simple methodology outlined in section 2.3 on the use case of this notebook.\n",
    "<div class=\"alert alert-danger\">\n",
    "**Note:** The source code in this lecture should be executed sequentially in the order.\n",
    "</div>"
   ]
  },
  {
   "cell_type": "markdown",
   "metadata": {},
   "source": [
    "## 3.1 Understanding the data schema\n",
    "\n",
    "The data has 29 features, that can be either categorical or numerical. For example, the `src_airport` (source airport) is categorical: there exist no comparison operator between airport names. We can not say \"SGN is bigger than NCE\". The departure is numerical, for which a comparison operator exists. For instance, \"flight departing before 6PM\" can be express by \"departure_time < 1800\".\n",
    "\n",
    "In this use case, most features are numerical, except `carier`, `flight_number`, `cancelled`, `cancelation_code` and `diverted`. \n",
    "\n",
    "The data contains a header, that is useless in building the statistical model. In addition, we already know the data schema, so we can safely neglect it. Note that there are some features with missing values in some lines of the dataset. The missing values are marked by \"NA\". These values can cause problems when processing and can lead to unexpected results. Therefore, we need to remove the header and replace all \"NA\" values by empty values, such as they can be interpreted as null values.\n",
    "\n",
    "As we have seen already, there are multiple ways to manipulate data:\n",
    "\n",
    "- Using the RDD abstraction\n",
    "- Using the DataFrame abstraction. DataFrames can be thought of as distributed tables: each item is a list of values  (the columns). Also, the value in each row of each column can be accessed by the column's name.\n",
    "\n",
    "Next, we will focus on using DataFrames. However, to use DataFrames, the data must be clean (no invalid values). That means we cannot create DataFrame directly from the \"RAW\" data. Instead, we will first create an RDD from RAW data, produce a new, clean RDD, then transform it to a DataFrame and work on it. The RDD `cleaned_data` is an RDD[String]. We need to transform it to RDD[(TypeOfColumn1, TypeOfColumn2,.., TypeOfColumn29)] then call a function to create a DataFrame from the new RDD.\n"
   ]
  },
  {
   "cell_type": "markdown",
   "metadata": {},
   "source": [
    "## 3.2 Data cleaning\n",
    "Let's prepare for the cleaning step: Loading the data into an RDD.\n",
    "\n",
    "First, we need to import some useful python modules for this notebook."
   ]
  },
  {
   "cell_type": "code",
   "execution_count": 1,
   "metadata": {
    "collapsed": false
   },
   "outputs": [],
   "source": [
    "import os\n",
    "import sys\n",
    "import re\n",
    "import calendar\n",
    "import decimal\n",
    "import math\n",
    "from itertools import chain\n",
    "from time import time\n",
    "import seaborn as sns\n",
    "\n",
    "from pprint import pprint\n",
    "from pyspark import SparkContext\n",
    "from pyspark import SparkContext\n",
    "from pyspark.sql import SQLContext\n",
    "from pyspark.sql.types import *\n",
    "from pyspark.sql import Row\n",
    "from pyspark.sql.functions import *\n",
    "%matplotlib inline\n",
    "import matplotlib.pyplot as plt\n",
    "import pandas as pd\n",
    "import numpy as np\n",
    "import pyspark.sql.functions as func\n",
    "import matplotlib.patches as mpatches\n",
    "\n",
    "from pyspark.mllib.tree import DecisionTree, DecisionTreeModel\n",
    "from pyspark.mllib.util import MLUtils\n",
    "from pyspark.mllib.regression import LabeledPoint\n",
    "from pyspark.mllib.tree import RandomForest, RandomForestModel, GradientBoostedTrees, GradientBoostedTreesModel\n",
    "\n",
    "# to start testing, we can focus on a single year\n",
    "input_path = \"/datasets/airline/1994.csv\"\n",
    "raw_data = sc.textFile(input_path)"
   ]
  },
  {
   "cell_type": "markdown",
   "metadata": {},
   "source": [
    "### Question 1 \n",
    "Remove the header and replace the invalid values in our input dataset.\n",
    "\n",
    "#### Question 1.1\n",
    "\n",
    "<div class=\"alert alert-info\">\n",
    "\n",
    "How many records (rows) in the RAW data?\n",
    "\n",
    "</div>"
   ]
  },
  {
   "cell_type": "code",
   "execution_count": 2,
   "metadata": {
    "collapsed": false
   },
   "outputs": [
    {
     "name": "stdout",
     "output_type": "stream",
     "text": [
      "5180049\n"
     ]
    }
   ],
   "source": [
    "print(raw_data.count())"
   ]
  },
  {
   "cell_type": "code",
   "execution_count": 3,
   "metadata": {
    "collapsed": false
   },
   "outputs": [
    {
     "name": "stdout",
     "output_type": "stream",
     "text": [
      "['Year,Month,DayofMonth,DayOfWeek,DepTime,CRSDepTime,ArrTime,CRSArrTime,UniqueCarrier,FlightNum,TailNum,ActualElapsedTime,CRSElapsedTime,AirTime,ArrDelay,DepDelay,Origin,Dest,Distance,TaxiIn,TaxiOut,Cancelled,CancellationCode,Diverted,CarrierDelay,WeatherDelay,NASDelay,SecurityDelay,LateAircraftDelay',\n",
      " '1994,1,7,5,858,900,954,1003,US,227,NA,56,63,NA,-9,-2,CLT,ORF,290,NA,NA,0,NA,0,NA,NA,NA,NA,NA',\n",
      " '1994,1,8,6,859,900,952,1003,US,227,NA,53,63,NA,-11,-1,CLT,ORF,290,NA,NA,0,NA,0,NA,NA,NA,NA,NA',\n",
      " '1994,1,10,1,935,900,1023,1003,US,227,NA,48,63,NA,20,35,CLT,ORF,290,NA,NA,0,NA,0,NA,NA,NA,NA,NA',\n",
      " '1994,1,11,2,903,900,1131,1003,US,227,NA,148,63,NA,88,3,CLT,ORF,290,NA,NA,0,NA,0,NA,NA,NA,NA,NA']\n"
     ]
    }
   ],
   "source": [
    "pprint(raw_data.take(5))"
   ]
  },
  {
   "cell_type": "markdown",
   "metadata": {},
   "source": [
    "#### Question 1.2\n",
    "\n",
    "\n",
    "<div class=\"alert alert-info\">\n",
    "Except for the first column, the others might contain missing values, which are denoted by `NA`.  \n",
    "\n",
    "Remove the header and replace NA by an empty character. How many records are left after cleaning the RAW dataset?  \n",
    "\n",
    "<div class=\"label label-danger\">**NOTE**:</div> be careful with the valid values that can contain string `NA` inside.\n",
    "</div>"
   ]
  },
  {
   "cell_type": "code",
   "execution_count": 2,
   "metadata": {
    "collapsed": true
   },
   "outputs": [],
   "source": [
    "# extract the header\n",
    "header = raw_data.first()\n",
    "\n",
    "# replace invalid data with NULL and remove header\n",
    "cleaned_1994RDD = (raw_data\\\n",
    "                    # filter out the header\n",
    "                    .filter(lambda line : line != header)\n",
    "                    # replace the missing values with empty characters\n",
    "                    .map(lambda line : line.replace('NA', ''))\n",
    "                    )"
   ]
  },
  {
   "cell_type": "code",
   "execution_count": 5,
   "metadata": {
    "collapsed": false
   },
   "outputs": [
    {
     "name": "stdout",
     "output_type": "stream",
     "text": [
      "5180048\n"
     ]
    }
   ],
   "source": [
    "print(cleaned_1994RDD.count())"
   ]
  },
  {
   "cell_type": "code",
   "execution_count": 6,
   "metadata": {
    "collapsed": false
   },
   "outputs": [
    {
     "name": "stdout",
     "output_type": "stream",
     "text": [
      "['1994,1,7,5,858,900,954,1003,US,227,,56,63,,-9,-2,CLT,ORF,290,,,0,,0,,,,,',\n",
      " '1994,1,8,6,859,900,952,1003,US,227,,53,63,,-11,-1,CLT,ORF,290,,,0,,0,,,,,',\n",
      " '1994,1,10,1,935,900,1023,1003,US,227,,48,63,,20,35,CLT,ORF,290,,,0,,0,,,,,',\n",
      " '1994,1,11,2,903,900,1131,1003,US,227,,148,63,,88,3,CLT,ORF,290,,,0,,0,,,,,',\n",
      " '1994,1,12,3,933,900,1024,1003,US,227,,51,63,,21,33,CLT,ORF,290,,,0,,0,,,,,']\n"
     ]
    }
   ],
   "source": [
    "pprint(cleaned_1994RDD.take(5))"
   ]
  },
  {
   "cell_type": "markdown",
   "metadata": {},
   "source": [
    "## 3.3 Transforming our data to a DataFrame\n",
    "\n",
    "Now the data is clean, valid and can be used to create DataFrame. First, we will declare the data schema for the DataFrame. By doing that, we can specify the name and data type of each column."
   ]
  },
  {
   "cell_type": "code",
   "execution_count": 3,
   "metadata": {
    "collapsed": true
   },
   "outputs": [],
   "source": [
    "sqlContext = SQLContext(sc)\n",
    "\n",
    "\n",
    "# Declare the data schema\n",
    "# see http://stat-computing.org/dataexpo/2009/the-data.html\n",
    "# for more information\n",
    "airline_data_schema = StructType([ \\\n",
    "    #StructField( name, dataType, nullable)\n",
    "    StructField(\"year\",                     IntegerType(), True), \\\n",
    "    StructField(\"month\",                    IntegerType(), True), \\\n",
    "    StructField(\"day_of_month\",             IntegerType(), True), \\\n",
    "    StructField(\"day_of_week\",              IntegerType(), True), \\\n",
    "    StructField(\"departure_time\",           IntegerType(), True), \\\n",
    "    StructField(\"scheduled_departure_time\", IntegerType(), True), \\\n",
    "    StructField(\"arrival_time\",             IntegerType(), True), \\\n",
    "    StructField(\"scheduled_arrival_time\",   IntegerType(), True), \\\n",
    "    StructField(\"carrier\",                  StringType(),  True), \\\n",
    "    StructField(\"flight_number\",            StringType(),  True), \\\n",
    "    StructField(\"tail_number\",              StringType(), True), \\\n",
    "    StructField(\"actual_elapsed_time\",      IntegerType(), True), \\\n",
    "    StructField(\"scheduled_elapsed_time\",   IntegerType(), True), \\\n",
    "    StructField(\"air_time\",                 IntegerType(), True), \\\n",
    "    StructField(\"arrival_delay\",            IntegerType(), True), \\\n",
    "    StructField(\"departure_delay\",          IntegerType(), True), \\\n",
    "    StructField(\"src_airport\",              StringType(),  True), \\\n",
    "    StructField(\"dest_airport\",             StringType(),  True), \\\n",
    "    StructField(\"distance\",                 IntegerType(), True), \\\n",
    "    StructField(\"taxi_in_time\",             IntegerType(), True), \\\n",
    "    StructField(\"taxi_out_time\",            IntegerType(), True), \\\n",
    "    StructField(\"cancelled\",                StringType(),  True), \\\n",
    "    StructField(\"cancellation_code\",        StringType(),  True), \\\n",
    "    StructField(\"diverted\",                 StringType(),  True), \\\n",
    "    StructField(\"carrier_delay\",            IntegerType(), True), \\\n",
    "    StructField(\"weather_delay\",            IntegerType(), True), \\\n",
    "    StructField(\"nas_delay\",                IntegerType(), True), \\\n",
    "    StructField(\"security_delay\",           IntegerType(), True), \\\n",
    "    StructField(\"late_aircraft_delay\",      IntegerType(), True)\\\n",
    "])"
   ]
  },
  {
   "cell_type": "markdown",
   "metadata": {},
   "source": [
    "To \"convert\" an RDD to DataFrame, each element in the RDD must be a list of column values that match the data schema."
   ]
  },
  {
   "cell_type": "code",
   "execution_count": 4,
   "metadata": {
    "collapsed": false
   },
   "outputs": [],
   "source": [
    "# convert each line into a tuple of features (columns)\n",
    "cleaned_data_to_columns = cleaned_1994RDD.map(lambda l: l.split(\",\"))\\\n",
    "    .map(lambda cols: \n",
    "         (\n",
    "            int(cols[0])  if cols[0] else None,\n",
    "            int(cols[1])  if cols[1] else None,\n",
    "            int(cols[2])  if cols[2] else None,\n",
    "            int(cols[3])  if cols[3] else None,\n",
    "            int(cols[4])  if cols[4] else None,\n",
    "            int(cols[5])  if cols[5] else None,\n",
    "            int(cols[6])  if cols[6] else None,\n",
    "            int(cols[7])  if cols[7] else None,\n",
    "            cols[8]       if cols[8] else None,\n",
    "            cols[9]       if cols[9] else None,\n",
    "            cols[10]      if cols[10] else None,\n",
    "            int(cols[11]) if cols[11] else None,\n",
    "            int(cols[12]) if cols[12] else None,\n",
    "            int(cols[13]) if cols[13] else None,\n",
    "            int(cols[14]) if cols[14] else None,\n",
    "            int(cols[15]) if cols[15] else None,\n",
    "            cols[16]      if cols[16] else None,\n",
    "            cols[17]      if cols[17] else None,\n",
    "            int(cols[18]) if cols[18] else None,\n",
    "            int(cols[19]) if cols[19] else None,\n",
    "            int(cols[20]) if cols[20] else None,\n",
    "            cols[21]      if cols[21] else None,\n",
    "            cols[22]      if cols[22] else None,\n",
    "            cols[23]      if cols[23] else None,\n",
    "            int(cols[24]) if cols[24] else None,\n",
    "            int(cols[25]) if cols[25] else None,\n",
    "            int(cols[26]) if cols[26] else None,\n",
    "            int(cols[27]) if cols[27] else None,\n",
    "            int(cols[28]) if cols[28] else None\n",
    "         ))"
   ]
  },
  {
   "cell_type": "markdown",
   "metadata": {},
   "source": [
    "To train our model, we use the following features: `year`, `month`, `day_of_month`, `day_of_week`, `scheduled_departure_time`, `scheduled_arrival_time`, `arrival_delay`, `distance`, `src_airport`, `dest_airport`."
   ]
  },
  {
   "cell_type": "markdown",
   "metadata": {},
   "source": [
    "### Question 2\n",
    "\n",
    "<div class=\"alert alert-info\">\n",
    "From RDD `cleaned_data_to_columns` and the schema `airline_data_schema` which are declared before, create a new DataFrame **`df`**.  \n",
    "\n",
    "Note that, we should only select the necessary features defined above:  \n",
    "\n",
    "[ `year`, `month`, `day_of_month`, `day_of_week`, `scheduled_departure_time`, `scheduled_arrival_time`, `arrival_delay`, `distance`, `src_airport`, `dest_airport`].  \n",
    "\n",
    "Finally, the data should be cached.\n",
    "</div>"
   ]
  },
  {
   "cell_type": "code",
   "execution_count": 5,
   "metadata": {
    "collapsed": false
   },
   "outputs": [],
   "source": [
    "df_complete = sqlContext.createDataFrame(cleaned_data_to_columns, airline_data_schema).cache()\n",
    "df = df_complete.select('year', 'month', 'day_of_month', 'carrier', 'day_of_week', \\\n",
    "                        'scheduled_departure_time', 'scheduled_arrival_time', 'arrival_delay', 'distance', \\\n",
    "                        'src_airport', 'dest_airport', 'arrival_time')\\\n",
    "                .cache()"
   ]
  },
  {
   "cell_type": "markdown",
   "metadata": {
    "collapsed": true
   },
   "source": [
    "## 3.4 Descriptive statistics\n",
    "Next, we will go over a series of simple queries on our data, to explore it and compute statistics. These queries directly map to the questions you need to answer. \n",
    "\n",
    "**NOTE:** finding the right question to ask is difficult! Don't be afraid to complement the questions below, with your own questions that, in your opinion, are valuable ways to inspect data. This can give you extra points!\n",
    "\n",
    "- Basic queries:\n",
    "  - How many unique origin airports?\n",
    "  - How many unique destination airports?\n",
    "  - How many carriers?\n",
    "  - How many flights that have a scheduled departure time later than 18h00?\n",
    "  \n",
    "- Statistic on flight volume: this kind of statistics are helpful to reason about delays. Indeed, it is plausible to assume that \"*the more flights in an airport, the higher the probability of delay*\".\n",
    "  - How many flights in each month of the year?\n",
    "  - Is there any relationship between the number of flights and the days of week?\n",
    "  - How many flights in different days of months and in different hours of days?\n",
    "  - Which are the top 20 busiest airports (this depends on inbound and outbound traffic)?\n",
    "  - Which are the top 20 busiest carriers?\n",
    "  \n",
    "- Statistic on the fraction of delayed flights\n",
    "  - What is the percentage of delayed flights (over total flights) for different hours of the day?\n",
    "  - Which hours of the day are characterized by the longest flight delay?\n",
    "  - What are the fluctuation of the percentage of delayed flights over different time granularities?\n",
    "  - What is the percentage of delayed flights which depart from one of the top 20 busiest airports?\n",
    "  - What is the percentage of delayed flights which belong to one of the top 20 busiest carriers?"
   ]
  },
  {
   "cell_type": "markdown",
   "metadata": {},
   "source": [
    "### Question 3: Basic queries\n",
    "\n",
    "#### Question 3.1 \n",
    "<div class=\"alert alert-info\">\n",
    "How many origin airports? How many destination airports?\n",
    "</div>"
   ]
  },
  {
   "cell_type": "code",
   "execution_count": 6,
   "metadata": {
    "collapsed": false
   },
   "outputs": [
    {
     "name": "stdout",
     "output_type": "stream",
     "text": [
      "Number of origin airports.....:  224\n",
      "Number of destination airports:  225\n"
     ]
    }
   ],
   "source": [
    "num_src_airport = df.select('src_airport').distinct().count()\n",
    "num_dest_airport = df.select('dest_airport').distinct().count()\n",
    "print(\"Number of origin airports.....: \", num_src_airport)\n",
    "print(\"Number of destination airports: \", num_dest_airport)"
   ]
  },
  {
   "cell_type": "markdown",
   "metadata": {},
   "source": [
    "<div class=\"alert alert-warning\">We wonder why we don't have the same number of origin and destination airports. We investigate a bit more. </div>\n",
    "\n"
   ]
  },
  {
   "cell_type": "code",
   "execution_count": 7,
   "metadata": {
    "collapsed": true
   },
   "outputs": [],
   "source": [
    "src_airports_df = df.select('src_airport').distinct()\n",
    "dest_airports_df = df.select('dest_airport').distinct()"
   ]
  },
  {
   "cell_type": "code",
   "execution_count": 12,
   "metadata": {
    "collapsed": false
   },
   "outputs": [
    {
     "name": "stdout",
     "output_type": "stream",
     "text": [
      "+------------+\n",
      "|dest_airport|\n",
      "+------------+\n",
      "|         BFI|\n",
      "|         GUM|\n",
      "+------------+\n",
      "\n"
     ]
    }
   ],
   "source": [
    "dest_airports_df.subtract(src_airports_df).show()"
   ]
  },
  {
   "cell_type": "markdown",
   "metadata": {},
   "source": [
    "<div class=\"alert alert-warning\">\n",
    "We discover that our dataset contains only inbound flights for the Boeing Field International Airport, Seattle, Washington, and the Guam International Airport, Pacific Ocean.\n",
    "</div>"
   ]
  },
  {
   "cell_type": "code",
   "execution_count": 13,
   "metadata": {
    "collapsed": false
   },
   "outputs": [
    {
     "name": "stdout",
     "output_type": "stream",
     "text": [
      "+-----------+\n",
      "|src_airport|\n",
      "+-----------+\n",
      "|        SPN|\n",
      "+-----------+\n",
      "\n"
     ]
    }
   ],
   "source": [
    "src_airports_df.subtract(dest_airports_df).show()"
   ]
  },
  {
   "cell_type": "markdown",
   "metadata": {},
   "source": [
    "<div class=\"alert alert-warning\">\n",
    "Conversely, the Saipan International Airport appears in our dataset with outbound flights only.\n",
    "</div>"
   ]
  },
  {
   "cell_type": "code",
   "execution_count": 14,
   "metadata": {
    "collapsed": false
   },
   "outputs": [
    {
     "name": "stdout",
     "output_type": "stream",
     "text": [
      "+----+-----+---+-------+--------------+--------------+-------------+--------+-----------+------------+------------+\n",
      "|year|month|day|carrier|sched_dep_time|sched_arr_time|arrival_delay|distance|src_airport|dest_airport|arrival_time|\n",
      "+----+-----+---+-------+--------------+--------------+-------------+--------+-----------+------------+------------+\n",
      "|1994|    8| 26|     AS|          1950|            10|         null|    1444|        ANC|         BFI|        null|\n",
      "+----+-----+---+-------+--------------+--------------+-------------+--------+-----------+------------+------------+\n",
      "\n"
     ]
    }
   ],
   "source": [
    "df.filter(df.dest_airport == 'BFI').withColumnRenamed('scheduled_departure_time', 'sched_dep_time')\\\n",
    "                                   .withColumnRenamed('scheduled_arrival_time', 'sched_arr_time')\\\n",
    "                                   .withColumnRenamed('day_of_month', 'day')\\\n",
    "                                   .drop('day_of_week').show()"
   ]
  },
  {
   "cell_type": "code",
   "execution_count": 15,
   "metadata": {
    "collapsed": false
   },
   "outputs": [
    {
     "name": "stdout",
     "output_type": "stream",
     "text": [
      "+----+-----+---+-------+--------------+--------------+-------------+--------+-----------+------------+------------+\n",
      "|year|month|day|carrier|sched_dep_time|sched_arr_time|arrival_delay|distance|src_airport|dest_airport|arrival_time|\n",
      "+----+-----+---+-------+--------------+--------------+-------------+--------+-----------+------------+------------+\n",
      "|1994|   12|  4|     UA|          1405|          1455|           23|     129|        SPN|         GUM|        1518|\n",
      "|1994|   12|  7|     UA|          1405|          1455|           -3|     129|        SPN|         GUM|        1452|\n",
      "|1994|   12| 11|     UA|          1405|          1455|          -30|     129|        SPN|         GUM|        1425|\n",
      "|1994|   12| 14|     UA|          1405|          1455|          -13|     129|        SPN|         GUM|        1442|\n",
      "|1994|   12| 21|     UA|          1405|          1455|          -28|     129|        SPN|         GUM|        1427|\n",
      "|1994|   12| 25|     UA|          1405|          1455|          -27|     129|        SPN|         GUM|        1428|\n",
      "|1994|   12| 28|     UA|          1405|          1455|           -5|     129|        SPN|         GUM|        1450|\n",
      "+----+-----+---+-------+--------------+--------------+-------------+--------+-----------+------------+------------+\n",
      "\n"
     ]
    }
   ],
   "source": [
    "df.filter(df.dest_airport == 'GUM').withColumnRenamed('scheduled_departure_time', 'sched_dep_time')\\\n",
    "                                   .withColumnRenamed('scheduled_arrival_time', 'sched_arr_time')\\\n",
    "                                   .withColumnRenamed('day_of_month', 'day')\\\n",
    "                                   .drop('day_of_week').show()"
   ]
  },
  {
   "cell_type": "code",
   "execution_count": 16,
   "metadata": {
    "collapsed": false
   },
   "outputs": [
    {
     "name": "stdout",
     "output_type": "stream",
     "text": [
      "+----+-----+---+-------+--------------+--------------+-------------+--------+-----------+------------+------------+\n",
      "|year|month|day|carrier|sched_dep_time|sched_arr_time|arrival_delay|distance|src_airport|dest_airport|arrival_time|\n",
      "+----+-----+---+-------+--------------+--------------+-------------+--------+-----------+------------+------------+\n",
      "|1994|   12|  4|     UA|          1405|          1455|           23|     129|        SPN|         GUM|        1518|\n",
      "|1994|   12|  7|     UA|          1405|          1455|           -3|     129|        SPN|         GUM|        1452|\n",
      "|1994|   12| 11|     UA|          1405|          1455|          -30|     129|        SPN|         GUM|        1425|\n",
      "|1994|   12| 14|     UA|          1405|          1455|          -13|     129|        SPN|         GUM|        1442|\n",
      "|1994|   12| 21|     UA|          1405|          1455|          -28|     129|        SPN|         GUM|        1427|\n",
      "|1994|   12| 25|     UA|          1405|          1455|          -27|     129|        SPN|         GUM|        1428|\n",
      "|1994|   12| 28|     UA|          1405|          1455|           -5|     129|        SPN|         GUM|        1450|\n",
      "+----+-----+---+-------+--------------+--------------+-------------+--------+-----------+------------+------------+\n",
      "\n"
     ]
    }
   ],
   "source": [
    "df.filter(df.src_airport == 'SPN').withColumnRenamed('scheduled_departure_time', 'sched_dep_time')\\\n",
    "                                  .withColumnRenamed('scheduled_arrival_time', 'sched_arr_time')\\\n",
    "                                  .withColumnRenamed('day_of_month', 'day')\\\n",
    "                                  .drop('day_of_week').show()"
   ]
  },
  {
   "cell_type": "markdown",
   "metadata": {},
   "source": [
    "<div class=\"alert alert-warning\">\n",
    "We just found out that our dataset has two one-way-only route, between Saipan and Guam - with seasonal charters - and between Anchorage, Alaska and Seattle.\n",
    "</div>"
   ]
  },
  {
   "cell_type": "markdown",
   "metadata": {},
   "source": [
    "#### Question 3.2\n",
    "<div class=\"alert alert-info\">\n",
    "How many carriers?\n",
    "</div>"
   ]
  },
  {
   "cell_type": "code",
   "execution_count": 8,
   "metadata": {
    "collapsed": false
   },
   "outputs": [
    {
     "name": "stdout",
     "output_type": "stream",
     "text": [
      "Number of carriers:  10\n"
     ]
    }
   ],
   "source": [
    "num_carriers = df_complete.select('carrier').distinct().count()\n",
    "print(\"Number of carriers: \", num_carriers)"
   ]
  },
  {
   "cell_type": "markdown",
   "metadata": {},
   "source": [
    "#### Question 3.3\n",
    "\n",
    "<div class=\"alert alert-info\">\n",
    "How many night flights (that is, flights departing later than 6pm)?\n",
    "</div>"
   ]
  },
  {
   "cell_type": "code",
   "execution_count": 9,
   "metadata": {
    "collapsed": false
   },
   "outputs": [
    {
     "name": "stdout",
     "output_type": "stream",
     "text": [
      "Number of total flights:  5180048\n"
     ]
    }
   ],
   "source": [
    "total_flights = df_complete.count()\n",
    "print(\"Number of total flights: \", total_flights)"
   ]
  },
  {
   "cell_type": "code",
   "execution_count": 10,
   "metadata": {
    "collapsed": false
   },
   "outputs": [
    {
     "name": "stdout",
     "output_type": "stream",
     "text": [
      "Number of scheduled night flights:  1078203\n",
      "Percentage of night flights: 20.81%\n"
     ]
    }
   ],
   "source": [
    "num_scheduled_night_flights = df_complete    .select('scheduled_departure_time')\\\n",
    "                                             .filter(df_complete.scheduled_departure_time > 1800)\\\n",
    "                                             .count()\n",
    "print(\"Number of scheduled night flights: \", num_scheduled_night_flights)\n",
    "print(\"Percentage of night flights: %.2f%%\" % (100*num_scheduled_night_flights/total_flights))"
   ]
  },
  {
   "cell_type": "code",
   "execution_count": 11,
   "metadata": {
    "collapsed": false
   },
   "outputs": [
    {
     "name": "stdout",
     "output_type": "stream",
     "text": [
      "Number of actual night flights:  1094267\n"
     ]
    }
   ],
   "source": [
    "num_actual_night_flights = df_complete.select('scheduled_departure_time', 'departure_delay')\\\n",
    "                            .filter(df_complete.scheduled_departure_time + df_complete.departure_delay > 1800)\\\n",
    "                            .count()\n",
    "        \n",
    "print(\"Number of actual night flights: \", num_actual_night_flights)"
   ]
  },
  {
   "cell_type": "code",
   "execution_count": 21,
   "metadata": {
    "collapsed": false
   },
   "outputs": [
    {
     "name": "stdout",
     "output_type": "stream",
     "text": [
      "1.489886412855464\n"
     ]
    }
   ],
   "source": [
    "print(100*(num_actual_night_flights-num_scheduled_night_flights)/num_scheduled_night_flights)"
   ]
  },
  {
   "cell_type": "markdown",
   "metadata": {},
   "source": [
    "<div class=\"alert alert-warning\">We have an increase of ~1.5% of night flights due to departure delays.\n",
    "</div>"
   ]
  },
  {
   "cell_type": "markdown",
   "metadata": {},
   "source": [
    "### Question 4: Flight volume statistics\n",
    "\n",
    "#### Question 4.1: \n",
    "\n",
    "<div class=\"alert alert-info\">\n",
    "How many flights in each month of the year? Plot the changes over months by a line chart and comment the figure.\n",
    "From the result, we can learn the dynamics of flight volume over months. For example, if we only consider flights in 1994 (to start, it's always better to focus on smaller amount of data), we can discuss about which months are most likely to have flights experiencing delays.\n",
    "</div>\n"
   ]
  },
  {
   "cell_type": "code",
   "execution_count": 12,
   "metadata": {
    "collapsed": false
   },
   "outputs": [
    {
     "name": "stdout",
     "output_type": "stream",
     "text": [
      "+-----+------+\n",
      "|month| count|\n",
      "+-----+------+\n",
      "|    8|451086|\n",
      "|   10|449369|\n",
      "|   12|446521|\n",
      "|    7|443736|\n",
      "|    5|436432|\n",
      "|    3|435516|\n",
      "|    9|430861|\n",
      "|   11|428227|\n",
      "|    6|426490|\n",
      "|    1|423861|\n",
      "|    4|420995|\n",
      "|    2|386954|\n",
      "+-----+------+\n",
      "\n"
     ]
    },
    {
     "data": {
      "image/png": "[encoded data removed]",
      "text/plain": [
       "<matplotlib.figure.Figure at 0x7efd45889cc0>"
      ]
     },
     "metadata": {},
     "output_type": "display_data"
    }
   ],
   "source": [
    "statistic_month = df.groupBy('month').count().orderBy('count', ascending=0)\n",
    "statistic_month.show()\n",
    "\n",
    "pdf =  pd.DataFrame(data=statistic_month.collect())\n",
    "pdf_np = pdf.as_matrix()\n",
    "for i in range(12):\n",
    "    pdf_np[i,1] = pdf_np[i,1] / calendar.monthrange(1994,pdf_np[i,0])[1]\n",
    "# print(pdf_np)\n",
    "\n",
    "count = pdf_np[:,1]\n",
    "months = pdf_np[:,0]\n",
    "# print(months)\n",
    "y_pos = np.arange(len(months))\n",
    "\n",
    "plt.figure(figsize=(15,5))\n",
    "plt.xlabel(\"Counts\")\n",
    "plt.ylabel(\"Months\")\n",
    "plt.title('Number of flights over months')\n",
    "plt.yticks( y_pos, [calendar.month_name[month] for month in months])\n",
    "plt.barh(y_pos, count, align='center', alpha=0.4, color='orange')\n",
    "plt.show()\n"
   ]
  },
  {
   "cell_type": "markdown",
   "metadata": {},
   "source": [
    "<div class=\"alert alert-warning\">\n",
    "It's not easy to draw conclusions from these results: we normalized the total number of flights of each month with the number of days it has and it turns out August, October and December seem to be the busiest months. \n",
    "</div>"
   ]
  },
  {
   "cell_type": "code",
   "execution_count": 13,
   "metadata": {
    "collapsed": false
   },
   "outputs": [
    {
     "data": {
      "image/png": "[encoded data removed]",
      "text/plain": [
       "<matplotlib.figure.Figure at 0x7efd44fdbf28>"
      ]
     },
     "metadata": {},
     "output_type": "display_data"
    }
   ],
   "source": [
    "statistic_month_2 = None\n",
    "tmp = df_complete.filter(df_complete.cancelled != '1')\\\n",
    "                 .groupBy('month').count().orderBy('count', ascending=0)\\\n",
    "                 .withColumnRenamed('count', 'real_count')\n",
    "\n",
    "statistic_month_2 = tmp.join(statistic_month, statistic_month.month==tmp.month).drop(tmp.month)\\\n",
    "                       .withColumn('diff', statistic_month['count'] - tmp['real_count'])\\\n",
    "                        .drop('real_count', 'count').orderBy('diff', ascending=1)                   \n",
    "\n",
    "pdf_2 =  pd.DataFrame(data=statistic_month_2.collect())\n",
    "\n",
    "diff = pdf_2[1].values\n",
    "months = pdf_2[0].values\n",
    "y_pos = np.arange(len(months))\n",
    "\n",
    "plt.figure(figsize=(12,7))\n",
    "plt.xlabel(\"Months\")\n",
    "plt.ylabel(\"Number of flights\")\n",
    "plt.title('Number of cancelled flights over months')\n",
    "plt.yticks( y_pos, [calendar.month_name[i] for i in months])\n",
    "plt.barh(y_pos, diff, align='center', alpha=0.4, color='orange')\n",
    "plt.show()"
   ]
  },
  {
   "cell_type": "code",
   "execution_count": 14,
   "metadata": {
    "collapsed": false
   },
   "outputs": [
    {
     "name": "stdout",
     "output_type": "stream",
     "text": [
      "66740\n"
     ]
    }
   ],
   "source": [
    "total_cancelled = statistic_month_2.groupBy().sum('diff').collect()[0][0]\n",
    "print(total_cancelled)"
   ]
  },
  {
   "cell_type": "code",
   "execution_count": 15,
   "metadata": {
    "collapsed": false
   },
   "outputs": [
    {
     "name": "stdout",
     "output_type": "stream",
     "text": [
      "+-----+------------------+\n",
      "|month|              perc|\n",
      "+-----+------------------+\n",
      "|    1| 30.85855558885226|\n",
      "|    2|25.362601138747376|\n",
      "|    3| 7.801917890320648|\n",
      "|   12|6.4998501648186995|\n",
      "|    7|5.7117171111777045|\n",
      "|    6| 4.023074617920288|\n",
      "|   11| 3.987114174408151|\n",
      "|    4| 3.699430626311058|\n",
      "|    8|3.6364998501648182|\n",
      "|   10|3.2843871741084807|\n",
      "|    9| 2.617620617320947|\n",
      "|    5|2.5172310458495653|\n",
      "+-----+------------------+\n",
      "\n"
     ]
    }
   ],
   "source": [
    "perc_cancelled = statistic_month_2.withColumn('perc', (statistic_month_2['diff'] / total_cancelled)*100)\\\n",
    "                                  .drop('diff').orderBy('perc', ascending=0)\n",
    "perc_cancelled.show()"
   ]
  },
  {
   "cell_type": "markdown",
   "metadata": {},
   "source": [
    "<div class=\"alert alert-warning\">\n",
    "An interesting fact happens in January and February when most of the flights are cancelled, most probably due to bad weather conditions. We may also expect that these months will have a high number of delayed flights.\n",
    "</div>"
   ]
  },
  {
   "cell_type": "markdown",
   "metadata": {},
   "source": [
    "#### Question 4.2: \n",
    "<div class=\"alert alert-info\">\n",
    "Is there any relationship between the number of flights and the days of the week?  \n",
    "\n",
    "Plot a bar chart and interpret the figure.  \n",
    "\n",
    "By answering this question, we could learn about the importance of the weekend/weekday feature for our predictive task.\n",
    "</div>"
   ]
  },
  {
   "cell_type": "code",
   "execution_count": 16,
   "metadata": {
    "collapsed": false
   },
   "outputs": [
    {
     "name": "stdout",
     "output_type": "stream",
     "text": [
      "+-----------+------+\n",
      "|day_of_week| count|\n",
      "+-----------+------+\n",
      "|          3|756864|\n",
      "|          2|756532|\n",
      "|          1|754636|\n",
      "|          4|751537|\n",
      "|          5|751531|\n",
      "|          7|713703|\n",
      "|          6|695245|\n",
      "+-----------+------+\n",
      "\n"
     ]
    },
    {
     "data": {
      "image/png": "[encoded data removed]",
      "text/plain": [
       "<matplotlib.figure.Figure at 0x7efd61d2eac8>"
      ]
     },
     "metadata": {},
     "output_type": "display_data"
    }
   ],
   "source": [
    "statistic_month = df.groupBy('day_of_week').count().orderBy('count', ascending=0)\n",
    "statistic_month.show()\n",
    "pdf =  pd.DataFrame(data=statistic_month.collect())\n",
    "X = np.sort(pdf[0])\n",
    "\n",
    "plt.figure(figsize=(12,7))\n",
    "plt.xlabel(\"Months\")\n",
    "plt.ylabel(\"Number of flights\")\n",
    "plt.title('Number of flights over days')\n",
    "plt.yticks( pdf[0], [calendar.day_name[i] for i in range(0,7)])\n",
    "plt.barh(X, pdf[1], align='center', alpha=0.4, color='orange')\n",
    "\n",
    "plt.show()"
   ]
  },
  {
   "cell_type": "markdown",
   "metadata": {},
   "source": [
    "<div class=\"alert alert-warning\"> \n",
    "The busiest day seems to be Wednesday while on Saturday and Sunday there are less flighs. This is suggesting us weekdays could be suffer from delays in terms of frequency and in terms of delay minutes.\n",
    "</div>"
   ]
  },
  {
   "cell_type": "markdown",
   "metadata": {},
   "source": [
    "#### Question 4.3\n",
    "<div class=\"alert alert-info\">\n",
    "How many flights in different days of months and in different hours of days?  \n",
    "\n",
    "Plot  bar charts, and interpret your figures.\n",
    "</div>"
   ]
  },
  {
   "cell_type": "code",
   "execution_count": 17,
   "metadata": {
    "collapsed": false
   },
   "outputs": [
    {
     "name": "stdout",
     "output_type": "stream",
     "text": [
      "+------------+------+\n",
      "|day_of_month| count|\n",
      "+------------+------+\n",
      "|          11|172362|\n",
      "|          21|172283|\n",
      "|           7|172210|\n",
      "|          14|172081|\n",
      "|          18|171868|\n",
      "|          28|171760|\n",
      "|          22|171305|\n",
      "|          13|171230|\n",
      "|          27|171222|\n",
      "|          20|171142|\n",
      "|          15|170737|\n",
      "|          23|170695|\n",
      "|           8|170674|\n",
      "|           6|170650|\n",
      "|          10|170252|\n",
      "|          17|170132|\n",
      "|           9|170077|\n",
      "|          16|169985|\n",
      "|           2|169829|\n",
      "|           1|169674|\n",
      "|          12|169542|\n",
      "|          19|169483|\n",
      "|           4|169399|\n",
      "|          26|168767|\n",
      "|           3|168678|\n",
      "|           5|168423|\n",
      "|          25|167435|\n",
      "|          24|166379|\n",
      "|          30|155915|\n",
      "|          29|155695|\n",
      "|          31|100164|\n",
      "+------------+------+\n",
      "\n"
     ]
    },
    {
     "data": {
      "image/png": "[encoded data removed]",
      "text/plain": [
       "<matplotlib.figure.Figure at 0x7efd458897f0>"
      ]
     },
     "metadata": {},
     "output_type": "display_data"
    }
   ],
   "source": [
    "statistic_month = df.groupBy('day_of_month').count().orderBy('count', ascending=0)\n",
    "statistic_month.show(31)\n",
    "pdf =  pd.DataFrame(data=statistic_month.collect())\n",
    "pdf_np = pdf.as_matrix()\n",
    "for i in range(31):\n",
    "    if pdf_np[i,0] == 31:\n",
    "        pdf_np[i,1] = pdf_np[i,1] / 7 # 7 months with 31 days\n",
    "    if pdf_np[i,0] == 30 or pdf_np[i,0] == 29:\n",
    "        pdf_np[i,1] = pdf_np[i,1] / 11 # 11 months with 30 or 29 days\n",
    "    if pdf_np[i,0] < 29:\n",
    "        pdf_np[i,1] = pdf_np[i,1] / 12\n",
    "\n",
    "plt.figure(figsize=(15,5))\n",
    "plt.xlabel(\"Months\")\n",
    "plt.ylabel(\"Number of flights\")\n",
    "plt.title('Number of flights over day of month')\n",
    "plt.yticks( pdf_np[:,0], pdf_np[:,0])\n",
    "plt.barh(pdf_np[:,0], pdf_np[:,1], align='center', alpha=0.4, color='orange')\n",
    "\n",
    "plt.show()"
   ]
  },
  {
   "cell_type": "markdown",
   "metadata": {},
   "source": [
    "<div class=\"alert alert-warning\"> \n",
    "To extract correct information form our data, we need again to scale the number of flights per day of month considering how many months have 31 days, how many months have 30 days, and so on, otherwise we would get that day 31 is the one with less flights, since it appears in 7 months only. So, from the graph above we can see that on the 24th and 25th day we have slightly smaller number of flights. Can this be related to Christmas, when people probably celebrate at home instead of travelling? We think this could be the reason.\n",
    "</div>"
   ]
  },
  {
   "cell_type": "code",
   "execution_count": 18,
   "metadata": {
    "collapsed": false
   },
   "outputs": [
    {
     "data": {
      "image/png": "[encoded data removed]",
      "text/plain": [
       "<matplotlib.figure.Figure at 0x7efd44ed2cf8>"
      ]
     },
     "metadata": {},
     "output_type": "display_data"
    }
   ],
   "source": [
    "statistic_hours = None\n",
    "tmp = df_complete.select('departure_time').withColumn('hours', floor((df_complete['departure_time']%2400)/100))\\\n",
    "                 .select('hours')\n",
    "tmp = tmp.filter(tmp.hours.isNotNull()).groupBy('hours').count().orderBy('hours')\n",
    "pdf =  pd.DataFrame(data=tmp.collect())\n",
    "\n",
    "count = pdf[1].values\n",
    "hours = pdf[0].values\n",
    "y_pos = np.arange(len(hours))\n",
    "\n",
    "plt.figure(figsize=(15,7))\n",
    "plt.xlabel(\"Months\")\n",
    "plt.ylabel(\"Number of flights\")\n",
    "plt.title('Number of flights per hour')\n",
    "plt.yticks( y_pos, hours)\n",
    "plt.barh(y_pos, count, align='center', alpha=0.4, color='orange')\n",
    "plt.show()"
   ]
  },
  {
   "cell_type": "markdown",
   "metadata": {},
   "source": [
    "<div class=\"alert alert-warning\"> \n",
    "It's interesting to see that most of the flights in the US take place in the morning, probably when people go to work, during lunch time, and at the end of the working hours, around 5-6pm.  \n",
    "</div>"
   ]
  },
  {
   "cell_type": "markdown",
   "metadata": {},
   "source": [
    "#### Question 4.4\n",
    "<div class=\"alert alert-info\">\n",
    "Which are the **top 20** busiest airports: compute this in terms of aggregate inbound and outbound number of flights.\n",
    "</div>"
   ]
  },
  {
   "cell_type": "code",
   "execution_count": 19,
   "metadata": {
    "collapsed": false
   },
   "outputs": [
    {
     "name": "stdout",
     "output_type": "stream",
     "text": [
      "+-------+------+\n",
      "|airport| total|\n",
      "+-------+------+\n",
      "|    ORD|561461|\n",
      "|    DFW|516523|\n",
      "|    ATL|443074|\n",
      "|    LAX|306453|\n",
      "|    STL|304409|\n",
      "|    DEN|285526|\n",
      "|    PHX|280560|\n",
      "|    DTW|276272|\n",
      "|    PIT|262939|\n",
      "|    CLT|259712|\n",
      "|    MSP|247980|\n",
      "|    SFO|235478|\n",
      "|    EWR|233991|\n",
      "|    IAH|208591|\n",
      "|    LGA|203362|\n",
      "|    BOS|199696|\n",
      "|    LAS|189920|\n",
      "|    PHL|186897|\n",
      "|    DCA|176115|\n",
      "|    MCO|153720|\n",
      "+-------+------+\n",
      "only showing top 20 rows\n",
      "\n"
     ]
    }
   ],
   "source": [
    "# consider outbound flights\n",
    "stat_src = (df\n",
    "            .groupBy(df.src_airport)\n",
    "            .agg(func.count('*').alias('count1'))\n",
    "            )\n",
    "    \n",
    "# consider inbound flights\n",
    "stat_dest = (df\n",
    "            .groupBy(df.dest_airport)\n",
    "            .agg(func.count('*').alias('count2'))\n",
    "            )\n",
    "\n",
    "# full join the statistic of inbound flights and outbound flights\n",
    "stat_airports = stat_src.join(stat_dest, stat_src.src_airport == stat_dest.dest_airport, how='outer')\n",
    "\n",
    "# TOP 20 BUSIEST AIRPORTS\n",
    "stat_airport_traffic = (stat_airports\n",
    "                            # define the new column `total` \n",
    "                            # which has values are equal to the sum of `count1` and `count2`\n",
    "                            .withColumn('total', stat_airports['count1'] + stat_airports['count2'])\n",
    "                            .withColumn('airport', coalesce( stat_src.src_airport, stat_dest.dest_airport))\n",
    "                            # select top airpoint in termns of number of flights\n",
    "                            .select('airport', 'total').orderBy('total', ascending=0)\n",
    "                        )\n",
    "\n",
    "stat_airport_traffic.show(20)"
   ]
  },
  {
   "cell_type": "markdown",
   "metadata": {},
   "source": [
    "<div class=\"alert alert-success\">\n",
    "Chicago O'Hare International Airport, Dallas Fort Worth International Airport and Atlanta International Airport are the top three Airports in terms of aggregate number of flights. It may be of interest to see how these airports and the numbers change with the time. We will see this later on!\n",
    "</div>"
   ]
  },
  {
   "cell_type": "markdown",
   "metadata": {},
   "source": [
    "#### Question 4.5\n",
    "<div class=\"alert alert-info\">\n",
    "Which are the **top 20** busiest carriers: compute this in terms of number of flights? \n",
    "</div>\n"
   ]
  },
  {
   "cell_type": "code",
   "execution_count": 20,
   "metadata": {
    "collapsed": false
   },
   "outputs": [
    {
     "name": "stdout",
     "output_type": "stream",
     "text": [
      "+-------+------+\n",
      "|carrier| count|\n",
      "+-------+------+\n",
      "|     DL|874526|\n",
      "|     US|857906|\n",
      "|     AA|722277|\n",
      "|     UA|638750|\n",
      "|     WN|565426|\n",
      "|     CO|484834|\n",
      "|     NW|482798|\n",
      "|     TW|258205|\n",
      "|     HP|177851|\n",
      "|     AS|117475|\n",
      "+-------+------+\n",
      "\n"
     ]
    }
   ],
   "source": [
    "stat_carrier = (df_complete\n",
    "                .groupBy('carrier')\n",
    "                .agg(func.count('*').alias('count'))\n",
    "                .orderBy(desc('count'))\n",
    "                )\n",
    "\n",
    "stat_carrier.show(20)"
   ]
  },
  {
   "cell_type": "code",
   "execution_count": 21,
   "metadata": {
    "collapsed": false
   },
   "outputs": [
    {
     "name": "stdout",
     "output_type": "stream",
     "text": [
      "+-------+------+-----+\n",
      "|carrier| count| perc|\n",
      "+-------+------+-----+\n",
      "|     DL|874526|16.88|\n",
      "|     US|857906|16.56|\n",
      "|     AA|722277|13.94|\n",
      "|     UA|638750|12.33|\n",
      "|     WN|565426|10.92|\n",
      "|     CO|484834| 9.36|\n",
      "|     NW|482798| 9.32|\n",
      "|     TW|258205| 4.98|\n",
      "|     HP|177851| 3.43|\n",
      "|     AS|117475| 2.27|\n",
      "+-------+------+-----+\n",
      "\n"
     ]
    }
   ],
   "source": [
    "carrier_perc =  (stat_carrier\n",
    "                        .withColumn('perc', round(100 * stat_carrier['count'] / total_flights , 2))\n",
    "                        )\n",
    "carrier_perc.show()"
   ]
  },
  {
   "cell_type": "markdown",
   "metadata": {},
   "source": [
    "<div class=\"alert alert-warning\">\n",
    "Delta Airways, US Airways, American Airlines controlled almost 50% of the flights in the US. \n",
    "The rest of the market was shared by United Airlines, Southwest Airlines, Continental Airways, Northwest Airlines, Trans World Airlines, America West Airlines, Alaska Airlines.\n",
    "We can compare these results with the ones in 2008, again from the CLOUDS lab: we report below the ranking. \n",
    "<br>\n",
    "<ul>\n",
    "<li>Southwest Airlines</li>\n",
    "<li>American Airlines </li>\n",
    "<li>SkyWest Airlines </li>\n",
    "<li>Envoy Air </li>\n",
    "<li>Delta Air Lines</li> \n",
    "<li>United Airlines </li>\n",
    "<li>US Airways </li>\n",
    "<li>Northwest Airlines </li>\n",
    "<li>ExpressJet Airlines </li>\n",
    "<li>Continental Airlines</li>\n",
    "</ul>\n",
    "</div>\n"
   ]
  },
  {
   "cell_type": "markdown",
   "metadata": {},
   "source": [
    "### Question 5 \n",
    "Statistics on the percentage of delayed flights\n",
    "\n",
    "#### Question 5.1\n",
    "<div class=\"alert alert-info\">\n",
    "What is the percentage of delayed flights for different hours of the day?  \n",
    "\n",
    "Plot a bar chart and interpret the figure.  \n",
    "\n",
    "\n",
    "<div class=\"label label-success\">Remember</div> a flight is considered as delayed if it's actual arrival time is more than 15 minutes late than the scheduled arrival time.\n",
    "</div>"
   ]
  },
  {
   "cell_type": "code",
   "execution_count": 22,
   "metadata": {
    "collapsed": false
   },
   "outputs": [
    {
     "name": "stdout",
     "output_type": "stream",
     "text": [
      "+----+--------------------+\n",
      "|hour|         delay_ratio|\n",
      "+----+--------------------+\n",
      "| 0.0| 0.21857108778625955|\n",
      "| 1.0|  0.1953130721347492|\n",
      "| 2.0|  0.1257108650104759|\n",
      "| 3.0| 0.05060422960725076|\n",
      "| 4.0|0.020905923344947737|\n",
      "| 5.0| 0.09004687670336858|\n",
      "| 6.0| 0.09730253549834167|\n",
      "| 7.0| 0.13646693337728563|\n",
      "| 8.0| 0.16137670707541366|\n",
      "| 9.0| 0.17105296622742444|\n",
      "|10.0|  0.1655481946240578|\n",
      "|11.0|  0.1814461876085849|\n",
      "|12.0| 0.18515059145949272|\n",
      "|13.0| 0.19707376157901257|\n",
      "|14.0| 0.20102840269871247|\n",
      "|15.0| 0.22292034282833376|\n",
      "|16.0| 0.24391788007596998|\n",
      "|17.0|  0.2558112502669431|\n",
      "|18.0| 0.24965832147492534|\n",
      "|19.0|  0.2573748890741388|\n",
      "+----+--------------------+\n",
      "only showing top 20 rows\n",
      "\n"
     ]
    }
   ],
   "source": [
    "# create new column that marks whether the flights are delay\n",
    "df_with_delay = df.withColumn('is_delay', \\\n",
    "                              when((-df.scheduled_arrival_time + df.arrival_time) >= 15, 1).otherwise(0))\n",
    "\n",
    "# create a new column that indicates the scheduled departure time in hour \n",
    "# (ignore the part of minute)\n",
    "delay_per_hour = df_with_delay.withColumn('hour', round((df_with_delay.scheduled_departure_time)/100, 0)%24)\n",
    "\n",
    "# # group by hour\n",
    "statistic_delay_hour = delay_per_hour.groupBy(delay_per_hour.hour)\n",
    "delay_ratio_per_hour = statistic_delay_hour.agg(\n",
    "     (func.sum('is_delay')/func.count('*')).alias('delay_ratio')\n",
    " )\n",
    "\n",
    "# order the result by hour\n",
    "delay_ratio_per_hour = delay_ratio_per_hour.orderBy(delay_ratio_per_hour.hour, ascending=1)\n",
    "delay_ratio_per_hour.show()"
   ]
  },
  {
   "cell_type": "code",
   "execution_count": 23,
   "metadata": {
    "collapsed": false
   },
   "outputs": [
    {
     "data": {
      "image/png": "[encoded data removed]",
      "text/plain": [
       "<matplotlib.figure.Figure at 0x7efd40762f98>"
      ]
     },
     "metadata": {},
     "output_type": "display_data"
    }
   ],
   "source": [
    "# plot a bar chart\n",
    "pdf =  pd.DataFrame(data=delay_ratio_per_hour.collect())\n",
    "\n",
    "count = pdf[1].values\n",
    "hours = pdf[0].values\n",
    "y_pos = np.arange(len(hours))\n",
    "\n",
    "plt.figure(figsize=(15,5))\n",
    "plt.margins(0.05, 0)\n",
    "plt.xlabel(\"Months\")\n",
    "plt.ylabel(\"Number of flights\")\n",
    "#plt.yticks( y_pos, hours)\n",
    "plt.bar(y_pos, count, align='center', alpha=0.4, color='orange')\n",
    "\n",
    "plt.title('Delay ratio over day hours')\n",
    "plt.show()"
   ]
  },
  {
   "cell_type": "markdown",
   "metadata": {},
   "source": [
    "<div class=\"alert alert-warning\"> \n",
    "Even if the busiest hours in a day, according to the scheduled departure times, are 7am and 8am we don't see a high delay rate, rather we have the highest rates in the evening, when more airplanes may have accumulated some delay from the previous flights. \n",
    "</div>"
   ]
  },
  {
   "cell_type": "markdown",
   "metadata": {},
   "source": [
    "#### Question 5.2\n",
    "<div class=\"alert alert-info\">\n",
    "You will realize that saying *\"at 4 A.M. there is a very low chance of a flight being delayed\"* is not giving you a full picture of the situation. Indeed, it might be true that there is very little probability for an early flight to be delayed, but if it does, the delay might be huge, like 6 hours!  \n",
    "\n",
    "<ul></ul>\n",
    "\n",
    "Then, the question is: **which hours of the day are characterized by the largest delay?**  \n",
    "\n",
    "Plot a Bar chart and explain it.  \n",
    "\n",
    "</div>"
   ]
  },
  {
   "cell_type": "code",
   "execution_count": 25,
   "metadata": {
    "collapsed": false
   },
   "outputs": [
    {
     "name": "stdout",
     "output_type": "stream",
     "text": [
      "+----+-------------------+\n",
      "|hour|         mean_delay|\n",
      "+----+-------------------+\n",
      "| 0.0|  4.908624849215923|\n",
      "| 1.0|  2.490499075785582|\n",
      "| 2.0| 0.7306650616912429|\n",
      "| 3.0| -2.981707317073171|\n",
      "| 4.0|-1.5815602836879432|\n",
      "| 5.0|0.18995030369961347|\n",
      "| 6.0|0.37118355093077343|\n",
      "| 7.0|   1.65522334275665|\n",
      "| 8.0|  2.746347238480366|\n",
      "| 9.0|  3.286476893834055|\n",
      "|10.0|  3.414340124986133|\n",
      "|11.0|  4.020321999549651|\n",
      "|12.0|  4.425599754906828|\n",
      "|13.0|   5.16352674997001|\n",
      "|14.0|  5.775829448862078|\n",
      "|15.0|  7.212062362625936|\n",
      "|16.0|  8.392585126918885|\n",
      "|17.0|  9.218439766922927|\n",
      "|18.0|   9.41149137017387|\n",
      "|19.0|  9.777354006685492|\n",
      "+----+-------------------+\n",
      "only showing top 20 rows\n",
      "\n"
     ]
    }
   ],
   "source": [
    "# create a new column that indicates the scheduled departure time in hour \n",
    "# (ignore the part of minute)\n",
    "mean_delay_per_hour = statistic_delay_hour.agg(\n",
    "    (func.mean('arrival_delay')).alias('mean_delay')\n",
    ")\n",
    "\n",
    "mean_delay_per_hour = (\n",
    "    mean_delay_per_hour\n",
    "        .orderBy(mean_delay_per_hour.hour, ascending=1)\n",
    "    )\n",
    "mean_delay_per_hour.show()   "
   ]
  },
  {
   "cell_type": "code",
   "execution_count": 27,
   "metadata": {
    "collapsed": false,
    "scrolled": true
   },
   "outputs": [
    {
     "data": {
      "image/png": "[encoded data removed]",
      "text/plain": [
       "<matplotlib.figure.Figure at 0x7efd40621ba8>"
      ]
     },
     "metadata": {},
     "output_type": "display_data"
    }
   ],
   "source": [
    "pdf =  pd.DataFrame(data=mean_delay_per_hour.collect())\n",
    "\n",
    "count = pdf[1].values\n",
    "hours = pdf[0].values\n",
    "x_pos = np.arange(len(hours))\n",
    "\n",
    "plt.figure(figsize=(15,5))\n",
    "plt.xlabel(\"Hours\")\n",
    "plt.ylabel(\"Minutes\")\n",
    "plt.bar(x_pos, count, align='center', alpha=0.4, color='orange')\n",
    "plt.margins(0.005,0.01)\n",
    "plt.title('Average delay over hours in a day')\n",
    "plt.show()"
   ]
  },
  {
   "cell_type": "markdown",
   "metadata": {},
   "source": [
    "<div class=\"alert alert-warning\"> Towards the end of the day, we see the highest values for the average delay. This can be due to accumulated delays over the day of the specific aircraft. </div>"
   ]
  },
  {
   "cell_type": "markdown",
   "metadata": {},
   "source": [
    "With data from year 1994, flights from 3AM to 4AM often arrive earlier as scheduled. The flights in the morning have less delay then in the afternoon and evening.\n",
    "\n",
    "So, an attentive student should notice here that we have somehow a problem with the definition of delay! Next, we will improve how to represent and visualize data to overcome this problem."
   ]
  },
  {
   "cell_type": "code",
   "execution_count": 28,
   "metadata": {
    "collapsed": false
   },
   "outputs": [
    {
     "data": {
      "image/png": "[encoded data removed]",
      "text/plain": [
       "<matplotlib.figure.Figure at 0x7efd45abeb70>"
      ]
     },
     "metadata": {},
     "output_type": "display_data"
    }
   ],
   "source": [
    "pdf_mean_delay_per_hour = pd.DataFrame(data=mean_delay_per_hour.collect())\n",
    "pdf_delay_ratio_per_hour =  pd.DataFrame(data=delay_ratio_per_hour.collect())\n",
    "\n",
    "\n",
    "plt.figure(figsize=(15,5))\n",
    "plt.margins(0.05, 0)\n",
    "plt.xlabel(\"Hours\")\n",
    "plt.ylabel(\"Ratio of delay\")\n",
    "plt.title('Delay ratio over daily hours')\n",
    "bars = plt.bar(pdf_delay_ratio_per_hour[0], pdf_delay_ratio_per_hour[1], align='center', edgecolor = \"black\")\n",
    "for i in range(0, len(bars)):\n",
    "    color = 'red'\n",
    "    if pdf_mean_delay_per_hour[1][i] < 0:\n",
    "        color = 'lightgreen'\n",
    "    elif pdf_mean_delay_per_hour[1][i] < 2:\n",
    "        color = 'green'\n",
    "    elif pdf_mean_delay_per_hour[1][i] < 4:\n",
    "        color = 'yellow'\n",
    "    elif pdf_mean_delay_per_hour[1][i] < 8:\n",
    "        color = 'orange'\n",
    "\n",
    "    bars[i].set_color(color)\n",
    "        \n",
    "patch1 = mpatches.Patch(color='lightgreen', alpha=0.4, label='Arrive earlier')\n",
    "patch2 = mpatches.Patch(color='g', alpha=0.4, label='delay < 2 minutes')\n",
    "patch3 = mpatches.Patch(color='yellow', alpha=0.4, label='delay < 4 minutes')\n",
    "patch4 = mpatches.Patch(color='orange', alpha=0.4, label='delay < 8 minutes')\n",
    "patch5 = mpatches.Patch(color='red',alpha=0.4, label='delay >= 8 minutes')\n",
    "\n",
    "plt.legend(handles=[patch1, patch2, patch3, patch4, patch5], bbox_to_anchor=(1.05, 1), loc=2, borderaxespad=0.)\n",
    "\n",
    "plt.show()"
   ]
  },
  {
   "cell_type": "markdown",
   "metadata": {},
   "source": [
    "In the new figure, we have more information in a single plot. The flights in 3AM to 4AM have very low probability of being delayed, and actually depart earlier than their schedule. In contrast, the flights in the 4PM to 8PM range have higher chances of being delayed: in more than 50% of the cases, the delay is 8 minutes or more.\n",
    "\n",
    "This example shows us that the way representing results are also important.\n"
   ]
  },
  {
   "cell_type": "markdown",
   "metadata": {},
   "source": [
    "#### Question 5.3\n",
    "<div class=\"alert alert-info\">\n",
    "Plot a bar chart to show the percentage of delayed flights over days in a month\n",
    "</div>"
   ]
  },
  {
   "cell_type": "code",
   "execution_count": 37,
   "metadata": {
    "collapsed": false
   },
   "outputs": [
    {
     "name": "stdout",
     "output_type": "stream",
     "text": [
      "+------------+-------------------+------------------+\n",
      "|day_of_month|        delay_ratio|        mean_delay|\n",
      "+------------+-------------------+------------------+\n",
      "|           1|0.14879121138182633| 4.047704074041008|\n",
      "|           2|0.15071630875763267| 4.227194389614107|\n",
      "|           3| 0.1485433785081635| 3.590318679798095|\n",
      "|           4|0.14438692082007568|3.6649673171142756|\n",
      "|           5| 0.1699233477612915|5.3340552768051595|\n",
      "|           6|0.16375036624670378| 5.207485277251199|\n",
      "|           7|0.16580918645839382| 6.392013638139436|\n",
      "|           8|0.16666861970774693| 6.134743140211592|\n",
      "|           9|0.18872040311153185|  7.36157083085715|\n",
      "|          10|0.18175997932476565| 6.060638044126416|\n",
      "|          11|0.14892493705109014| 4.355033613144351|\n",
      "|          12| 0.1677401469842281|5.6656073340262045|\n",
      "|          13| 0.1782981954096829| 6.286658305429677|\n",
      "|          14|0.16844393047460207| 6.064203168193637|\n",
      "|          15|0.17487129327562273| 5.524883753865036|\n",
      "|          16|0.17532135188398976| 5.502420739350232|\n",
      "|          17| 0.1699503914607481|5.1851916313572035|\n",
      "|          18|0.17341797193194777|  5.83205496016692|\n",
      "|          19|0.14538331278063288|3.7398656114678213|\n",
      "|          20|0.17571373479332952|  5.79274042688792|\n",
      "|          21|0.18875919272360012| 7.237415318027851|\n",
      "|          22| 0.1770000875631184| 5.792557113448278|\n",
      "|          23| 0.1762910454319107| 6.219020757180935|\n",
      "|          24|0.16173916179325515|4.6865574686126426|\n",
      "|          25|0.16903275898109715|  6.01513905889374|\n",
      "|          26|0.19714754661752593| 7.366604662922363|\n",
      "|          27| 0.2196271507166135|  9.68927304700307|\n",
      "|          28|0.20485561248253376| 7.766759009314991|\n",
      "|          29|0.16665275057002474| 5.984390630480818|\n",
      "|          30|0.14167976140845973|3.7392410142245116|\n",
      "|          31| 0.1546164290563476| 4.313608511755146|\n",
      "+------------+-------------------+------------------+\n",
      "\n"
     ]
    }
   ],
   "source": [
    "df_with_delay = df.withColumn('is_delay', when(df_complete.arrival_delay >= 15, 1).otherwise(0))\n",
    "statistic_day_of_month = (\n",
    "    df_with_delay\n",
    "        .groupBy(df_with_delay.day_of_month)\n",
    "        .agg((sum('is_delay')/func.count('*')).alias('delay_ratio'), \\\n",
    "             func.mean('arrival_delay').alias('mean_delay'))\n",
    "        # order by day_of_month\n",
    "        .orderBy(df_with_delay.day_of_month, ascending=1)\n",
    "    )\n",
    "statistic_day_of_month.show(31)"
   ]
  },
  {
   "cell_type": "code",
   "execution_count": 38,
   "metadata": {
    "collapsed": false
   },
   "outputs": [
    {
     "data": {
      "image/png": "[encoded data removed]",
      "text/plain": [
       "<matplotlib.figure.Figure at 0x7fa1937285c0>"
      ]
     },
     "metadata": {},
     "output_type": "display_data"
    }
   ],
   "source": [
    "pdf_day_of_month =  pd.DataFrame(data=statistic_day_of_month.collect())\n",
    "\n",
    "count = pdf_day_of_month[1].values\n",
    "days = pdf_day_of_month[0].values\n",
    "y_pos = np.arange(len(days))\n",
    "\n",
    "plt.figure(figsize=(15,5))\n",
    "plt.xlabel(\"Minutes\")\n",
    "plt.ylabel(\"Days\")\n",
    "plt.yticks( y_pos, days)\n",
    "plt.barh(y_pos, count, align='center', alpha=0.4, color='orange')\n",
    "\n",
    "plt.title('Delay ratio over days of month')\n",
    "plt.show()"
   ]
  },
  {
   "cell_type": "markdown",
   "metadata": {},
   "source": [
    "<div class=\"alert alert-warning\"> \n",
    "At the beginning of the month, we have generally less delays, but we also try to understand a bit more what happened on day 27, since it has the highest value. \n",
    "</div>"
   ]
  },
  {
   "cell_type": "code",
   "execution_count": 39,
   "metadata": {
    "collapsed": false
   },
   "outputs": [
    {
     "data": {
      "image/png": "[encoded data removed]",
      "text/plain": [
       "<matplotlib.figure.Figure at 0x7fa193601550>"
      ]
     },
     "metadata": {},
     "output_type": "display_data"
    }
   ],
   "source": [
    "pdf_mean_delay_per_daym = pd.DataFrame(data=statistic_day_of_month.select('day_of_month', 'mean_delay').collect())\n",
    "pdf_delay_ratio_per_daym =  pd.DataFrame(data=statistic_day_of_month.select('day_of_month', 'delay_ratio').collect())\n",
    "\n",
    "\n",
    "plt.figure(figsize=(15,5))\n",
    "plt.margins(0.05, 0)\n",
    "plt.xlabel(\"Days\")\n",
    "plt.ylabel(\"Ratio of delay\")\n",
    "plt.title('Delay ratio over months')\n",
    "bars = plt.bar(pdf_delay_ratio_per_daym[0], pdf_delay_ratio_per_daym[1], align='center', edgecolor = \"black\")\n",
    "for i in range(0, len(bars)):\n",
    "    color = 'red'\n",
    "    if pdf_mean_delay_per_daym[1][i] < 0:\n",
    "        color = 'lightgreen'\n",
    "    elif pdf_mean_delay_per_daym[1][i] < 2:\n",
    "        color = 'green'\n",
    "    elif pdf_mean_delay_per_daym[1][i] < 4:\n",
    "        color = 'yellow'\n",
    "    elif pdf_mean_delay_per_daym[1][i] < 8:\n",
    "        color = 'orange'\n",
    "\n",
    "    bars[i].set_color(color)\n",
    "        \n",
    "patch1 = mpatches.Patch(color='lightgreen', alpha=0.4, label='Depart earlier')\n",
    "patch2 = mpatches.Patch(color='g', alpha=0.4, label='delay < 2 minutes')\n",
    "patch3 = mpatches.Patch(color='yellow', alpha=0.4, label='delay < 4 minutes')\n",
    "patch4 = mpatches.Patch(color='orange', alpha=0.4, label='delay < 8 minutes')\n",
    "patch5 = mpatches.Patch(color='red',alpha=0.4, label='delay >= 8 minutes')\n",
    "\n",
    "plt.legend(handles=[patch1, patch2, patch3, patch4, patch5], bbox_to_anchor=(1.05, 1), loc=2, borderaxespad=0.)\n",
    "\n",
    "plt.show()"
   ]
  },
  {
   "cell_type": "code",
   "execution_count": 40,
   "metadata": {
    "collapsed": false
   },
   "outputs": [
    {
     "name": "stdout",
     "output_type": "stream",
     "text": [
      "+-----+-----+\n",
      "|month|count|\n",
      "+-----+-----+\n",
      "|   11| 5806|\n",
      "|    1| 5284|\n",
      "|    4| 3523|\n",
      "|    3| 3517|\n",
      "|    6| 3113|\n",
      "|    7| 3092|\n",
      "|   12| 2495|\n",
      "|    9| 2100|\n",
      "|    2| 2007|\n",
      "|    5| 1765|\n",
      "|    8| 1522|\n",
      "|   10| 1426|\n",
      "+-----+-----+\n",
      "\n"
     ]
    }
   ],
   "source": [
    "specific_delay_month = df.filter(df.day_of_month == 27)\\\n",
    "                         .filter(df.arrival_delay > 15)\\\n",
    "                         .groupBy('month').agg(func.count('*').alias('count'))\\\n",
    "                         .orderBy('count', ascending = 0)\n",
    "specific_delay_month.show()"
   ]
  },
  {
   "cell_type": "markdown",
   "metadata": {},
   "source": [
    "<div class=\"alert alert-warning\"> \n",
    "We try to focus on November.\n",
    "</div>"
   ]
  },
  {
   "cell_type": "code",
   "execution_count": 41,
   "metadata": {
    "collapsed": false
   },
   "outputs": [
    {
     "name": "stdout",
     "output_type": "stream",
     "text": [
      "+-------+-----------+-------------+-----------+------------+-------------+-------------+---------+--------------+\n",
      "|carrier|tail_number|arrival_delay|src_airport|dest_airport|carrier_delay|weather_delay|nas_delay|aircraft_delay|\n",
      "+-------+-----------+-------------+-----------+------------+-------------+-------------+---------+--------------+\n",
      "|     US|       null|           45|        PHL|         PIT|         null|         null|     null|          null|\n",
      "|     US|       null|           39|        CLT|         OAJ|         null|         null|     null|          null|\n",
      "|     US|       null|           29|        CMH|         PIT|         null|         null|     null|          null|\n",
      "|     US|       null|           31|        PIT|         SBN|         null|         null|     null|          null|\n",
      "|     US|       null|           30|        LGA|         PIT|         null|         null|     null|          null|\n",
      "|     US|       null|           27|        PIT|         IAH|         null|         null|     null|          null|\n",
      "|     US|       null|           20|        SRQ|         CLT|         null|         null|     null|          null|\n",
      "|     US|       null|           25|        CLT|         JAX|         null|         null|     null|          null|\n",
      "|     US|       null|           25|        MCI|         CLT|         null|         null|     null|          null|\n",
      "|     US|       null|           21|        CVG|         PIT|         null|         null|     null|          null|\n",
      "|     US|       null|           48|        PIT|         SWF|         null|         null|     null|          null|\n",
      "|     US|       null|           28|        CLT|         DAB|         null|         null|     null|          null|\n",
      "|     US|       null|           70|        BUF|         LGA|         null|         null|     null|          null|\n",
      "|     US|       null|           17|        GRR|         CLT|         null|         null|     null|          null|\n",
      "|     US|       null|           16|        CLT|         PIT|         null|         null|     null|          null|\n",
      "|     US|       null|           17|        BUF|         CLT|         null|         null|     null|          null|\n",
      "|     US|       null|           56|        CLT|         DAB|         null|         null|     null|          null|\n",
      "|     US|       null|           25|        CLT|         ALB|         null|         null|     null|          null|\n",
      "|     US|       null|           89|        LAX|         BWI|         null|         null|     null|          null|\n",
      "|     US|       null|          132|        SFO|         LAX|         null|         null|     null|          null|\n",
      "+-------+-----------+-------------+-----------+------------+-------------+-------------+---------+--------------+\n",
      "only showing top 20 rows\n",
      "\n"
     ]
    }
   ],
   "source": [
    "df_complete.filter(df.day_of_month == 27)\\\n",
    "  .filter(df.arrival_delay > 15)\\\n",
    "  .filter(df.month == 11)\\\n",
    "  .select('carrier', 'tail_number', 'arrival_delay', 'src_airport', 'dest_airport', 'carrier_delay', \\\n",
    "          'weather_delay', 'nas_delay', 'late_aircraft_delay')\\\n",
    "  .withColumnRenamed('late_aircraft_delay', 'aircraft_delay').show()"
   ]
  },
  {
   "cell_type": "markdown",
   "metadata": {},
   "source": [
    "<div class=\"alert alert-warning\"> \n",
    "Unfortunately, we didn't find any useful information about the delay type in our data, but we see that it is related to some airports (PIT - Pittsburgh, CLT - Charlotte) and always with the same carrier.\n",
    "</div>"
   ]
  },
  {
   "cell_type": "code",
   "execution_count": 42,
   "metadata": {
    "collapsed": false
   },
   "outputs": [
    {
     "name": "stdout",
     "output_type": "stream",
     "text": [
      "+-----------+------------+------------------------+----------------------+-------------+\n",
      "|src_airport|dest_airport|scheduled_departure_time|scheduled_arrival_time|arrival_delay|\n",
      "+-----------+------------+------------------------+----------------------+-------------+\n",
      "|        LAS|         SEA|                    2359|                   219|           71|\n",
      "|        OMA|         LNK|                    2355|                    27|           50|\n",
      "|        LAS|         CLT|                    2355|                   657|           19|\n",
      "|        ABQ|         TUS|                    2355|                    45|           48|\n",
      "|        LAX|         SFO|                    2350|                   100|           40|\n",
      "|        PDX|         ORD|                    2335|                   516|          104|\n",
      "|        LAS|         PIT|                    2335|                   646|           24|\n",
      "|        LAS|         DFW|                    2332|                   358|          150|\n",
      "|        PHX|         LAS|                    2330|                  2330|           18|\n",
      "|        LAS|         COS|                    2326|                   204|           87|\n",
      "|        PNS|         MOB|                    2325|                  2350|           47|\n",
      "|        PVD|         PWM|                    2325|                     6|          109|\n",
      "|        RIC|         ORF|                    2325|                  2357|          121|\n",
      "|        MDT|         ABE|                    2320|                  2347|           61|\n",
      "|        ALB|         PWM|                    2320|                     1|          177|\n",
      "|        ATL|         EWR|                    2320|                   110|           39|\n",
      "|        ATL|         MCO|                    2316|                    30|           40|\n",
      "|        ATL|         MEM|                    2316|                  2325|           59|\n",
      "|        ATL|         MSY|                    2315|                  2340|           53|\n",
      "|        LAS|         CMH|                    2315|                   547|           57|\n",
      "+-----------+------------+------------------------+----------------------+-------------+\n",
      "only showing top 20 rows\n",
      "\n"
     ]
    }
   ],
   "source": [
    "df_complete.filter(df.day_of_month == 27)\\\n",
    "  .filter(df.arrival_delay > 15)\\\n",
    "  .filter(df.month == 11)\\\n",
    "  .select('src_airport', 'dest_airport', 'scheduled_departure_time', 'scheduled_arrival_time', 'arrival_delay')\\\n",
    "  .orderBy('scheduled_departure_time', ascending = 0).show()"
   ]
  },
  {
   "cell_type": "markdown",
   "metadata": {},
   "source": [
    "<div class=\"alert alert-warning\">\n",
    "From here, we can see that some delays depend on the departure airports: ATL and LAS seem to have experienced some problems.\n",
    "</div>\n"
   ]
  },
  {
   "cell_type": "markdown",
   "metadata": {},
   "source": [
    "#### Question 5.4\n",
    "<div class=\"alert alert-info\">\n",
    "Plot a bar chart to show the percentage of delayed flights over days in a week\n",
    "</div>"
   ]
  },
  {
   "cell_type": "code",
   "execution_count": 43,
   "metadata": {
    "collapsed": false
   },
   "outputs": [
    {
     "name": "stdout",
     "output_type": "stream",
     "text": [
      "+-----------+-------------------+------------------+\n",
      "|day_of_week|        count_delay|        mean_delay|\n",
      "+-----------+-------------------+------------------+\n",
      "|          1|0.16329197122851283| 5.263077576154884|\n",
      "|          2|0.15330349542385516| 4.738548604915077|\n",
      "|          3| 0.1815121342803991| 6.977115566590911|\n",
      "|          4|0.19779731403776526| 7.648937926405837|\n",
      "|          5|0.19487020495495197| 7.354033802099836|\n",
      "|          6|0.14140914353932788|3.1383468665175154|\n",
      "|          7|0.15609574290706357| 4.286022611063714|\n",
      "+-----------+-------------------+------------------+\n",
      "\n"
     ]
    }
   ],
   "source": [
    "df_with_delay = df.withColumn('is_delay', when(df_complete.arrival_delay >= 15, 1).otherwise(0))\n",
    "statistic_day_of_week = (\n",
    "    df_with_delay\n",
    "        .groupBy(df_with_delay.day_of_week)\n",
    "        .agg((sum('is_delay')/func.count('*')).alias('count_delay'),\\\n",
    "             func.mean('arrival_delay').alias('mean_delay'))\n",
    "        # order by day_of_month\n",
    "        .orderBy(df_with_delay.day_of_week, ascending=1)\n",
    "    )\n",
    "statistic_day_of_week.show(7)"
   ]
  },
  {
   "cell_type": "code",
   "execution_count": 44,
   "metadata": {
    "collapsed": false
   },
   "outputs": [
    {
     "data": {
      "image/png": "[encoded data removed]",
      "text/plain": [
       "<matplotlib.figure.Figure at 0x7fa1935f87f0>"
      ]
     },
     "metadata": {},
     "output_type": "display_data"
    }
   ],
   "source": [
    "pdf_day_of_week =  pd.DataFrame(data=statistic_day_of_week.collect())\n",
    "\n",
    "count = pdf_day_of_week[1].values\n",
    "days = pdf_day_of_week[0].values\n",
    "y_pos = np.arange(len(days))\n",
    "\n",
    "plt.figure(figsize=(15,5))\n",
    "plt.xlabel(\"Ratio\")\n",
    "plt.ylabel(\"Days\")\n",
    "plt.yticks( y_pos, [calendar.day_name[i-1] for i in days])\n",
    "plt.barh(y_pos, count, align='center', alpha=0.4, color='orange')\n",
    "\n",
    "plt.title('Delay ratio over days of week')\n",
    "plt.show()"
   ]
  },
  {
   "cell_type": "code",
   "execution_count": 45,
   "metadata": {
    "collapsed": false
   },
   "outputs": [
    {
     "data": {
      "image/png": "[encoded data removed]",
      "text/plain": [
       "<matplotlib.figure.Figure at 0x7fa198b67470>"
      ]
     },
     "metadata": {},
     "output_type": "display_data"
    }
   ],
   "source": [
    "pdf_mean_delay_per_dayw = pd.DataFrame(data=statistic_day_of_week.select('day_of_week', 'mean_delay').collect())\n",
    "pdf_delay_ratio_per_dayw = pd.DataFrame(data=statistic_day_of_week.select('day_of_week', 'count_delay').collect())\n",
    "\n",
    "\n",
    "plt.figure(figsize=(15,5))\n",
    "plt.margins(0.05, 0)\n",
    "plt.xlabel(\"Days of week\")\n",
    "plt.ylabel(\"Ratio of delay\")\n",
    "plt.title('Delay ratio over weeks')\n",
    "bars = plt.bar(pdf_delay_ratio_per_dayw[0], pdf_delay_ratio_per_dayw[1], align='center', edgecolor = \"black\")\n",
    "for i in range(0, len(bars)):\n",
    "    color = 'red'\n",
    "    if pdf_mean_delay_per_dayw[1][i] < 0:\n",
    "        color = 'lightgreen'\n",
    "    elif pdf_mean_delay_per_dayw[1][i] < 2:\n",
    "        color = 'green'\n",
    "    elif pdf_mean_delay_per_dayw[1][i] < 4:\n",
    "        color = 'yellow'\n",
    "    elif pdf_mean_delay_per_dayw[1][i] < 8:\n",
    "        color = 'orange'\n",
    "\n",
    "    bars[i].set_color(color)\n",
    "        \n",
    "patch1 = mpatches.Patch(color='lightgreen', alpha=0.4, label='Depart earlier')\n",
    "patch2 = mpatches.Patch(color='g', alpha=0.4, label='delay < 2 minutes')\n",
    "patch3 = mpatches.Patch(color='yellow', alpha=0.4, label='delay < 4 minutes')\n",
    "patch4 = mpatches.Patch(color='orange', alpha=0.4, label='delay < 8 minutes')\n",
    "patch5 = mpatches.Patch(color='red',alpha=0.4, label='delay >= 8 minutes')\n",
    "\n",
    "plt.legend(handles=[patch1, patch2, patch3, patch4, patch5], bbox_to_anchor=(1.05, 1), loc=2, borderaxespad=0.)\n",
    "\n",
    "plt.show()"
   ]
  },
  {
   "cell_type": "markdown",
   "metadata": {},
   "source": [
    "<div class=\"alert alert-warning\"> \n",
    "Days in the middle of the week experience the highest delay frequency. This is a bad news for airlines with customers travelling for work during the week!\n",
    "</div>"
   ]
  },
  {
   "cell_type": "markdown",
   "metadata": {},
   "source": [
    "#### Question 5.5\n",
    "<div class=\"alert alert-info\">\n",
    "Plot a bar chart to show the percentage of delayed flights over months in a year\n",
    "</div>"
   ]
  },
  {
   "cell_type": "code",
   "execution_count": 46,
   "metadata": {
    "collapsed": false
   },
   "outputs": [
    {
     "name": "stdout",
     "output_type": "stream",
     "text": [
      "+-----+-------------------+------------------+\n",
      "|month|        count_delay|        mean_delay|\n",
      "+-----+-------------------+------------------+\n",
      "|    1|0.24275411042771097|10.700433047042505|\n",
      "|    2|0.21423476692320018|  9.21163894842508|\n",
      "|    3|0.16042808989796012| 4.509724110951733|\n",
      "|    4|0.16188790840746328|5.3110195501970345|\n",
      "|    5|0.11835291637643436|2.3457444235327722|\n",
      "|    6|0.17327956106825482| 6.609869842253827|\n",
      "|    7|0.19398696522256476| 7.877674453596449|\n",
      "|    8|0.15460023144145463| 5.211512636774567|\n",
      "|    9|0.11516243057505784|2.0335722685781485|\n",
      "|   10|0.13426382327218833|3.4944407362776677|\n",
      "|   11|0.18429477823677629| 5.577380756172331|\n",
      "|   12| 0.1956167795019719| 5.978600390278839|\n",
      "+-----+-------------------+------------------+\n",
      "\n"
     ]
    }
   ],
   "source": [
    "df_with_delay = df_complete.withColumn('is_delay', when(df_complete.arrival_delay >= 15, 1).otherwise(0))\n",
    "statistic_month = (\n",
    "    df_with_delay\n",
    "        .groupBy(df_with_delay.month)\n",
    "        .agg((sum('is_delay')/func.count('*')).alias('count_delay'), func.mean('arrival_delay').alias('mean_delay'))\n",
    "        # order by day_of_month\n",
    "        .orderBy(df_with_delay.month, ascending=1)\n",
    "    )\n",
    "statistic_month.show(12)"
   ]
  },
  {
   "cell_type": "code",
   "execution_count": 47,
   "metadata": {
    "collapsed": false
   },
   "outputs": [
    {
     "data": {
      "image/png": "[encoded data removed]",
      "text/plain": [
       "<matplotlib.figure.Figure at 0x7fa1937f74e0>"
      ]
     },
     "metadata": {},
     "output_type": "display_data"
    }
   ],
   "source": [
    "pdf_month =  pd.DataFrame(data=statistic_month.collect())\n",
    "\n",
    "count = pdf_month[1].values\n",
    "months = pdf_month[0].values\n",
    "y_pos = np.arange(len(months))\n",
    "\n",
    "plt.figure(figsize=(15,5))\n",
    "plt.xlabel(\"Ratio\")\n",
    "plt.ylabel(\"Month\")\n",
    "plt.yticks( y_pos, [calendar.month_name[i] for i in months])\n",
    "plt.barh(y_pos, count, align='center', alpha=0.4, color='orange')\n",
    "\n",
    "plt.title('Delay ratio over months')\n",
    "plt.show()"
   ]
  },
  {
   "cell_type": "code",
   "execution_count": 48,
   "metadata": {
    "collapsed": false
   },
   "outputs": [
    {
     "data": {
      "image/png": "[encoded data removed]",
      "text/plain": [
       "<matplotlib.figure.Figure at 0x7fa198b672b0>"
      ]
     },
     "metadata": {},
     "output_type": "display_data"
    }
   ],
   "source": [
    "pdf_mean_delay_per_m = pd.DataFrame(data=statistic_month.select('month', 'mean_delay').collect())\n",
    "pdf_delay_ratio_per_m =  pd.DataFrame(data=statistic_month.select('month', 'count_delay').collect())\n",
    "\n",
    "\n",
    "plt.figure(figsize=(15,5))\n",
    "plt.margins(0.05, 0)\n",
    "plt.xlabel(\"Months\")\n",
    "plt.ylabel(\"Ratio of delay\")\n",
    "plt.title('Delay ratio over months')\n",
    "\n",
    "bars = plt.bar(pdf_delay_ratio_per_m[0], pdf_delay_ratio_per_m[1], align='center', edgecolor = \"black\")\n",
    "for i in range(0, len(bars)):\n",
    "    color = 'red'\n",
    "    if pdf_mean_delay_per_m[1][i] < 0:\n",
    "        color = 'lightgreen'\n",
    "    elif pdf_mean_delay_per_m[1][i] < 2:\n",
    "        color = 'green'\n",
    "    elif pdf_mean_delay_per_m[1][i] < 4:\n",
    "        color = 'yellow'\n",
    "    elif pdf_mean_delay_per_m[1][i] < 8:\n",
    "        color = 'orange'\n",
    "\n",
    "    bars[i].set_color(color)\n",
    "        \n",
    "patch1 = mpatches.Patch(color='lightgreen', alpha=0.4, label='Depart earlier')\n",
    "patch2 = mpatches.Patch(color='g', alpha=0.4, label='delay < 2 minutes')\n",
    "patch3 = mpatches.Patch(color='yellow', alpha=0.4, label='delay < 4 minutes')\n",
    "patch4 = mpatches.Patch(color='orange', alpha=0.4, label='delay < 8 minutes')\n",
    "patch5 = mpatches.Patch(color='red',alpha=0.4, label='delay >= 8 minutes')\n",
    "\n",
    "plt.legend(handles=[patch1, patch2, patch3, patch4, patch5], bbox_to_anchor=(1.05, 1), loc=2, borderaxespad=0.)\n",
    "\n",
    "plt.show()"
   ]
  },
  {
   "cell_type": "markdown",
   "metadata": {},
   "source": [
    "<div class=\"alert alert-warning\"> \n",
    "Recalling the fact that August, October and December are the busiest months, we don't see that much of correlation with this latest result. We see instead an increment of delay ratio during winter (January and February) when weather conditions may be unfavourable. We can instead classify May and September as \"quiet months\".\n",
    "</div>"
   ]
  },
  {
   "cell_type": "markdown",
   "metadata": {},
   "source": [
    "We are ready now to draw some observations from our data, even if we have only looked at data coming from a year worth of flights:\n",
    "\n",
    "- The probability for a flight to be delayed is low at the beginning or at the very end of a given months\n",
    "- Flights on two first weekdays and on the weekend, are less likely to be delayed\n",
    "- May and September are very good months for travelling, as the probability of delay is low (remember we're working on US data. Do you think this is also true in France?)\n"
   ]
  },
  {
   "cell_type": "markdown",
   "metadata": {},
   "source": [
    "<div class=\"alert alert-warning\"> \n",
    "We think we should get similar results for flights in France because both the nations share similar liestyles, holiday seasons. In France though, weather conditions may be different and this could influence positively the flights.\n",
    "</div>"
   ]
  },
  {
   "cell_type": "markdown",
   "metadata": {},
   "source": [
    "Putting things together, we can have a global picture of the whole year!"
   ]
  },
  {
   "cell_type": "code",
   "execution_count": 49,
   "metadata": {
    "collapsed": false
   },
   "outputs": [],
   "source": [
    "df_with_delay = df_complete.withColumn('is_delay', when(df[\"arrival_delay\"] >= 15, 1).otherwise(0))\n",
    "statistic_day = df_with_delay.groupBy(['year','month', 'day_of_month', 'day_of_week'])\\\n",
    "    .agg((func.sum('is_delay')/func.count('*')).alias('delay_ratio'))\n",
    "\n",
    "# assume we do statistic on year 1994\n",
    "statistic_day = statistic_day.orderBy('year', 'month', 'day_of_month', 'day_of_week')\n",
    "pdf = pd.DataFrame(data=statistic_day.collect())"
   ]
  },
  {
   "cell_type": "code",
   "execution_count": 50,
   "metadata": {
    "collapsed": false
   },
   "outputs": [
    {
     "data": {
      "image/png": "[encoded data removed]",
      "text/plain": [
       "<matplotlib.figure.Figure at 0x7fa19371fba8>"
      ]
     },
     "metadata": {},
     "output_type": "display_data"
    }
   ],
   "source": [
    "fig = plt.figure(figsize=(30,20))                                                             \n",
    "ax = fig.add_subplot(1,1,1)     \n",
    "plt.xlabel(\"Weeks/Months in year\")\n",
    "plt.ylabel(\"Day of weeks (1:Monday -> 7 :Sunday)\")\n",
    "plt.title('Number of flights over days in year')\n",
    "  \n",
    "rec_size = 0.3\n",
    "from matplotlib.patches import Rectangle\n",
    "import datetime\n",
    "num_days = len(pdf[0])\n",
    "ax.patch.set_facecolor('gray')\n",
    "ax.set_aspect('equal', 'box')\n",
    "ax.xaxis.set_major_locator(plt.NullLocator())\n",
    "ax.yaxis.set_major_locator(plt.NullLocator())\n",
    "\n",
    "for i in range(0, num_days):\n",
    "    # extract information from the result\n",
    "    year = pdf[0][i]\n",
    "    month = pdf[1][i]\n",
    "    day_of_month = pdf[2][i]\n",
    "    day_of_week = pdf[3][i]\n",
    "    day_of_year= datetime.date(year=year, month=month, day=day_of_month).timetuple()\n",
    "    week_of_year = datetime.date(year=year, month=month, day=day_of_month).isocalendar()[1]\n",
    "    \n",
    "    # dealing with the week of the previous year\n",
    "    if week_of_year == 52 and month == 1:\n",
    "        week_of_year = 0\n",
    "        \n",
    "    # the coordinates of a day in graph\n",
    "    X = week_of_year*rec_size\n",
    "    Y = day_of_week*rec_size\n",
    "    \n",
    "    # use different colors to show the delay ratio\n",
    "    color = 'white'\n",
    "    if pdf[4][i] <= 0.084:\n",
    "        color = 'lightyellow'\n",
    "    elif pdf[4][i] <= 0.117:\n",
    "        color = 'lightgreen'\n",
    "    elif pdf[4][i] <= 0.152:\n",
    "        color = 'gold'\n",
    "    elif pdf[4][i] <= 0.201:\n",
    "        color = 'orange'\n",
    "    else:\n",
    "        color = 'red'\n",
    "    rect = plt.Rectangle((X - rec_size/2.0, Y - rec_size/2.0), rec_size, rec_size,\n",
    "                      alpha=1, facecolor=color, edgecolor='whitesmoke')\n",
    "\n",
    "    ax.add_patch(rect)\n",
    "    \n",
    "    # drawing boders to separate months\n",
    "    if day_of_month <= 7:\n",
    "        rect2 = plt.Rectangle((X -rec_size/2.0, Y - rec_size/2.0), 0.01, rec_size,\n",
    "                      alpha=1, facecolor='black')\n",
    "        ax.add_patch(rect2)\n",
    "    if day_of_month == 1:\n",
    "        rect2 = plt.Rectangle((X - rec_size/2.0, Y - rec_size/2.0), rec_size, 0.01,\n",
    "                      alpha=1, facecolor='black')\n",
    "        ax.add_patch(rect2)\n",
    "ax.autoscale_view()\n",
    "\n",
    "patch1 = mpatches.Patch(color='lightyellow', label='delay ratio < 8.4%')\n",
    "patch2 = mpatches.Patch(color='lightgreen', label='delay ratio < 11.7%')\n",
    "patch3 = mpatches.Patch(color='gold', label='delay ratio < 15.2%')\n",
    "patch4 = mpatches.Patch(color='orange', label='delay ratio < 20.1%')\n",
    "patch5 = mpatches.Patch(color='red', label='delay ratio >= 20.1%')\n",
    "\n",
    "plt.legend(handles=[patch1, patch2, patch3, patch4, patch5], bbox_to_anchor=(0, -.05), loc=2, borderaxespad=0.)\n",
    "\n",
    "plt.show()"
   ]
  },
  {
   "cell_type": "markdown",
   "metadata": {},
   "source": [
    "#### Question 5.6\n",
    "<div class=\"alert alert-info\">\n",
    "Explain figure 10.\n",
    "</div>"
   ]
  },
  {
   "cell_type": "markdown",
   "metadata": {},
   "source": [
    "<div class=\"alert alert-warning\"> \n",
    "We can see the delay's behaviour (in terms of percentage) in 1994. As previously reported, May and September do not show many red squares. We usually have red spots in the middle of the week and rarely on weekends, in particular in June, July, December and January. The summer delays may be due to the fact that many people travels for holidays, while in winter the reason is more likely the weather.\n",
    "</div>"
   ]
  },
  {
   "cell_type": "markdown",
   "metadata": {
    "collapsed": true
   },
   "source": [
    "#### Question 5.7\n",
    "<div class=\"alert alert-info\">\n",
    "\n",
    "What is the delay probability for the top 20 busiest airports?  \n",
    "\n",
    "\n",
    "By drawing the flight volume of each airport and the associated delay probability in a single plot, we can observe the relationship between airports, number of flights and the delay.  \n",
    "\n",
    "<div class=\"label label-success\">HINT </div>  Function `<df_colum>.isin(<list>)` helps checking whether a value in column belongs to a list.\n",
    "</div>"
   ]
  },
  {
   "cell_type": "code",
   "execution_count": 50,
   "metadata": {
    "collapsed": false
   },
   "outputs": [],
   "source": [
    "####### The delay ratio of the top 20 busiest airports ########\n",
    "K = 20\n",
    "\n",
    "# extract top_20_airports from stat_airport_traffic\n",
    "top_20_airports = [item[0] for item in stat_airport_traffic.take(K)]\n",
    "\n",
    "# select the statistic of source airports\n",
    "statistic_ratio_delay_airport = (\n",
    "    df_with_delay\n",
    "        # select only flights that depart from one of top 20 ariports\n",
    "        .filter(df_with_delay.src_airport.isin(top_20_airports))\n",
    "        # group by source airport\n",
    "        .groupBy(df_with_delay.src_airport)\n",
    "        #  calculate the delay ratio\n",
    "        .agg((sum('is_delay')/func.count('*')).alias('delay_ratio'))\n",
    "        # sort by name of airport\n",
    "        .orderBy('src_airport')\n",
    "    )"
   ]
  },
  {
   "cell_type": "code",
   "execution_count": 49,
   "metadata": {
    "collapsed": false
   },
   "outputs": [
    {
     "data": {
      "image/png": "[encoded data removed]",
      "text/plain": [
       "<matplotlib.figure.Figure at 0x7efd44ea0710>"
      ]
     },
     "metadata": {},
     "output_type": "display_data"
    }
   ],
   "source": [
    "# collect data and plot\n",
    "tmp = statistic_ratio_delay_airport.join(stat_airport_traffic, \\\n",
    "                                    statistic_ratio_delay_airport.src_airport == stat_airport_traffic.airport, \\\n",
    "                                    how='inner')\\\n",
    "                                    .drop('src_airport')\\\n",
    "                                    .select('airport', 'delay_ratio', 'total').orderBy(desc('total'))\n",
    "\n",
    "pdf_ratio_delay_airport = pd.DataFrame(data=tmp.select('airport', 'delay_ratio').collect())\n",
    "pdf_top_20_airport_volume = pd.DataFrame(data=tmp.select('airport', 'total').take(20), \\\n",
    "                                         columns=['src_airport', 'total'])\n",
    "\n",
    "index = np.arange(len(top_20_airports))\n",
    "bar_width = 0.35\n",
    "opacity = 0.4\n",
    "\n",
    "fig = plt.figure(figsize=(20,10))                                                             \n",
    "ax = fig.add_subplot(1,1,1)\n",
    "\n",
    "ax2 = ax.twinx()\n",
    "plt.axis('normal')\n",
    "ax.set_xlabel(\"Airport\")\n",
    "ax.set_ylabel(\"Flight volume\")\n",
    "ax2.set_ylabel(\"Ratio of delay\")\n",
    "plt.xticks(index + bar_width, top_20_airports)\n",
    "plt.title('Airports performances')\n",
    "plt.grid(True,which=\"both\",ls=\"-\")\n",
    "bar = ax.bar(index, pdf_top_20_airport_volume['total'], \n",
    "        bar_width, color='b', alpha=0.7, \n",
    "        label='Flight volume')\n",
    "bar2 = ax2.bar(index + 1.5*bar_width, pdf_ratio_delay_airport[1], bar_width, \n",
    "       align='center', color='r', alpha=0.7, \n",
    "       label='Delay ratio')\n",
    "\n",
    "lines, labels = ax.get_legend_handles_labels()\n",
    "lines2, labels2 = ax2.get_legend_handles_labels()\n",
    "ax2.legend(lines + lines2, labels + labels2, loc=0)\n",
    "\n",
    "plt.tight_layout()\n",
    "plt.show()"
   ]
  },
  {
   "cell_type": "markdown",
   "metadata": {},
   "source": [
    "<div class=\"alert alert-warning\"> \n",
    "The 20 busiest airports have a delay ratio between ~17% and 27%, but the worst-performing airports in terms of delay ratio, i.e. Newark, Charlotte and Pittsburgh, are not the among the busiests. From this point of view, they are the worst airports. \n",
    "</div>"
   ]
  },
  {
   "cell_type": "markdown",
   "metadata": {},
   "source": [
    "#### Question 5.8\n",
    "<div class=\"alert alert-info\">\n",
    "What is the percentage of delayed flights which belongs to one of the top K busiest carriers?  \n",
    "Comment the figure!\n",
    "</div>"
   ]
  },
  {
   "cell_type": "code",
   "execution_count": 53,
   "metadata": {
    "collapsed": false
   },
   "outputs": [
    {
     "name": "stdout",
     "output_type": "stream",
     "text": [
      "+-------+-------------------+\n",
      "|carrier|        delay_ratio|\n",
      "+-------+-------------------+\n",
      "|     AA| 0.1752444006939166|\n",
      "|     AS| 0.1596424771227921|\n",
      "|     CO| 0.1955576547849367|\n",
      "|     DL|0.18328443065157582|\n",
      "|     HP|0.18625141269939444|\n",
      "|     NW| 0.1294806523639286|\n",
      "|     TW|0.18212273193780135|\n",
      "|     UA| 0.1686528375733855|\n",
      "|     US|0.18422298014001534|\n",
      "|     WN|0.12829795587751536|\n",
      "+-------+-------------------+\n",
      "\n"
     ]
    }
   ],
   "source": [
    "K = 10\n",
    "\n",
    "# extract top_k_carriers from stat_carrier\n",
    "top_k_carriers = [item[0] for item in stat_carrier.take(K)]\n",
    "\n",
    "statistic_ratio_delay_carrier = (\n",
    "    df_with_delay\n",
    "        # select only flights that belong to one of the top K carriers\n",
    "        .filter(df_with_delay.carrier.isin(top_k_carriers))\n",
    "        # group by carrier\n",
    "        .groupBy(df_with_delay.carrier)\n",
    "        #  calculate the delay ratio\n",
    "        .agg((sum('is_delay')/func.count('*')).alias('delay_ratio'))\n",
    "        # sort by name of airport\n",
    "         .orderBy('carrier')\n",
    "    )\n",
    "statistic_ratio_delay_carrier.show(20)"
   ]
  },
  {
   "cell_type": "code",
   "execution_count": 54,
   "metadata": {
    "collapsed": false
   },
   "outputs": [
    {
     "data": {
      "image/png": "[encoded data removed]",
      "text/plain": [
       "<matplotlib.figure.Figure at 0x7fa19328ceb8>"
      ]
     },
     "metadata": {},
     "output_type": "display_data"
    }
   ],
   "source": [
    "# collect data and plot\n",
    "pdf_ratio_delay_carrier = pd.DataFrame(data=statistic_ratio_delay_carrier.collect())\n",
    "pdf_top_k_carrier_volume = pd.DataFrame(data=stat_carrier.take(K), columns=['carrier', 'count'])\n",
    "pdf_top_k_carrier_volume = pdf_top_k_carrier_volume.sort_values(by='carrier')\n",
    "top_k_carriers.sort()\n",
    "index = np.arange(len(top_k_carriers))\n",
    "bar_width = 0.35\n",
    "opacity = 0.4\n",
    "\n",
    "fig = plt.figure(figsize=(20,10))                                                             \n",
    "ax = fig.add_subplot(1,1,1)\n",
    "\n",
    "ax2 = ax.twinx()\n",
    "plt.axis('normal')\n",
    "ax.set_xlabel(\"Carrier\")\n",
    "ax.set_ylabel(\"Flight volume\")\n",
    "ax2.set_ylabel(\"Delay ratio\")\n",
    "plt.xticks(index + bar_width, top_k_carriers)\n",
    "\n",
    "plt.title('Delay percentage of K busiest airports')\n",
    "plt.grid(True,which=\"both\",ls=\"-\")\n",
    "bar = ax.bar(index, pdf_top_k_carrier_volume['count'], \n",
    "        bar_width, color='b', alpha=0.7, \n",
    "        label='flight volume')\n",
    "bar2 = ax2.bar(index + 1.5*bar_width, pdf_ratio_delay_carrier[1], bar_width, \n",
    "       align='center', color='r', alpha=0.7, \n",
    "       label='Delay ratio')\n",
    "\n",
    "lines, labels = ax.get_legend_handles_labels()\n",
    "lines2, labels2 = ax2.get_legend_handles_labels()\n",
    "ax2.legend(lines + lines2, labels + labels2, loc=0)\n",
    "\n",
    "plt.tight_layout()\n",
    "plt.show()"
   ]
  },
  {
   "cell_type": "markdown",
   "metadata": {},
   "source": [
    "<div class=\"alert alert-warning\"> \n",
    "According to this graph, the worst carriers in terms of delay ratio are Delta Air Lines (DL), US Airways (US) which have a high flights volume, but also Continental Airlines (CO), America West Airlines (HP), Alaska Airlines (AS) and Trans World Airlines (TW) which have a lower flights volume and so we could think they perform worse than the others. \n",
    "</div>"
   ]
  },
  {
   "cell_type": "markdown",
   "metadata": {},
   "source": [
    "<div class=\"alert alert-success\">\n",
    "<h1> Planes details </h1>\n",
    "<br>\n",
    "Now, we want to retrieve more information on this problem. To do so, we firstly look at details on planes, such as manufacturer, model, aircraft type and engine type.\n",
    "</div>"
   ]
  },
  {
   "cell_type": "code",
   "execution_count": 55,
   "metadata": {
    "collapsed": false
   },
   "outputs": [],
   "source": [
    "input_path2 = \"additional_data/plane-data.csv\"\n",
    "raw_plane_data = sc.textFile(input_path2)\n",
    "# tailnum,type,manufacturer,issue_date,model,status,aircraft_type,engine_type,year"
   ]
  },
  {
   "cell_type": "code",
   "execution_count": 56,
   "metadata": {
    "collapsed": false
   },
   "outputs": [
    {
     "data": {
      "text/plain": [
       "['N050AA',\n",
       " 'N051AA',\n",
       " 'N052AA',\n",
       " 'N054AA',\n",
       " 'N055AA',\n",
       " 'N056AA',\n",
       " 'N057AA',\n",
       " 'N058AA',\n",
       " 'N059AA',\n",
       " 'N060AA',\n",
       " 'N061AA',\n",
       " 'N062AA',\n",
       " 'N063AA',\n",
       " 'N064AA',\n",
       " 'N065AA',\n",
       " 'N066AA',\n",
       " 'N067AA',\n",
       " 'N068AA',\n",
       " 'N069AA',\n",
       " 'N070AA',\n",
       " 'N071AA',\n",
       " 'N072AA',\n",
       " 'N073AA',\n",
       " 'N074AA',\n",
       " 'N075AA',\n",
       " 'N076AA',\n",
       " 'N077AA',\n",
       " 'N078AA',\n",
       " 'N079AA',\n",
       " 'N080AA',\n",
       " 'N081AA',\n",
       " 'N082AA',\n",
       " 'N083AA',\n",
       " 'N084AA',\n",
       " 'N10156,Corporation,EMBRAER,02/13/2004,EMB-145XR,Valid,Fixed Wing Multi-Engine,Turbo-Fan,2004',\n",
       " 'N102UW,Corporation,AIRBUS INDUSTRIE,05/26/1999,A320-214,Valid,Fixed Wing Multi-Engine,Turbo-Fan,1998',\n",
       " 'N10323,Corporation,BOEING,07/01/1997,737-3TO,Valid,Fixed Wing Multi-Engine,Turbo-Jet,1986',\n",
       " 'N103US,Corporation,AIRBUS INDUSTRIE,06/18/1999,A320-214,Valid,Fixed Wing Multi-Engine,Turbo-Fan,1999',\n",
       " 'N104UA,Corporation,BOEING,01/26/1998,747-422,Valid,Fixed Wing Multi-Engine,Turbo-Fan,1998',\n",
       " 'N104UW,Corporation,AIRBUS INDUSTRIE,07/02/1999,A320-214,Valid,Fixed Wing Multi-Engine,Turbo-Fan,1999']"
      ]
     },
     "execution_count": 56,
     "metadata": {},
     "output_type": "execute_result"
    }
   ],
   "source": [
    "header = raw_plane_data.first()\n",
    "# replace invalid data with NULL and remove header\n",
    "clean_plane_data = (raw_plane_data\\\n",
    "                    # filter out the header\n",
    "                    .filter(lambda line : line != header)\n",
    "                    )\n",
    "clean_plane_data.take(40)"
   ]
  },
  {
   "cell_type": "markdown",
   "metadata": {},
   "source": [
    "<div class=\"alert alert-success\"> \n",
    "Unfortunately, we have some entries with very few information, but we will use it anyway.\n",
    "</div>"
   ]
  },
  {
   "cell_type": "code",
   "execution_count": 57,
   "metadata": {
    "collapsed": true
   },
   "outputs": [],
   "source": [
    "clean_planes_to_columns_full = clean_plane_data.map(lambda l: l.split(\",\"))\\\n",
    "    .filter(lambda l: len(l) == 9)\\\n",
    "    .map(lambda cols: \n",
    "         (\n",
    "            cols[0]  if cols[0] else None,\n",
    "            cols[1]  if cols[1] else None,\n",
    "            cols[2]  if cols[2] else None,\n",
    "            cols[3]  if cols[3] else None,\n",
    "            cols[4]  if cols[4] else None,\n",
    "            cols[5]  if cols[5] else None,\n",
    "            cols[6]  if cols[6] else None,\n",
    "            cols[7]  if cols[7] else None,\n",
    "            cols[8]  if cols[8] else None,\n",
    "         ))"
   ]
  },
  {
   "cell_type": "code",
   "execution_count": 58,
   "metadata": {
    "collapsed": false
   },
   "outputs": [
    {
     "name": "stdout",
     "output_type": "stream",
     "text": [
      "+-------+-----------+----------------+----------+---------+------+--------------------+-----------+----+\n",
      "|tailnum|       type|    manufacturer|issue_date|    model|status|       aircraft_type|engine_type|year|\n",
      "+-------+-----------+----------------+----------+---------+------+--------------------+-----------+----+\n",
      "| N10156|Corporation|         EMBRAER|02/13/2004|EMB-145XR| Valid|Fixed Wing Multi-...|  Turbo-Fan|2004|\n",
      "| N102UW|Corporation|AIRBUS INDUSTRIE|05/26/1999| A320-214| Valid|Fixed Wing Multi-...|  Turbo-Fan|1998|\n",
      "| N10323|Corporation|          BOEING|07/01/1997|  737-3TO| Valid|Fixed Wing Multi-...|  Turbo-Jet|1986|\n",
      "| N103US|Corporation|AIRBUS INDUSTRIE|06/18/1999| A320-214| Valid|Fixed Wing Multi-...|  Turbo-Fan|1999|\n",
      "| N104UA|Corporation|          BOEING|01/26/1998|  747-422| Valid|Fixed Wing Multi-...|  Turbo-Fan|1998|\n",
      "| N104UW|Corporation|AIRBUS INDUSTRIE|07/02/1999| A320-214| Valid|Fixed Wing Multi-...|  Turbo-Fan|1999|\n",
      "| N10575|Corporation|         EMBRAER|06/24/2003|EMB-145LR| Valid|Fixed Wing Multi-...|  Turbo-Fan|2002|\n",
      "| N105UA|Corporation|          BOEING|10/15/2007|  747-451| Valid|Fixed Wing Multi-...|  Turbo-Jet|1994|\n",
      "| N105UW|Corporation|AIRBUS INDUSTRIE|07/22/1999| A320-214| Valid|Fixed Wing Multi-...|  Turbo-Fan|1999|\n",
      "| N106US|Corporation|AIRBUS INDUSTRIE|08/05/1999| A320-214| Valid|Fixed Wing Multi-...|  Turbo-Fan|1999|\n",
      "| N107UA|Corporation|          BOEING|08/24/1998|  747-422| Valid|Fixed Wing Multi-...|  Turbo-Fan|1998|\n",
      "| N107US|Corporation|AIRBUS INDUSTRIE|08/17/1999| A320-214| Valid|Fixed Wing Multi-...|  Turbo-Fan|1999|\n",
      "| N108UW|Corporation|AIRBUS INDUSTRIE|09/03/1999| A320-214| Valid|Fixed Wing Multi-...|  Turbo-Fan|1999|\n",
      "| N109UW|Corporation|AIRBUS INDUSTRIE|09/10/1999| A320-214| Valid|Fixed Wing Multi-...|  Turbo-Fan|1999|\n",
      "| N110UW|Corporation|AIRBUS INDUSTRIE|11/22/1999| A320-214| Valid|Fixed Wing Multi-...|  Turbo-Fan|1999|\n",
      "| N11106|Corporation|         EMBRAER|06/25/2003|EMB-145XR| Valid|Fixed Wing Multi-...|  Turbo-Fan|2002|\n",
      "| N11107|Corporation|         EMBRAER|06/25/2003|EMB-145XR| Valid|Fixed Wing Multi-...|  Turbo-Fan|2002|\n",
      "| N11109|Corporation|         EMBRAER|06/25/2003|EMB-145XR| Valid|Fixed Wing Multi-...|  Turbo-Fan|2002|\n",
      "| N11113|Corporation|         EMBRAER|06/25/2003|EMB-145XR| Valid|Fixed Wing Multi-...|  Turbo-Fan|2002|\n",
      "| N11119|Corporation|         EMBRAER|01/08/2003|EMB-145XR| Valid|Fixed Wing Multi-...|  Turbo-Fan|2002|\n",
      "+-------+-----------+----------------+----------+---------+------+--------------------+-----------+----+\n",
      "only showing top 20 rows\n",
      "\n"
     ]
    }
   ],
   "source": [
    "plane_data_schema = StructType([ \\\n",
    "    #StructField( name, dataType, nullable)\n",
    "    StructField(\"tailnum\",        StringType(), True), \\\n",
    "    StructField(\"type\",           StringType(), True), \\\n",
    "    StructField(\"manufacturer\",   StringType(), True), \\\n",
    "    StructField(\"issue_date\",     StringType(), True), \\\n",
    "    StructField(\"model\",          StringType(), True), \\\n",
    "    StructField(\"status\",         StringType(), True), \\\n",
    "    StructField(\"aircraft_type\",  StringType(), True), \\\n",
    "    StructField(\"engine_type\",    StringType(), True), \\\n",
    "    StructField(\"year\",           StringType(),  True), \\\n",
    "])\n",
    "\n",
    "planes_df = sqlContext.createDataFrame(clean_planes_to_columns_full, plane_data_schema).cache()\n",
    "planes_df.show()"
   ]
  },
  {
   "cell_type": "code",
   "execution_count": 59,
   "metadata": {
    "collapsed": false
   },
   "outputs": [
    {
     "name": "stdout",
     "output_type": "stream",
     "text": [
      "4480\n"
     ]
    }
   ],
   "source": [
    "print(planes_df.count())"
   ]
  },
  {
   "cell_type": "code",
   "execution_count": 60,
   "metadata": {
    "collapsed": false
   },
   "outputs": [
    {
     "name": "stdout",
     "output_type": "stream",
     "text": [
      "4480\n"
     ]
    }
   ],
   "source": [
    "unique_airplanes = planes_df.select('tailnum').distinct().count()\n",
    "print(unique_airplanes)"
   ]
  },
  {
   "cell_type": "markdown",
   "metadata": {},
   "source": [
    "<div class=\"alert alert-success\"> \n",
    "We don't have duplicates for aircraft's tail number.\n",
    "</div>"
   ]
  },
  {
   "cell_type": "markdown",
   "metadata": {},
   "source": [
    "<div class=\"alert alert-success\">\n",
    "<h3> Which manufacturer has the largest market share? </h3>\n",
    "<br>\n",
    "To understand better the context we're working in, let's investigate a little bit the marker of planes \n",
    "</div>"
   ]
  },
  {
   "cell_type": "code",
   "execution_count": 61,
   "metadata": {
    "collapsed": false
   },
   "outputs": [
    {
     "name": "stdout",
     "output_type": "stream",
     "text": [
      "+-----------------------------+-----+------------+\n",
      "|manufacturer                 |count|market_share|\n",
      "+-----------------------------+-----+------------+\n",
      "|BOEING                       |2061 |46.0        |\n",
      "|EMBRAER                      |588  |13.13       |\n",
      "|BOMBARDIER INC               |547  |12.21       |\n",
      "|AIRBUS INDUSTRIE             |434  |9.69        |\n",
      "|MCDONNELL DOUGLAS            |253  |5.65        |\n",
      "|AIRBUS                       |244  |5.45        |\n",
      "|MCDONNELL DOUGLAS AIRCRAFT CO|105  |2.34        |\n",
      "|CANADAIR                     |86   |1.92        |\n",
      "|DOUGLAS                      |36   |0.8         |\n",
      "|SAAB-SCANIA                  |28   |0.63        |\n",
      "|DEHAVILLAND                  |17   |0.38        |\n",
      "|MCDONNELL DOUGLAS CORPORATION|14   |0.31        |\n",
      "|CESSNA                       |12   |0.27        |\n",
      "|AEROSPATIALE                 |8    |0.18        |\n",
      "|AEROSPATIALE/ALENIA          |6    |0.13        |\n",
      "|PIPER                        |6    |0.13        |\n",
      "|BEECH                        |5    |0.11        |\n",
      "|SIKORSKY                     |3    |0.07        |\n",
      "|RAVEN                        |3    |0.07        |\n",
      "|AERO COMMANDER               |2    |0.04        |\n",
      "+-----------------------------+-----+------------+\n",
      "only showing top 20 rows\n",
      "\n"
     ]
    }
   ],
   "source": [
    "manufacturer_count = planes_df.groupBy('manufacturer').count().orderBy('count', ascending=0)\n",
    "manufacturer_count_perc = manufacturer_count.withColumn('market_share', \\\n",
    "                                                round(100*manufacturer_count['count'] / unique_airplanes, 2))\n",
    "manufacturer_count_perc.show(truncate=False)"
   ]
  },
  {
   "cell_type": "markdown",
   "metadata": {},
   "source": [
    "<div class=\"alert alert-success\"> \n",
    "Boeing is definitely the leader. The second place goes to Embraer, but if we look carefully we see that Airbus appears with two different names; if we consider them as part of the same corporation it would be in second place with a market share of ~15%. \n",
    "<br><br><br>\n",
    "It is actually interesting to investigate why the same company has two names. Everything begun on 18 December 1970, when <b>Airbus Industrie</b> was formally established as a <i>Groupement d'Intérêt Économique</i> (<i>Economic Interest Group </i>) with a government initiative between France, West Germany and the UK.\n",
    "<br><br>\n",
    "After a while, it was becoming clear that <b>Airbus Industrie</b> was no longer a temporary collaboration to produce a single plane as per its original mission statement and it started to evolve to a <b>long term brand</b> for the development of further aircraft. By the <b>late 1980s</b> work had begun on a pair of new medium-sized aircraft, the biggest to be produced at this point under the Airbus name. Few years later, the Airbus CEO decided that the GIE should be abandoned and <b>Airbus</b> established as a conventional company\n",
    "</div>"
   ]
  },
  {
   "cell_type": "markdown",
   "metadata": {},
   "source": [
    "<div class=\"alert alert-success\"> \n",
    "We report below the most popular aircraft models. \n",
    "</div>"
   ]
  },
  {
   "cell_type": "code",
   "execution_count": 62,
   "metadata": {
    "collapsed": false
   },
   "outputs": [
    {
     "name": "stdout",
     "output_type": "stream",
     "text": [
      "+--------------+-----------------------------+-----+\n",
      "|model         |manufacturer                 |count|\n",
      "+--------------+-----------------------------+-----+\n",
      "|CL-600-2B19   |BOMBARDIER INC               |317  |\n",
      "|737-7H4       |BOEING                       |308  |\n",
      "|EMB-145LR     |EMBRAER                      |219  |\n",
      "|CL-600-2C10   |BOMBARDIER INC               |163  |\n",
      "|737-3H4       |BOEING                       |147  |\n",
      "|DC-9-82(MD-82)|MCDONNELL DOUGLAS            |142  |\n",
      "|A320-232      |AIRBUS INDUSTRIE             |130  |\n",
      "|757-232       |BOEING                       |112  |\n",
      "|A320-232      |AIRBUS                       |109  |\n",
      "|EMB-145XR     |EMBRAER                      |104  |\n",
      "|MD-88         |MCDONNELL DOUGLAS AIRCRAFT CO|103  |\n",
      "|737-824       |BOEING                       |100  |\n",
      "|717-200       |BOEING                       |98   |\n",
      "|757-222       |BOEING                       |96   |\n",
      "|CL-600-2B19   |CANADAIR                     |86   |\n",
      "|767-332       |BOEING                       |77   |\n",
      "|737-832       |BOEING                       |68   |\n",
      "|CL600-2D24    |BOMBARDIER INC               |67   |\n",
      "|737-322       |BOEING                       |64   |\n",
      "|EMB-135KL     |EMBRAER                      |59   |\n",
      "+--------------+-----------------------------+-----+\n",
      "only showing top 20 rows\n",
      "\n"
     ]
    }
   ],
   "source": [
    "planes_df.groupBy('model', 'manufacturer').agg(func.count('model').alias('count'))\\\n",
    "         .orderBy('count', ascending=0).show(truncate=False)"
   ]
  },
  {
   "cell_type": "markdown",
   "metadata": {},
   "source": [
    "<div class=\"alert alert-success\">\n",
    "<h1>More years, more data!</h1>\n",
    "<br>\n",
    "What about considering a wider range of time? Are there any underlying trends we can investigate? \n",
    "</div>"
   ]
  },
  {
   "cell_type": "code",
   "execution_count": 33,
   "metadata": {
    "collapsed": false
   },
   "outputs": [
    {
     "name": "stdout",
     "output_type": "stream",
     "text": [
      "116081775\n"
     ]
    }
   ],
   "source": [
    "input_path_full = \"/datasets/airline/\"\n",
    "raw_full_data = sc.textFile(input_path_full)\n",
    "print(raw_full_data.count())"
   ]
  },
  {
   "cell_type": "markdown",
   "metadata": {},
   "source": [
    "<div class=\"alert alert-success\"> \n",
    "We now have more than 100 mln of samples to work with. Let's play! \n",
    "</div>"
   ]
  },
  {
   "cell_type": "code",
   "execution_count": 34,
   "metadata": {
    "collapsed": false
   },
   "outputs": [],
   "source": [
    "header = raw_full_data.first()\n",
    "# replace invalid data with NULL and remove header\n",
    "cleaned_fullRDD = (raw_full_data\\\n",
    "                    # filter out the header\n",
    "                    .filter(lambda line : line != header)\n",
    "                    # replace the missing values with empty characters\n",
    "                    .map(lambda line : line.replace('NA', ''))\n",
    "                    )"
   ]
  },
  {
   "cell_type": "code",
   "execution_count": 35,
   "metadata": {
    "collapsed": false
   },
   "outputs": [],
   "source": [
    "cleaned_data_to_columns_full = cleaned_fullRDD.map(lambda l: l.split(\",\"))\\\n",
    "    .map(lambda cols: \n",
    "         (\n",
    "            int(cols[0])  if cols[0] else None,\n",
    "            int(cols[1])  if cols[1] else None,\n",
    "            int(cols[2])  if cols[2] else None,\n",
    "            int(cols[3])  if cols[3] else None,\n",
    "            int(cols[4])  if cols[4] else None,\n",
    "            int(cols[5])  if cols[5] else None,\n",
    "            int(cols[6])  if cols[6] else None,\n",
    "            int(cols[7])  if cols[7] else None,\n",
    "            cols[8]       if cols[8] else None,\n",
    "            cols[9]       if cols[9] else None,\n",
    "            cols[10]      if cols[10] else None,\n",
    "            int(cols[11]) if cols[11] else None,\n",
    "            int(cols[12]) if cols[12] else None,\n",
    "            int(cols[13]) if cols[13] else None,\n",
    "            int(cols[14]) if cols[14] else None,\n",
    "            int(cols[15]) if cols[15] else None,\n",
    "            cols[16]      if cols[16] else None,\n",
    "            cols[17]      if cols[17] else None,\n",
    "            int(cols[18]) if cols[18] else None,\n",
    "            int(cols[19]) if cols[19] else None,\n",
    "            int(cols[20]) if cols[20] else None,\n",
    "            cols[21]      if cols[21] else None,\n",
    "            cols[22]      if cols[22] else None,\n",
    "            cols[23]      if cols[23] else None,\n",
    "            int(cols[24]) if cols[24] else None,\n",
    "            int(cols[25]) if cols[25] else None,\n",
    "            int(cols[26]) if cols[26] else None,\n",
    "            int(cols[27]) if cols[27] else None,\n",
    "            int(cols[28]) if cols[28] else None\n",
    "         ))\n",
    "cleaned_df = sqlContext.createDataFrame(cleaned_data_to_columns_full, airline_data_schema).cache()"
   ]
  },
  {
   "cell_type": "markdown",
   "metadata": {},
   "source": [
    "<div class=\"alert alert-success\">\n",
    "<h3> How many flights per year? </h3>\n",
    "<br>\n",
    "TODO: write here a small descr.\n",
    "</div>"
   ]
  },
  {
   "cell_type": "code",
   "execution_count": 36,
   "metadata": {
    "collapsed": false
   },
   "outputs": [],
   "source": [
    "full_year_month_count = cleaned_df\\\n",
    "    .withColumn('is_delay', when((cleaned_df.arrival_time - cleaned_df.scheduled_arrival_time) >= 15, 1)\\\n",
    "                .otherwise(0))\\\n",
    "    .select('year', 'month', 'is_delay').groupBy('year', 'month')\\\n",
    "    .agg(func.count('*').alias('total_flights'), func.sum('is_delay').alias('total_delayed'))\\\n",
    "    .orderBy('year', 'month').cache()"
   ]
  },
  {
   "cell_type": "code",
   "execution_count": 37,
   "metadata": {
    "collapsed": false
   },
   "outputs": [
    {
     "name": "stdout",
     "output_type": "stream",
     "text": [
      "+----+-----+-------------+-------------+\n",
      "|year|month|total_flights|total_delayed|\n",
      "+----+-----+-------------+-------------+\n",
      "|1987|   10|       448620|       102622|\n",
      "|1987|   11|       422803|       109534|\n",
      "|1987|   12|       440403|       147205|\n",
      "|1988|    1|       436950|       128561|\n",
      "|1988|    2|       412579|       109011|\n",
      "+----+-----+-------------+-------------+\n",
      "only showing top 5 rows\n",
      "\n"
     ]
    }
   ],
   "source": [
    "full_year_month_count.show(5)"
   ]
  },
  {
   "cell_type": "markdown",
   "metadata": {},
   "source": [
    "<div class=\"alert alert-success\">\n",
    "Let's plot some statistics of total flights and total delayed flights per year\n",
    "</div>"
   ]
  },
  {
   "cell_type": "code",
   "execution_count": 38,
   "metadata": {
    "collapsed": false
   },
   "outputs": [
    {
     "data": {
      "image/png": "[encoded data removed]",
      "text/plain": [
       "<matplotlib.figure.Figure at 0x7efd4050ab00>"
      ]
     },
     "metadata": {},
     "output_type": "display_data"
    }
   ],
   "source": [
    "pdf_full_year_month = pd.DataFrame(data=full_year_month_count.collect())\n",
    "\n",
    "sns.set(style=\"darkgrid\")\n",
    "f, ax = plt.subplots(figsize=(15, 10))\n",
    "\n",
    "sns.set_color_codes(\"pastel\")\n",
    "sns.barplot(x=0, y=2, data=pdf_full_year_month,\n",
    "            label=\"Total flights per year\", color=\"b\")\n",
    "\n",
    "sns.set_color_codes(\"muted\")\n",
    "sns.barplot(x=0, y=3, data=pdf_full_year_month,\n",
    "            label=\"Total delayed flights per year\", color=\"r\")\n",
    "\n",
    "ax.legend(ncol=2, loc=\"upper left\", frameon=True)\n",
    "ax.set(xlim=(-1, 21), ylabel=\"\",\n",
    "       xlabel=\"Year\")\n",
    "sns.despine(right=True, top=True )"
   ]
  },
  {
   "cell_type": "markdown",
   "metadata": {},
   "source": [
    "<div class=\"alert alert-success\"> \n",
    "This graph sums up the trends of flights volumes and delays from 1987 and 2008. The volume started increasing around year 2000 and so does the delay volume. \n",
    "<br>\n",
    "<br>\n",
    "To have a better understanding we need a delay ratio that we report below.\n",
    "</div>"
   ]
  },
  {
   "cell_type": "code",
   "execution_count": 69,
   "metadata": {
    "collapsed": false
   },
   "outputs": [
    {
     "data": {
      "image/png": "[encoded data removed]",
      "text/plain": [
       "<matplotlib.figure.Figure at 0x7fa1935f8ef0>"
      ]
     },
     "metadata": {},
     "output_type": "display_data"
    }
   ],
   "source": [
    "tmp = full_year_month_count.groupBy('year')\\\n",
    "    .agg(func.sum('total_flights').alias('total_flights'), func.sum('total_delayed').alias('total_delayed'))\n",
    "\n",
    "tmp = tmp.withColumn('delay_perc', round(100*tmp.total_delayed / tmp.total_flights, 2))\\\n",
    "        .select('year', 'delay_perc').orderBy('year')\n",
    "\n",
    "    \n",
    "pdf_tmp = pd.DataFrame(data=tmp.collect())\n",
    "\n",
    "sns.set(style=\"darkgrid\")\n",
    "f, ax = plt.subplots(figsize=(16, 5))\n",
    "sns.set_color_codes(\"pastel\")\n",
    "\n",
    "sns.barplot(x=0, y=1, data=pdf_tmp,\n",
    "            label=\"Delayed flights ratio per year\", color=\"b\")\n",
    "\n",
    "ax.legend(ncol=2, loc=\"upper left\", frameon=True)\n",
    "ax.set(xlim=(-1, 21), ylabel=\"%\",\n",
    "       xlabel=\"Year\")\n",
    "sns.despine(right=True, top=True )"
   ]
  },
  {
   "cell_type": "markdown",
   "metadata": {},
   "source": [
    "<div class=\"alert alert-success\"> \n",
    "Despite an increasing flights volume, the delay percentage remains in a stable range: between 20% and 25%. This suggests us that there isn't a real correlation between trafic volume and delay and that (logistically) airports have become more flexible to handle more inbound and outbound flights without accumulating delays.\n",
    "</div>\n",
    "\n",
    "<div class=\"alert alert-success\"> \n",
    "Instead of looking statistics per year, let's plot the changes over months.\n",
    "</div>"
   ]
  },
  {
   "cell_type": "code",
   "execution_count": 70,
   "metadata": {
    "collapsed": false
   },
   "outputs": [
    {
     "data": {
      "image/png": "[encoded data removed]",
      "text/plain": [
       "<matplotlib.figure.Figure at 0x7fa193265f60>"
      ]
     },
     "metadata": {},
     "output_type": "display_data"
    }
   ],
   "source": [
    "pdf_full_year_month = pd.DataFrame(data=\\\n",
    "                    full_year_month_count.withColumn('date', col=concat('year', lit(' '), 'month'))\\\n",
    "                                         .select('date', 'total_flights', 'total_delayed')\\\n",
    "                                         .collect())\n",
    "years = ['','','']\n",
    "for y in range(1988, 2008):\n",
    "    years.append(y)\n",
    "    for m in range(11):\n",
    "        years.append(' ')\n",
    "        \n",
    "        \n",
    "sns.set(style=\"darkgrid\")\n",
    "f, ax = plt.subplots(figsize=(15, 10))\n",
    "\n",
    "sns.set_color_codes(\"pastel\")\n",
    "sns.barplot(x=0, y=1, data=pdf_full_year_month,\n",
    "            label=\"Total flights per year\", color=\"b\")\n",
    "\n",
    "sns.set_color_codes(\"muted\")\n",
    "g = sns.barplot(x=0, y=2, data=pdf_full_year_month,\n",
    "            label=\"Total delayed flights per year\", color=\"r\")\n",
    "\n",
    "ax.legend(ncol=1, loc=\"upper left\", frameon=True)\n",
    "\n",
    "ax.set(xlim=(-1, 243), ylabel=\"\",\n",
    "       xlabel=\"\", xticklabels=years)\n",
    "sns.despine(right=True, top=True )"
   ]
  },
  {
   "cell_type": "markdown",
   "metadata": {},
   "source": [
    "<div class=\"alert alert-success\"> \n",
    "Let's dig on what happened after 2001 and the terroristic attaks to the WTC in New York.\n",
    "</div>"
   ]
  },
  {
   "cell_type": "code",
   "execution_count": 71,
   "metadata": {
    "collapsed": false
   },
   "outputs": [],
   "source": [
    "millen = full_year_month_count.filter(full_year_month_count.year.isin([2000, 2001, 2002]))\\\n",
    "        .withColumn('date', col=concat(full_year_month_count.year, lit(' '), full_year_month_count.month))\\\n",
    "        .select('date', 'total_flights', 'total_delayed').cache()"
   ]
  },
  {
   "cell_type": "code",
   "execution_count": 72,
   "metadata": {
    "collapsed": false
   },
   "outputs": [
    {
     "data": {
      "image/png": "[encoded data removed]",
      "text/plain": [
       "<matplotlib.figure.Figure at 0x7fa1920f9f60>"
      ]
     },
     "metadata": {},
     "output_type": "display_data"
    }
   ],
   "source": [
    "pdf_millen = pd.DataFrame(data=millen.collect())\n",
    "\n",
    "sns.set(style=\"darkgrid\")\n",
    "\n",
    "f, ax = plt.subplots(figsize=(15, 10))\n",
    "\n",
    "years = []\n",
    "for y in range(2000, 2003):\n",
    "    years.append(y)\n",
    "    for m in range(11):\n",
    "        years.append(' ')\n",
    "\n",
    "sns.set_color_codes(\"pastel\")\n",
    "sns.barplot(x=0, y=1, data=pdf_millen,\n",
    "            label=\"Total flights per month\", color=\"b\")\n",
    "\n",
    "sns.set_color_codes(\"muted\")\n",
    "sns.barplot(x=0, y=2, data=pdf_millen,\n",
    "            label=\"Total delayed flights per month\", color=\"r\")\n",
    "\n",
    "ax.legend(ncol=1, loc=\"upper left\", frameon=True)\n",
    "ax.set(xlim=(-1, 36), ylabel=\"\",\n",
    "       xlabel=\"Year\", xticklabels=years)\n",
    "sns.despine(right=True, top=True )"
   ]
  },
  {
   "cell_type": "markdown",
   "metadata": {},
   "source": [
    "<div class=\"alert alert-success\"> \n",
    "After September 2001, we see a drop in the traffic volume, justified by the fear of terrorism.\n",
    "</div>"
   ]
  },
  {
   "cell_type": "markdown",
   "metadata": {},
   "source": [
    "<div class=\"alert alert-success\"> \n",
    "<h3>Most used models in the 2000's</h3>\n",
    "<br>\n",
    "We report some analytics on aircraftf models and manufacturers\n",
    "</div>"
   ]
  },
  {
   "cell_type": "code",
   "execution_count": 73,
   "metadata": {
    "collapsed": false
   },
   "outputs": [],
   "source": [
    "flights_with_planes_df = cleaned_df.filter(cleaned_df.year.isin([i for i in range(2000, 2009)]))\\\n",
    "                                   .join(planes_df, cleaned_df.tail_number == planes_df.tailnum,\\\n",
    "                                         how='left_outer')\\\n",
    "                                   .drop(planes_df.tailnum).drop(planes_df.year).cache()"
   ]
  },
  {
   "cell_type": "code",
   "execution_count": 74,
   "metadata": {
    "collapsed": false
   },
   "outputs": [
    {
     "name": "stdout",
     "output_type": "stream",
     "text": [
      "+--------------+--------------------+-------+\n",
      "|         model|        manufacturer|  count|\n",
      "+--------------+--------------------+-------+\n",
      "|   CL-600-2B19|      BOMBARDIER INC|2674635|\n",
      "|     EMB-145LR|             EMBRAER|1640724|\n",
      "|DC-9-82(MD-82)|   MCDONNELL DOUGLAS|1292067|\n",
      "|         MD-88|MCDONNELL DOUGLAS...|1252550|\n",
      "|      A320-232|    AIRBUS INDUSTRIE|1042059|\n",
      "|       737-3H4|              BOEING|1000615|\n",
      "|       717-200|              BOEING| 994043|\n",
      "|       757-232|              BOEING| 934031|\n",
      "|   CL-600-2C10|      BOMBARDIER INC| 857476|\n",
      "|       737-7H4|              BOEING| 841337|\n",
      "|     EMB-120ER|             EMBRAER| 752062|\n",
      "|       757-222|              BOEING| 713020|\n",
      "|       737-322|              BOEING| 663771|\n",
      "|   CL-600-2B19|            CANADAIR| 633720|\n",
      "|       737-524|              BOEING| 542850|\n",
      "|       737-824|              BOEING| 529889|\n",
      "|       737-832|              BOEING| 505541|\n",
      "|     EMB-145XR|             EMBRAER| 475891|\n",
      "|      A320-232|              AIRBUS| 475336|\n",
      "|       737-3TO|              BOEING| 407704|\n",
      "+--------------+--------------------+-------+\n",
      "only showing top 20 rows\n",
      "\n"
     ]
    }
   ],
   "source": [
    "most_used_model_df = flights_with_planes_df.filter(flights_with_planes_df.model.isNotNull())\\\n",
    "                                           .groupBy('model', 'manufacturer').count()\\\n",
    "                                           .orderBy('count', ascending = False).cache()\n",
    "most_used_model_df.show()"
   ]
  },
  {
   "cell_type": "code",
   "execution_count": 75,
   "metadata": {
    "collapsed": false
   },
   "outputs": [
    {
     "name": "stdout",
     "output_type": "stream",
     "text": [
      "+--------------------+--------+\n",
      "|        manufacturer|   count|\n",
      "+--------------------+--------+\n",
      "|              BOEING|11838280|\n",
      "|             EMBRAER| 4112641|\n",
      "|      BOMBARDIER INC| 3728807|\n",
      "|    AIRBUS INDUSTRIE| 3165042|\n",
      "|   MCDONNELL DOUGLAS| 2365060|\n",
      "|MCDONNELL DOUGLAS...| 1269635|\n",
      "|              AIRBUS|  996403|\n",
      "|            CANADAIR|  633720|\n",
      "|             DOUGLAS|  361292|\n",
      "|MCDONNELL DOUGLAS...|  175297|\n",
      "|              CESSNA|   86021|\n",
      "|         DEHAVILLAND|   82717|\n",
      "|         SAAB-SCANIA|   75999|\n",
      "|        AEROSPATIALE|   68170|\n",
      "| AEROSPATIALE/ALENIA|   65865|\n",
      "|               PIPER|   38112|\n",
      "|               RAVEN|   26347|\n",
      "|               BEECH|   25729|\n",
      "|      FRIEDEMANN JON|    9391|\n",
      "|                BELL|    9277|\n",
      "+--------------------+--------+\n",
      "only showing top 20 rows\n",
      "\n"
     ]
    }
   ],
   "source": [
    "most_used_manuf_df = flights_with_planes_df.filter(flights_with_planes_df.manufacturer.isNotNull())\\\n",
    "                                           .groupBy( 'manufacturer').count()\\\n",
    "                                           .orderBy('count', ascending = False).cache()\n",
    "most_used_manuf_df.show()"
   ]
  },
  {
   "cell_type": "markdown",
   "metadata": {},
   "source": [
    "<div class=\"alert alert-success\"> \n",
    "This time we studied the actual number of flights per manufacturer over a 20-year time span.\n",
    "We obtain similar results as above: Boeing is the leader and Airbus is in second place.\n",
    "</div>"
   ]
  },
  {
   "cell_type": "code",
   "execution_count": 76,
   "metadata": {
    "collapsed": false
   },
   "outputs": [
    {
     "data": {
      "image/png": "[encoded data removed]",
      "text/plain": [
       "<matplotlib.figure.Figure at 0x7fa191e99a90>"
      ]
     },
     "metadata": {},
     "output_type": "display_data"
    }
   ],
   "source": [
    "flights_per_plane = cleaned_df.filter(cleaned_df.tail_number.isNotNull())\\\n",
    "                              .filter(~cleaned_df.tail_number.isin(['UNKNOW', 0, '000000', '�NKNO�']))\\\n",
    "                              .groupBy('tail_number').count().orderBy('count', ascending=0).cache()\n",
    "\n",
    "pdf_flights_per_plane = pd.DataFrame(data=flights_per_plane.limit(150).collect())\n",
    "#pdf_full_year_month = pdf_full_year_month.rename(columns={0: 'year', '1': 'newName2'})\n",
    "\n",
    "#print(pdf_full_year_month)\n",
    "\n",
    "sns.set(style=\"darkgrid\")\n",
    "\n",
    "# Initialize the matplotlib figure\n",
    "f, ax = plt.subplots(figsize=(15, 10))\n",
    "\n",
    "sns.set_color_codes(\"pastel\")\n",
    "sns.barplot(x=0, y=1, data=pdf_flights_per_plane,\n",
    "            label=\"Total flights per airplane (tailnumber)\", color=\"b\")\n",
    "\n",
    "ax.legend(ncol=2, loc=\"upper left\", frameon=True)\n",
    "ax.set(ylabel=\"Count\",\n",
    "       xlabel=\"Airplanes\", xticklabels=[])\n",
    "sns.despine(right=True, top=True )"
   ]
  },
  {
   "cell_type": "markdown",
   "metadata": {},
   "source": [
    "<div class=\"alert alert-success\"> \n",
    "This plot represents the total number of flights per aircraft over 20 years. It's interesting to notice that the variance of the usage of aircraft is very small. This may be due to two factors: \n",
    "<ul>\n",
    "<li>    law regulations </li>\n",
    "<li>    minimization of aircraft inactive time </li>\n",
    "</ul>\n",
    "What we show here is that a single aircraft travels around 4/5 times a day. \n",
    "</div>"
   ]
  },
  {
   "cell_type": "markdown",
   "metadata": {},
   "source": [
    "<div class=\"alert alert-success\"> \n",
    "<h3> Which are the busiest routes? </h3>\n",
    "</div>"
   ]
  },
  {
   "cell_type": "code",
   "execution_count": 31,
   "metadata": {
    "collapsed": false
   },
   "outputs": [
    {
     "name": "stdout",
     "output_type": "stream",
     "text": [
      "+----+--------------------+------------------+-----+-------+---------+----------+\n",
      "|iata|             airport|              city|state|country|      lat|      long|\n",
      "+----+--------------------+------------------+-----+-------+---------+----------+\n",
      "| 00M|            Thigpen |       Bay Springs|   MS|    USA|31.953764|-89.234505|\n",
      "| 00R|Livingston Municipal|        Livingston|   TX|    USA|30.685862| -95.01793|\n",
      "| 00V|         Meadow Lake|  Colorado Springs|   CO|    USA|38.945747|-104.56989|\n",
      "| 01G|        Perry-Warsaw|             Perry|   NY|    USA| 42.74135| -78.05208|\n",
      "| 01J|    Hilliard Airpark|          Hilliard|   FL|    USA|30.688013|-81.905945|\n",
      "| 01M|   Tishomingo County|           Belmont|   MS|    USA|34.491665| -88.20111|\n",
      "| 02A|         Gragg-Wade |           Clanton|   AL|    USA|32.850487| -86.61145|\n",
      "| 02C|             Capitol|        Brookfield|   WI|    USA| 43.08751| -88.17787|\n",
      "| 02G|   Columbiana County|    East Liverpool|   OH|    USA|40.673313|  -80.6414|\n",
      "| 03D|    Memphis Memorial|           Memphis|   MO|    USA|40.447258| -92.22696|\n",
      "| 04M|      Calhoun County|         Pittsboro|   MS|    USA| 33.93011| -89.34285|\n",
      "| 04Y|    Hawley Municipal|            Hawley|   MN|    USA| 46.88385|  -96.3509|\n",
      "| 05C|Griffith-Merrillv...|          Griffith|   IN|    USA| 41.51962| -87.40109|\n",
      "| 05F|Gatesville - City...|        Gatesville|   TX|    USA|31.421276| -97.79697|\n",
      "| 05U|              Eureka|            Eureka|   NV|    USA|39.604168|-116.00506|\n",
      "| 06A|    Moton  Municipal|          Tuskegee|   AL|    USA|32.460472| -85.68004|\n",
      "| 06C|          Schaumburg|Chicago/Schaumburg|   IL|    USA| 41.98934| -88.10124|\n",
      "| 06D|     Rolla Municipal|             Rolla|   ND|    USA|48.884342| -99.62088|\n",
      "| 06M|    Eupora Municipal|            Eupora|   MS|    USA|33.534565| -89.31257|\n",
      "| 06N|            Randall |        Middletown|   NY|    USA|41.431564|-74.391914|\n",
      "+----+--------------------+------------------+-----+-------+---------+----------+\n",
      "only showing top 20 rows\n",
      "\n"
     ]
    }
   ],
   "source": [
    "airport_data_schema = StructType([ \\\n",
    "    #StructField( name, dataType, nullable)\n",
    "    StructField(\"iata\",        StringType(), True), \\\n",
    "    StructField(\"airport\",           StringType(), True), \\\n",
    "    StructField(\"city\",   StringType(), True), \\\n",
    "    StructField(\"state\",     StringType(), True), \\\n",
    "    StructField(\"country\",          StringType(), True), \\\n",
    "    StructField(\"lat\",         FloatType(), True), \\\n",
    "    StructField(\"long\",  FloatType(), True), \\\n",
    "])\n",
    "\n",
    "airports_path = \"additional_data/airports.csv\"\n",
    "raw_airports = sc.textFile(airports_path)\n",
    "header = raw_airports.first()\n",
    "airports_column = raw_airports.filter(lambda l: l != header)\\\n",
    "    .map(lambda l: l.split(\",\"))\\\n",
    "    .filter(lambda x: len(x) == 7)\\\n",
    "    .map(lambda cols: \n",
    "         (\n",
    "            cols[0][1:-1]  if cols[0] else None,\n",
    "            cols[1][1:-1]  if cols[1] else None,\n",
    "            cols[2][1:-1]  if cols[2] else None,\n",
    "            cols[3][1:-1]  if cols[3] else None,\n",
    "            cols[4][1:-1]  if cols[4] else None,\n",
    "            float(cols[5])  if cols[5] else None,\n",
    "            float(cols[6])  if cols[6] else None,\n",
    "         ))\n",
    "    \n",
    "airports_df = sqlContext.createDataFrame(airports_column, airport_data_schema).cache()\n",
    "\n",
    "airports_df.show()\n"
   ]
  },
  {
   "cell_type": "code",
   "execution_count": 39,
   "metadata": {
    "collapsed": false
   },
   "outputs": [
    {
     "name": "stdout",
     "output_type": "stream",
     "text": [
      "+-----------+-------------+--------------------+------------+--------------------+-----------------+------+\n",
      "|src_airport|     src_city|            src_name|dest_airport|           dest_name|        dest_city| count|\n",
      "+-----------+-------------+--------------------+------------+--------------------+-----------------+------+\n",
      "|        SFO|San Francisco|San Francisco Int...|         LAX|Los Angeles Inter...|      Los Angeles|326513|\n",
      "|        LAX|  Los Angeles|Los Angeles Inter...|         SFO|San Francisco Int...|    San Francisco|325146|\n",
      "|        LAX|  Los Angeles|Los Angeles Inter...|         LAS|McCarran Internat...|        Las Vegas|277740|\n",
      "|        LAS|    Las Vegas|McCarran Internat...|         LAX|Los Angeles Inter...|      Los Angeles|272513|\n",
      "|        LAX|  Los Angeles|Los Angeles Inter...|         PHX|Phoenix Sky Harbo...|          Phoenix|267922|\n",
      "|        PHX|      Phoenix|Phoenix Sky Harbo...|         LAX|Los Angeles Inter...|      Los Angeles|267851|\n",
      "|        ORD|      Chicago|Chicago O'Hare In...|         MSP|Minneapolis-St Pa...|      Minneapolis|239800|\n",
      "|        MSP|  Minneapolis|Minneapolis-St Pa...|         ORD|Chicago O'Hare In...|          Chicago|239349|\n",
      "|        PHX|      Phoenix|Phoenix Sky Harbo...|         LAS|McCarran Internat...|        Las Vegas|228856|\n",
      "|        LAS|    Las Vegas|McCarran Internat...|         PHX|Phoenix Sky Harbo...|          Phoenix|226955|\n",
      "|        LGA|     New York|           LaGuardia|         ORD|Chicago O'Hare In...|          Chicago|224198|\n",
      "|        HOU|      Houston|     William P Hobby|         DAL|        Dallas Love |           Dallas|221313|\n",
      "|        ORD|      Chicago|Chicago O'Hare In...|         LGA|           LaGuardia|         New York|218320|\n",
      "|        DAL|       Dallas|        Dallas Love |         HOU|     William P Hobby|          Houston|206964|\n",
      "|        EWR|       Newark|         Newark Intl|         ORD|Chicago O'Hare In...|          Chicago|203161|\n",
      "|        ORD|      Chicago|Chicago O'Hare In...|         EWR|         Newark Intl|           Newark|196210|\n",
      "|        ORD|      Chicago|Chicago O'Hare In...|         DFW|Dallas-Fort Worth...|Dallas-Fort Worth|185008|\n",
      "|        ORD|      Chicago|Chicago O'Hare In...|         LAX|Los Angeles Inter...|      Los Angeles|182544|\n",
      "|        LAX|  Los Angeles|Los Angeles Inter...|         ORD|Chicago O'Hare In...|          Chicago|181676|\n",
      "|        OAK|      Oakland|Metropolitan Oakl...|         LAX|Los Angeles Inter...|      Los Angeles|180777|\n",
      "+-----------+-------------+--------------------+------------+--------------------+-----------------+------+\n",
      "only showing top 20 rows\n",
      "\n"
     ]
    }
   ],
   "source": [
    "busy_routes = cleaned_df.groupBy('src_airport', 'dest_airport').count()\\\n",
    "                        .join(airports_df, airports_df.iata == cleaned_df.src_airport)\\\n",
    "                        .select('src_airport', 'city', 'airport', 'dest_airport', 'count')\\\n",
    "                        .withColumnRenamed('city', 'src_city')\\\n",
    "                        .withColumnRenamed('airport', 'src_name')\\\n",
    "                        .join(airports_df, airports_df.iata == cleaned_df.dest_airport)\\\n",
    "                        .select('src_airport', 'src_city', 'src_name', 'dest_airport', 'airport', 'city', 'count')\\\n",
    "                        .withColumnRenamed('city', 'dest_city')\\\n",
    "                        .withColumnRenamed('airport', 'dest_name').orderBy(desc('count')).cache()\n",
    "                        \n",
    "busy_routes.show()"
   ]
  },
  {
   "cell_type": "markdown",
   "metadata": {},
   "source": [
    "<div class=\"alert alert-success\"> \n",
    "We need now to join entries where source and destination airports are swapped, but the same.\n",
    "</div>"
   ]
  },
  {
   "cell_type": "code",
   "execution_count": 40,
   "metadata": {
    "collapsed": false
   },
   "outputs": [
    {
     "name": "stdout",
     "output_type": "stream",
     "text": [
      "+---+-----------------+--------------------+---+-----------------+--------------------+------+\n",
      "|  A|         src_city|            src_name|  B|        dest_city|           dest_name| count|\n",
      "+---+-----------------+--------------------+---+-----------------+--------------------+------+\n",
      "|SFO|    San Francisco|San Francisco Int...|LAX|      Los Angeles|Los Angeles Inter...|651659|\n",
      "|LAX|      Los Angeles|Los Angeles Inter...|LAS|        Las Vegas|McCarran Internat...|550253|\n",
      "|PHX|          Phoenix|Phoenix Sky Harbo...|LAX|      Los Angeles|Los Angeles Inter...|535773|\n",
      "|ORD|          Chicago|Chicago O'Hare In...|MSP|      Minneapolis|Minneapolis-St Pa...|479149|\n",
      "|PHX|          Phoenix|Phoenix Sky Harbo...|LAS|        Las Vegas|McCarran Internat...|455811|\n",
      "|ORD|          Chicago|Chicago O'Hare In...|LGA|         New York|           LaGuardia|442518|\n",
      "|HOU|          Houston|     William P Hobby|DAL|           Dallas|        Dallas Love |428277|\n",
      "|ORD|          Chicago|Chicago O'Hare In...|EWR|           Newark|         Newark Intl|399371|\n",
      "|ORD|          Chicago|Chicago O'Hare In...|DFW|Dallas-Fort Worth|Dallas-Fort Worth...|364581|\n",
      "|ORD|          Chicago|Chicago O'Hare In...|LAX|      Los Angeles|Los Angeles Inter...|364220|\n",
      "|OAK|          Oakland|Metropolitan Oakl...|LAX|      Los Angeles|Los Angeles Inter...|360881|\n",
      "|DFW|Dallas-Fort Worth|Dallas-Fort Worth...|ATL|          Atlanta|William B Hartsfi...|354604|\n",
      "|LGA|         New York|           LaGuardia|BOS|           Boston|Gen Edw L Logan Intl|351432|\n",
      "|IAH|          Houston|George Bush Inter...|DFW|Dallas-Fort Worth|Dallas-Fort Worth...|348133|\n",
      "|ORD|          Chicago|Chicago O'Hare In...|ATL|          Atlanta|William B Hartsfi...|344921|\n",
      "|SAN|        San Diego|San Diego Interna...|PHX|          Phoenix|Phoenix Sky Harbo...|337587|\n",
      "|LGA|         New York|           LaGuardia|DCA|        Arlington|Ronald Reagan Was...|333637|\n",
      "|ORD|          Chicago|Chicago O'Hare In...|DCA|        Arlington|Ronald Reagan Was...|326392|\n",
      "|PHL|     Philadelphia|   Philadelphia Intl|ORD|          Chicago|Chicago O'Hare In...|319695|\n",
      "|DCA|        Arlington|Ronald Reagan Was...|BOS|           Boston|Gen Edw L Logan Intl|319046|\n",
      "+---+-----------------+--------------------+---+-----------------+--------------------+------+\n",
      "only showing top 20 rows\n",
      "\n"
     ]
    }
   ],
   "source": [
    "unique_busy_routes = busy_routes.withColumn('A', when(busy_routes.src_airport > busy_routes.dest_airport, \\\n",
    "                                            busy_routes.src_airport).otherwise(busy_routes.dest_airport))\\\n",
    "                                .withColumn('B', when(busy_routes.src_airport < busy_routes.dest_airport, \\\n",
    "                                            busy_routes.src_airport).otherwise(busy_routes.dest_airport))\\\n",
    "                                .groupBy('A', 'B').agg(func.sum('count').alias('count')).orderBy(desc('count'))\n",
    "unique_busy_routes = unique_busy_routes.join(airports_df, airports_df.iata == unique_busy_routes.A)\\\n",
    "                          .select('A', 'city', 'airport', 'B', 'count')\\\n",
    "                          .withColumnRenamed('city', 'src_city')\\\n",
    "                          .withColumnRenamed('airport', 'src_name')\\\n",
    "                         .join(airports_df, airports_df.iata == unique_busy_routes.B)\\\n",
    "                        .select('A', 'src_city', 'src_name', 'B', 'city', 'airport','count')\\\n",
    "                        .withColumnRenamed('city', 'dest_city')\\\n",
    "                        .withColumnRenamed('airport', 'dest_name').orderBy(desc('count')).cache()\n",
    "                                \n",
    "unique_busy_routes.show()"
   ]
  },
  {
   "cell_type": "markdown",
   "metadata": {},
   "source": [
    "<div class=\"alert alert-success\"> \n",
    "Los Angeles - San Francisco is the busiest route while the second busiest is Los Angeles - Las Vegas. Los Angeles appears also in third position with a link with Phoenix.\n",
    "</div>"
   ]
  },
  {
   "cell_type": "markdown",
   "metadata": {},
   "source": [
    "<div class=\"alert alert-success\"> \n",
    "\n",
    "<h1> Weather feature </h1>\n",
    "<br>\n",
    "We think weather information may be a valuable addition to our predictions. To retreive this feature, we used the suggested online history service (Weather Underground). Using a simple Python script (not included in this notebook), we performed a series of calls to the API; due to limited amount of queries, we downloaded weather information only for 1994 and only for the top 25 airports, knowing that this will cover a reasonable amount of traffic.\n",
    "</div>"
   ]
  },
  {
   "cell_type": "code",
   "execution_count": 58,
   "metadata": {
    "collapsed": false
   },
   "outputs": [
    {
     "name": "stdout",
     "output_type": "stream",
     "text": [
      "+-------+------+\n",
      "|airport|     2|\n",
      "+-------+------+\n",
      "|    SFO|cloudy|\n",
      "+-------+------+\n",
      "\n"
     ]
    }
   ],
   "source": [
    "# to start testing, we can focus on a single year\n",
    "input_path_weather = \"additional_data/weather2.csv\"\n",
    "raw_weather_data = sc.textFile(input_path_weather)\n",
    "\n",
    "cleaned_weather_columns_full = raw_weather_data.map(lambda l: l.split(\",\"))\\\n",
    "    .filter(lambda x: len(x) >= 5)\\\n",
    "    .map(lambda cols: \n",
    "         (\n",
    "            cols[0]  if cols[0] else None,\n",
    "            int(cols[1])  if cols[1] else None,\n",
    "            int(cols[2])  if cols[2] else None,\n",
    "            int(cols[3])  if cols[3] else None,\n",
    "            cols[4] if cols[4] else None,\n",
    "            cols[5] if cols[5] else None, \n",
    "            cols[6]  if cols[6] else None,\n",
    "            cols[7]  if cols[7] else None,\n",
    "            cols[8]  if cols[8] else None,\n",
    "            cols[9]   if cols[9] else None,\n",
    "            cols[10]  if cols[10] else None,\n",
    "            cols[11]  if len(cols) >11 else 'unknown',\n",
    "            cols[12]  if len(cols) >12 else 'unknown',\n",
    "            cols[13]  if len(cols) >13 else 'unknown',\n",
    "            cols[14]  if len(cols) >14 else 'unknown',\n",
    "            cols[15]  if len(cols) >15 else 'unknown',\n",
    "            cols[16]  if len(cols) >16 else 'unknown',\n",
    "            cols[17]  if len(cols) >17 else 'unknown',\n",
    "            cols[18]  if len(cols) >18 else 'unknown',\n",
    "            cols[19]  if len(cols) >19 else 'unknown',\n",
    "            cols[20]  if len(cols) >20 else 'unknown',\n",
    "            cols[21]   if len(cols) >21 else 'unknown',\n",
    "            cols[22]   if len(cols) >22 else 'unknown',\n",
    "            cols[23]   if len(cols) >23 else 'unknown',\n",
    "            cols[24]   if len(cols) >24 else 'unknown',\n",
    "            cols[25]  if len(cols) >25 else 'unknown',\n",
    "            cols[26]  if len(cols) >26 else 'unknown',\n",
    "            cols[27]   if len(cols) >27 else 'unknown',\n",
    "         ))\n",
    "    \n",
    "weather_data_schema = StructType([ \\\n",
    "    #StructField( name, dataType, nullable)\n",
    "    StructField(\"airport\", StringType(), True), \\\n",
    "    StructField(\"year\",    IntegerType(), True), \\\n",
    "    StructField(\"month\",   IntegerType(), True), \\\n",
    "    StructField(\"day\",     IntegerType(), True), \\\n",
    "    StructField(\"0\",      StringType(), True), \\\n",
    "    StructField(\"1\",      StringType(), True), \\\n",
    "    StructField(\"2\",      StringType(), True), \\\n",
    "    StructField(\"3\",      StringType(), True), \\\n",
    "    StructField(\"4\",      StringType(),  True), \\\n",
    "    StructField(\"5\",      StringType(), True), \\\n",
    "    StructField(\"6\",      StringType(), True), \\\n",
    "    StructField(\"7\",      StringType(), True), \\\n",
    "    StructField(\"8\",      StringType(), True), \\\n",
    "    StructField(\"9\",      StringType(),  True), \\\n",
    "    StructField(\"10\",      StringType(), True), \\\n",
    "    StructField(\"11\",      StringType(), True), \\\n",
    "    StructField(\"12\",      StringType(), True), \\\n",
    "    StructField(\"13\",      StringType(), True), \\\n",
    "    StructField(\"14\",      StringType(),  True),\\\n",
    "    StructField(\"15\",      StringType(), True), \\\n",
    "    StructField(\"16\",      StringType(), True), \\\n",
    "    StructField(\"17\",      StringType(), True), \\\n",
    "    StructField(\"18\",      StringType(), True), \\\n",
    "    StructField(\"19\",      StringType(),  True), \\\n",
    "    StructField(\"20\",      StringType(), True), \\\n",
    "    StructField(\"21\",      StringType(), True), \\\n",
    "    StructField(\"22\",      StringType(), True), \\\n",
    "    StructField(\"23\",      StringType(), True) \\\n",
    "])\n",
    "\n",
    "weather_df = sqlContext.createDataFrame(cleaned_weather_columns_full, weather_data_schema).cache()\n",
    "\n",
    "\n",
    "weather_df.filter(weather_df.airport=='SFO').filter(weather_df.day==2).filter(weather_df.month==1)\\\n",
    "          .select('airport', '2').show()\n"
   ]
  },
  {
   "cell_type": "markdown",
   "metadata": {},
   "source": [
    "<div class=\"alert alert-success\">\n",
    "For each airport and for each day of the year, the API could provide a lot of data (wind strength, wind direction, rain, snow [cm]) but we just select only hourly descriptive information about the general weather conditions.\n",
    "</div>\n",
    "<br>\n",
    "<div class=\"alert alert-success\">\n",
    "Now, the next big step is to include the right hour feature in our base dataframe. This is done in two steps, one for the source airport and one for the destination airport. Note that airports for which we don't know the weather are still present in the dataframe with conditions ``unknown``\n",
    "</div>"
   ]
  },
  {
   "cell_type": "code",
   "execution_count": 59,
   "metadata": {
    "collapsed": false
   },
   "outputs": [
    {
     "name": "stdout",
     "output_type": "stream",
     "text": [
      "+-----------+------------+--------------+------------+\n",
      "|src_airport| src_weather|departure_time|arrival_time|\n",
      "+-----------+------------+--------------+------------+\n",
      "|        CLT|      cloudy|           858|         954|\n",
      "|        CLT|partlycloudy|           859|         952|\n",
      "+-----------+------------+--------------+------------+\n",
      "only showing top 2 rows\n",
      "\n"
     ]
    }
   ],
   "source": [
    "weather_flights_df = df_complete.withColumn('departure_slot', floor((df_complete['departure_time']%2400)/100))\\\n",
    "                                .join(weather_df, (df_complete.year==weather_df.year) & \\\n",
    "                                                  (df_complete.month==weather_df.month) &\\\n",
    "                                                  (df_complete.day_of_month==weather_df.day) &\\\n",
    "                                                  (df_complete.src_airport==weather_df.airport), how='left_outer')\\\n",
    "                                .cache()\n",
    "\n",
    "def get_weather(x):\n",
    "    if x[29] == None:\n",
    "         return 'unknown'\n",
    "    if x[34+x[29]] == None:\n",
    "        return 'unknown'\n",
    "    return  x[34+x[29]]\n",
    "src_weather_rdd = weather_flights_df.rdd.map(lambda x: [x[0:29], get_weather(x)])\\\n",
    "                                        .map(lambda x: (x[0] + (str(x[1]),) ) ) \n",
    "\n",
    "weather_src_data_schema = StructType([ \\\n",
    "    #StructField( name, dataType, nullable)\n",
    "    StructField(\"year\",                     IntegerType(), True), \\\n",
    "    StructField(\"month\",                    IntegerType(), True), \\\n",
    "    StructField(\"day_of_month\",             IntegerType(), True), \\\n",
    "    StructField(\"day_of_week\",              IntegerType(), True), \\\n",
    "    StructField(\"departure_time\",           IntegerType(), True), \\\n",
    "    StructField(\"scheduled_departure_time\", IntegerType(), True), \\\n",
    "    StructField(\"arrival_time\",             IntegerType(), True), \\\n",
    "    StructField(\"scheduled_arrival_time\",   IntegerType(), True), \\\n",
    "    StructField(\"carrier\",                  StringType(),  True), \\\n",
    "    StructField(\"flight_number\",            StringType(),  True), \\\n",
    "    StructField(\"tail_number\",              StringType(),  True), \\\n",
    "    StructField(\"actual_elapsed_time\",      IntegerType(), True), \\\n",
    "    StructField(\"scheduled_elapsed_time\",   IntegerType(), True), \\\n",
    "    StructField(\"air_time\",                 IntegerType(), True), \\\n",
    "    StructField(\"arrival_delay\",            IntegerType(), True), \\\n",
    "    StructField(\"departure_delay\",          IntegerType(), True), \\\n",
    "    StructField(\"src_airport\",              StringType(),  True), \\\n",
    "    StructField(\"dest_airport\",             StringType(),  True), \\\n",
    "    StructField(\"distance\",                 IntegerType(), True), \\\n",
    "    StructField(\"taxi_in_time\",             IntegerType(), True), \\\n",
    "    StructField(\"taxi_out_time\",            IntegerType(), True), \\\n",
    "    StructField(\"cancelled\",                StringType(),  True), \\\n",
    "    StructField(\"cancellation_code\",        StringType(),  True), \\\n",
    "    StructField(\"diverted\",                 StringType(),  True), \\\n",
    "    StructField(\"carrier_delay\",            IntegerType(), True), \\\n",
    "    StructField(\"weather_delay\",            IntegerType(), True), \\\n",
    "    StructField(\"nas_delay\",                IntegerType(), True), \\\n",
    "    StructField(\"security_delay\",           IntegerType(), True), \\\n",
    "    StructField(\"late_aircraft_delay\",      IntegerType(), True),\\\n",
    "    StructField(\"src_weather\",              StringType(), True)\\\n",
    "])\n",
    "weather_src_flights_df = sqlContext.createDataFrame(src_weather_rdd, weather_src_data_schema)\n",
    "weather_src_flights_df.select('src_airport', 'src_weather', 'departure_time', 'arrival_time').show(2)"
   ]
  },
  {
   "cell_type": "code",
   "execution_count": 60,
   "metadata": {
    "collapsed": false
   },
   "outputs": [
    {
     "name": "stdout",
     "output_type": "stream",
     "text": [
      "+-----------+------------+--------------+------------+------------+------------+\n",
      "|src_airport| src_weather|departure_time|dest_airport|dest_weather|arrival_time|\n",
      "+-----------+------------+--------------+------------+------------+------------+\n",
      "|        CLT|      cloudy|           858|         ORF|     unknown|         954|\n",
      "|        CLT|partlycloudy|           859|         ORF|     unknown|         952|\n",
      "|        CLT|partlycloudy|           935|         ORF|     unknown|        1023|\n",
      "|        CLT|       sleet|           903|         ORF|     unknown|        1131|\n",
      "|        CLT|        rain|           933|         ORF|     unknown|        1024|\n",
      "|        CLT|     unknown|          null|         ORF|     unknown|        null|\n",
      "|        CLT|      cloudy|           903|         ORF|     unknown|        1005|\n",
      "|        CLT|       clear|           859|         ORF|     unknown|        1004|\n",
      "|        CLT|      cloudy|           859|         ORF|     unknown|         955|\n",
      "|        CLT|       clear|           904|         ORF|     unknown|         959|\n",
      "|        CLT|       clear|           858|         ORF|     unknown|         947|\n",
      "|        CLT|partlycloudy|           923|         ORF|     unknown|        1015|\n",
      "|        CLT|     unknown|          null|         ORF|     unknown|        null|\n",
      "|        CLT|       clear|           859|         ORF|     unknown|        1001|\n",
      "|        CLT|mostlycloudy|           901|         ORF|     unknown|        1006|\n",
      "|        CLT|partlycloudy|           859|         ORF|     unknown|         952|\n",
      "|        CLT|        rain|           910|         ORF|     unknown|        1008|\n",
      "|        CLT|        rain|           858|         ORF|     unknown|        1020|\n",
      "|        CLT|      cloudy|           859|         ORF|     unknown|         953|\n",
      "|        CLT|      cloudy|           904|         ORF|     unknown|        1006|\n",
      "+-----------+------------+--------------+------------+------------+------------+\n",
      "only showing top 20 rows\n",
      "\n"
     ]
    }
   ],
   "source": [
    "weather_flights_df = weather_src_flights_df\\\n",
    "                        .withColumn('arrival_slot', floor((weather_src_flights_df['arrival_time']%2400)/100))\\\n",
    "                        .join(weather_df, (weather_src_flights_df.year==weather_df.year) & \\\n",
    "                                          (weather_src_flights_df.month==weather_df.month) &\\\n",
    "                                          (weather_src_flights_df.day_of_month==weather_df.day) &\\\n",
    "                                          (weather_src_flights_df.dest_airport==weather_df.airport), how='left_outer')\\\n",
    "                        .cache()\n",
    "def get_weather2(x):\n",
    "    if x[30] is None:\n",
    "        return 'unknown'\n",
    "    if x[35+x[30]] == None:\n",
    "        return 'unknown'\n",
    "    return  x[35+x[30]]\n",
    "dest_src_weather_rdd = weather_flights_df.rdd.map(lambda x: [x[0:30], get_weather2(x)])\\\n",
    "                                             .map(lambda x: (x[0] + (str(x[1]),) ) ) \n",
    "\n",
    "weather_dest_src_data_schema = StructType([ \\\n",
    "    #StructField( name, dataType, nullable)\n",
    "    StructField(\"year\",                     IntegerType(), True), \\\n",
    "    StructField(\"month\",                    IntegerType(), True), \\\n",
    "    StructField(\"day_of_month\",             IntegerType(), True), \\\n",
    "    StructField(\"day_of_week\",              IntegerType(), True), \\\n",
    "    StructField(\"departure_time\",           IntegerType(), True), \\\n",
    "    StructField(\"scheduled_departure_time\", IntegerType(), True), \\\n",
    "    StructField(\"arrival_time\",             IntegerType(), True), \\\n",
    "    StructField(\"scheduled_arrival_time\",   IntegerType(), True), \\\n",
    "    StructField(\"carrier\",                  StringType(),  True), \\\n",
    "    StructField(\"flight_number\",            StringType(),  True), \\\n",
    "    StructField(\"tail_number\",              StringType(),  True), \\\n",
    "    StructField(\"actual_elapsed_time\",      IntegerType(), True), \\\n",
    "    StructField(\"scheduled_elapsed_time\",   IntegerType(), True), \\\n",
    "    StructField(\"air_time\",                 IntegerType(), True), \\\n",
    "    StructField(\"arrival_delay\",            IntegerType(), True), \\\n",
    "    StructField(\"departure_delay\",          IntegerType(), True), \\\n",
    "    StructField(\"src_airport\",              StringType(),  True), \\\n",
    "    StructField(\"dest_airport\",             StringType(),  True), \\\n",
    "    StructField(\"distance\",                 IntegerType(), True), \\\n",
    "    StructField(\"taxi_in_time\",             IntegerType(), True), \\\n",
    "    StructField(\"taxi_out_time\",            IntegerType(), True), \\\n",
    "    StructField(\"cancelled\",                StringType(),  True), \\\n",
    "    StructField(\"cancellation_code\",        StringType(),  True), \\\n",
    "    StructField(\"diverted\",                 StringType(),  True), \\\n",
    "    StructField(\"carrier_delay\",            IntegerType(), True), \\\n",
    "    StructField(\"weather_delay\",            IntegerType(), True), \\\n",
    "    StructField(\"nas_delay\",                IntegerType(), True), \\\n",
    "    StructField(\"security_delay\",           IntegerType(), True), \\\n",
    "    StructField(\"late_aircraft_delay\",      IntegerType(), True),\\\n",
    "    StructField(\"src_weather\",              StringType(), True), \\\n",
    "    StructField(\"dest_weather\",              StringType(), True)\\\n",
    "])\n",
    "\n",
    "weather_flights_full_df = sqlContext.createDataFrame(dest_src_weather_rdd, weather_dest_src_data_schema)\n",
    "weather_flights_full_df.select('src_airport', 'src_weather', 'departure_time',\\\n",
    "                               'dest_airport', 'dest_weather', 'arrival_time').show(20)"
   ]
  },
  {
   "cell_type": "code",
   "execution_count": 61,
   "metadata": {
    "collapsed": false
   },
   "outputs": [
    {
     "name": "stdout",
     "output_type": "stream",
     "text": [
      "+------------+-----+\n",
      "|          20|count|\n",
      "+------------+-----+\n",
      "|         fog|  448|\n",
      "|     unknown| 1108|\n",
      "|        rain| 1186|\n",
      "|mostlycloudy| 1995|\n",
      "|        hazy|    3|\n",
      "|       clear| 1863|\n",
      "|      cloudy| 1666|\n",
      "|partlycloudy| 1867|\n",
      "|       sleet|   33|\n",
      "|     tstorms|  271|\n",
      "|        snow|  145|\n",
      "+------------+-----+\n",
      "\n"
     ]
    }
   ],
   "source": [
    "weather_df.groupBy('20').count().show()"
   ]
  },
  {
   "cell_type": "markdown",
   "metadata": {},
   "source": [
    "# 4. Building a model of our data\n",
    "Now that we have a good grasp on our data and its features, we will focus on how build a statistic model. Note that the features we can decide to use, to train our model, can be put in two groups:\n",
    "\n",
    "- **Explicit features**: these are features that are present in the original data, or that can be built using additional data sources such as `weather` (for example querying a public API)\n",
    "- **Implicit features**: these are the features that are inferred from other features such as `is_weekend`, `is_holiday`, `season`, `in_winter`,...\n",
    "\n",
    "In this notebook, we will focus on the following predictors: `year`, `month`, `day_of_month`, `day_of_week`, `scheduled_departure_time`, `scheduled_arrival_time`, `carrier`, `is_weekend`, `distance`, `src_airport`, `dest_airport`. Among them, `is_weekend` is an implicit feature. The rest are explicit features.\n",
    "\n",
    "The target feature is `arrival_delay`. \n",
    "\n",
    "Currently, MLLIB only supports building models from RDDs. It is important to read well the documentation and the MLLib API, to make sure to use the algorithms in an appropriate manner:\n",
    "\n",
    "- MLLIB supports both categorical and numerical features. However, for each categorical feature, we have to indicate how many distinct values they can take\n",
    "- Each training record must be a ```LabelledPoint```. This data structure has 2 components: ```label``` and ```predictor vector```. ```label``` is the value of target feature in the current record. ```predictor vector``` is a vector of values of type ```Double```. As such, we need to map each value of each categorical feature to a number. In this project, we choose a naïve approach: map each value to a unique index. \n",
    "- MLLIB uses a binning technique to find the split point (the predicate in each tree node). In particular, it divides the domain of numerical features into ```maxBins``` bins (32 by default). With categorical features, each distinct value fits in its own bin. **IMPORTANT:** MLLIB requires that no categorical feature have more than `maxBins` distinct values.\n",
    "- We fill up the missing values in each **categorical** feature with its most common value. The missing values of a **numerical** feature are also replaced by the most common value (however, in some cases, a more sensible approach would be to use the median of this kind of feature).\n"
   ]
  },
  {
   "cell_type": "markdown",
   "metadata": {},
   "source": [
    "## 4.1 Mapping values of each categorical feature to indices"
   ]
  },
  {
   "cell_type": "markdown",
   "metadata": {},
   "source": [
    "### Question 6 \n",
    "\n",
    "Among the selected features, `src_aiport`, `dest_airport`, `carrier` and `distance` have missing values. Besides, the first three of them are categorical features. That means, in order to use them as input features of MLLIB, the values of these features must be numerical. We can use a naïve approach: map each value of each feature to a unique index.\n",
    "\n",
    "#### Question 6.1\n",
    "<div class=\"alert alert-info\">\n",
    "Calculate the frequency of each source airport in the data and build a dictionary that maps each of them to a unique index.  \n",
    "\n",
    "**Note:** we sort the airports by their frequency in descending order, so that we can easily take the most common airport(s) by taking the first element(s) in the result.\n",
    "</div>"
   ]
  },
  {
   "cell_type": "code",
   "execution_count": 62,
   "metadata": {
    "collapsed": false
   },
   "outputs": [
    {
     "name": "stdout",
     "output_type": "stream",
     "text": [
      "+-----------+------+\n",
      "|src_airport| count|\n",
      "+-----------+------+\n",
      "|        ORD|277741|\n",
      "|        DFW|256274|\n",
      "|        ATL|221486|\n",
      "|        LAX|153494|\n",
      "|        STL|151609|\n",
      "+-----------+------+\n",
      "only showing top 5 rows\n",
      "\n",
      "['ORD', 'DFW', 'ATL', 'LAX', 'STL']\n",
      "0\n",
      "2\n"
     ]
    }
   ],
   "source": [
    "# select distinct source airports and map values to index\n",
    "# sort the airport by their frequency descending\n",
    "# so the most common aiport will be on the top\n",
    "stat_src = (\n",
    "    df\n",
    "        .groupBy('src_airport')\n",
    "        .agg(func.count('*').alias('count'))\n",
    "        .orderBy(desc('count'))\n",
    "    )\n",
    "stat_src.show(5)\n",
    "# extract the airport names from stat_src\n",
    "src_airports = [item[0] for item in stat_src.collect()]\n",
    "pprint(src_airports[0:5])\n",
    "\n",
    "num_src_airports = len(src_airports)\n",
    "src_airports_idx = range(0, num_src_airports)\n",
    "map_src_airport_to_index = dict(zip(src_airports, src_airports_idx))\n",
    "\n",
    "#pprint(map_src_airport_to_index)\n",
    "# # test the dictionary\n",
    "print(map_src_airport_to_index['ORD'])\n",
    "print(map_src_airport_to_index['ATL'])"
   ]
  },
  {
   "cell_type": "markdown",
   "metadata": {},
   "source": [
    "#### Question 6.2\n",
    "<div class=\"alert alert-info\">\n",
    "Calculate the frequency of each destination airport in the data and build a dictionary that maps each of them to a unique index.\n",
    "</div>"
   ]
  },
  {
   "cell_type": "code",
   "execution_count": 63,
   "metadata": {
    "collapsed": false
   },
   "outputs": [
    {
     "name": "stdout",
     "output_type": "stream",
     "text": [
      "+------------+------+\n",
      "|dest_airport| count|\n",
      "+------------+------+\n",
      "|         ORD|283720|\n",
      "|         DFW|260249|\n",
      "|         ATL|221588|\n",
      "|         LAX|152959|\n",
      "|         STL|152800|\n",
      "+------------+------+\n",
      "only showing top 5 rows\n",
      "\n",
      "['ORD', 'DFW', 'ATL', 'LAX', 'STL']\n",
      "0\n",
      "2\n"
     ]
    }
   ],
   "source": [
    "# select distinct source airports and map values to index\n",
    "# sort the airport by their frequency descending\n",
    "# so the most common aiport will be on the top\n",
    "stat_dest = (\n",
    "    df\n",
    "        .groupBy('dest_airport')\n",
    "        .agg(func.count('*').alias('count'))\n",
    "        .orderBy(desc('count'))\n",
    "    )\n",
    "stat_dest.show(5)\n",
    "# extract the airport names from stat_src\n",
    "dest_airports = [item[0] for item in stat_dest.collect()]\n",
    "pprint(dest_airports[0:5])\n",
    "\n",
    "num_dest_airports = len(dest_airports)\n",
    "dest_airports_idx = range(0, num_dest_airports)\n",
    "map_dest_airport_to_index = dict(zip(dest_airports, dest_airports_idx))\n",
    "\n",
    "# # test the dictionary\n",
    "print(map_dest_airport_to_index['ORD'])\n",
    "print(map_dest_airport_to_index['ATL'])"
   ]
  },
  {
   "cell_type": "markdown",
   "metadata": {},
   "source": [
    "#### Question 6.3\n",
    "<div class=\"alert alert-info\">\n",
    "Calculate the frequency of each carrier in the data and build a dictionary that maps each of them to a unique index.\n",
    "</div>"
   ]
  },
  {
   "cell_type": "code",
   "execution_count": 64,
   "metadata": {
    "collapsed": false
   },
   "outputs": [
    {
     "name": "stdout",
     "output_type": "stream",
     "text": [
      "+-------+------+\n",
      "|carrier| count|\n",
      "+-------+------+\n",
      "|     DL|874526|\n",
      "|     US|857906|\n",
      "|     AA|722277|\n",
      "|     UA|638750|\n",
      "|     WN|565426|\n",
      "+-------+------+\n",
      "only showing top 5 rows\n",
      "\n",
      "['DL', 'US', 'AA', 'UA', 'WN']\n",
      "1\n",
      "0\n"
     ]
    }
   ],
   "source": [
    "stat_carrier = (\n",
    "    df\n",
    "        .groupBy('carrier')\n",
    "        .agg(func.count('*').alias('count'))\n",
    "        .orderBy(desc('count'))\n",
    "    )\n",
    "stat_carrier.show(5)\n",
    "# extract the airport names from stat_src\n",
    "carriers = [item[0] for item in stat_carrier.collect()]\n",
    "pprint(carriers[0:5])\n",
    "\n",
    "num_carriers = len(carriers)\n",
    "carriers_idx = range(0, num_carriers)\n",
    "map_carriers_to_index = dict(zip(carriers, carriers_idx))\n",
    "\n",
    "# # test the dictionary\n",
    "print(map_carriers_to_index['US'])\n",
    "print(map_carriers_to_index['DL'])"
   ]
  },
  {
   "cell_type": "markdown",
   "metadata": {},
   "source": [
    "## 4.2 Calculating the most common value of each feature\n",
    "We use a simple strategy for filling in the missing values: replacing them with the most common value of the corresponding feature.\n",
    "\n",
    "<div class=\"alert alert-danger\">\n",
    "**IMPORTANT NOTE:** features like ```month```, ```day_of_month```, etc... can be treated as numerical features in general. However, when it comes to build the model, it is much easier considering them as categorical features. In this case, to compute the most common value for such categorical features, we simply use the frequency of occurrence of each `label`, and chose the most frequent.\n",
    "</div>"
   ]
  },
  {
   "cell_type": "markdown",
   "metadata": {},
   "source": [
    "### Question 7\n",
    "In the previous question, when constructing the dictionary for categorical features, we also sort their statistical information in a such way that the most common value of each feature are placed on the top.\n",
    "\n",
    "Note that, feature `is_weekend` has the most common value set to `0` (that is, `no` the day is not a weekend)."
   ]
  },
  {
   "cell_type": "markdown",
   "metadata": {},
   "source": [
    "#### Question 7.1\n",
    "<div class=\"alert alert-info\">\n",
    "Find the most common value of feature `month` in data.\n",
    "</div>\n",
    "\n"
   ]
  },
  {
   "cell_type": "code",
   "execution_count": 65,
   "metadata": {
    "collapsed": false
   },
   "outputs": [
    {
     "name": "stdout",
     "output_type": "stream",
     "text": [
      "The most common month: 8\n"
     ]
    }
   ],
   "source": [
    "most_common_month = (\n",
    "    df\n",
    "        .groupBy('month')\n",
    "        .agg(func.count('*').alias('count'))\n",
    "        .orderBy(desc('count'))\n",
    "    ).first()[0]\n",
    "\n",
    "print(\"The most common month:\", most_common_month)"
   ]
  },
  {
   "cell_type": "markdown",
   "metadata": {},
   "source": [
    "#### Question 7.2\n",
    "<div class=\"alert alert-info\">\n",
    "Find the most common value of features `day_of_month` and `day_of_week`.\n",
    "</div>"
   ]
  },
  {
   "cell_type": "code",
   "execution_count": 66,
   "metadata": {
    "collapsed": false
   },
   "outputs": [
    {
     "name": "stdout",
     "output_type": "stream",
     "text": [
      "The most common day of month: 11\n",
      "The most common day of week: 3\n"
     ]
    }
   ],
   "source": [
    "most_common_day_of_month = (\n",
    "    df\n",
    "        .groupBy('day_of_month')\n",
    "        .agg(func.count('*').alias('count'))\n",
    "        .orderBy(desc('count'))\n",
    "    ).first()[0]\n",
    "\n",
    "most_common_day_of_week = (\n",
    "    df\n",
    "        .groupBy('day_of_week')\n",
    "        .agg(func.count('*').alias('count'))\n",
    "        .orderBy(desc('count'))\n",
    "    ).first()[0]\n",
    "\n",
    "print(\"The most common day of month:\", most_common_day_of_month)\n",
    "print(\"The most common day of week:\", most_common_day_of_week)\n"
   ]
  },
  {
   "cell_type": "markdown",
   "metadata": {},
   "source": [
    "#### Question 7.3\n",
    "<div class=\"alert alert-info\">\n",
    "Find the most common value of features `scheduled_departure_time` and `scheduled_arrival_time`.\n",
    "</div>"
   ]
  },
  {
   "cell_type": "code",
   "execution_count": 67,
   "metadata": {
    "collapsed": false
   },
   "outputs": [
    {
     "name": "stdout",
     "output_type": "stream",
     "text": [
      "The most common scheduled departure time: 700\n",
      "The most common scheduled arrival time: 1915\n"
     ]
    }
   ],
   "source": [
    "most_common_s_departure_time = (\n",
    "    df\n",
    "        .groupBy('scheduled_departure_time')\n",
    "        .agg(func.count('*').alias('count'))\n",
    "        .orderBy(desc('count'))\n",
    "    ).first()[0]\n",
    "\n",
    "most_common_s_arrival_time = (\n",
    "    df\n",
    "        .groupBy('scheduled_arrival_time')\n",
    "        .agg(func.count('*').alias('count'))\n",
    "        .orderBy(desc('count'))\n",
    "    ).first()[0]\n",
    "\n",
    "print(\"The most common scheduled departure time:\", most_common_s_departure_time)\n",
    "print(\"The most common scheduled arrival time:\", most_common_s_arrival_time)"
   ]
  },
  {
   "cell_type": "markdown",
   "metadata": {},
   "source": [
    "#### Question 7.4\n",
    "<div class=\"alert alert-info\">\n",
    "Calculate the mean of distance in the data. This value will be used to fill in the missing values of feature `distance` later.\n",
    "</div>"
   ]
  },
  {
   "cell_type": "code",
   "execution_count": 68,
   "metadata": {
    "collapsed": false
   },
   "outputs": [
    {
     "name": "stdout",
     "output_type": "stream",
     "text": [
      "mean distance: 667.7687320658033\n"
     ]
    }
   ],
   "source": [
    "# calculate mean distance\n",
    "mean_distance = (\n",
    "    df\n",
    "        .agg((func.sum('distance')/func.count('*')).alias('count'))\n",
    "        .orderBy(desc('count'))\n",
    "    ).first()[0]\n",
    "print(\"mean distance:\", mean_distance)"
   ]
  },
  {
   "cell_type": "markdown",
   "metadata": {},
   "source": [
    "#### Question 7.5\n",
    "<div class=\"alert alert-info\">\n",
    "Calculate the mean of arrival delay.\n",
    "</div>"
   ]
  },
  {
   "cell_type": "code",
   "execution_count": 69,
   "metadata": {
    "collapsed": false
   },
   "outputs": [
    {
     "name": "stdout",
     "output_type": "stream",
     "text": [
      "mean arrival delay: 5.576300451269949\n"
     ]
    }
   ],
   "source": [
    "# calculate mean arrival delay\n",
    "mean_arrival_delay = (\n",
    "    df\n",
    "        .agg((func.sum('arrival_delay')/func.count('*')).alias('count'))\n",
    "        .orderBy(desc('count'))\n",
    "    ).first()[0]\n",
    "print(\"mean arrival delay:\", mean_arrival_delay)\n"
   ]
  },
  {
   "cell_type": "markdown",
   "metadata": {},
   "source": [
    "As known from section 3.4, there are 225 different origin airports and 225 different destination airports, more than the number of bins in default configuration. So, we must set `maxBins` >= 225."
   ]
  },
  {
   "cell_type": "markdown",
   "metadata": {},
   "source": [
    "## 4.3 Preparing training data and testing data\n",
    "Recall, in this project we focus on decision trees. One way to think about our task is that we want to predict the unknown `arrival_delay` as a function combining several features, that is:\n",
    "\n",
    "`arrival_delay = f(year, month, day_of_month, day_of_week, scheduled_departure_time, scheduled_arrival_time, carrier, src_airport, dest_airport, distance, is_weekend)`\n",
    "\n",
    "When categorical features contain corrupt data (e.g., missing values), we proceed by replacing corrupt information with the most common value for the feature. For numerical features, in general, we use the same approach as for categorical features; in some cases, we repair corrupt data using the mean value of the distribution for numerical features (e.g., we found the mean for `delay` and `distance`, by answering questions above).\n",
    "\n",
    "The original data is split randomly into two parts with ratios 70% for **training** and 30% for **testing**."
   ]
  },
  {
   "cell_type": "markdown",
   "metadata": {},
   "source": [
    "### Question 8\n",
    "<div class=\"alert alert-info\">\n",
    "  o  Replace the missing values of each feature in our data by the corresponding most common value or mean.  \n",
    "\n",
    "  o  Divide data into two parts: 70% for **training** and 30% for **testing**\n",
    "\n",
    "</div>"
   ]
  },
  {
   "cell_type": "code",
   "execution_count": 70,
   "metadata": {
    "collapsed": false
   },
   "outputs": [],
   "source": [
    "def is_valid(value):\n",
    "    return value != \"NA\" and len(value) > 0\n",
    "\n",
    "data = cleaned_1994RDD\\\n",
    "    .map(lambda line: line.split(','))\\\n",
    "    .map(lambda values: \n",
    "        LabeledPoint( \n",
    "            int(values[14]) if is_valid(values[14]) else mean_arrival_delay, # arrival delay\n",
    "            [\n",
    "    int(values[0]), # year\n",
    "    int(values[1]) if is_valid(values[1]) else most_common_month, # month\n",
    "    int(values[2]) if is_valid(values[2]) else most_common_day_of_month, # day of month\n",
    "    int(values[3]) if is_valid(values[3]) else most_common_day_of_week, # day of week\n",
    "    int(values[5]) if is_valid(values[5]) else most_common_s_departure_time, # scheduled departure time\n",
    "    int(values[7]) if is_valid(values[7]) else most_common_s_arrival_time, # scheduled arrival time\n",
    "    # if the value is valid, map it to the corresponding index\n",
    "    # otherwise, use the most common value\n",
    "    map_carriers_to_index[values[8]] if is_valid(values[8]) else map_carriers_to_index[carriers[0]], # carrier\n",
    "    map_src_airport_to_index[values[16]] if is_valid(values[16]) else map_src_airport_to_index[carriers[0]],\n",
    "    map_dest_airport_to_index[values[17]] if is_valid(values[17]) else map_dest_airport_to_index[carriers[0]], \n",
    "    float(values[18]) if is_valid(values[18]) else mean_distance, # distance\n",
    "    1 if is_valid(values[3]) and int(values[3]) >= 6 else 0, # is_weekend\n",
    "            ]\n",
    "        )\n",
    "    )\n",
    "\n",
    "# Split the data into training and test sets (30% held out for testing)\n",
    "(trainingData, testData) = data.randomSplit([0.7, 0.3])\n",
    "\n",
    "trainingData = trainingData.cache()\n",
    "testData = testData.cache()\n"
   ]
  },
  {
   "cell_type": "markdown",
   "metadata": {},
   "source": [
    "## 5.4 Building a decision tree model"
   ]
  },
  {
   "cell_type": "markdown",
   "metadata": {},
   "source": [
    "### Question 9\n",
    "<div class=\"alert alert-info\">\n",
    "We can train a decision model by using function\n",
    "<code>\n",
    "`DecisionTree.trainRegressor(<training_data>, categoricalFeaturesInfo=<categorical_info>, impurity=<impurity_function>,  maxDepth=<max_depth>, maxBins=<max_bins>)`.  \n",
    "</code>  \n",
    "\n",
    "Where,  \n",
    "<ul>\n",
    "\n",
    "<li> `training_data`: the data used for training  </li>\n",
    "\n",
    "<li> `categorical_info`: a dictionary that maps the index of each categorical features to its number of distinct values  </li>\n",
    "\n",
    "<li> `impurity_function`: the function that is used to calculate impurity of data in order to select the best split  </li>\n",
    "\n",
    "<li> `max_depth`: the maximum depth of the tree  </li>\n",
    "\n",
    "<li> `max_bins`: the maximum number of bins that the algorithm will divide on each feature. </li>\n",
    "\n",
    "</ul>  \n",
    "\n",
    "Note that, `max_bins` cannot be smaller than the number distinct values of every categorical features.  \n",
    "\n",
    "Complete the code below to train a decision tree model.\n",
    "</div>\n"
   ]
  },
  {
   "cell_type": "code",
   "execution_count": 1,
   "metadata": {
    "collapsed": false
   },
   "outputs": [],
   "source": [
    "# declare information of categorical features\n",
    "# format:  feature_index : number_distinct_values\n",
    "categorical_info = {6 : num_carriers, 7: num_src_airports, 8: num_dest_airports, 10: 2}\n",
    "\n",
    "# Train a DecisionTree model.\n",
    "t0 = time()\n",
    "model = DecisionTree.trainRegressor(trainingData, \n",
    "                                    categoricalFeaturesInfo=categorical_info,\n",
    "                                    impurity='variance', maxDepth=12, maxBins=255)\n",
    "t1 = time()\n",
    "# print('Training done in ', t1-t0)"
   ]
  },
  {
   "cell_type": "markdown",
   "metadata": {
    "collapsed": true
   },
   "source": [
    "## 5.5 Testing the decision tree model"
   ]
  },
  {
   "cell_type": "markdown",
   "metadata": {},
   "source": [
    "### Question 10\n",
    "#### Question 10.1\n",
    "<div class=\"alert alert-info\">\n",
    "We often use Mean Square Error as a metric to evaluate the quality of a tree model.  \n",
    "\n",
    "Complete the code below to calculate the MSE of our trained model.\n",
    "</div>"
   ]
  },
  {
   "cell_type": "code",
   "execution_count": 62,
   "metadata": {
    "collapsed": false
   },
   "outputs": [
    {
     "name": "stdout",
     "output_type": "stream",
     "text": [
      "Test Mean Squared Error = 492.67683928247664\n"
     ]
    }
   ],
   "source": [
    "# Evaluate model on test instances and compute test error\n",
    "predictions = model.predict(testData.map(lambda x: x.features))\n",
    "labelsAndPredictions = testData.map(lambda lp: lp.label).zip(predictions)\n",
    "\n",
    "testMSE = labelsAndPredictions.map(lambda p: (p[0]-p[1])**2).reduce(lambda x,y:x+y)/labelsAndPredictions.count()\n",
    "print('Test Mean Squared Error = ' + str(testMSE))\n"
   ]
  },
  {
   "cell_type": "markdown",
   "metadata": {},
   "source": [
    "### Question 10.2\n",
    "<div class=\"alert alert-info\">\n",
    "Comment the results you have obtained. Is the MSE value you get from a decision tree indicating that our statistical model is very good in predicting airplane delays?  \n",
    "\n",
    "Use your own words to describe and interpret the value you obtained for the MSE.\n",
    "</div>"
   ]
  },
  {
   "cell_type": "markdown",
   "metadata": {},
   "source": [
    "<div class=\"alert alert-warning\">\n",
    "In statistical models, MSE can be identifyed as variance estimation of a probabilistic distribution. This often used in regression (like our case) as the loss function to be minimized and it represents an empiric estimation of the prediction-error variance for the model under analysis.\n",
    "<br><br>\n",
    "The Root Mean Squared Error (RMSE), on the other hand, gives us an indication of confidence interval of our predictions. For instance, with the model just trained, if we suppose that the probabilistic distribution of the ``arrival delay`` is Gaussian, we can say that on avarage with probability ~0.7 the real ``arrival delay`` is in the range $predicted \\pm 23 min$.\n",
    "</div>"
   ]
  },
  {
   "cell_type": "markdown",
   "metadata": {},
   "source": [
    "## 5.6 Building random decision forest model (or random forest)\n",
    "Next, we use MLLib to build a more powerful model: random forests. In what follows, use the same predictors defined and computed above to build a decision tree, but this time use them to build a random decision forest."
   ]
  },
  {
   "cell_type": "markdown",
   "metadata": {},
   "source": [
    "### Question 11\n",
    "<div class=\"alert alert-info\">\n",
    "Train a random decision forest model and evaluate its quality using MSE metric.  \n",
    "\n",
    "Compare to decision tree model and comment the results.  \n",
    "\n",
    "Similarly to question 10.2, comment with your own words the MSE value you have obtained.\n",
    "</div>"
   ]
  },
  {
   "cell_type": "code",
   "execution_count": 71,
   "metadata": {
    "collapsed": false
   },
   "outputs": [],
   "source": [
    "# Train a RandomForest model.\n",
    "forest_model = RandomForest.trainRegressor(trainingData, categoricalFeaturesInfo=categorical_info,\n",
    "                                    numTrees=10, impurity='variance', maxDepth=14, maxBins=1023)"
   ]
  },
  {
   "cell_type": "code",
   "execution_count": 72,
   "metadata": {
    "collapsed": false
   },
   "outputs": [
    {
     "name": "stdout",
     "output_type": "stream",
     "text": [
      "Test Mean Squared Error = 465.383641637595\n"
     ]
    }
   ],
   "source": [
    "predictions = forest_model.predict(testData.map(lambda x: x.features))\n",
    "labelsAndPredictions = testData.map(lambda lp: lp.label).zip(predictions)\n",
    "\n",
    "testMSE = labelsAndPredictions.map(lambda p: (p[0]-p[1])**2).mean()\n",
    "print('Test Mean Squared Error = ' + str(testMSE))"
   ]
  },
  {
   "cell_type": "markdown",
   "metadata": {},
   "source": [
    "<div class=\"alert alert-warning\"> \n",
    "It's interesting to compare the result we got from Random Forests with the one with Decision Trees.\n",
    "<br>\n",
    "As expected, the MSE on the test set is decreased and this is due to the different approach of these two models. In fact, one problem that might occur with one big (deep) single Decision Trees is that it can easly overfit on the training data and there isn't a straighfoward way to prevent it. On the other hard, this is the biggest advantage of Random Forests as they tend to prevent overfitting by random resampling. \n",
    "<br>\n",
    "This allows single tree in a forest to go deeper and deeper without suffering overfitting as long as the number of trees is also increased.\n",
    "<br><br>\n",
    "This suggests us to explore a little bit more the hyper-parameter space of these models. \n",
    "</div>"
   ]
  },
  {
   "cell_type": "markdown",
   "metadata": {},
   "source": [
    "## 5.7 Parameter tuning\n",
    "In this lecture, we used `maxDepth=12`, `maxBins=255`, `numTrees=10`. Next, we are going to explore the meta-parameter space a little bit.\n",
    "\n",
    "For more information about parameter tuning, please read the documentation of [MLLIB](http://spark.apache.org/docs/latest/mllib-decision-tree.html#tunable-parameters)"
   ]
  },
  {
   "cell_type": "markdown",
   "metadata": {},
   "source": [
    "### Question 12\n",
    "<div class=\"alert alert-info\">\n",
    "Train the random forest model using different parameters, to understand their impact on the main performance metric we have used here, that is the MSE. For example, you can try a similar approach to that presented in the Notebook on recommender systems, that is using nested for loops.\n",
    "</div>\n",
    "\n",
    "<div class=\"alert alert-danger\">\n",
    "**NOTE:** be careful when selecting parameters as some might imply very long training times, or eventually, the typical memory problems that affect Spark!\n",
    "</div>"
   ]
  },
  {
   "cell_type": "markdown",
   "metadata": {},
   "source": [
    "<div class=\"alert alert-success\">\n",
    "Firstly, we start with a brute-force exploration of the parameters for decision trees, just to understand how different choises affect the overall performance.\n",
    "</div>"
   ]
  },
  {
   "cell_type": "code",
   "execution_count": 109,
   "metadata": {
    "collapsed": true
   },
   "outputs": [],
   "source": [
    "depths = range(5, 16, 1)\n",
    "bins = [2**8-1, 2**9-1, 2**10-1]"
   ]
  },
  {
   "cell_type": "code",
   "execution_count": 112,
   "metadata": {
    "collapsed": false
   },
   "outputs": [
    {
     "name": "stdout",
     "output_type": "stream",
     "text": [
      "Training with depth 5 and num. bins 255 \tTraining done in 74.15 \tPrediction done in 35.32\n",
      "\tTest MSE = 527.31\n",
      "Training with depth 5 and num. bins 511 \tTraining done in 4.80 \tPrediction done in 4.20\n",
      "\tTest MSE = 527.51\n",
      "Training with depth 5 and num. bins 1023 \tTraining done in 7.06 \tPrediction done in 4.03\n",
      "\tTest MSE = 527.51\n",
      "Training with depth 6 and num. bins 255 \tTraining done in 5.02 \tPrediction done in 3.96\n",
      "\tTest MSE = 524.14\n",
      "Training with depth 6 and num. bins 511 \tTraining done in 5.75 \tPrediction done in 4.07\n",
      "\tTest MSE = 524.55\n",
      "Training with depth 6 and num. bins 1023 \tTraining done in 7.48 \tPrediction done in 3.91\n",
      "\tTest MSE = 524.55\n",
      "Training with depth 7 and num. bins 255 \tTraining done in 5.49 \tPrediction done in 3.93\n",
      "\tTest MSE = 520.48\n",
      "Training with depth 7 and num. bins 511 \tTraining done in 6.24 \tPrediction done in 4.09\n",
      "\tTest MSE = 521.06\n",
      "Training with depth 7 and num. bins 1023 \tTraining done in 7.59 \tPrediction done in 4.02\n",
      "\tTest MSE = 521.08\n",
      "Training with depth 8 and num. bins 255 \tTraining done in 6.36 \tPrediction done in 3.86\n",
      "\tTest MSE = 516.23\n",
      "Training with depth 8 and num. bins 511 \tTraining done in 8.31 \tPrediction done in 4.00\n",
      "\tTest MSE = 517.01\n",
      "Training with depth 8 and num. bins 1023 \tTraining done in 11.26 \tPrediction done in 3.59\n",
      "\tTest MSE = 516.96\n",
      "Training with depth 9 and num. bins 255 \tTraining done in 7.35 \tPrediction done in 3.83\n",
      "\tTest MSE = 509.97\n",
      "Training with depth 9 and num. bins 511 \tTraining done in 7.52 \tPrediction done in 3.90\n",
      "\tTest MSE = 511.44\n",
      "Training with depth 9 and num. bins 1023 \tTraining done in 9.36 \tPrediction done in 4.16\n",
      "\tTest MSE = 511.40\n",
      "Training with depth 10 and num. bins 255 \tTraining done in 7.18 \tPrediction done in 4.25\n",
      "\tTest MSE = 503.56\n",
      "Training with depth 10 and num. bins 511 \tTraining done in 12.04 \tPrediction done in 4.52\n",
      "\tTest MSE = 505.22\n",
      "Training with depth 10 and num. bins 1023 \tTraining done in 10.45 \tPrediction done in 3.98\n",
      "\tTest MSE = 505.11\n",
      "Training with depth 11 and num. bins 255 \tTraining done in 9.73 \tPrediction done in 3.74\n",
      "\tTest MSE = 495.50\n",
      "Training with depth 11 and num. bins 511 \tTraining done in 10.25 \tPrediction done in 4.91\n",
      "\tTest MSE = 497.47\n",
      "Training with depth 11 and num. bins 1023 \tTraining done in 13.80 \tPrediction done in 4.18\n",
      "\tTest MSE = 497.45\n",
      "Training with depth 12 and num. bins 255 \tTraining done in 11.09 \tPrediction done in 4.22\n",
      "\tTest MSE = 488.42\n",
      "Training with depth 12 and num. bins 511 \tTraining done in 12.14 \tPrediction done in 4.26\n",
      "\tTest MSE = 490.76\n",
      "Training with depth 12 and num. bins 1023 \tTraining done in 14.24 \tPrediction done in 4.03\n",
      "\tTest MSE = 490.63\n",
      "Training with depth 13 and num. bins 255 \tTraining done in 14.78 \tPrediction done in 4.04\n",
      "\tTest MSE = 485.15\n",
      "Training with depth 13 and num. bins 511 \tTraining done in 13.95 \tPrediction done in 4.44\n",
      "\tTest MSE = 488.53\n",
      "Training with depth 13 and num. bins 1023 \tTraining done in 19.71 \tPrediction done in 4.44\n",
      "\tTest MSE = 486.33\n",
      "Training with depth 14 and num. bins 255 \tTraining done in 17.05 \tPrediction done in 4.53\n",
      "\tTest MSE = 486.52\n",
      "Training with depth 14 and num. bins 511 \tTraining done in 20.89 \tPrediction done in 4.80\n",
      "\tTest MSE = 490.06\n",
      "Training with depth 14 and num. bins 1023 \tTraining done in 29.70 \tPrediction done in 4.56\n",
      "\tTest MSE = 487.94\n",
      "Training with depth 15 and num. bins 255 \tTraining done in 24.68 \tPrediction done in 5.43\n",
      "\tTest MSE = 494.46\n",
      "Training with depth 15 and num. bins 511 \tTraining done in 32.11 \tPrediction done in 4.83\n",
      "\tTest MSE = 496.28\n",
      "Training with depth 15 and num. bins 1023 \tTraining done in 44.25 \tPrediction done in 5.03\n",
      "\tTest MSE = 494.54\n"
     ]
    }
   ],
   "source": [
    "evaluations = []\n",
    "categorical_info = {6 : num_carriers, 7: num_src_airports, 8: num_dest_airports, 10: 2}\n",
    "\n",
    "(trainingData, testData) = data.randomSplit([0.7, 0.3])\n",
    "trainingData = trainingData.cache()\n",
    "testData = testData.cache()\n",
    "\n",
    "for d in depths:\n",
    "    for b in bins:\n",
    "        print('Training with d=%d and b=%d' % (d, b), end=' ')\n",
    "        t0 = time()\n",
    "        model = DecisionTree.trainRegressor(trainingData, \n",
    "                                            categoricalFeaturesInfo=categorical_info,\n",
    "                                            impurity='variance', maxDepth=d, maxBins=b)\n",
    "        t1 = time()\n",
    "        print('\\tTraining: %.2f s' % (t1-t0), end=' ')\n",
    "        t0 = time()\n",
    "        predictions = model.predict(testData.map(lambda x: x.features))\n",
    "        labelsAndPredictions = testData.map(lambda lp: lp.label).zip(predictions)\n",
    "\n",
    "        testMSE = labelsAndPredictions.map(lambda p: (p[0]-p[1])**2).mean()\n",
    "        t1 = time()\n",
    "        print('\\tPrediction: %.2f s' % (t1-t0))\n",
    "        print('\\tTest MSE = %.2f' % (testMSE))\n",
    "        evaluations.append(((d ,b), testMSE))\n",
    "    "
   ]
  },
  {
   "cell_type": "code",
   "execution_count": 117,
   "metadata": {
    "collapsed": false
   },
   "outputs": [
    {
     "name": "stdout",
     "output_type": "stream",
     "text": [
      "[((13, 255), 485.14542356095325),\n",
      " ((13, 1023), 486.33458227017456),\n",
      " ((14, 255), 486.51572822985605),\n",
      " ((14, 1023), 487.9407134635314),\n",
      " ((12, 255), 488.41771586265855),\n",
      " ((13, 511), 488.52690648572417),\n",
      " ((14, 511), 490.0576002603326),\n",
      " ((12, 1023), 490.6278919178593),\n",
      " ((12, 511), 490.7637582722592),\n",
      " ((15, 255), 494.4639847195247)]\n"
     ]
    }
   ],
   "source": [
    "evaluations.sort(key=lambda x:x[1], reverse=False)\n",
    "pprint(evaluations[0:10])"
   ]
  },
  {
   "cell_type": "markdown",
   "metadata": {
    "collapsed": true
   },
   "source": [
    "<div class=\"alert alert-success\">\n",
    "We can see what we mentioned earlier about overfitting. In fact, it's quite clear that increasing the depth the tree overfits on training set and performs worst on the test set. The number of bins in which a numerical feature can be split seems not to affect dramatically the overall performance, even though the lowest number of bins (255) performs always better.\n",
    "</div>\n",
    "\n",
    "\n",
    "<div class=\"alert alert-success\">\n",
    "Let's now to the same for Random Forests\n",
    "</div>"
   ]
  },
  {
   "cell_type": "code",
   "execution_count": 122,
   "metadata": {
    "collapsed": true
   },
   "outputs": [],
   "source": [
    "depths = range(5, 15, 2)\n",
    "trees = range(10, 15, 2)\n",
    "bins = [2**8-1, 2**9-1, 2**10-1]"
   ]
  },
  {
   "cell_type": "code",
   "execution_count": 123,
   "metadata": {
    "collapsed": false
   },
   "outputs": [
    {
     "name": "stdout",
     "output_type": "stream",
     "text": [
      "Training with depth 5, bins 255 and trees 10 \tTraining done in 83.75 \tPrediction done in 35.30\n",
      "\tTest MSE = 520.32\n",
      "Training with depth 5, bins 255 and trees 12 \tTraining done in 18.25 \tPrediction done in 6.28\n",
      "\tTest MSE = 520.23\n",
      "Training with depth 5, bins 255 and trees 14 \tTraining done in 21.92 \tPrediction done in 6.92\n",
      "\tTest MSE = 519.72\n",
      "Training with depth 5, bins 511 and trees 10 \tTraining done in 16.79 \tPrediction done in 5.44\n",
      "\tTest MSE = 520.14\n",
      "Training with depth 5, bins 511 and trees 12 \tTraining done in 19.11 \tPrediction done in 6.16\n",
      "\tTest MSE = 519.88\n",
      "Training with depth 5, bins 511 and trees 14 \tTraining done in 23.32 \tPrediction done in 7.29\n",
      "\tTest MSE = 519.89\n",
      "Training with depth 5, bins 1023 and trees 10 \tTraining done in 18.95 \tPrediction done in 4.97\n",
      "\tTest MSE = 521.30\n",
      "Training with depth 5, bins 1023 and trees 12 \tTraining done in 20.13 \tPrediction done in 6.45\n",
      "\tTest MSE = 519.85\n",
      "Training with depth 5, bins 1023 and trees 14 \tTraining done in 23.66 \tPrediction done in 7.01\n",
      "\tTest MSE = 519.74\n",
      "Training with depth 7, bins 255 and trees 10 \tTraining done in 24.99 \tPrediction done in 6.24\n",
      "\tTest MSE = 511.95\n",
      "Training with depth 7, bins 255 and trees 12 \tTraining done in 27.76 \tPrediction done in 8.25\n",
      "\tTest MSE = 511.16\n",
      "Training with depth 7, bins 255 and trees 14 \tTraining done in 34.43 \tPrediction done in 9.52\n",
      "\tTest MSE = 510.98\n",
      "Training with depth 7, bins 511 and trees 10 \tTraining done in 23.66 \tPrediction done in 7.40\n",
      "\tTest MSE = 510.21\n",
      "Training with depth 7, bins 511 and trees 12 \tTraining done in 28.24 \tPrediction done in 8.26\n",
      "\tTest MSE = 510.76\n",
      "Training with depth 7, bins 511 and trees 14 \tTraining done in 33.98 \tPrediction done in 9.04\n",
      "\tTest MSE = 510.93\n",
      "Training with depth 7, bins 1023 and trees 10 \tTraining done in 26.52 \tPrediction done in 7.15\n",
      "\tTest MSE = 511.52\n",
      "Training with depth 7, bins 1023 and trees 12 \tTraining done in 30.57 \tPrediction done in 6.39\n",
      "\tTest MSE = 511.00\n",
      "Training with depth 7, bins 1023 and trees 14 \tTraining done in 35.86 \tPrediction done in 9.70\n",
      "\tTest MSE = 511.03\n",
      "Training with depth 9, bins 255 and trees 10 \tTraining done in 35.55 \tPrediction done in 8.91\n",
      "\tTest MSE = 501.04\n",
      "Training with depth 9, bins 255 and trees 12 \tTraining done in 41.09 \tPrediction done in 10.32\n",
      "\tTest MSE = 498.56\n",
      "Training with depth 9, bins 255 and trees 14 \tTraining done in 47.12 \tPrediction done in 11.82\n",
      "\tTest MSE = 498.18\n",
      "Training with depth 9, bins 511 and trees 10 \tTraining done in 36.77 \tPrediction done in 8.65\n",
      "\tTest MSE = 499.44\n",
      "Training with depth 9, bins 511 and trees 12 \tTraining done in 41.52 \tPrediction done in 8.75\n",
      "\tTest MSE = 500.80\n",
      "Training with depth 9, bins 511 and trees 14 \tTraining done in 50.35 \tPrediction done in 11.22\n",
      "\tTest MSE = 498.62\n",
      "Training with depth 9, bins 1023 and trees 10 \tTraining done in 39.36 \tPrediction done in 8.42\n",
      "\tTest MSE = 500.22\n",
      "Training with depth 9, bins 1023 and trees 12 \tTraining done in 46.15 \tPrediction done in 9.79\n",
      "\tTest MSE = 500.88\n",
      "Training with depth 9, bins 1023 and trees 14 \tTraining done in 51.95 \tPrediction done in 11.79\n",
      "\tTest MSE = 500.28\n",
      "Training with depth 11, bins 255 and trees 10 \tTraining done in 50.81 \tPrediction done in 10.28\n",
      "\tTest MSE = 487.27\n",
      "Training with depth 11, bins 255 and trees 12 \tTraining done in 59.92 \tPrediction done in 12.04\n",
      "\tTest MSE = 485.29\n",
      "Training with depth 11, bins 255 and trees 14 \tTraining done in 70.23 \tPrediction done in 14.77\n",
      "\tTest MSE = 486.42\n",
      "Training with depth 11, bins 511 and trees 10 \tTraining done in 54.15 \tPrediction done in 10.15\n",
      "\tTest MSE = 487.53\n",
      "Training with depth 11, bins 511 and trees 12 \tTraining done in 62.68 \tPrediction done in 11.59\n",
      "\tTest MSE = 485.82\n",
      "Training with depth 11, bins 511 and trees 14 \tTraining done in 72.55 \tPrediction done in 13.51\n",
      "\tTest MSE = 485.86\n",
      "Training with depth 11, bins 1023 and trees 10 \tTraining done in 55.76 \tPrediction done in 10.23\n",
      "\tTest MSE = 487.49\n",
      "Training with depth 11, bins 1023 and trees 12 \tTraining done in 70.77 \tPrediction done in 12.30\n",
      "\tTest MSE = 486.10\n",
      "Training with depth 11, bins 1023 and trees 14 \tTraining done in 82.44 \tPrediction done in 14.26\n",
      "\tTest MSE = 485.40\n",
      "Training with depth 13, bins 255 and trees 10 \tTraining done in 85.29 \tPrediction done in 14.42\n",
      "\tTest MSE = 470.65\n",
      "Training with depth 13, bins 255 and trees 12 \tTraining done in 99.92 \tPrediction done in 14.11\n",
      "\tTest MSE = 467.44\n",
      "Training with depth 13, bins 255 and trees 14 \tTraining done in 114.76 \tPrediction done in 15.84\n",
      "\tTest MSE = 469.04\n",
      "Training with depth 13, bins 511 and trees 10 \tTraining done in 87.89 \tPrediction done in 13.67\n",
      "\tTest MSE = 467.71\n",
      "Training with depth 13, bins 511 and trees 12 \tTraining done in 106.80 \tPrediction done in 17.07\n",
      "\tTest MSE = 468.81\n",
      "Training with depth 13, bins 511 and trees 14 \tTraining done in 127.89 \tPrediction done in 19.72\n",
      "\tTest MSE = 468.37\n",
      "Training with depth 13, bins 1023 and trees 10 \tTraining done in 99.21 \tPrediction done in 13.25\n",
      "\tTest MSE = 467.85\n",
      "Training with depth 13, bins 1023 and trees 12 \tTraining done in 118.40 \tPrediction done in 16.44\n",
      "\tTest MSE = 470.48\n",
      "Training with depth 13, bins 1023 and trees 14 \tTraining done in 136.54 \tPrediction done in 19.43\n",
      "\tTest MSE = 465.45\n"
     ]
    }
   ],
   "source": [
    "evaluations = []\n",
    "categorical_info = {6 : num_carriers, 7: num_src_airports, 8: num_dest_airports, 10: 2}\n",
    "\n",
    "(trainingData, testData) = data.randomSplit([0.7, 0.3])\n",
    "trainingData = trainingData.cache()\n",
    "testData = testData.cache()\n",
    "\n",
    "for d in depths:\n",
    "    for b in bins:\n",
    "        for t in trees:\n",
    "            print('Training with depth %d, bins %d and trees %d' % (d, b, t), end=' ')\n",
    "            t0 = time()\n",
    "            model =  RandomForest.trainRegressor(trainingData, \n",
    "                                                 categoricalFeaturesInfo=categorical_info,\n",
    "                                                 featureSubsetStrategy='auto',\n",
    "                                                 impurity='variance', maxDepth=d, maxBins=b, numTrees=t)\n",
    "            t1 = time()\n",
    "            print('\\tTraining done in %.2f' % (t1-t0), end=' ')\n",
    "            t0 = time()\n",
    "            predictions = model.predict(testData.map(lambda x: x.features))\n",
    "            labelsAndPredictions = testData.map(lambda lp: lp.label).zip(predictions)\n",
    "\n",
    "            testMSE = labelsAndPredictions.map(lambda p: (p[0]-p[1])**2).mean()\n",
    "            t1 = time()\n",
    "            print('\\tPrediction done in %.2f' % (t1-t0))\n",
    "            print('\\tTest MSE = %.2f' % (testMSE))\n",
    "            evaluations.append(((d, b, t), testMSE))"
   ]
  },
  {
   "cell_type": "code",
   "execution_count": 124,
   "metadata": {
    "collapsed": false
   },
   "outputs": [
    {
     "name": "stdout",
     "output_type": "stream",
     "text": [
      "[((13, 1023, 14), 465.45060669483433),\n",
      " ((13, 255, 12), 467.4439897250339),\n",
      " ((13, 511, 10), 467.70703124626675),\n",
      " ((13, 1023, 10), 467.8458865451707),\n",
      " ((13, 511, 14), 468.3666340293603),\n",
      " ((13, 511, 12), 468.812352844149),\n",
      " ((13, 255, 14), 469.0388174204183),\n",
      " ((13, 1023, 12), 470.47530554634045),\n",
      " ((13, 255, 10), 470.6473266616856),\n",
      " ((11, 255, 12), 485.2931060207558)]\n"
     ]
    }
   ],
   "source": [
    "evaluations.sort(key=lambda x:x[1], reverse=False)\n",
    "pprint(evaluations[0:10])"
   ]
  },
  {
   "cell_type": "markdown",
   "metadata": {},
   "source": [
    "<div class=\"alert alert-success\">\n",
    "Here we can see the real power of random forests. Even though the perfomance is not too far away from the one with decision trees, we can still find some interesting trends. For instance, the best combination is the one with higher depth and higher number of trees. This suggests to hazard a little bit more with this two parameters. \n",
    "</div>"
   ]
  },
  {
   "cell_type": "code",
   "execution_count": 2,
   "metadata": {
    "collapsed": false
   },
   "outputs": [],
   "source": [
    "evaluations = []\n",
    "depths = [12, 14, 16, 18]\n",
    "trees = [14, 16, 18]\n",
    "\n",
    "categorical_info = {6 : num_carriers, 7: num_src_airports, 8: num_dest_airports, 10: 2}\n",
    "(trainingData, testData) = data.randomSplit([0.75, 0.25])\n",
    "trainingData = trainingData.cache()\n",
    "testData = testData.cache()\n",
    "\n",
    "for d in depths:\n",
    "    for t in trees:\n",
    "#         print('Training with d=%d and t=%d' % (d, t), end=' ')\n",
    "            \n",
    "        t0 = time()\n",
    "        model = RandomForest.trainRegressor(trainingData, \n",
    "                                           categoricalFeaturesInfo=categorical_info,\n",
    "                                            impurity='variance', maxDepth=d, numTrees=t, maxBins=1023)\n",
    "        t1 = time()\n",
    "#         print('\\t\\tTrain: %.2f s' % (t1-t0), end=' ')\n",
    "\n",
    "        t0 = time()\n",
    "        predictions = model.predict(testData.map(lambda x: x.features))\n",
    "        labelsAndPredictions = testData.map(lambda lp: lp.label).zip(predictions)\n",
    "        testMSE = labelsAndPredictions.map(lambda p: (p[0]-p[1])**2).mean()\n",
    "        t1 = time()\n",
    "#         print('\\t\\tPred: %.2f s' % (t1-t0), end=' ')\n",
    "#         print('\\tMSE = %.2f' % (testMSE))\n",
    "        evaluations.append(((d, t), testMSE))"
   ]
  },
  {
   "cell_type": "markdown",
   "metadata": {},
   "source": [
    "<div class=\"alert alert-success\">\n",
    "This confirms our expectations: the biggest populated forest always perfoms better!\n",
    "<br><br>\n",
    "    <div class=\"alert alert-danger\">\n",
    "    Unfortunatelly, due to time issue in training and prediction, it was impossible for us to go even deeper. We are confident to say that increasing a little bit more these two parameters we could drop under 400.\n",
    "    </div>\n",
    "</div>\n",
    "\n",
    "<div><br><br></div>\n",
    "\n",
    "\n",
    "<div class=\"alert alert-success\">\n",
    "<h1>Cross Validation</h1>\n",
    "<br>\n",
    "It seems that performance can change a lot according to how the dataset is split between training and test data. To have a more realistic estimation of the model, we performed a <b>Monte Carlo Cross Validation</b> where, for each iteration, training and test set is randomly resampled from the dataset.\n",
    "<br><br>\n",
    "<div class=\"alert alert-danger\">\n",
    "    For the same aforementioned reason, we did cross validation only for decision trees.\n",
    "    </div>\n",
    "</div>"
   ]
  },
  {
   "cell_type": "code",
   "execution_count": 72,
   "metadata": {
    "collapsed": false
   },
   "outputs": [
    {
     "name": "stdout",
     "output_type": "stream",
     "text": [
      "Training with d=12 and b=255 \t\tTrain: 71.38 s \tPred: 31.14 s \tMSE = 490.84\n",
      "Training with d=12 and b=255 \t\tTrain: 72.99 s \tPred: 29.97 s \tMSE = 494.66\n",
      "Training with d=12 and b=255 \t\tTrain: 70.07 s \tPred: 31.28 s \tMSE = 495.43\n",
      "Training with d=12 and b=511 \t\tTrain: 74.25 s \tPred: 30.88 s \tMSE = 490.58\n",
      "Training with d=12 and b=511 \t\tTrain: 73.47 s \tPred: 31.21 s \tMSE = 491.29\n",
      "Training with d=12 and b=511 \t\tTrain: 70.54 s \tPred: 31.02 s \tMSE = 489.68\n",
      "Training with d=12 and b=1023 \t\tTrain: 73.76 s \tPred: 30.81 s \tMSE = 491.23\n",
      "Training with d=12 and b=1023 \t\tTrain: 73.99 s \tPred: 29.59 s \tMSE = 499.49\n",
      "Training with d=12 and b=1023 \t\tTrain: 79.31 s \tPred: 30.85 s \tMSE = 486.07\n",
      "Training with d=14 and b=255 \t\tTrain: 80.05 s \tPred: 30.69 s \tMSE = 487.19\n",
      "Training with d=14 and b=255 \t\tTrain: 80.27 s \tPred: 31.05 s \tMSE = 486.89\n",
      "Training with d=14 and b=255 \t\tTrain: 78.44 s \tPred: 31.38 s \tMSE = 487.90\n",
      "Training with d=14 and b=511 \t\tTrain: 81.69 s \tPred: 31.52 s \tMSE = 488.12\n",
      "Training with d=14 and b=511 \t\tTrain: 79.17 s \tPred: 32.76 s \tMSE = 487.54\n",
      "Training with d=14 and b=511 \t\tTrain: 83.71 s \tPred: 32.59 s \tMSE = 488.74\n",
      "Training with d=14 and b=1023 \t\tTrain: 96.72 s \tPred: 31.13 s \tMSE = 490.05\n",
      "Training with d=14 and b=1023 \t\tTrain: 87.58 s \tPred: 30.61 s \tMSE = 490.23\n",
      "Training with d=14 and b=1023 \t\tTrain: 87.47 s \tPred: 30.47 s \tMSE = 485.82\n",
      "Training with d=16 and b=255 \t\tTrain: 101.34 s \tPred: 31.22 s \tMSE = 511.32\n",
      "Training with d=16 and b=255 \t\tTrain: 117.23 s \tPred: 39.53 s \tMSE = 505.57\n",
      "Training with d=16 and b=255 \t\tTrain: 119.92 s \tPred: 36.77 s \tMSE = 508.00\n",
      "Training with d=16 and b=511 \t\tTrain: 130.12 s \tPred: 36.25 s \tMSE = 502.44\n",
      "Training with d=16 and b=511 \t\tTrain: 139.44 s \tPred: 36.23 s \tMSE = 504.93\n",
      "Training with d=16 and b=511 \t\tTrain: 123.65 s \tPred: 36.78 s \tMSE = 506.16\n",
      "Training with d=16 and b=1023 \t\tTrain: 166.67 s \tPred: 36.79 s \tMSE = 500.89\n",
      "Training with d=16 and b=1023 \t\tTrain: 165.27 s \tPred: 35.64 s \tMSE = 506.19\n",
      "Training with d=16 and b=1023 \t\tTrain: 153.89 s \tPred: 33.35 s \tMSE = 506.31\n",
      "Training with d=18 and b=255 \t\tTrain: 200.42 s \tPred: 41.40 s \tMSE = 553.47\n",
      "Training with d=18 and b=255 \t\tTrain: 196.33 s \tPred: 42.36 s \tMSE = 550.31\n",
      "Training with d=18 and b=255 \t\tTrain: 202.47 s \tPred: 38.09 s \tMSE = 558.41\n",
      "Training with d=18 and b=511 \t\tTrain: 232.36 s \tPred: 37.38 s \tMSE = 545.04\n",
      "Training with d=18 and b=511 \t\tTrain: 251.65 s \tPred: 37.05 s \tMSE = 536.94\n",
      "Training with d=18 and b=511 \t\tTrain: 248.37 s \tPred: 40.61 s \tMSE = 545.82\n",
      "Training with d=18 and b=1023 \t\tTrain: 362.60 s \tPred: 37.65 s \tMSE = 549.65\n",
      "Training with d=18 and b=1023 \t\tTrain: 320.33 s \tPred: 36.18 s \tMSE = 547.92\n",
      "Training with d=18 and b=1023 \t\tTrain: 328.35 s \tPred: 36.67 s \tMSE = 542.07\n"
     ]
    }
   ],
   "source": [
    "evaluations = []\n",
    "depths = range(12, 20, 2)\n",
    "bins = [2**8-1, 2**9-1, 2**10-1]\n",
    "\n",
    "categorical_info = {6 : num_carriers, 7: num_src_airports, 8: num_dest_airports, 10: 2}\n",
    "\n",
    "for d in depths:\n",
    "    for b in bins:\n",
    "        for i in range(3):\n",
    "            print('Training with d=%d and b=%d' % (d, b), end=' ')\n",
    "            (trainingData, testData) = data.randomSplit([0.75, 0.25])\n",
    "            trainingData = trainingData.cache()\n",
    "            testData = testData.cache()\n",
    "            t0 = time()\n",
    "            model = DecisionTree.trainRegressor(trainingData, \n",
    "                                            categoricalFeaturesInfo=categorical_info,\n",
    "                                            impurity='variance', maxDepth=d, maxBins=b, minInfoGain=0.2)\n",
    "            t1 = time()\n",
    "            trainingData.unpersist()\n",
    "            print('\\t\\tTrain: %.2f s' % (t1-t0), end=' ')\n",
    "            t0 = time()\n",
    "            predictions = model.predict(testData.map(lambda x: x.features))\n",
    "            testData.unpersist()\n",
    "            labelsAndPredictions = testData.map(lambda lp: lp.label).zip(predictions)\n",
    "            testMSE = labelsAndPredictions.map(lambda p: (p[0]-p[1])**2).mean()\n",
    "            t1 = time()\n",
    "            print('\\tPred: %.2f s' % (t1-t0), end=' ')\n",
    "            print('\\tMSE = %.2f' % (testMSE))\n",
    "            evaluations.append(((d ,b), testMSE))\n",
    "    "
   ]
  },
  {
   "cell_type": "code",
   "execution_count": 91,
   "metadata": {
    "collapsed": false
   },
   "outputs": [
    {
     "name": "stdout",
     "output_type": "stream",
     "text": [
      "+---------+------------------+-------------------+\n",
      "|   params|          avg(err)|      var_samp(err)|\n",
      "+---------+------------------+-------------------+\n",
      "| [14,255]|  487.325704426652| 0.2648994618867918|\n",
      "| [14,511]| 488.1339003679613|0.35682417753302675|\n",
      "|[14,1023]|488.69873806686996|  6.220805043506384|\n",
      "| [12,511]| 490.5154654166707| 0.6516777778333985|\n",
      "|[12,1023]|   492.26349934275| 45.833373209839806|\n",
      "| [12,255]| 493.6396346677944| 6.0443174174400225|\n",
      "|[16,1023]|504.46784257254666|   9.58090187927134|\n",
      "| [16,511]|504.50665051440177| 3.5903216442220427|\n",
      "| [16,255]| 508.2944424813533|  8.344173431842783|\n",
      "| [18,511]| 542.5992430010682| 24.178488085603046|\n",
      "|[18,1023]|  546.547108061858| 15.802060389939198|\n",
      "| [18,255]| 554.0648110992705| 16.672748285253498|\n",
      "+---------+------------------+-------------------+\n",
      "\n"
     ]
    }
   ],
   "source": [
    "evaluations.sort(key=lambda x:x[1], reverse=False)\n",
    "cv = sqlContext.createDataFrame(evaluations, schema=['params', 'err'])\n",
    "cv.write.format(\"json\").save('cv_decisionTrees')\n",
    "cv.groupBy(cv.params).agg(func.mean(cv.err), func.var_samp(cv.err)).orderBy('avg(err)').show()"
   ]
  },
  {
   "cell_type": "markdown",
   "metadata": {},
   "source": [
    "<div class=\"alert alert-success\">\n",
    "<h1>Feature Selection</h1>\n",
    "<br>\n",
    "\n",
    "Feature selection is a crucial choise to be done to reduce noise in the model and for save time during both training and prediction. A way to estimate how <i>good</i> a feature is to look at its correlation with the target variable (in our case, the ``arrival delay``) and a metrix to do so is the <b>Pearson's correlation coefficient</b>. This coefficient, also referred to as the <i>sample correlation coefficient</i>, it's a measure of linear dependency between two random variables.\n",
    "<br><br>\n",
    "So if we have two sets of samples of two random variables  $\\lbrace x_1, \\dots, x_n \\rbrace$ and $\\lbrace y_1, \\dots, y_n \\rbrace$, then that formula for the coefficient is:\n",
    "<br><br>\n",
    "$$r =\\frac{\\sum ^n _{i=1}(x_i - \\bar{x})(y_i - \\bar{y})}{\\sqrt{\\sum ^n _{i=1}(x_i - \\bar{x})^2} \\sqrt{\\sum ^n _{i=1}(y_i - \\bar{y})^2}}$$\n",
    "<br><br>\n",
    "According to this definition, two linearly dependent variables are fully correlated and thus $r = \\pm 1$, while if uncorrelated, the coefficient will tend to be 0. \n",
    "</div>"
   ]
  },
  {
   "cell_type": "code",
   "execution_count": 65,
   "metadata": {
    "collapsed": true
   },
   "outputs": [],
   "source": [
    "def computeCorrelation(DF, x, y):\n",
    "    print('Computing correlation coefficient between', x ,'and', y)\n",
    "    x_bar = DF.agg(func.mean(x)).collect()[0][0]\n",
    "    y_bar = DF.agg(func.mean(y)).collect()[0][0]\n",
    "\n",
    "    r_num = DF.agg(func.sum((DF[x]-x_bar)*(DF[y]-y_bar))).collect()[0][0]\n",
    "    r_den =  math.sqrt(DF.agg(func.sum((DF[x]-x_bar)**2)).collect()[0][0])*\\\n",
    "             math.sqrt(DF.agg(func.sum((DF[y]-y_bar)**2)).collect()[0][0]) \n",
    "    return (r_num/r_den)"
   ]
  },
  {
   "cell_type": "code",
   "execution_count": 66,
   "metadata": {
    "collapsed": false
   },
   "outputs": [],
   "source": [
    "features = ['month', 'day_of_month', 'day_of_week', 'scheduled_departure_time',\\\n",
    "            'scheduled_arrival_time', 'distance', 'arrival_time']"
   ]
  },
  {
   "cell_type": "code",
   "execution_count": 67,
   "metadata": {
    "collapsed": false
   },
   "outputs": [
    {
     "name": "stdout",
     "output_type": "stream",
     "text": [
      "Computing correlation coefficient between month and arrival_delay\n",
      "Computing correlation coefficient between day_of_month and arrival_delay\n",
      "Computing correlation coefficient between day_of_week and arrival_delay\n",
      "Computing correlation coefficient between scheduled_departure_time and arrival_delay\n",
      "Computing correlation coefficient between scheduled_arrival_time and arrival_delay\n",
      "Computing correlation coefficient between distance and arrival_delay\n",
      "Computing correlation coefficient between arrival_time and arrival_delay\n"
     ]
    }
   ],
   "source": [
    "correlations=[]\n",
    "for f in features:\n",
    "    correlations.append(computeCorrelation(df, f, 'arrival_delay'))"
   ]
  },
  {
   "cell_type": "code",
   "execution_count": 68,
   "metadata": {
    "collapsed": false
   },
   "outputs": [
    {
     "name": "stdout",
     "output_type": "stream",
     "text": [
      "[-0.04659842773456789,\n",
      " 0.021827306533866674,\n",
      " -0.01596187315901436,\n",
      " 0.11341938328782951,\n",
      " 0.11308863616278812,\n",
      " 0.011264464167376087,\n",
      " 0.09500332241270654]\n"
     ]
    }
   ],
   "source": [
    "pprint(correlations)"
   ]
  },
  {
   "cell_type": "markdown",
   "metadata": {},
   "source": [
    "<div class=\"alert alert-success\">\n",
    "The results here are quite interesting. It seems that some features are not so good: for instance distance is not a useful information for predicting the arrival delay. This is might be justified by the fact that commonly a flight accumulates delay in proximity of an airport during takeoff/landing maneuvers due to high volume of inbound and outbound traffic.\n",
    "<br><br>\n",
    "On the other hand, as expected, the scheduled arrival time and the scheduled departure time are valuable information that the model should take into account.\n",
    "<br><br><br><br>\n",
    "Let's try now to train with less feature and let's see how it perfoms.\n",
    "</div>"
   ]
  },
  {
   "cell_type": "code",
   "execution_count": 69,
   "metadata": {
    "collapsed": true
   },
   "outputs": [],
   "source": [
    "data = cleaned_1994RDD\\\n",
    "    .map(lambda line: line.split(','))\\\n",
    "    .map(lambda values: \n",
    "        LabeledPoint( \n",
    "            int(values[14]) if is_valid(values[14]) else mean_arrival_delay, # arrival delay\n",
    "            [\n",
    "    int(values[0]), # year\n",
    "    int(values[1]) if is_valid(values[1]) else most_common_month, # month\n",
    "    int(values[2]) if is_valid(values[2]) else most_common_day_of_month, # day of month\n",
    "    int(values[5]) if is_valid(values[5]) else most_common_s_departure_time, # scheduled departure time\n",
    "    int(values[7]) if is_valid(values[7]) else most_common_s_arrival_time, # scheduled arrival time\n",
    "    map_carriers_to_index[values[8]] if is_valid(values[8]) else map_carriers_to_index[carriers[0]], # carrier\n",
    "    map_src_airport_to_index[values[16]] if is_valid(values[16]) else map_src_airport_to_index[carriers[0]], \n",
    "    map_dest_airport_to_index[values[17]] if is_valid(values[17]) else map_dest_airport_to_index[carriers[0]]\n",
    "            ]\n",
    "        )\n",
    "    )\n",
    "\n",
    "categorical_info = {5 : num_carriers, 6: num_src_airports, 7: num_dest_airports}\n",
    "    \n",
    "# Split the data into training and test sets (30% held out for testing)\n",
    "(trainingData, testData) = data.randomSplit([0.7, 0.3])\n",
    "\n",
    "trainingData = trainingData.cache()\n",
    "testData = testData.cache()"
   ]
  },
  {
   "cell_type": "code",
   "execution_count": 70,
   "metadata": {
    "collapsed": false
   },
   "outputs": [
    {
     "name": "stdout",
     "output_type": "stream",
     "text": [
      "Training done in  66.26195120811462\n",
      "Prediction done in  0.09578752517700195\n",
      "Test Mean Squared Error = 499.4632810477848\n"
     ]
    }
   ],
   "source": [
    "# Train a DecisionTree model.\n",
    "t0 = time()\n",
    "model = DecisionTree.trainRegressor(trainingData, \n",
    "                                    categoricalFeaturesInfo=categorical_info,\n",
    "                                    impurity='variance', maxDepth=12, maxBins=255)\n",
    "t1 = time()\n",
    "print('Training done in ', t1-t0)\n",
    "\n",
    "t0 = time()\n",
    "predictions = model.predict(testData.map(lambda x: x.features))\n",
    "labelsAndPredictions = testData.map(lambda lp: lp.label).zip(predictions)\n",
    "\n",
    "testMSE = labelsAndPredictions.map(lambda p: (p[0]-p[1])**2).mean()\n",
    "t1 = time()\n",
    "print('Prediction done in ', t1-t0)\n",
    "\n",
    "print('Test Mean Squared Error = ' + str(testMSE))"
   ]
  },
  {
   "cell_type": "code",
   "execution_count": 71,
   "metadata": {
    "collapsed": false
   },
   "outputs": [
    {
     "name": "stdout",
     "output_type": "stream",
     "text": [
      "Training done in  60.0690712928772\n",
      "Prediction done in  0.4853174686431885\n",
      "Test Mean Squared Error = 501.1410236112115\n"
     ]
    }
   ],
   "source": [
    "t0 = time()\n",
    "forest_model = RandomForest.trainRegressor(trainingData, categoricalFeaturesInfo=categorical_info,\n",
    "                                    numTrees=10, impurity='variance', maxDepth=12, maxBins=255)\n",
    "t1 = time()\n",
    "print('Training done in ', t1-t0)\n",
    "\n",
    "t0 = time()\n",
    "predictions = forest_model.predict(testData.map(lambda x: x.features))\n",
    "labelsAndPredictions = testData.map(lambda lp: lp.label).zip(predictions)\n",
    "t1 = time()\n",
    "print('Prediction done in ', t1-t0)\n",
    "\n",
    "testMSE = labelsAndPredictions.map(lambda p: (p[0]-p[1])**2).reduce(lambda x,y:x+y)/labelsAndPredictions.count()\n",
    "print('Test Mean Squared Error = ' + str(testMSE))"
   ]
  },
  {
   "cell_type": "markdown",
   "metadata": {},
   "source": [
    "<div class=\"alert alert-success\">\n",
    "As expected, errors increased but at the same time, also both the training and prediction time dropped.\n",
    "</div>"
   ]
  },
  {
   "cell_type": "markdown",
   "metadata": {},
   "source": [
    "# 6. Addition (bonus) questions\n",
    "As you may have noticed, the performance of our statistical models is somehow questionable! What are we missing here? Why is that even using state-of-the-art approaches give poor results?\n",
    "\n",
    "In what follows, we will try to address some of the limitations of the present Notebook, and provide additional data that might help.\n",
    "\n",
    "## 6.1. Additional data\n",
    "In the HDFS file system you have used for running the Notebook, you will notice that there are several other years available (in addition to 1994), which could be used to train a statistical model with more data. In the end, we're playing with \"Big Data\", hence one might think that feeding more training data to the algorithm should help!\n",
    "\n",
    "## 6.2. Feature selection\n",
    "\n",
    "You might think that the flight delays do not only depend on the source airport, destination airport, departure time, etc... as we assumed. They also depend on other features such as the weather, the origin country, the destination city,... To improve the prediction quality, we should consider these features too.\n",
    "\n",
    "There are some other datasets that related to this use case:\n",
    "\n",
    "- Airport IATA Codes to City names and Coordinates mapping: http://stat-computing.org/dataexpo/2009/airports.csv\n",
    "- Carrier codes to Full name mapping: http://stat-computing.org/dataexpo/2009/carriers.csv\n",
    "- Information about individual planes: http://stat-computing.org/dataexpo/2009/plane-data.csv\n",
    "- Weather information: http://www.wunderground.com/weather/api/. You can subscribe for free to the developers' API and obtain (at a limited rate) historical weather information in many different formats. Also, to get an idea of the kind of information is available, you can use this link: http://www.wunderground.com/history/\n"
   ]
  },
  {
   "cell_type": "markdown",
   "metadata": {},
   "source": [
    "### Question 13\n",
    "<div class=\"alert alert-info\">\n",
    "Using the data sources above, select additional feature and repeat the process of defining an appropriate training and test datasets, to evaluate the impact of new features on the performance of the model. Focus first on decision trees, then move to random forests.\n",
    "</div>"
   ]
  },
  {
   "cell_type": "markdown",
   "metadata": {},
   "source": [
    "<div class=\"alert alert-success\">\n",
    "<h1> Model with weather feature </h1>\n",
    "<br><br>\n",
    "Now, we recall the dataframe already prepared with the weather data and we perform training of both decision trees and random forest with this additional feature.  \n",
    "Due to the limited amount of weather data we were able to download, we trained our model only on a subset of samples. This allowed us to compare the performance of this new model with the original. \n",
    "</div>"
   ]
  },
  {
   "cell_type": "code",
   "execution_count": null,
   "metadata": {
    "collapsed": false
   },
   "outputs": [],
   "source": [
    "data_df = weather_flights_full_df.where((col('src_weather') != 'unknown') | \\\n",
    "                                        (col('dest_weather') != 'unknown')).cache()\n",
    "    \n",
    "mean_arrival_delay = data_df.agg((func.sum('arrival_delay')/func.count('*')).alias('count'))\\\n",
    "                            .orderBy(desc('count')).first()[0]\n",
    "\n",
    "most_common_month = data_df.groupBy('month').agg(func.count('*').alias('count'))\\\n",
    "                           .orderBy(desc('count')).first()[0]\n",
    "\n",
    "most_common_day_of_month = data_df.groupBy('day_of_month').agg(func.count('*').alias('count'))\\\n",
    "                           .orderBy(desc('count')).first()[0]\n",
    "\n",
    "most_common_day_of_week = data_df.groupBy('day_of_week').agg(func.count('*').alias('count'))\\\n",
    "                           .orderBy(desc('count')).first()[0]\n",
    "\n",
    "most_common_s_departure_time = data_df.groupBy('scheduled_departure_time').agg(func.count('*').alias('count'))\\\n",
    "                           .orderBy(desc('count')).first()[0]\n",
    "\n",
    "most_common_s_arrival_time = data_df.groupBy('scheduled_arrival_time').agg(func.count('*').alias('count'))\\\n",
    "                           .orderBy(desc('count')).first()[0]\n",
    "    \n",
    "stat_carrier = data_df.groupBy('carrier').agg(func.count('*').alias('count')).orderBy(desc('count'))\n",
    "carriers = [item[0] for item in stat_carrier.collect()]\n",
    "num_carriers = len(carriers)\n",
    "carriers_idx = range(0, num_carriers)\n",
    "map_carriers_to_index = dict(zip(carriers, carriers_idx))    \n",
    "\n",
    "stat_dest = data_df.groupBy('dest_airport').agg(func.count('*').alias('count')).orderBy(desc('count'))\n",
    "dest_airports = [item[0] for item in stat_dest.collect()]\n",
    "num_dest_airports = len(dest_airports)\n",
    "dest_airports_idx = range(0, num_dest_airports)\n",
    "map_dest_airport_to_index = dict(zip(dest_airports, dest_airports_idx))\n",
    "    \n",
    "stat_src = data_df.groupBy('src_airport').agg(func.count('*').alias('count')).orderBy(desc('count'))\n",
    "src_airports = [item[0] for item in stat_src.collect()]\n",
    "num_src_airports = len(src_airports)\n",
    "src_airports_idx = range(0, num_src_airports)\n",
    "map_src_airport_to_index = dict(zip(src_airports, src_airports_idx))\n",
    "\n",
    "stat_src_weather = data_df.groupBy('src_weather').agg(func.count('*').alias('count')).orderBy(desc('count'))\n",
    "src_weather = [item[0] for item in stat_src_weather.collect()]\n",
    "num_src_weather = len(src_weather)\n",
    "src_weather_idx = range(0, num_src_weather)\n",
    "map_src_weather_to_index = dict(zip(src_weather, src_weather_idx))\n",
    "\n",
    "stat_dest_weather = data_df.groupBy('dest_weather').agg(func.count('*').alias('count')).orderBy(desc('count'))\n",
    "dest_weather = [item[0] for item in stat_dest_weather.collect()]\n",
    "num_dest_weather = len(dest_weather)\n",
    "dest_weather_idx = range(0, num_dest_weather)\n",
    "map_dest_weather_to_index = dict(zip(dest_weather, dest_weather_idx))\n"
   ]
  },
  {
   "cell_type": "code",
   "execution_count": 85,
   "metadata": {
    "collapsed": true
   },
   "outputs": [],
   "source": [
    "def is_valid(value):\n",
    "    return value != None\n",
    "\n",
    "data = data_df.rdd\\\n",
    "    .map(lambda values: \n",
    "        LabeledPoint( \n",
    "            int(values[14]) if is_valid(values[14]) else mean_arrival_delay, # arrival delay\n",
    "            [\n",
    "    int(values[1]) if is_valid(values[1]) else most_common_month, # month\n",
    "    int(values[2]) if is_valid(values[2]) else most_common_day_of_month, # day of month\n",
    "    int(values[3]) if is_valid(values[3]) else most_common_day_of_week, # day of week\n",
    "    int(values[5]) if is_valid(values[5]) else most_common_s_departure_time, # scheduled departure time\n",
    "    int(values[7]) if is_valid(values[7]) else most_common_s_arrival_time, # scheduled arrival time\n",
    "    # if the value is valid, map it to the corresponding index\n",
    "    # otherwise, use the most common value\n",
    "    map_carriers_to_index[values[8]] if is_valid(values[8]) else map_carriers_to_index[carriers[0]], # carrier\n",
    "    map_src_airport_to_index[values[16]] if is_valid(values[16]) else map_src_airport_to_index[carriers[0]], \n",
    "    map_dest_airport_to_index[values[17]] if is_valid(values[17]) else map_dest_airport_to_index[carriers[0]], \n",
    "    1 if is_valid(values[3]) and int(values[3]) >= 6 else 0, # is_weekend\n",
    "    map_src_weather_to_index[values[-2]],\n",
    "    map_dest_weather_to_index[values[-1]],\n",
    "            ]\n",
    "        )\n",
    "    )\n",
    "    \n",
    "categorical_info = {5 : num_carriers, 6: num_src_airports, 7: num_dest_airports, \\\n",
    "                    8: 2, 9:num_src_weather, 10:num_dest_weather}"
   ]
  },
  {
   "cell_type": "code",
   "execution_count": 111,
   "metadata": {
    "collapsed": false
   },
   "outputs": [
    {
     "name": "stdout",
     "output_type": "stream",
     "text": [
      "Training with d=15 and b=255 \tTraining: 96.56 s \tPrediction: 41.85 s \tMSE = 497.35\n"
     ]
    }
   ],
   "source": [
    "(trainingData, testData) = data.randomSplit([0.7, 0.3])\n",
    "trainingData = trainingData.cache()\n",
    "testData = testData.cache()\n",
    "\n",
    "d = 15\n",
    "b = 255\n",
    "print('Training with d=%d and b=%d' % (d, b), end=' ')\n",
    "t0 = time()\n",
    "model = DecisionTree.trainRegressor(trainingData, \n",
    "                                         categoricalFeaturesInfo=categorical_info,\n",
    "                                            impurity='variance', maxDepth=d, maxBins=b)\n",
    "t1 = time()\n",
    "print('\\tTraining: %.2f s' % (t1-t0), end=' ')\n",
    "t0 = time()\n",
    "predictions = model.predict(testData.map(lambda x: x.features))\n",
    "labelsAndPredictions = testData.map(lambda lp: lp.label).zip(predictions)\n",
    "\n",
    "testMSE = labelsAndPredictions.map(lambda p: (p[0]-p[1])**2).mean()\n",
    "t1 = time()\n",
    "print('\\tPrediction: %.2f s' % (t1-t0), end=' ')\n",
    "print('\\tMSE = %.2f' % (testMSE))"
   ]
  },
  {
   "cell_type": "code",
   "execution_count": 112,
   "metadata": {
    "collapsed": false
   },
   "outputs": [
    {
     "name": "stdout",
     "output_type": "stream",
     "text": [
      "Training with d=18 and t=14 \t\tTrain: 779.71 s \t\tPred: 299.85 s \tMSE = 409.83\n"
     ]
    }
   ],
   "source": [
    "(trainingData, testData) = data.randomSplit([0.7, 0.3])\n",
    "trainingData = trainingData.cache()\n",
    "testData = testData.cache()\n",
    "\n",
    "d = 18\n",
    "t = 14\n",
    "print('Training with d=%d and t=%d' % (d, t), end=' ')\n",
    "            \n",
    "t0 = time()\n",
    "model = RandomForest.trainRegressor(trainingData, \n",
    "                                           categoricalFeaturesInfo=categorical_info,\n",
    "                                            impurity='variance', maxDepth=d, numTrees=t, maxBins=1023)\n",
    "t1 = time()\n",
    "print('\\t\\tTrain: %.2f s' % (t1-t0), end=' ')\n",
    "\n",
    "t0 = time()\n",
    "predictions = model.predict(testData.map(lambda x: x.features))\n",
    "labelsAndPredictions = testData.map(lambda lp: lp.label).zip(predictions)\n",
    "testMSE = labelsAndPredictions.map(lambda p: (p[0]-p[1])**2).mean()\n",
    "t1 = time()\n",
    "print('\\t\\tPred: %.2f s' % (t1-t0), end=' ')\n",
    "print('\\tMSE = %.2f' % (testMSE))\n"
   ]
  },
  {
   "cell_type": "code",
   "execution_count": 113,
   "metadata": {
    "collapsed": false
   },
   "outputs": [
    {
     "name": "stdout",
     "output_type": "stream",
     "text": [
      "Training with d=19 and t=15 \t\tTrain: 1784.23 s \t\tPred: 380.94 s \tMSE = 395.78\n"
     ]
    }
   ],
   "source": [
    "(trainingData, testData) = data.randomSplit([0.7, 0.3])\n",
    "trainingData = trainingData.cache()\n",
    "testData = testData.cache()\n",
    "\n",
    "d = 19\n",
    "t = 15\n",
    "print('Training with d=%d and t=%d' % (d, t), end=' ')\n",
    "            \n",
    "t0 = time()\n",
    "model = RandomForest.trainRegressor(trainingData, \n",
    "                                           categoricalFeaturesInfo=categorical_info,\n",
    "                                            impurity='variance', maxDepth=d, numTrees=t, maxBins=1023)\n",
    "t1 = time()\n",
    "print('\\t\\tTrain: %.2f s' % (t1-t0), end=' ')\n",
    "\n",
    "t0 = time()\n",
    "predictions = model.predict(testData.map(lambda x: x.features))\n",
    "labelsAndPredictions = testData.map(lambda lp: lp.label).zip(predictions)\n",
    "testMSE = labelsAndPredictions.map(lambda p: (p[0]-p[1])**2).mean()\n",
    "t1 = time()\n",
    "print('\\t\\tPred: %.2f s' % (t1-t0), end=' ')\n",
    "print('\\tMSE = %.2f' % (testMSE))\n"
   ]
  },
  {
   "cell_type": "markdown",
   "metadata": {},
   "source": [
    "# GradientBoostedTrees"
   ]
  },
  {
   "cell_type": "code",
   "execution_count": 3,
   "metadata": {
    "collapsed": false
   },
   "outputs": [],
   "source": [
    "categorical_info = {5 : num_carriers, 6: num_src_airports, \\\n",
    "                    7: num_dest_airports, 8: 2, 9:num_src_weather, 10:num_dest_weather}\n",
    "\n",
    "(trainingData, testData) = data.randomSplit([0.7, 0.3])\n",
    "trainingData = trainingData.cache()\n",
    "testData = testData.cache()"
   ]
  },
  {
   "cell_type": "code",
   "execution_count": 4,
   "metadata": {
    "collapsed": true
   },
   "outputs": [],
   "source": [
    "t0 = time()\n",
    "model = GradientBoostedTrees.trainRegressor(trainingData, \n",
    "                                            categoricalFeaturesInfo=categorical_info,\n",
    "                                            loss='leastAbsoluteError', numIterations=15, \\\n",
    "                                            maxDepth=19, maxBins=1023, learningRate=0.2)\n",
    "t1 = time()\n",
    "# print('\\tTraining done in %.2f' % (t1-t0), end=' ')\n",
    "\n",
    "t0 = time()\n",
    "predictions = model.predict(testData.map(lambda x: x.features))\n",
    "labelsAndPredictions = testData.map(lambda lp: lp.label).zip(predictions)\n",
    "\n",
    "testMSE = labelsAndPredictions.map(lambda p: (p[0]-p[1])**2).mean()\n",
    "t1 = time()\n",
    "# print('\\tPrediction done in %.2f' % (t1-t0))\n",
    "# print('\\tTest MSE = %.2f' % (testMSE))\n"
   ]
  },
  {
   "cell_type": "markdown",
   "metadata": {},
   "source": [
    "<div class=\"alert alert-success\">\n",
    "<h1> Future works </h1>\n",
    "<br>\n",
    "We think we can expand our data analysis and improve our predictions with the following ideas: \n",
    "<ul>\n",
    "    <li>Training with other regression models (mostly Gaussian Processes)</li>\n",
    "    <li>Training with more detailed information on weather</li>\n",
    "    <li>Training with more years</li>\n",
    "    <li>Investigate which route has the highest delay ratio or mean value</li>\n",
    "    <li>Include data about flight cost and study its correlation with the delay or flight cancellation</li>\n",
    "    <li>Prediction of cancelled flight probability (it might be worth warning users as soon as possible, whether the flight will have high probability to be cancelled)</li>\n",
    "</ul>\n",
    "</div>"
   ]
  },
  {
   "cell_type": "markdown",
   "metadata": {
    "collapsed": true
   },
   "source": [
    "# Summary\n",
    "In this lecture, we've had an overview about Decision Trees, Random Forests and how to use them. We also insisted on a simple methodology to adopt when dealing with a Data Science problem. \n",
    "The main take home messages should be:\n",
    "\n",
    "* Feature selection is a difficult, delicate and important task. In this project, the student was heavily guided. However, we invite to exercise with additional features, for example external ones related to weather conditions.\n",
    "\n",
    "* Parameter tuning requires a deep understanding of the algorithm used to build a statistical model. In general, to reduce computational cost, several techniques introduce parameters that, if tuned properly, can lead to tremendous time savings."
   ]
  }
 ],
 "metadata": {
  "kernelspec": {
   "display_name": "Python 3",
   "language": "python",
   "name": "python3"
  },
  "language_info": {
   "codemirror_mode": {
    "name": "ipython",
    "version": 3
   },
   "file_extension": ".py",
   "mimetype": "text/x-python",
   "name": "python",
   "nbconvert_exporter": "python",
   "pygments_lexer": "ipython3",
   "version": "3.6.0"
  }
 },
 "nbformat": 4,
 "nbformat_minor": 0
}
